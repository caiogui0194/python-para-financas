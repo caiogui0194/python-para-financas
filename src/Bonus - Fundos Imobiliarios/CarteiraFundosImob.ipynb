{
 "cells": [
  {
   "cell_type": "code",
   "execution_count": 1,
   "metadata": {
    "collapsed": true
   },
   "outputs": [],
   "source": [
    "import pandas as pd\n",
    "import requests\n",
    "from bs4 import BeautifulSoup\n",
    "import numpy as np\n",
    "import yfinance as yf\n",
    "from datetime import  datetime\n",
    "from datetime import timedelta\n",
    "import fbprophet"
   ]
  },
  {
   "cell_type": "code",
   "execution_count": 2,
   "metadata": {
    "pycharm": {
     "name": "#%%\n"
    }
   },
   "outputs": [],
   "source": [
    "url = 'https://www.fundsexplorer.com.br/ranking'\n",
    "agent = {\"User-Agent\":\"Mozilla/5.0\"}\n",
    "resposta = requests.get(url, headers= agent)\n",
    "soup = BeautifulSoup(resposta.text, 'lxml')\n",
    "tabela = soup.find_all('table')[0]\n",
    "df = pd.read_html(str(tabela), decimal = ',', thousands= '.')[0]\n",
    "df.to_csv(\"fundos_imobiliarios.csv\")"
   ]
  },
  {
   "cell_type": "code",
   "execution_count": 3,
   "metadata": {
    "pycharm": {
     "name": "#%%\n"
    }
   },
   "outputs": [],
   "source": [
    "# df.convert_dtypes().dtypes"
   ]
  },
  {
   "cell_type": "code",
   "execution_count": 4,
   "outputs": [],
   "source": [
    "df['Preço Atual'] = df['Preço Atual'].str.replace('R','')\n",
    "df['Preço Atual'] = df['Preço Atual'].str.replace('$','')\n",
    "df['Preço Atual'] = df['Preço Atual'].str.replace('.','')\n",
    "df['Preço Atual'] = df['Preço Atual'].str.replace(',','.').astype(float)\n",
    "df['Dividendo'] = df['Dividendo'].str.replace('R','')\n",
    "df['Dividendo'] = df['Dividendo'].str.replace('$','')\n",
    "df['Dividendo'] = df['Dividendo'].str.replace('.','')\n",
    "df['Dividendo'] = df['Dividendo'].str.replace(',','.').astype(float)\n",
    "df['PatrimônioLíq.'] = df['PatrimônioLíq.'].str.replace('R','')\n",
    "df['PatrimônioLíq.'] = df['PatrimônioLíq.'].str.replace('$','')\n",
    "df['PatrimônioLíq.'] = df['PatrimônioLíq.'].str.replace('.','')\n",
    "df['PatrimônioLíq.'] = df['PatrimônioLíq.'].str.replace(',','.').astype(float)\n",
    "df['VPA'] = df['VPA'].str.replace('R','')\n",
    "df['VPA'] = df['VPA'].str.replace('$','')\n",
    "df['VPA'] = df['VPA'].str.replace('.','')\n",
    "df['VPA'] = df['VPA'].str.replace(',','.').astype(float)\n",
    "#DY 3 Acumulado\n",
    "df['DY (3M)Acumulado'] = df['DY (3M)Acumulado'].str.replace(',','.')\n",
    "df['DY (3M)Acumulado'] = df['DY (3M)Acumulado'].str.replace('%','').astype(float)\n",
    "\n",
    "df['DY (6M)Acumulado'] = df['DY (6M)Acumulado'].str.replace(',','.')\n",
    "df['DY (6M)Acumulado'] = df['DY (6M)Acumulado'].str.replace('%','').astype(float)\n",
    "\n",
    "df['DY (12M)Acumulado'] = df['DY (12M)Acumulado'].str.replace(',','.')\n",
    "df['DY (12M)Acumulado'] = df['DY (12M)Acumulado'].str.replace('%','').astype(float)\n",
    "\n",
    "df['DY (3M)Média'] = df['DY (3M)Média'].str.replace(',','.')\n",
    "df['DY (3M)Média'] = df['DY (3M)Média'].str.replace('%','').astype(float)\n",
    "\n",
    "df['DY (6M)Média'] = df['DY (6M)Média'].str.replace(',','.')\n",
    "df['DY (6M)Média'] = df['DY (6M)Média'].str.replace('%','').astype(float)\n",
    "\n",
    "df['DY Ano'] = df['DY Ano'].str.replace(',','.')\n",
    "df['DY Ano'] = df['DY Ano'].str.replace('%','').astype(float)\n",
    "\n",
    "df['Variação Preço'] = df['Variação Preço'].str.replace(',','.')\n",
    "df['Variação Preço'] = df['Variação Preço'].str.replace('%','').astype(float)\n",
    "df['DividendYield'] = df['DividendYield'].str.replace(',','.')\n",
    "df['DividendYield'] = df['DividendYield'].str.replace('%','').astype(float)\n",
    "\n",
    "df['Rentab.Período'] = df['Rentab.Período'].str.replace('.','')\n",
    "df['Rentab.Período'] = df['Rentab.Período'].str.replace(',','.')\n",
    "df['Rentab.Período'] = df['Rentab.Período'].str.replace('%','').astype(float)\n",
    "\n",
    "df['Rentab.Acumulada'] = df['Rentab.Acumulada'].str.replace('.','')\n",
    "df['Rentab.Acumulada'] = df['Rentab.Acumulada'].str.replace(',','.')\n",
    "df['Rentab.Acumulada'] = df['Rentab.Acumulada'].str.replace('%','').astype(float)\n",
    "\n",
    "df['DYPatrimonial'] = df['DYPatrimonial'].str.replace(',','.')\n",
    "df['DYPatrimonial'] = df['DYPatrimonial'].str.replace('%','').astype(float)\n",
    "\n",
    "df['VariaçãoPatrimonial'] = df['VariaçãoPatrimonial'].str.replace(',','.')\n",
    "df['VariaçãoPatrimonial'] = df['VariaçãoPatrimonial'].str.replace('%','').astype(float)\n",
    "\n",
    "df['Rentab. Patr.no Período'] = df['Rentab. Patr.no Período'].str.replace(',','.')\n",
    "df['Rentab. Patr.no Período'] = df['Rentab. Patr.no Período'].str.replace('%','').astype(float)\n",
    "\n",
    "df['VacânciaFinanceira'] = df['VacânciaFinanceira'].str.replace(',','.')\n",
    "df['VacânciaFinanceira'] = df['VacânciaFinanceira'].str.replace('%','').astype(float)\n",
    "\n",
    "df['VacânciaFísica'] = df['VacânciaFísica'].str.replace(',','.')\n",
    "df['VacânciaFísica'] = df['VacânciaFísica'].str.replace('%','').astype(float)\n",
    "\n",
    "df['Rentab. Patr.Acumulada'] = df['Rentab. Patr.Acumulada'].str.replace('.','')\n",
    "df['Rentab. Patr.Acumulada'] = df['Rentab. Patr.Acumulada'].str.replace(',','.')\n",
    "df['Rentab. Patr.Acumulada'] = df['Rentab. Patr.Acumulada'].str.replace('%','').astype(float)\n",
    "\n",
    "\n",
    "df['DY (12M)Média'] = df['DY (12M)Média'].str.replace('.','')\n",
    "df['DY (12M)Média'] = df['DY (12M)Média'].str.replace(',','.')\n",
    "df['DY (12M)Média'] = df['DY (12M)Média'].str.replace('%','').astype(float)"
   ],
   "metadata": {
    "collapsed": false,
    "pycharm": {
     "name": "#%%\n"
    }
   }
  },
  {
   "cell_type": "code",
   "execution_count": 5,
   "metadata": {
    "pycharm": {
     "name": "#%%\n"
    }
   },
   "outputs": [
    {
     "data": {
      "text/plain": "    Códigodo fundo                Setor  Preço Atual  Liquidez Diária  \\\n0           APTO11              Híbrido        10.10            280.0   \n1           FIVN11            Shoppings         2.40          73070.0   \n2           BZLI11  Títulos e Val. Mob.        14.70         440410.0   \n3           XTED11   Lajes Corporativas         6.27           1640.0   \n4           ALMI11   Lajes Corporativas      1002.48           1820.0   \n..             ...                  ...          ...              ...   \n265        CXCE11B               Outros        45.43           2690.0   \n266         MFAI11              Híbrido        74.98           9990.0   \n267         RBVO11               Outros        12.30            650.0   \n268         CXTL11            Logística       309.97             30.0   \n269         BBRC11               Outros       100.30          11240.0   \n\n     Dividendo  DividendYield  DY (3M)Acumulado  DY (6M)Acumulado  \\\n0         0.03           0.30               NaN               NaN   \n1         0.00           0.00              0.00              0.00   \n2         0.00           0.00              0.00              0.00   \n3         0.00           0.00              0.00              0.00   \n4         0.00           0.00              0.00              0.00   \n..         ...            ...               ...               ...   \n265       0.37           0.82              2.31              6.60   \n266       1.06           1.44              3.14              5.41   \n267       0.05           0.42              0.91              2.03   \n268       0.75           0.25              0.66              1.28   \n269       0.92           0.84              2.76              5.08   \n\n     DY (12M)Acumulado  DY (3M)Média  ...  PatrimônioLíq.      VPA  P/VPA  \\\n0                  NaN           NaN  ...    3.947629e+07     9.84   1.03   \n1                 0.00          0.00  ...    6.580577e+07     6.99   0.34   \n2                 0.00          0.00  ...    4.327399e+08    10.89   1.35   \n3                 0.00          0.00  ...    2.734137e+07    14.12   0.44   \n4                 0.00          0.00  ...    2.502640e+08  2251.04   0.45   \n..                 ...           ...  ...             ...      ...    ...   \n265              12.74          0.77  ...    1.109777e+08    64.79   0.70   \n266              10.04          1.05  ...    2.486491e+07    82.02   0.91   \n267               3.46          0.30  ...    1.198147e+07    23.23   0.53   \n268               0.00          0.22  ...    3.704425e+07   691.16   0.45   \n269               9.69          0.92  ...    1.708410e+08   107.45   0.93   \n\n     DYPatrimonial  VariaçãoPatrimonial  Rentab. Patr.no Período  \\\n0              NaN                  NaN                      NaN   \n1              NaN                  NaN                      NaN   \n2              NaN                  NaN                      NaN   \n3              NaN                  NaN                      NaN   \n4              NaN                  NaN                      NaN   \n..             ...                  ...                      ...   \n265            NaN                  NaN                      NaN   \n266            NaN                  NaN                      NaN   \n267            NaN                  NaN                      NaN   \n268            NaN                  NaN                      NaN   \n269            NaN                  NaN                      NaN   \n\n     Rentab. Patr.Acumulada  VacânciaFísica  VacânciaFinanceira  \\\n0                       NaN             NaN                 NaN   \n1                       NaN           56.00                 NaN   \n2                       NaN             NaN                 NaN   \n3                       NaN            0.00               100.0   \n4                       NaN           68.15                 NaN   \n..                      ...             ...                 ...   \n265                     NaN            0.00                 NaN   \n266                     NaN             NaN                 NaN   \n267                     NaN             NaN                 NaN   \n268                     NaN           61.00                 NaN   \n269                     NaN            5.40                 2.1   \n\n     QuantidadeAtivos  \n0                   0  \n1                   1  \n2                   0  \n3                   1  \n4                   1  \n..                ...  \n265                 1  \n266                 0  \n267                 0  \n268                 3  \n269                20  \n\n[270 rows x 26 columns]",
      "text/html": "<div>\n<style scoped>\n    .dataframe tbody tr th:only-of-type {\n        vertical-align: middle;\n    }\n\n    .dataframe tbody tr th {\n        vertical-align: top;\n    }\n\n    .dataframe thead th {\n        text-align: right;\n    }\n</style>\n<table border=\"1\" class=\"dataframe\">\n  <thead>\n    <tr style=\"text-align: right;\">\n      <th></th>\n      <th>Códigodo fundo</th>\n      <th>Setor</th>\n      <th>Preço Atual</th>\n      <th>Liquidez Diária</th>\n      <th>Dividendo</th>\n      <th>DividendYield</th>\n      <th>DY (3M)Acumulado</th>\n      <th>DY (6M)Acumulado</th>\n      <th>DY (12M)Acumulado</th>\n      <th>DY (3M)Média</th>\n      <th>...</th>\n      <th>PatrimônioLíq.</th>\n      <th>VPA</th>\n      <th>P/VPA</th>\n      <th>DYPatrimonial</th>\n      <th>VariaçãoPatrimonial</th>\n      <th>Rentab. Patr.no Período</th>\n      <th>Rentab. Patr.Acumulada</th>\n      <th>VacânciaFísica</th>\n      <th>VacânciaFinanceira</th>\n      <th>QuantidadeAtivos</th>\n    </tr>\n  </thead>\n  <tbody>\n    <tr>\n      <th>0</th>\n      <td>APTO11</td>\n      <td>Híbrido</td>\n      <td>10.10</td>\n      <td>280.0</td>\n      <td>0.03</td>\n      <td>0.30</td>\n      <td>NaN</td>\n      <td>NaN</td>\n      <td>NaN</td>\n      <td>NaN</td>\n      <td>...</td>\n      <td>3.947629e+07</td>\n      <td>9.84</td>\n      <td>1.03</td>\n      <td>NaN</td>\n      <td>NaN</td>\n      <td>NaN</td>\n      <td>NaN</td>\n      <td>NaN</td>\n      <td>NaN</td>\n      <td>0</td>\n    </tr>\n    <tr>\n      <th>1</th>\n      <td>FIVN11</td>\n      <td>Shoppings</td>\n      <td>2.40</td>\n      <td>73070.0</td>\n      <td>0.00</td>\n      <td>0.00</td>\n      <td>0.00</td>\n      <td>0.00</td>\n      <td>0.00</td>\n      <td>0.00</td>\n      <td>...</td>\n      <td>6.580577e+07</td>\n      <td>6.99</td>\n      <td>0.34</td>\n      <td>NaN</td>\n      <td>NaN</td>\n      <td>NaN</td>\n      <td>NaN</td>\n      <td>56.00</td>\n      <td>NaN</td>\n      <td>1</td>\n    </tr>\n    <tr>\n      <th>2</th>\n      <td>BZLI11</td>\n      <td>Títulos e Val. Mob.</td>\n      <td>14.70</td>\n      <td>440410.0</td>\n      <td>0.00</td>\n      <td>0.00</td>\n      <td>0.00</td>\n      <td>0.00</td>\n      <td>0.00</td>\n      <td>0.00</td>\n      <td>...</td>\n      <td>4.327399e+08</td>\n      <td>10.89</td>\n      <td>1.35</td>\n      <td>NaN</td>\n      <td>NaN</td>\n      <td>NaN</td>\n      <td>NaN</td>\n      <td>NaN</td>\n      <td>NaN</td>\n      <td>0</td>\n    </tr>\n    <tr>\n      <th>3</th>\n      <td>XTED11</td>\n      <td>Lajes Corporativas</td>\n      <td>6.27</td>\n      <td>1640.0</td>\n      <td>0.00</td>\n      <td>0.00</td>\n      <td>0.00</td>\n      <td>0.00</td>\n      <td>0.00</td>\n      <td>0.00</td>\n      <td>...</td>\n      <td>2.734137e+07</td>\n      <td>14.12</td>\n      <td>0.44</td>\n      <td>NaN</td>\n      <td>NaN</td>\n      <td>NaN</td>\n      <td>NaN</td>\n      <td>0.00</td>\n      <td>100.0</td>\n      <td>1</td>\n    </tr>\n    <tr>\n      <th>4</th>\n      <td>ALMI11</td>\n      <td>Lajes Corporativas</td>\n      <td>1002.48</td>\n      <td>1820.0</td>\n      <td>0.00</td>\n      <td>0.00</td>\n      <td>0.00</td>\n      <td>0.00</td>\n      <td>0.00</td>\n      <td>0.00</td>\n      <td>...</td>\n      <td>2.502640e+08</td>\n      <td>2251.04</td>\n      <td>0.45</td>\n      <td>NaN</td>\n      <td>NaN</td>\n      <td>NaN</td>\n      <td>NaN</td>\n      <td>68.15</td>\n      <td>NaN</td>\n      <td>1</td>\n    </tr>\n    <tr>\n      <th>...</th>\n      <td>...</td>\n      <td>...</td>\n      <td>...</td>\n      <td>...</td>\n      <td>...</td>\n      <td>...</td>\n      <td>...</td>\n      <td>...</td>\n      <td>...</td>\n      <td>...</td>\n      <td>...</td>\n      <td>...</td>\n      <td>...</td>\n      <td>...</td>\n      <td>...</td>\n      <td>...</td>\n      <td>...</td>\n      <td>...</td>\n      <td>...</td>\n      <td>...</td>\n      <td>...</td>\n    </tr>\n    <tr>\n      <th>265</th>\n      <td>CXCE11B</td>\n      <td>Outros</td>\n      <td>45.43</td>\n      <td>2690.0</td>\n      <td>0.37</td>\n      <td>0.82</td>\n      <td>2.31</td>\n      <td>6.60</td>\n      <td>12.74</td>\n      <td>0.77</td>\n      <td>...</td>\n      <td>1.109777e+08</td>\n      <td>64.79</td>\n      <td>0.70</td>\n      <td>NaN</td>\n      <td>NaN</td>\n      <td>NaN</td>\n      <td>NaN</td>\n      <td>0.00</td>\n      <td>NaN</td>\n      <td>1</td>\n    </tr>\n    <tr>\n      <th>266</th>\n      <td>MFAI11</td>\n      <td>Híbrido</td>\n      <td>74.98</td>\n      <td>9990.0</td>\n      <td>1.06</td>\n      <td>1.44</td>\n      <td>3.14</td>\n      <td>5.41</td>\n      <td>10.04</td>\n      <td>1.05</td>\n      <td>...</td>\n      <td>2.486491e+07</td>\n      <td>82.02</td>\n      <td>0.91</td>\n      <td>NaN</td>\n      <td>NaN</td>\n      <td>NaN</td>\n      <td>NaN</td>\n      <td>NaN</td>\n      <td>NaN</td>\n      <td>0</td>\n    </tr>\n    <tr>\n      <th>267</th>\n      <td>RBVO11</td>\n      <td>Outros</td>\n      <td>12.30</td>\n      <td>650.0</td>\n      <td>0.05</td>\n      <td>0.42</td>\n      <td>0.91</td>\n      <td>2.03</td>\n      <td>3.46</td>\n      <td>0.30</td>\n      <td>...</td>\n      <td>1.198147e+07</td>\n      <td>23.23</td>\n      <td>0.53</td>\n      <td>NaN</td>\n      <td>NaN</td>\n      <td>NaN</td>\n      <td>NaN</td>\n      <td>NaN</td>\n      <td>NaN</td>\n      <td>0</td>\n    </tr>\n    <tr>\n      <th>268</th>\n      <td>CXTL11</td>\n      <td>Logística</td>\n      <td>309.97</td>\n      <td>30.0</td>\n      <td>0.75</td>\n      <td>0.25</td>\n      <td>0.66</td>\n      <td>1.28</td>\n      <td>0.00</td>\n      <td>0.22</td>\n      <td>...</td>\n      <td>3.704425e+07</td>\n      <td>691.16</td>\n      <td>0.45</td>\n      <td>NaN</td>\n      <td>NaN</td>\n      <td>NaN</td>\n      <td>NaN</td>\n      <td>61.00</td>\n      <td>NaN</td>\n      <td>3</td>\n    </tr>\n    <tr>\n      <th>269</th>\n      <td>BBRC11</td>\n      <td>Outros</td>\n      <td>100.30</td>\n      <td>11240.0</td>\n      <td>0.92</td>\n      <td>0.84</td>\n      <td>2.76</td>\n      <td>5.08</td>\n      <td>9.69</td>\n      <td>0.92</td>\n      <td>...</td>\n      <td>1.708410e+08</td>\n      <td>107.45</td>\n      <td>0.93</td>\n      <td>NaN</td>\n      <td>NaN</td>\n      <td>NaN</td>\n      <td>NaN</td>\n      <td>5.40</td>\n      <td>2.1</td>\n      <td>20</td>\n    </tr>\n  </tbody>\n</table>\n<p>270 rows × 26 columns</p>\n</div>"
     },
     "execution_count": 5,
     "metadata": {},
     "output_type": "execute_result"
    }
   ],
   "source": [
    "# df.convert_dtypes().dtypes\n",
    "df"
   ]
  },
  {
   "cell_type": "code",
   "execution_count": 6,
   "metadata": {
    "pycharm": {
     "name": "#%%\n"
    }
   },
   "outputs": [],
   "source": [
    "qtdDiasDados = 1250\n",
    "qtdDiasPrevisao = 60"
   ]
  },
  {
   "cell_type": "code",
   "execution_count": 7,
   "outputs": [],
   "source": [
    "#Define as funcoes\n",
    "def getSector(nomeDoAtivo):\n",
    "    setor = yf.Ticker(nomeDoAtivo)\n",
    "    return setor.info['sector']\n",
    "\n",
    "def get_stocks(nomeDoAtivo, dataInicio, dataFim):\n",
    "    stock = yf.download(nomeDoAtivo, start=dataInicio, end=dataFim, interval='1d')\n",
    "    # stock = yf.download(nomeDoAtivo, interval='1d')\n",
    "    return stock\n",
    "\n",
    "def getReturns(nomeDoAtivo, stockDict):\n",
    "    data = pd.DataFrame(stockDict[nomeDoAtivo])\n",
    "    retorno = data['Close'].pct_change()\n",
    "    return retorno\n",
    "\n",
    "def getDiscounts(df):\n",
    "    maxPrice = df['Close'].describe()['75%']\n",
    "    minPrice = df['Close'].iloc[-1]\n",
    "    return (minPrice - maxPrice)/maxPrice\n",
    "\n",
    "def previsaoProfeta(dataFrameAtivo, qtdDiasPrevisao):\n",
    "    from fbprophet import Prophet\n",
    "    df = pd.DataFrame()\n",
    "    df['y'] = dataFrameAtivo['Close']\n",
    "    df['ds'] = dataFrameAtivo.index\n",
    "\n",
    "    modelo = Prophet(daily_seasonality= True)\n",
    "    modelo.fit(df)\n",
    "\n",
    "    futuro = modelo.make_future_dataframe(periods= qtdDiasPrevisao)\n",
    "    predictions = modelo.predict(futuro)\n",
    "\n",
    "    return predictions['yhat'].iloc[-1]\n",
    "\n",
    "def MonteCarlo(dataFrameAtivo, qtdDiasPrevisao):\n",
    "    returns = dataFrameAtivo['Close'].pct_change()\n",
    "    daily_vol = returns.std()\n",
    "    last_price = dataFrameAtivo['Close'][-1]\n",
    "\n",
    "    T = qtdDiasPrevisao\n",
    "    NUM_SIMULATIONS = 10000\n",
    "    df = pd.DataFrame()\n",
    "    last_price_list = []\n",
    "\n",
    "    for x in range(NUM_SIMULATIONS):\n",
    "        count = 0\n",
    "        price_list = []\n",
    "        price = last_price * (1 + np.random.normal(0, daily_vol))\n",
    "        price_list.append(price)\n",
    "\n",
    "        for y in range(T):\n",
    "            if count == qtdDiasPrevisao-1:\n",
    "                break\n",
    "            price = price_list[count]* (1 + np.random.normal(0, daily_vol))\n",
    "            price_list.append(price)\n",
    "            count += 1\n",
    "\n",
    "        df[x] = price_list\n",
    "        last_price_list.append(price_list[-1])\n",
    "\n",
    "    max_drop = np.percentile(last_price_list,5)\n",
    "    max_top = np.percentile(last_price_list,95)\n",
    "    expected_value = round(np.mean(last_price_list),2)\n",
    "\n",
    "    return max_drop, max_top, expected_value"
   ],
   "metadata": {
    "collapsed": false,
    "pycharm": {
     "name": "#%%\n"
    }
   }
  },
  {
   "cell_type": "code",
   "execution_count": 8,
   "outputs": [
    {
     "name": "stdout",
     "output_type": "stream",
     "text": [
      "2022-01-31\n",
      "2018-08-30\n"
     ]
    }
   ],
   "source": [
    "# dataFim = datetime.strptime(\"2020-01-10\", \"%Y-%m-%d\")\n",
    "dataFim = datetime.now().strftime(\"%Y-%m-%d\")\n",
    "dataInicio = (datetime.strptime(dataFim, \"%Y-%m-%d\").date() - timedelta(days = qtdDiasDados)).strftime(\"%Y-%m-%d\")\n",
    "\n",
    "print(dataFim)\n",
    "print(dataInicio)\n"
   ],
   "metadata": {
    "collapsed": false,
    "pycharm": {
     "name": "#%%\n"
    }
   }
  },
  {
   "cell_type": "code",
   "execution_count": 9,
   "outputs": [
    {
     "name": "stdout",
     "output_type": "stream",
     "text": [
      "[*********************100%***********************]  1 of 1 completed\n",
      "\n",
      "1 Failed download:\n",
      "- APTO11.SA: No data found for this date range, symbol may be delisted\n",
      "[*********************100%***********************]  1 of 1 completed\n",
      "[*********************100%***********************]  1 of 1 completed\n",
      "[*********************100%***********************]  1 of 1 completed\n",
      "[*********************100%***********************]  1 of 1 completed\n",
      "[*********************100%***********************]  1 of 1 completed\n",
      "[*********************100%***********************]  1 of 1 completed\n",
      "[*********************100%***********************]  1 of 1 completed\n",
      "\n",
      "1 Failed download:\n",
      "- RBLG11.SA: No data found for this date range, symbol may be delisted\n",
      "[*********************100%***********************]  1 of 1 completed\n",
      "[*********************100%***********************]  1 of 1 completed\n",
      "[*********************100%***********************]  1 of 1 completed\n",
      "[*********************100%***********************]  1 of 1 completed\n",
      "[*********************100%***********************]  1 of 1 completed\n",
      "\n",
      "1 Failed download:\n",
      "- FATN11.SA: No data found for this date range, symbol may be delisted\n",
      "[*********************100%***********************]  1 of 1 completed\n",
      "\n",
      "1 Failed download:\n",
      "- BIME11.SA: No data found for this date range, symbol may be delisted\n",
      "[*********************100%***********************]  1 of 1 completed\n",
      "[*********************100%***********************]  1 of 1 completed\n",
      "[*********************100%***********************]  1 of 1 completed\n",
      "[*********************100%***********************]  1 of 1 completed\n",
      "[*********************100%***********************]  1 of 1 completed\n",
      "\n",
      "1 Failed download:\n",
      "- BLMR11.SA: No data found for this date range, symbol may be delisted\n",
      "[*********************100%***********************]  1 of 1 completed\n",
      "[*********************100%***********************]  1 of 1 completed\n",
      "[*********************100%***********************]  1 of 1 completed\n",
      "[*********************100%***********************]  1 of 1 completed\n",
      "\n",
      "1 Failed download:\n",
      "- VSLH11.SA: No data found for this date range, symbol may be delisted\n",
      "[*********************100%***********************]  1 of 1 completed\n",
      "[*********************100%***********************]  1 of 1 completed\n",
      "\n",
      "1 Failed download:\n",
      "- DEVA11.SA: No data found for this date range, symbol may be delisted\n",
      "[*********************100%***********************]  1 of 1 completed\n",
      "\n",
      "1 Failed download:\n",
      "- FAED11.SA: No data found for this date range, symbol may be delisted\n",
      "[*********************100%***********************]  1 of 1 completed\n",
      "\n",
      "1 Failed download:\n",
      "- MAXR11.SA: No data found for this date range, symbol may be delisted\n",
      "[*********************100%***********************]  1 of 1 completed\n",
      "[*********************100%***********************]  1 of 1 completed\n",
      "[*********************100%***********************]  1 of 1 completed\n",
      "\n",
      "1 Failed download:\n",
      "- EQIN11.SA: No data found for this date range, symbol may be delisted\n",
      "[*********************100%***********************]  1 of 1 completed\n",
      "[*********************100%***********************]  1 of 1 completed\n",
      "[*********************100%***********************]  1 of 1 completed\n",
      "\n",
      "1 Failed download:\n",
      "- BMLC11.SA: No data found for this date range, symbol may be delisted\n",
      "[*********************100%***********************]  1 of 1 completed\n",
      "\n",
      "1 Failed download:\n",
      "- TORD11.SA: No data found for this date range, symbol may be delisted\n",
      "[*********************100%***********************]  1 of 1 completed\n",
      "\n",
      "1 Failed download:\n",
      "- SEQR11.SA: No data found for this date range, symbol may be delisted\n",
      "[*********************100%***********************]  1 of 1 completed\n",
      "[*********************100%***********************]  1 of 1 completed\n",
      "\n",
      "1 Failed download:\n",
      "- BLMG11.SA: No data found for this date range, symbol may be delisted\n",
      "[*********************100%***********************]  1 of 1 completed\n",
      "\n",
      "1 Failed download:\n",
      "- DVFF11.SA: No data found for this date range, symbol may be delisted\n",
      "[*********************100%***********************]  1 of 1 completed\n",
      "[*********************100%***********************]  1 of 1 completed\n",
      "[*********************100%***********************]  1 of 1 completed\n",
      "\n",
      "1 Failed download:\n",
      "- RBRL11.SA: No data found for this date range, symbol may be delisted\n",
      "[*********************100%***********************]  1 of 1 completed\n",
      "[*********************100%***********************]  1 of 1 completed\n",
      "\n",
      "1 Failed download:\n",
      "- FLCR11.SA: No data found for this date range, symbol may be delisted\n",
      "[*********************100%***********************]  1 of 1 completed\n",
      "[*********************100%***********************]  1 of 1 completed\n",
      "\n",
      "1 Failed download:\n",
      "- RELG11.SA: No data found for this date range, symbol may be delisted\n",
      "[*********************100%***********************]  1 of 1 completed\n",
      "[*********************100%***********************]  1 of 1 completed\n",
      "\n",
      "1 Failed download:\n",
      "- GTLG11.SA: No data found for this date range, symbol may be delisted\n",
      "[*********************100%***********************]  1 of 1 completed\n",
      "\n",
      "1 Failed download:\n",
      "- BLCA11.SA: No data found for this date range, symbol may be delisted\n",
      "[*********************100%***********************]  1 of 1 completed\n",
      "[*********************100%***********************]  1 of 1 completed\n",
      "[*********************100%***********************]  1 of 1 completed\n",
      "[*********************100%***********************]  1 of 1 completed\n",
      "\n",
      "1 Failed download:\n",
      "- GAME11.SA: No data found for this date range, symbol may be delisted\n",
      "[*********************100%***********************]  1 of 1 completed\n",
      "[*********************100%***********************]  1 of 1 completed\n",
      "\n",
      "1 Failed download:\n",
      "- IBCR11.SA: No data found for this date range, symbol may be delisted\n",
      "[*********************100%***********************]  1 of 1 completed\n",
      "[*********************100%***********************]  1 of 1 completed\n",
      "[*********************100%***********************]  1 of 1 completed\n",
      "[*********************100%***********************]  1 of 1 completed\n",
      "\n",
      "1 Failed download:\n",
      "- IRIM11.SA: No data found for this date range, symbol may be delisted\n",
      "[*********************100%***********************]  1 of 1 completed\n",
      "[*********************100%***********************]  1 of 1 completed\n",
      "\n",
      "1 Failed download:\n",
      "- CPTS11.SA: No data found for this date range, symbol may be delisted\n",
      "[*********************100%***********************]  1 of 1 completed\n",
      "[*********************100%***********************]  1 of 1 completed\n",
      "[*********************100%***********************]  1 of 1 completed\n",
      "\n",
      "1 Failed download:\n",
      "- MCHF11.SA: No data found for this date range, symbol may be delisted\n",
      "[*********************100%***********************]  1 of 1 completed\n",
      "[*********************100%***********************]  1 of 1 completed\n",
      "[*********************100%***********************]  1 of 1 completed\n",
      "\n",
      "1 Failed download:\n",
      "- MGHT11.SA: No data found for this date range, symbol may be delisted\n",
      "[*********************100%***********************]  1 of 1 completed\n",
      "\n",
      "1 Failed download:\n",
      "- GCRI11.SA: No data found for this date range, symbol may be delisted\n",
      "[*********************100%***********************]  1 of 1 completed\n",
      "\n",
      "1 Failed download:\n",
      "- MORE11.SA: No data found for this date range, symbol may be delisted\n",
      "[*********************100%***********************]  1 of 1 completed\n",
      "[*********************100%***********************]  1 of 1 completed\n",
      "\n",
      "1 Failed download:\n",
      "- BRLA11.SA: No data found for this date range, symbol may be delisted\n",
      "[*********************100%***********************]  1 of 1 completed\n",
      "\n",
      "1 Failed download:\n",
      "- MGCR11.SA: No data found for this date range, symbol may be delisted\n",
      "[*********************100%***********************]  1 of 1 completed\n",
      "[*********************100%***********************]  1 of 1 completed\n",
      "\n",
      "1 Failed download:\n",
      "- BLCP11.SA: No data found for this date range, symbol may be delisted\n",
      "[*********************100%***********************]  1 of 1 completed\n",
      "\n",
      "1 Failed download:\n",
      "- GCFF11.SA: No data found for this date range, symbol may be delisted\n",
      "[*********************100%***********************]  1 of 1 completed\n",
      "\n",
      "1 Failed download:\n",
      "- ARCT11.SA: No data found for this date range, symbol may be delisted\n",
      "[*********************100%***********************]  1 of 1 completed\n",
      "\n",
      "1 Failed download:\n",
      "- RZAK11.SA: No data found for this date range, symbol may be delisted\n",
      "[*********************100%***********************]  1 of 1 completed\n",
      "\n",
      "1 Failed download:\n",
      "- AFHI11.SA: No data found for this date range, symbol may be delisted\n",
      "[*********************100%***********************]  1 of 1 completed\n",
      "\n",
      "1 Failed download:\n",
      "- OULG11.SA: No data found for this date range, symbol may be delisted\n",
      "[*********************100%***********************]  1 of 1 completed\n",
      "[*********************100%***********************]  1 of 1 completed\n",
      "\n",
      "1 Failed download:\n",
      "- OURE11.SA: No data found for this date range, symbol may be delisted\n",
      "[*********************100%***********************]  1 of 1 completed\n",
      "\n",
      "1 Failed download:\n",
      "- SNCI11.SA: No data found for this date range, symbol may be delisted\n",
      "[*********************100%***********************]  1 of 1 completed\n",
      "\n",
      "1 Failed download:\n",
      "- SNFF11.SA: No data found for this date range, symbol may be delisted\n",
      "[*********************100%***********************]  1 of 1 completed\n",
      "\n",
      "1 Failed download:\n",
      "- CORM11.SA: No data found for this date range, symbol may be delisted\n",
      "[*********************100%***********************]  1 of 1 completed\n",
      "\n",
      "1 Failed download:\n",
      "- AFOF11.SA: No data found for this date range, symbol may be delisted\n",
      "[*********************100%***********************]  1 of 1 completed\n",
      "\n",
      "1 Failed download:\n",
      "- RECX11.SA: No data found for this date range, symbol may be delisted\n",
      "[*********************100%***********************]  1 of 1 completed\n",
      "\n",
      "1 Failed download:\n",
      "- BLMC11.SA: No data found for this date range, symbol may be delisted\n",
      "[*********************100%***********************]  1 of 1 completed\n",
      "[*********************100%***********************]  1 of 1 completed\n",
      "[*********************100%***********************]  1 of 1 completed\n",
      "\n",
      "1 Failed download:\n",
      "- MCHY11.SA: No data found for this date range, symbol may be delisted\n",
      "[*********************100%***********************]  1 of 1 completed\n",
      "\n",
      "1 Failed download:\n",
      "- MATV11.SA: No data found for this date range, symbol may be delisted\n",
      "[*********************100%***********************]  1 of 1 completed\n",
      "\n",
      "1 Failed download:\n",
      "- ERCR11.SA: No data found for this date range, symbol may be delisted\n",
      "[*********************100%***********************]  1 of 1 completed\n",
      "[*********************100%***********************]  1 of 1 completed\n",
      "[*********************100%***********************]  1 of 1 completed\n",
      "[*********************100%***********************]  1 of 1 completed\n",
      "\n",
      "1 Failed download:\n",
      "- ITIT11.SA: No data found for this date range, symbol may be delisted\n",
      "[*********************100%***********************]  1 of 1 completed\n",
      "\n",
      "1 Failed download:\n",
      "- ITIP11.SA: No data found for this date range, symbol may be delisted\n",
      "[*********************100%***********************]  1 of 1 completed\n",
      "[*********************100%***********************]  1 of 1 completed\n",
      "[*********************100%***********************]  1 of 1 completed\n",
      "\n",
      "1 Failed download:\n",
      "- CCRF11.SA: No data found for this date range, symbol may be delisted\n",
      "[*********************100%***********************]  1 of 1 completed\n",
      "\n",
      "1 Failed download:\n",
      "- BTAL11.SA: No data found for this date range, symbol may be delisted\n",
      "[*********************100%***********************]  1 of 1 completed\n",
      "\n",
      "1 Failed download:\n",
      "- MORC11.SA: No data found for this date range, symbol may be delisted\n",
      "[*********************100%***********************]  1 of 1 completed\n",
      "\n",
      "1 Failed download:\n",
      "- EQIR11.SA: No data found for this date range, symbol may be delisted\n",
      "[*********************100%***********************]  1 of 1 completed\n",
      "\n",
      "1 Failed download:\n",
      "- FLRP11.SA: No data found for this date range, symbol may be delisted\n",
      "[*********************100%***********************]  1 of 1 completed\n",
      "[*********************100%***********************]  1 of 1 completed\n",
      "[*********************100%***********************]  1 of 1 completed\n",
      "[*********************100%***********************]  1 of 1 completed\n",
      "\n",
      "1 Failed download:\n",
      "- BTRA11.SA: No data found for this date range, symbol may be delisted\n",
      "[*********************100%***********************]  1 of 1 completed\n",
      "[*********************100%***********************]  1 of 1 completed\n",
      "[*********************100%***********************]  1 of 1 completed\n",
      "[*********************100%***********************]  1 of 1 completed\n",
      "[*********************100%***********************]  1 of 1 completed\n",
      "[*********************100%***********************]  1 of 1 completed\n",
      "[*********************100%***********************]  1 of 1 completed\n",
      "[*********************100%***********************]  1 of 1 completed\n",
      "[*********************100%***********************]  1 of 1 completed\n",
      "[*********************100%***********************]  1 of 1 completed\n",
      "\n",
      "1 Failed download:\n",
      "- VXXV11.SA: No data found for this date range, symbol may be delisted\n",
      "[*********************100%***********************]  1 of 1 completed\n",
      "[*********************100%***********************]  1 of 1 completed\n",
      "\n",
      "1 Failed download:\n",
      "- CJCT11.SA: No data found for this date range, symbol may be delisted\n",
      "[*********************100%***********************]  1 of 1 completed\n",
      "[*********************100%***********************]  1 of 1 completed\n",
      "\n",
      "1 Failed download:\n",
      "- LFTT11.SA: No data found for this date range, symbol may be delisted\n",
      "[*********************100%***********************]  1 of 1 completed\n",
      "[*********************100%***********************]  1 of 1 completed\n",
      "[*********************100%***********************]  1 of 1 completed\n",
      "[*********************100%***********************]  1 of 1 completed\n",
      "[*********************100%***********************]  1 of 1 completed\n",
      "[*********************100%***********************]  1 of 1 completed\n",
      "\n",
      "1 Failed download:\n",
      "- YUFI11B.SA: No data found, symbol may be delisted\n",
      "[*********************100%***********************]  1 of 1 completed\n",
      "\n",
      "1 Failed download:\n",
      "- MGLG11.SA: No data found for this date range, symbol may be delisted\n",
      "[*********************100%***********************]  1 of 1 completed\n",
      "\n",
      "1 Failed download:\n",
      "- VJFD11.SA: No data found, symbol may be delisted\n",
      "[*********************100%***********************]  1 of 1 completed\n",
      "\n",
      "1 Failed download:\n",
      "- RMAI11.SA: No data found for this date range, symbol may be delisted\n",
      "[*********************100%***********************]  1 of 1 completed\n",
      "[*********************100%***********************]  1 of 1 completed\n",
      "[*********************100%***********************]  1 of 1 completed\n",
      "[*********************100%***********************]  1 of 1 completed\n",
      "[*********************100%***********************]  1 of 1 completed\n",
      "\n",
      "1 Failed download:\n",
      "- PVBI11.SA: No data found for this date range, symbol may be delisted\n",
      "[*********************100%***********************]  1 of 1 completed\n",
      "[*********************100%***********************]  1 of 1 completed\n",
      "[*********************100%***********************]  1 of 1 completed\n",
      "\n",
      "1 Failed download:\n",
      "- HGRS11.SA: No data found, symbol may be delisted\n",
      "[*********************100%***********************]  1 of 1 completed\n",
      "[*********************100%***********************]  1 of 1 completed\n",
      "[*********************100%***********************]  1 of 1 completed\n",
      "[*********************100%***********************]  1 of 1 completed\n",
      "[*********************100%***********************]  1 of 1 completed\n",
      "[*********************100%***********************]  1 of 1 completed\n",
      "[*********************100%***********************]  1 of 1 completed\n",
      "[*********************100%***********************]  1 of 1 completed\n",
      "[*********************100%***********************]  1 of 1 completed\n",
      "\n",
      "1 Failed download:\n",
      "- PQAG11.SA: No data found for this date range, symbol may be delisted\n",
      "[*********************100%***********************]  1 of 1 completed\n",
      "[*********************100%***********************]  1 of 1 completed\n",
      "\n",
      "1 Failed download:\n",
      "- VGHF11.SA: No data found for this date range, symbol may be delisted\n",
      "[*********************100%***********************]  1 of 1 completed\n",
      "\n",
      "1 Failed download:\n",
      "- HAAA11.SA: No data found for this date range, symbol may be delisted\n",
      "[*********************100%***********************]  1 of 1 completed\n",
      "[*********************100%***********************]  1 of 1 completed\n",
      "[*********************100%***********************]  1 of 1 completed\n",
      "[*********************100%***********************]  1 of 1 completed\n",
      "[*********************100%***********************]  1 of 1 completed\n",
      "\n",
      "1 Failed download:\n",
      "- CACR11.SA: No data found for this date range, symbol may be delisted\n",
      "[*********************100%***********************]  1 of 1 completed\n",
      "[*********************100%***********************]  1 of 1 completed\n",
      "\n",
      "1 Failed download:\n",
      "- CYCR11.SA: No data found for this date range, symbol may be delisted\n",
      "[*********************100%***********************]  1 of 1 completed\n",
      "[*********************100%***********************]  1 of 1 completed\n",
      "\n",
      "1 Failed download:\n",
      "- URPR11.SA: No data found for this date range, symbol may be delisted\n",
      "[*********************100%***********************]  1 of 1 completed\n",
      "\n",
      "1 Failed download:\n",
      "- QAMI11.SA: No data found for this date range, symbol may be delisted\n",
      "[*********************100%***********************]  1 of 1 completed\n",
      "\n",
      "1 Failed download:\n",
      "- RZTR11.SA: No data found for this date range, symbol may be delisted\n",
      "[*********************100%***********************]  1 of 1 completed\n",
      "\n",
      "1 Failed download:\n",
      "- PATL11.SA: No data found for this date range, symbol may be delisted\n",
      "[*********************100%***********************]  1 of 1 completed\n",
      "[*********************100%***********************]  1 of 1 completed\n",
      "[*********************100%***********************]  1 of 1 completed\n",
      "\n",
      "1 Failed download:\n",
      "- HGIC11.SA: No data found for this date range, symbol may be delisted\n",
      "[*********************100%***********************]  1 of 1 completed\n",
      "[*********************100%***********************]  1 of 1 completed\n",
      "[*********************100%***********************]  1 of 1 completed\n",
      "\n",
      "1 Failed download:\n",
      "- CXCO11.SA: No data found for this date range, symbol may be delisted\n",
      "[*********************100%***********************]  1 of 1 completed\n",
      "[*********************100%***********************]  1 of 1 completed\n",
      "[*********************100%***********************]  1 of 1 completed\n",
      "[*********************100%***********************]  1 of 1 completed\n",
      "[*********************100%***********************]  1 of 1 completed\n",
      "[*********************100%***********************]  1 of 1 completed\n",
      "[*********************100%***********************]  1 of 1 completed\n",
      "[*********************100%***********************]  1 of 1 completed\n",
      "\n",
      "1 Failed download:\n",
      "- EVBI11.SA: No data found for this date range, symbol may be delisted\n",
      "[*********************100%***********************]  1 of 1 completed\n",
      "[*********************100%***********************]  1 of 1 completed\n",
      "[*********************100%***********************]  1 of 1 completed\n",
      "[*********************100%***********************]  1 of 1 completed\n",
      "[*********************100%***********************]  1 of 1 completed\n",
      "\n",
      "1 Failed download:\n",
      "- KNSC11.SA: No data found for this date range, symbol may be delisted\n",
      "[*********************100%***********************]  1 of 1 completed\n",
      "[*********************100%***********************]  1 of 1 completed\n",
      "[*********************100%***********************]  1 of 1 completed\n",
      "[*********************100%***********************]  1 of 1 completed\n",
      "[*********************100%***********************]  1 of 1 completed\n",
      "[*********************100%***********************]  1 of 1 completed\n",
      "[*********************100%***********************]  1 of 1 completed\n",
      "[*********************100%***********************]  1 of 1 completed\n",
      "\n",
      "1 Failed download:\n",
      "- JFLL11.SA: No data found for this date range, symbol may be delisted\n",
      "[*********************100%***********************]  1 of 1 completed\n",
      "\n",
      "1 Failed download:\n",
      "- RBRS11.SA: No data found for this date range, symbol may be delisted\n",
      "[*********************100%***********************]  1 of 1 completed\n",
      "[*********************100%***********************]  1 of 1 completed\n",
      "\n",
      "1 Failed download:\n",
      "- NVIF11B.SA: No data found, symbol may be delisted\n",
      "[*********************100%***********************]  1 of 1 completed\n",
      "[*********************100%***********************]  1 of 1 completed\n",
      "[*********************100%***********************]  1 of 1 completed\n",
      "[*********************100%***********************]  1 of 1 completed\n",
      "\n",
      "1 Failed download:\n",
      "- XPCA11.SA: No data found for this date range, symbol may be delisted\n",
      "[*********************100%***********************]  1 of 1 completed\n",
      "\n",
      "1 Failed download:\n",
      "- HSRE11.SA: No data found for this date range, symbol may be delisted\n",
      "[*********************100%***********************]  1 of 1 completed\n",
      "\n",
      "1 Failed download:\n",
      "- HSLG11.SA: No data found for this date range, symbol may be delisted\n",
      "[*********************100%***********************]  1 of 1 completed\n",
      "\n",
      "1 Failed download:\n",
      "- HSAF11.SA: No data found for this date range, symbol may be delisted\n",
      "[*********************100%***********************]  1 of 1 completed\n",
      "[*********************100%***********************]  1 of 1 completed\n",
      "\n",
      "1 Failed download:\n",
      "- IDFI11.SA: No data found for this date range, symbol may be delisted\n",
      "[*********************100%***********************]  1 of 1 completed\n",
      "[*********************100%***********************]  1 of 1 completed\n",
      "\n",
      "1 Failed download:\n",
      "- QIRI11.SA: No data found for this date range, symbol may be delisted\n",
      "[*********************100%***********************]  1 of 1 completed\n",
      "[*********************100%***********************]  1 of 1 completed\n",
      "\n",
      "1 Failed download:\n",
      "- VCRR11.SA: No data found for this date range, symbol may be delisted\n",
      "[*********************100%***********************]  1 of 1 completed\n",
      "[*********************100%***********************]  1 of 1 completed\n",
      "[*********************100%***********************]  1 of 1 completed\n",
      "\n",
      "1 Failed download:\n",
      "- RBHY11.SA: No data found for this date range, symbol may be delisted\n",
      "[*********************100%***********************]  1 of 1 completed\n",
      "\n",
      "1 Failed download:\n",
      "- BBIM11.SA: No data found for this date range, symbol may be delisted\n",
      "[*********************100%***********************]  1 of 1 completed\n",
      "[*********************100%***********************]  1 of 1 completed\n",
      "[*********************100%***********************]  1 of 1 completed\n",
      "[*********************100%***********************]  1 of 1 completed\n",
      "\n",
      "1 Failed download:\n",
      "- HREC11.SA: No data found for this date range, symbol may be delisted\n",
      "[*********************100%***********************]  1 of 1 completed\n",
      "[*********************100%***********************]  1 of 1 completed\n",
      "[*********************100%***********************]  1 of 1 completed\n",
      "[*********************100%***********************]  1 of 1 completed\n",
      "[*********************100%***********************]  1 of 1 completed\n",
      "[*********************100%***********************]  1 of 1 completed\n",
      "[*********************100%***********************]  1 of 1 completed\n",
      "[*********************100%***********************]  1 of 1 completed\n",
      "[*********************100%***********************]  1 of 1 completed\n",
      "[*********************100%***********************]  1 of 1 completed\n",
      "[*********************100%***********************]  1 of 1 completed\n",
      "[*********************100%***********************]  1 of 1 completed\n",
      "\n",
      "1 Failed download:\n",
      "- RZAG11.SA: None\n",
      "[*********************100%***********************]  1 of 1 completed\n",
      "[*********************100%***********************]  1 of 1 completed\n",
      "[*********************100%***********************]  1 of 1 completed\n",
      "\n",
      "1 Failed download:\n",
      "- SPVJ11.SA: No data found, symbol may be delisted\n",
      "[*********************100%***********************]  1 of 1 completed\n",
      "[*********************100%***********************]  1 of 1 completed\n",
      "\n",
      "1 Failed download:\n",
      "- LASC11.SA: None\n",
      "[*********************100%***********************]  1 of 1 completed\n",
      "[*********************100%***********************]  1 of 1 completed\n",
      "[*********************100%***********************]  1 of 1 completed\n",
      "\n",
      "1 Failed download:\n",
      "- HCHG11.SA: None\n",
      "[*********************100%***********************]  1 of 1 completed\n",
      "\n",
      "1 Failed download:\n",
      "- HBRH11.SA: None\n",
      "[*********************100%***********************]  1 of 1 completed\n",
      "[*********************100%***********************]  1 of 1 completed\n",
      "[*********************100%***********************]  1 of 1 completed\n",
      "[*********************100%***********************]  1 of 1 completed\n",
      "[*********************100%***********************]  1 of 1 completed\n",
      "[*********************100%***********************]  1 of 1 completed\n",
      "[*********************100%***********************]  1 of 1 completed\n",
      "\n",
      "1 Failed download:\n",
      "- PLOG11.SA: None\n",
      "[*********************100%***********************]  1 of 1 completed\n",
      "[*********************100%***********************]  1 of 1 completed\n",
      "\n",
      "1 Failed download:\n",
      "- VIUR11.SA: None\n",
      "[*********************100%***********************]  1 of 1 completed\n",
      "[*********************100%***********************]  1 of 1 completed\n",
      "\n",
      "1 Failed download:\n",
      "- AIEC11.SA: None\n",
      "[*********************100%***********************]  1 of 1 completed\n",
      "[*********************100%***********************]  1 of 1 completed\n",
      "[*********************100%***********************]  1 of 1 completed\n",
      "[*********************100%***********************]  1 of 1 completed\n",
      "[*********************100%***********************]  1 of 1 completed\n",
      "[*********************100%***********************]  1 of 1 completed\n",
      "[*********************100%***********************]  1 of 1 completed\n",
      "[*********************100%***********************]  1 of 1 completed\n",
      "\n",
      "1 Failed download:\n",
      "- STRX11.SA: None\n",
      "[*********************100%***********************]  1 of 1 completed\n",
      "\n",
      "1 Failed download:\n",
      "- KISU11.SA: None\n",
      "[*********************100%***********************]  1 of 1 completed\n",
      "[*********************100%***********************]  1 of 1 completed\n",
      "\n",
      "1 Failed download:\n",
      "- BBFO11.SA: None\n",
      "[*********************100%***********************]  1 of 1 completed\n",
      "[*********************100%***********************]  1 of 1 completed\n",
      "[*********************100%***********************]  1 of 1 completed\n",
      "\n",
      "1 Failed download:\n",
      "- RRCI11.SA: None\n",
      "[*********************100%***********************]  1 of 1 completed\n",
      "\n",
      "1 Failed download:\n",
      "- GALG11.SA: None\n",
      "[*********************100%***********************]  1 of 1 completed\n",
      "[*********************100%***********************]  1 of 1 completed\n",
      "\n",
      "1 Failed download:\n",
      "- BTWR11.SA: None\n",
      "[*********************100%***********************]  1 of 1 completed\n",
      "[*********************100%***********************]  1 of 1 completed\n",
      "[*********************100%***********************]  1 of 1 completed\n",
      "\n",
      "1 Failed download:\n",
      "- RBHG11.SA: None\n",
      "[*********************100%***********************]  1 of 1 completed\n",
      "[*********************100%***********************]  1 of 1 completed\n",
      "\n",
      "1 Failed download:\n",
      "- MFAI11.SA: None\n",
      "[*********************100%***********************]  1 of 1 completed\n",
      "[*********************100%***********************]  1 of 1 completed\n",
      "[*********************100%***********************]  1 of 1 completed\n"
     ]
    }
   ],
   "source": [
    "symbols = df['Códigodo fundo'] + '.SA'\n",
    "tickers = [tick for tick in symbols]\n",
    "\n",
    "stockDict = {}\n",
    "\n",
    "for tick in tickers:\n",
    "    try:\n",
    "        stockDict[tick] = get_stocks(tick, dataInicio, dataFim)\n",
    "    except:\n",
    "        print('NAO DEU CERTO PARA O ATIVO : ', tick)\n",
    "        continue"
   ],
   "metadata": {
    "collapsed": false,
    "pycharm": {
     "name": "#%%------------------\n"
    }
   }
  },
  {
   "cell_type": "code",
   "execution_count": 10,
   "metadata": {
    "pycharm": {
     "name": "#%%-------------------\n"
    }
   },
   "outputs": [],
   "source": [
    "#Calcula os retornos\n",
    "retornosDict = {}\n",
    "\n",
    "for chave in stockDict.keys():\n",
    "    try:\n",
    "        #print('Calculando retornos do ativo: ', chave)\n",
    "        retornosDict[chave] = getReturns(chave, stockDict)\n",
    "    except:\n",
    "        print('Não rolou calcular o retorno do ativo: ', chave)\n"
   ]
  },
  {
   "cell_type": "code",
   "execution_count": 11,
   "metadata": {
    "pycharm": {
     "name": "#%%\n"
    }
   },
   "outputs": [
    {
     "name": "stdout",
     "output_type": "stream",
     "text": [
      "\n",
      "\n",
      "\n",
      "\n",
      "\n",
      "\n",
      "\n",
      "\n",
      "\n",
      "\n",
      "\n",
      "\n",
      "\n",
      "\n",
      "\n",
      "\n",
      "\n",
      "\n",
      "\n",
      "\n",
      "\n",
      "\n",
      "\n",
      "\n",
      "\n",
      "\n",
      "\n",
      "\n",
      "\n",
      "\n",
      "\n",
      "\n",
      "\n",
      "\n",
      "\n",
      "\n",
      "\n",
      "\n",
      "\n",
      "\n",
      "\n",
      "\n",
      "\n",
      "\n",
      "\n",
      "\n",
      "\n",
      "\n",
      "\n",
      "\n",
      "\n",
      "\n",
      "\n",
      "\n",
      "\n",
      "\n",
      "\n",
      "\n",
      "\n",
      "\n",
      "\n",
      "\n",
      "\n",
      "\n",
      "\n",
      "\n",
      "\n",
      "\n",
      "\n",
      "\n",
      "\n",
      "\n",
      "\n",
      "\n",
      "\n",
      "\n",
      "\n",
      "\n",
      "\n",
      "\n",
      "\n",
      "\n",
      "\n",
      "\n",
      "\n",
      "\n",
      "\n",
      "\n",
      "\n",
      "\n",
      "\n",
      "\n",
      "\n",
      "\n",
      "\n",
      "\n",
      "\n",
      "\n",
      "\n",
      "\n",
      "\n",
      "\n",
      "\n",
      "\n",
      "\n"
     ]
    }
   ],
   "source": [
    "#calcula os descontos\n",
    "descontosDict = {}\n",
    "\n",
    "for tick in stockDict.keys():\n",
    "    try:\n",
    "        descontosDict[tick] = getDiscounts(stockDict[tick])\n",
    "    except:\n",
    "        #print(\"NAO DEU PARA O ATIVO: \", tick)\n",
    "        print('')"
   ]
  },
  {
   "cell_type": "code",
   "execution_count": 12,
   "metadata": {
    "pycharm": {
     "name": "#%%\n"
    }
   },
   "outputs": [],
   "source": [
    "stockInfoDf = pd.DataFrame.from_dict(descontosDict, orient = 'index').reset_index()\n",
    "stockInfoDf.columns = ['ticker', 'desconto']"
   ]
  },
  {
   "cell_type": "code",
   "execution_count": 13,
   "metadata": {
    "pycharm": {
     "name": "#%%\n"
    }
   },
   "outputs": [
    {
     "data": {
      "text/plain": "         ticker  desconto\n0     FIVN11.SA -0.463468\n1     BZLI11.SA  0.042945\n2     XTED11.SA -0.309851\n3     ALMI11.SA -0.164641\n4     PABY11.SA -0.608511\n..          ...       ...\n159   BNFS11.SA -0.000709\n160  CXCE11B.SA -0.980656\n161   RBVO11.SA -0.710486\n162   CXTL11.SA -0.240270\n163   BBRC11.SA -0.284325\n\n[164 rows x 2 columns]",
      "text/html": "<div>\n<style scoped>\n    .dataframe tbody tr th:only-of-type {\n        vertical-align: middle;\n    }\n\n    .dataframe tbody tr th {\n        vertical-align: top;\n    }\n\n    .dataframe thead th {\n        text-align: right;\n    }\n</style>\n<table border=\"1\" class=\"dataframe\">\n  <thead>\n    <tr style=\"text-align: right;\">\n      <th></th>\n      <th>ticker</th>\n      <th>desconto</th>\n    </tr>\n  </thead>\n  <tbody>\n    <tr>\n      <th>0</th>\n      <td>FIVN11.SA</td>\n      <td>-0.463468</td>\n    </tr>\n    <tr>\n      <th>1</th>\n      <td>BZLI11.SA</td>\n      <td>0.042945</td>\n    </tr>\n    <tr>\n      <th>2</th>\n      <td>XTED11.SA</td>\n      <td>-0.309851</td>\n    </tr>\n    <tr>\n      <th>3</th>\n      <td>ALMI11.SA</td>\n      <td>-0.164641</td>\n    </tr>\n    <tr>\n      <th>4</th>\n      <td>PABY11.SA</td>\n      <td>-0.608511</td>\n    </tr>\n    <tr>\n      <th>...</th>\n      <td>...</td>\n      <td>...</td>\n    </tr>\n    <tr>\n      <th>159</th>\n      <td>BNFS11.SA</td>\n      <td>-0.000709</td>\n    </tr>\n    <tr>\n      <th>160</th>\n      <td>CXCE11B.SA</td>\n      <td>-0.980656</td>\n    </tr>\n    <tr>\n      <th>161</th>\n      <td>RBVO11.SA</td>\n      <td>-0.710486</td>\n    </tr>\n    <tr>\n      <th>162</th>\n      <td>CXTL11.SA</td>\n      <td>-0.240270</td>\n    </tr>\n    <tr>\n      <th>163</th>\n      <td>BBRC11.SA</td>\n      <td>-0.284325</td>\n    </tr>\n  </tbody>\n</table>\n<p>164 rows × 2 columns</p>\n</div>"
     },
     "execution_count": 13,
     "metadata": {},
     "output_type": "execute_result"
    }
   ],
   "source": [
    "stockInfoDf"
   ]
  },
  {
   "cell_type": "code",
   "execution_count": 14,
   "metadata": {
    "pycharm": {
     "name": "#%%\n"
    }
   },
   "outputs": [],
   "source": [
    "rtnList = []\n",
    "\n",
    "for tick in descontosDict.keys():\n",
    "    try:\n",
    "        rtnList.append(retornosDict[tick].mean())\n",
    "    except:\n",
    "        print(\"NAO DEU CERTO PARA O ATIVO: \",tick)"
   ]
  },
  {
   "cell_type": "code",
   "execution_count": 15,
   "metadata": {
    "pycharm": {
     "name": "#%%\n"
    }
   },
   "outputs": [],
   "source": [
    "\n",
    "stdList = []\n",
    "\n",
    "for tick in descontosDict.keys():\n",
    "    try:\n",
    "        stdList.append(retornosDict[tick].std())\n",
    "    except:\n",
    "        print(\"NAO DEU PARA O ATIVO: \", tick)"
   ]
  },
  {
   "cell_type": "code",
   "execution_count": 16,
   "metadata": {
    "pycharm": {
     "name": "#%%\n"
    }
   },
   "outputs": [],
   "source": [
    "stockInfoDf['risco'] = stdList\n",
    "stockInfoDf['retorno'] = rtnList\n",
    "stockInfoDf['precoAtual'] = [stockDict[tick]['Adj Close'].iloc[-1] for tick in stockInfoDf['ticker']]\n"
   ]
  },
  {
   "cell_type": "code",
   "execution_count": 17,
   "metadata": {
    "pycharm": {
     "name": "#%%\n"
    }
   },
   "outputs": [
    {
     "name": "stderr",
     "output_type": "stream",
     "text": [
      "INFO:fbprophet:Disabling yearly seasonality. Run prophet with yearly_seasonality=True to override this.\n"
     ]
    },
    {
     "name": "stdout",
     "output_type": "stream",
     "text": [
      "PREVENDO O VALOR FUTURO DO ATIVO FIVN11.SA\n",
      "PREVENDO O VALOR FUTURO DO ATIVO BZLI11.SA\n"
     ]
    },
    {
     "name": "stderr",
     "output_type": "stream",
     "text": [
      "INFO:fbprophet:Disabling yearly seasonality. Run prophet with yearly_seasonality=True to override this.\n"
     ]
    },
    {
     "name": "stdout",
     "output_type": "stream",
     "text": [
      "PREVENDO O VALOR FUTURO DO ATIVO XTED11.SA\n",
      "PREVENDO O VALOR FUTURO DO ATIVO ALMI11.SA\n"
     ]
    },
    {
     "name": "stderr",
     "output_type": "stream",
     "text": [
      "INFO:fbprophet:Disabling yearly seasonality. Run prophet with yearly_seasonality=True to override this.\n"
     ]
    },
    {
     "name": "stdout",
     "output_type": "stream",
     "text": [
      "PREVENDO O VALOR FUTURO DO ATIVO PABY11.SA\n",
      "PREVENDO O VALOR FUTURO DO ATIVO ORPD11.SA\n",
      "PREVENDO O VALOR FUTURO DO ATIVO QAGR11.SA\n",
      "PREVENDO O VALOR FUTURO DO ATIVO GGRC11.SA\n",
      "PREVENDO O VALOR FUTURO DO ATIVO CXRI11.SA\n",
      "PREVENDO O VALOR FUTURO DO ATIVO CRFF11.SA\n",
      "PREVENDO O VALOR FUTURO DO ATIVO SCPF11.SA\n",
      "PREVENDO O VALOR FUTURO DO ATIVO FISC11.SA\n"
     ]
    },
    {
     "name": "stderr",
     "output_type": "stream",
     "text": [
      "INFO:fbprophet:Disabling yearly seasonality. Run prophet with yearly_seasonality=True to override this.\n"
     ]
    },
    {
     "name": "stdout",
     "output_type": "stream",
     "text": [
      "PREVENDO O VALOR FUTURO DO ATIVO FLMA11.SA\n",
      "PREVENDO O VALOR FUTURO DO ATIVO BREV11.SA\n"
     ]
    },
    {
     "name": "stderr",
     "output_type": "stream",
     "text": [
      "INFO:fbprophet:Disabling yearly seasonality. Run prophet with yearly_seasonality=True to override this.\n"
     ]
    },
    {
     "name": "stdout",
     "output_type": "stream",
     "text": [
      "PREVENDO O VALOR FUTURO DO ATIVO ONEF11.SA\n",
      "PREVENDO O VALOR FUTURO DO ATIVO RCRB11.SA\n",
      "PREVENDO O VALOR FUTURO DO ATIVO MBRF11.SA\n"
     ]
    },
    {
     "name": "stderr",
     "output_type": "stream",
     "text": [
      "INFO:fbprophet:Disabling yearly seasonality. Run prophet with yearly_seasonality=True to override this.\n"
     ]
    },
    {
     "name": "stdout",
     "output_type": "stream",
     "text": [
      "PREVENDO O VALOR FUTURO DO ATIVO HCTR11.SA\n",
      "PREVENDO O VALOR FUTURO DO ATIVO JRDM11.SA\n"
     ]
    },
    {
     "name": "stderr",
     "output_type": "stream",
     "text": [
      "INFO:fbprophet:Disabling yearly seasonality. Run prophet with yearly_seasonality=True to override this.\n"
     ]
    },
    {
     "name": "stdout",
     "output_type": "stream",
     "text": [
      "PREVENDO O VALOR FUTURO DO ATIVO BRCR11.SA\n",
      "PREVENDO O VALOR FUTURO DO ATIVO FEXC11.SA\n"
     ]
    },
    {
     "name": "stderr",
     "output_type": "stream",
     "text": [
      "INFO:fbprophet:Disabling yearly seasonality. Run prophet with yearly_seasonality=True to override this.\n"
     ]
    },
    {
     "name": "stdout",
     "output_type": "stream",
     "text": [
      "PREVENDO O VALOR FUTURO DO ATIVO BTCR11.SA\n",
      "PREVENDO O VALOR FUTURO DO ATIVO BCFF11.SA\n",
      "PREVENDO O VALOR FUTURO DO ATIVO CEOC11.SA\n",
      "PREVENDO O VALOR FUTURO DO ATIVO MGFF11.SA\n",
      "PREVENDO O VALOR FUTURO DO ATIVO RBRP11.SA\n"
     ]
    },
    {
     "name": "stderr",
     "output_type": "stream",
     "text": [
      "INFO:fbprophet:Disabling yearly seasonality. Run prophet with yearly_seasonality=True to override this.\n"
     ]
    },
    {
     "name": "stdout",
     "output_type": "stream",
     "text": [
      "PREVENDO O VALOR FUTURO DO ATIVO RECT11.SA\n"
     ]
    },
    {
     "name": "stderr",
     "output_type": "stream",
     "text": [
      "INFO:fbprophet:Disabling yearly seasonality. Run prophet with yearly_seasonality=True to override this.\n"
     ]
    },
    {
     "name": "stdout",
     "output_type": "stream",
     "text": [
      "PREVENDO O VALOR FUTURO DO ATIVO RECR11.SA\n"
     ]
    },
    {
     "name": "stderr",
     "output_type": "stream",
     "text": [
      "INFO:fbprophet:Disabling yearly seasonality. Run prophet with yearly_seasonality=True to override this.\n"
     ]
    },
    {
     "name": "stdout",
     "output_type": "stream",
     "text": [
      "PREVENDO O VALOR FUTURO DO ATIVO CPFF11.SA\n"
     ]
    },
    {
     "name": "stderr",
     "output_type": "stream",
     "text": [
      "INFO:fbprophet:Disabling yearly seasonality. Run prophet with yearly_seasonality=True to override this.\n"
     ]
    },
    {
     "name": "stdout",
     "output_type": "stream",
     "text": [
      "PREVENDO O VALOR FUTURO DO ATIVO RVBI11.SA\n"
     ]
    },
    {
     "name": "stderr",
     "output_type": "stream",
     "text": [
      "INFO:fbprophet:Disabling yearly seasonality. Run prophet with yearly_seasonality=True to override this.\n"
     ]
    },
    {
     "name": "stdout",
     "output_type": "stream",
     "text": [
      "PREVENDO O VALOR FUTURO DO ATIVO CVBI11.SA\n"
     ]
    },
    {
     "name": "stderr",
     "output_type": "stream",
     "text": [
      "INFO:fbprophet:Disabling yearly seasonality. Run prophet with yearly_seasonality=True to override this.\n"
     ]
    },
    {
     "name": "stdout",
     "output_type": "stream",
     "text": [
      "PREVENDO O VALOR FUTURO DO ATIVO IBFF11.SA\n",
      "PREVENDO O VALOR FUTURO DO ATIVO IRDM11.SA\n",
      "PREVENDO O VALOR FUTURO DO ATIVO RBRR11.SA\n",
      "PREVENDO O VALOR FUTURO DO ATIVO RBRY11.SA\n"
     ]
    },
    {
     "name": "stderr",
     "output_type": "stream",
     "text": [
      "INFO:fbprophet:Disabling yearly seasonality. Run prophet with yearly_seasonality=True to override this.\n"
     ]
    },
    {
     "name": "stdout",
     "output_type": "stream",
     "text": [
      "PREVENDO O VALOR FUTURO DO ATIVO RBRF11.SA\n"
     ]
    },
    {
     "name": "stderr",
     "output_type": "stream",
     "text": [
      "INFO:fbprophet:Disabling yearly seasonality. Run prophet with yearly_seasonality=True to override this.\n"
     ]
    },
    {
     "name": "stdout",
     "output_type": "stream",
     "text": [
      "PREVENDO O VALOR FUTURO DO ATIVO ATSA11.SA\n"
     ]
    },
    {
     "name": "stderr",
     "output_type": "stream",
     "text": [
      "INFO:fbprophet:Disabling yearly seasonality. Run prophet with yearly_seasonality=True to override this.\n"
     ]
    },
    {
     "name": "stdout",
     "output_type": "stream",
     "text": [
      "PREVENDO O VALOR FUTURO DO ATIVO VGIP11.SA\n"
     ]
    },
    {
     "name": "stderr",
     "output_type": "stream",
     "text": [
      "INFO:fbprophet:Disabling yearly seasonality. Run prophet with yearly_seasonality=True to override this.\n"
     ]
    },
    {
     "name": "stdout",
     "output_type": "stream",
     "text": [
      "PREVENDO O VALOR FUTURO DO ATIVO VGIR11.SA\n"
     ]
    },
    {
     "name": "stderr",
     "output_type": "stream",
     "text": [
      "INFO:fbprophet:Disabling yearly seasonality. Run prophet with yearly_seasonality=True to override this.\n"
     ]
    },
    {
     "name": "stdout",
     "output_type": "stream",
     "text": [
      "PREVENDO O VALOR FUTURO DO ATIVO MCCI11.SA\n"
     ]
    },
    {
     "name": "stderr",
     "output_type": "stream",
     "text": [
      "INFO:fbprophet:Disabling yearly seasonality. Run prophet with yearly_seasonality=True to override this.\n"
     ]
    },
    {
     "name": "stdout",
     "output_type": "stream",
     "text": [
      "PREVENDO O VALOR FUTURO DO ATIVO NAVT11.SA\n",
      "PREVENDO O VALOR FUTURO DO ATIVO TRNT11.SA\n",
      "PREVENDO O VALOR FUTURO DO ATIVO OUFF11.SA\n"
     ]
    },
    {
     "name": "stderr",
     "output_type": "stream",
     "text": [
      "INFO:fbprophet:Disabling yearly seasonality. Run prophet with yearly_seasonality=True to override this.\n"
     ]
    },
    {
     "name": "stdout",
     "output_type": "stream",
     "text": [
      "PREVENDO O VALOR FUTURO DO ATIVO BTLG11.SA\n"
     ]
    },
    {
     "name": "stderr",
     "output_type": "stream",
     "text": [
      "INFO:fbprophet:Disabling yearly seasonality. Run prophet with yearly_seasonality=True to override this.\n"
     ]
    },
    {
     "name": "stdout",
     "output_type": "stream",
     "text": [
      "PREVENDO O VALOR FUTURO DO ATIVO XPIN11.SA\n",
      "PREVENDO O VALOR FUTURO DO ATIVO XPML11.SA\n",
      "PREVENDO O VALOR FUTURO DO ATIVO FCFL11.SA\n"
     ]
    },
    {
     "name": "stderr",
     "output_type": "stream",
     "text": [
      "INFO:fbprophet:Disabling yearly seasonality. Run prophet with yearly_seasonality=True to override this.\n"
     ]
    },
    {
     "name": "stdout",
     "output_type": "stream",
     "text": [
      "PREVENDO O VALOR FUTURO DO ATIVO ALZR11.SA\n"
     ]
    },
    {
     "name": "stderr",
     "output_type": "stream",
     "text": [
      "INFO:fbprophet:Disabling yearly seasonality. Run prophet with yearly_seasonality=True to override this.\n"
     ]
    },
    {
     "name": "stdout",
     "output_type": "stream",
     "text": [
      "PREVENDO O VALOR FUTURO DO ATIVO XPHT11.SA\n"
     ]
    },
    {
     "name": "stderr",
     "output_type": "stream",
     "text": [
      "INFO:fbprophet:Disabling yearly seasonality. Run prophet with yearly_seasonality=True to override this.\n"
     ]
    },
    {
     "name": "stdout",
     "output_type": "stream",
     "text": [
      "PREVENDO O VALOR FUTURO DO ATIVO HTMX11.SA\n"
     ]
    },
    {
     "name": "stderr",
     "output_type": "stream",
     "text": [
      "INFO:fbprophet:Disabling yearly seasonality. Run prophet with yearly_seasonality=True to override this.\n"
     ]
    },
    {
     "name": "stdout",
     "output_type": "stream",
     "text": [
      "PREVENDO O VALOR FUTURO DO ATIVO CNES11.SA\n",
      "PREVENDO O VALOR FUTURO DO ATIVO EDGA11.SA\n",
      "PREVENDO O VALOR FUTURO DO ATIVO GSFI11.SA\n"
     ]
    },
    {
     "name": "stderr",
     "output_type": "stream",
     "text": [
      "INFO:fbprophet:Disabling yearly seasonality. Run prophet with yearly_seasonality=True to override this.\n"
     ]
    },
    {
     "name": "stdout",
     "output_type": "stream",
     "text": [
      "PREVENDO O VALOR FUTURO DO ATIVO NVHO11.SA\n"
     ]
    },
    {
     "name": "stderr",
     "output_type": "stream",
     "text": [
      "INFO:fbprophet:Disabling yearly seasonality. Run prophet with yearly_seasonality=True to override this.\n"
     ]
    },
    {
     "name": "stdout",
     "output_type": "stream",
     "text": [
      "PREVENDO O VALOR FUTURO DO ATIVO NEWU11.SA\n",
      "PREVENDO O VALOR FUTURO DO ATIVO HCRI11.SA\n",
      "PREVENDO O VALOR FUTURO DO ATIVO PRSV11.SA\n",
      "PREVENDO O VALOR FUTURO DO ATIVO FAMB11B.SA\n",
      "PREVENDO O VALOR FUTURO DO ATIVO FMOF11.SA\n",
      "PREVENDO O VALOR FUTURO DO ATIVO RBDS11.SA\n"
     ]
    },
    {
     "name": "stderr",
     "output_type": "stream",
     "text": [
      "INFO:fbprophet:Disabling yearly seasonality. Run prophet with yearly_seasonality=True to override this.\n"
     ]
    },
    {
     "name": "stdout",
     "output_type": "stream",
     "text": [
      "PREVENDO O VALOR FUTURO DO ATIVO KNRE11.SA\n"
     ]
    },
    {
     "name": "stderr",
     "output_type": "stream",
     "text": [
      "INFO:fbprophet:Disabling yearly seasonality. Run prophet with yearly_seasonality=True to override this.\n"
     ]
    },
    {
     "name": "stdout",
     "output_type": "stream",
     "text": [
      "PREVENDO O VALOR FUTURO DO ATIVO HRDF11.SA\n",
      "PREVENDO O VALOR FUTURO DO ATIVO BPML11.SA\n",
      "PREVENDO O VALOR FUTURO DO ATIVO DRIT11B.SA\n"
     ]
    },
    {
     "name": "stderr",
     "output_type": "stream",
     "text": [
      "INFO:fbprophet:Disabling yearly seasonality. Run prophet with yearly_seasonality=True to override this.\n"
     ]
    },
    {
     "name": "stdout",
     "output_type": "stream",
     "text": [
      "PREVENDO O VALOR FUTURO DO ATIVO CTXT11.SA\n"
     ]
    },
    {
     "name": "stderr",
     "output_type": "stream",
     "text": [
      "INFO:fbprophet:Disabling yearly seasonality. Run prophet with yearly_seasonality=True to override this.\n"
     ]
    },
    {
     "name": "stdout",
     "output_type": "stream",
     "text": [
      "PREVENDO O VALOR FUTURO DO ATIVO GESE11B.SA\n",
      "PREVENDO O VALOR FUTURO DO ATIVO RBIR11.SA\n",
      "PREVENDO O VALOR FUTURO DO ATIVO CARE11.SA\n"
     ]
    },
    {
     "name": "stderr",
     "output_type": "stream",
     "text": [
      "INFO:fbprophet:Disabling yearly seasonality. Run prophet with yearly_seasonality=True to override this.\n"
     ]
    },
    {
     "name": "stdout",
     "output_type": "stream",
     "text": [
      "PREVENDO O VALOR FUTURO DO ATIVO WTSP11B.SA\n",
      "PREVENDO O VALOR FUTURO DO ATIVO VVPR11.SA\n",
      "PREVENDO O VALOR FUTURO DO ATIVO VSHO11.SA\n"
     ]
    },
    {
     "name": "stderr",
     "output_type": "stream",
     "text": [
      "INFO:fbprophet:Disabling yearly seasonality. Run prophet with yearly_seasonality=True to override this.\n"
     ]
    },
    {
     "name": "stdout",
     "output_type": "stream",
     "text": [
      "PREVENDO O VALOR FUTURO DO ATIVO PQDP11.SA\n",
      "PREVENDO O VALOR FUTURO DO ATIVO LVBI11.SA\n",
      "PREVENDO O VALOR FUTURO DO ATIVO BBPO11.SA\n",
      "PREVENDO O VALOR FUTURO DO ATIVO JSRE11.SA\n",
      "PREVENDO O VALOR FUTURO DO ATIVO HGRU11.SA\n",
      "PREVENDO O VALOR FUTURO DO ATIVO RBRD11.SA\n",
      "PREVENDO O VALOR FUTURO DO ATIVO HGPO11.SA\n",
      "PREVENDO O VALOR FUTURO DO ATIVO HGFF11.SA\n",
      "PREVENDO O VALOR FUTURO DO ATIVO CBOP11.SA\n",
      "PREVENDO O VALOR FUTURO DO ATIVO KNCR11.SA\n",
      "PREVENDO O VALOR FUTURO DO ATIVO FIGS11.SA\n",
      "PREVENDO O VALOR FUTURO DO ATIVO HGBS11.SA\n",
      "PREVENDO O VALOR FUTURO DO ATIVO RNDP11.SA\n",
      "PREVENDO O VALOR FUTURO DO ATIVO OUJP11.SA\n",
      "PREVENDO O VALOR FUTURO DO ATIVO SPTW11.SA\n",
      "PREVENDO O VALOR FUTURO DO ATIVO KFOF11.SA\n"
     ]
    },
    {
     "name": "stderr",
     "output_type": "stream",
     "text": [
      "INFO:fbprophet:Disabling yearly seasonality. Run prophet with yearly_seasonality=True to override this.\n"
     ]
    },
    {
     "name": "stdout",
     "output_type": "stream",
     "text": [
      "PREVENDO O VALOR FUTURO DO ATIVO VOTS11.SA\n"
     ]
    },
    {
     "name": "stderr",
     "output_type": "stream",
     "text": [
      "INFO:fbprophet:Disabling yearly seasonality. Run prophet with yearly_seasonality=True to override this.\n"
     ]
    },
    {
     "name": "stdout",
     "output_type": "stream",
     "text": [
      "PREVENDO O VALOR FUTURO DO ATIVO XPCI11.SA\n"
     ]
    },
    {
     "name": "stderr",
     "output_type": "stream",
     "text": [
      "INFO:fbprophet:Disabling yearly seasonality. Run prophet with yearly_seasonality=True to override this.\n"
     ]
    },
    {
     "name": "stdout",
     "output_type": "stream",
     "text": [
      "PREVENDO O VALOR FUTURO DO ATIVO TGAR11.SA\n"
     ]
    },
    {
     "name": "stderr",
     "output_type": "stream",
     "text": [
      "INFO:fbprophet:Disabling yearly seasonality. Run prophet with yearly_seasonality=True to override this.\n"
     ]
    },
    {
     "name": "stdout",
     "output_type": "stream",
     "text": [
      "PREVENDO O VALOR FUTURO DO ATIVO BARI11.SA\n",
      "PREVENDO O VALOR FUTURO DO ATIVO BRCO11.SA\n"
     ]
    },
    {
     "name": "stderr",
     "output_type": "stream",
     "text": [
      "INFO:fbprophet:Disabling yearly seasonality. Run prophet with yearly_seasonality=True to override this.\n"
     ]
    },
    {
     "name": "stdout",
     "output_type": "stream",
     "text": [
      "PREVENDO O VALOR FUTURO DO ATIVO HUSC11.SA\n"
     ]
    },
    {
     "name": "stderr",
     "output_type": "stream",
     "text": [
      "INFO:fbprophet:Disabling yearly seasonality. Run prophet with yearly_seasonality=True to override this.\n"
     ]
    },
    {
     "name": "stdout",
     "output_type": "stream",
     "text": [
      "PREVENDO O VALOR FUTURO DO ATIVO ARRI11.SA\n",
      "PREVENDO O VALOR FUTURO DO ATIVO RBFF11.SA\n",
      "PREVENDO O VALOR FUTURO DO ATIVO RNGO11.SA\n",
      "PREVENDO O VALOR FUTURO DO ATIVO FVPQ11.SA\n"
     ]
    },
    {
     "name": "stderr",
     "output_type": "stream",
     "text": [
      "INFO:fbprophet:Disabling yearly seasonality. Run prophet with yearly_seasonality=True to override this.\n"
     ]
    },
    {
     "name": "stdout",
     "output_type": "stream",
     "text": [
      "PREVENDO O VALOR FUTURO DO ATIVO XPCM11.SA\n"
     ]
    },
    {
     "name": "stderr",
     "output_type": "stream",
     "text": [
      "INFO:fbprophet:Disabling yearly seasonality. Run prophet with yearly_seasonality=True to override this.\n"
     ]
    },
    {
     "name": "stdout",
     "output_type": "stream",
     "text": [
      "PREVENDO O VALOR FUTURO DO ATIVO TRXF11.SA\n",
      "PREVENDO O VALOR FUTURO DO ATIVO NSLU11.SA\n",
      "PREVENDO O VALOR FUTURO DO ATIVO FIIB11.SA\n",
      "PREVENDO O VALOR FUTURO DO ATIVO HGCR11.SA\n",
      "PREVENDO O VALOR FUTURO DO ATIVO HGRE11.SA\n",
      "PREVENDO O VALOR FUTURO DO ATIVO HGLG11.SA\n",
      "PREVENDO O VALOR FUTURO DO ATIVO KNHY11.SA\n"
     ]
    },
    {
     "name": "stderr",
     "output_type": "stream",
     "text": [
      "INFO:fbprophet:Disabling yearly seasonality. Run prophet with yearly_seasonality=True to override this.\n"
     ]
    },
    {
     "name": "stdout",
     "output_type": "stream",
     "text": [
      "PREVENDO O VALOR FUTURO DO ATIVO KNIP11.SA\n",
      "PREVENDO O VALOR FUTURO DO ATIVO VCJR11.SA\n"
     ]
    },
    {
     "name": "stderr",
     "output_type": "stream",
     "text": [
      "INFO:fbprophet:Disabling yearly seasonality. Run prophet with yearly_seasonality=True to override this.\n"
     ]
    },
    {
     "name": "stdout",
     "output_type": "stream",
     "text": [
      "PREVENDO O VALOR FUTURO DO ATIVO HFOF11.SA\n",
      "PREVENDO O VALOR FUTURO DO ATIVO HLOG11.SA\n"
     ]
    },
    {
     "name": "stderr",
     "output_type": "stream",
     "text": [
      "INFO:fbprophet:Disabling yearly seasonality. Run prophet with yearly_seasonality=True to override this.\n"
     ]
    },
    {
     "name": "stdout",
     "output_type": "stream",
     "text": [
      "PREVENDO O VALOR FUTURO DO ATIVO VRTA11.SA\n",
      "PREVENDO O VALOR FUTURO DO ATIVO HPDP11.SA\n"
     ]
    },
    {
     "name": "stderr",
     "output_type": "stream",
     "text": [
      "INFO:fbprophet:Disabling yearly seasonality. Run prophet with yearly_seasonality=True to override this.\n"
     ]
    },
    {
     "name": "stdout",
     "output_type": "stream",
     "text": [
      "PREVENDO O VALOR FUTURO DO ATIVO BCRI11.SA\n",
      "PREVENDO O VALOR FUTURO DO ATIVO VINO11.SA\n",
      "PREVENDO O VALOR FUTURO DO ATIVO VILG11.SA\n"
     ]
    },
    {
     "name": "stderr",
     "output_type": "stream",
     "text": [
      "INFO:fbprophet:Disabling yearly seasonality. Run prophet with yearly_seasonality=True to override this.\n"
     ]
    },
    {
     "name": "stdout",
     "output_type": "stream",
     "text": [
      "PREVENDO O VALOR FUTURO DO ATIVO PORD11.SA\n"
     ]
    },
    {
     "name": "stderr",
     "output_type": "stream",
     "text": [
      "INFO:fbprophet:Disabling yearly seasonality. Run prophet with yearly_seasonality=True to override this.\n"
     ]
    },
    {
     "name": "stdout",
     "output_type": "stream",
     "text": [
      "PREVENDO O VALOR FUTURO DO ATIVO LUGG11.SA\n",
      "PREVENDO O VALOR FUTURO DO ATIVO RBCO11.SA\n",
      "PREVENDO O VALOR FUTURO DO ATIVO MFII11.SA\n",
      "PREVENDO O VALOR FUTURO DO ATIVO FIIP11B.SA\n",
      "PREVENDO O VALOR FUTURO DO ATIVO PLRI11.SA\n",
      "PREVENDO O VALOR FUTURO DO ATIVO EDFO11B.SA\n",
      "PREVENDO O VALOR FUTURO DO ATIVO VTLT11.SA\n",
      "PREVENDO O VALOR FUTURO DO ATIVO GTWR11.SA\n"
     ]
    },
    {
     "name": "stderr",
     "output_type": "stream",
     "text": [
      "INFO:fbprophet:Disabling yearly seasonality. Run prophet with yearly_seasonality=True to override this.\n"
     ]
    },
    {
     "name": "stdout",
     "output_type": "stream",
     "text": [
      "PREVENDO O VALOR FUTURO DO ATIVO KINP11.SA\n"
     ]
    },
    {
     "name": "stderr",
     "output_type": "stream",
     "text": [
      "INFO:fbprophet:Disabling yearly seasonality. Run prophet with yearly_seasonality=True to override this.\n"
     ]
    },
    {
     "name": "stdout",
     "output_type": "stream",
     "text": [
      "PREVENDO O VALOR FUTURO DO ATIVO WPLZ11.SA\n",
      "PREVENDO O VALOR FUTURO DO ATIVO PLCR11.SA\n"
     ]
    },
    {
     "name": "stderr",
     "output_type": "stream",
     "text": [
      "INFO:fbprophet:Disabling yearly seasonality. Run prophet with yearly_seasonality=True to override this.\n"
     ]
    },
    {
     "name": "stdout",
     "output_type": "stream",
     "text": [
      "PREVENDO O VALOR FUTURO DO ATIVO BBFI11B.SA\n",
      "PREVENDO O VALOR FUTURO DO ATIVO SARE11.SA\n"
     ]
    },
    {
     "name": "stderr",
     "output_type": "stream",
     "text": [
      "INFO:fbprophet:Disabling yearly seasonality. Run prophet with yearly_seasonality=True to override this.\n"
     ]
    },
    {
     "name": "stdout",
     "output_type": "stream",
     "text": [
      "PREVENDO O VALOR FUTURO DO ATIVO RDPD11.SA\n",
      "PREVENDO O VALOR FUTURO DO ATIVO SADI11.SA\n",
      "PREVENDO O VALOR FUTURO DO ATIVO MALL11.SA\n",
      "PREVENDO O VALOR FUTURO DO ATIVO HSML11.SA\n"
     ]
    },
    {
     "name": "stderr",
     "output_type": "stream",
     "text": [
      "INFO:fbprophet:Disabling yearly seasonality. Run prophet with yearly_seasonality=True to override this.\n"
     ]
    },
    {
     "name": "stdout",
     "output_type": "stream",
     "text": [
      "PREVENDO O VALOR FUTURO DO ATIVO KNRI11.SA\n",
      "PREVENDO O VALOR FUTURO DO ATIVO XPLG11.SA\n"
     ]
    },
    {
     "name": "stderr",
     "output_type": "stream",
     "text": [
      "INFO:fbprophet:Disabling yearly seasonality. Run prophet with yearly_seasonality=True to override this.\n"
     ]
    },
    {
     "name": "stdout",
     "output_type": "stream",
     "text": [
      "PREVENDO O VALOR FUTURO DO ATIVO MXRF11.SA\n",
      "PREVENDO O VALOR FUTURO DO ATIVO XPPR11.SA\n"
     ]
    },
    {
     "name": "stderr",
     "output_type": "stream",
     "text": [
      "INFO:fbprophet:Disabling yearly seasonality. Run prophet with yearly_seasonality=True to override this.\n"
     ]
    },
    {
     "name": "stdout",
     "output_type": "stream",
     "text": [
      "PREVENDO O VALOR FUTURO DO ATIVO BPFF11.SA\n"
     ]
    },
    {
     "name": "stderr",
     "output_type": "stream",
     "text": [
      "INFO:fbprophet:Disabling yearly seasonality. Run prophet with yearly_seasonality=True to override this.\n"
     ]
    },
    {
     "name": "stdout",
     "output_type": "stream",
     "text": [
      "PREVENDO O VALOR FUTURO DO ATIVO JPPA11.SA\n",
      "PREVENDO O VALOR FUTURO DO ATIVO HOSI11.SA\n",
      "PREVENDO O VALOR FUTURO DO ATIVO HABT11.SA\n",
      "PREVENDO O VALOR FUTURO DO ATIVO SHPH11.SA\n"
     ]
    },
    {
     "name": "stderr",
     "output_type": "stream",
     "text": [
      "INFO:fbprophet:Disabling yearly seasonality. Run prophet with yearly_seasonality=True to override this.\n"
     ]
    },
    {
     "name": "stdout",
     "output_type": "stream",
     "text": [
      "PREVENDO O VALOR FUTURO DO ATIVO ABCP11.SA\n",
      "PREVENDO O VALOR FUTURO DO ATIVO NEWL11.SA\n",
      "PREVENDO O VALOR FUTURO DO ATIVO SDIL11.SA\n",
      "PREVENDO O VALOR FUTURO DO ATIVO RBED11.SA\n",
      "PREVENDO O VALOR FUTURO DO ATIVO RBVA11.SA\n",
      "PREVENDO O VALOR FUTURO DO ATIVO VISC11.SA\n"
     ]
    },
    {
     "name": "stderr",
     "output_type": "stream",
     "text": [
      "INFO:fbprophet:Disabling yearly seasonality. Run prophet with yearly_seasonality=True to override this.\n"
     ]
    },
    {
     "name": "stdout",
     "output_type": "stream",
     "text": [
      "PREVENDO O VALOR FUTURO DO ATIVO PATC11.SA\n",
      "PREVENDO O VALOR FUTURO DO ATIVO VIFI11.SA\n",
      "PREVENDO O VALOR FUTURO DO ATIVO BCIA11.SA\n"
     ]
    },
    {
     "name": "stderr",
     "output_type": "stream",
     "text": [
      "INFO:fbprophet:Disabling yearly seasonality. Run prophet with yearly_seasonality=True to override this.\n"
     ]
    },
    {
     "name": "stdout",
     "output_type": "stream",
     "text": [
      "PREVENDO O VALOR FUTURO DO ATIVO FPAB11.SA\n",
      "PREVENDO O VALOR FUTURO DO ATIVO XPSF11.SA\n"
     ]
    },
    {
     "name": "stderr",
     "output_type": "stream",
     "text": [
      "INFO:fbprophet:Disabling yearly seasonality. Run prophet with yearly_seasonality=True to override this.\n"
     ]
    },
    {
     "name": "stdout",
     "output_type": "stream",
     "text": [
      "PREVENDO O VALOR FUTURO DO ATIVO EURO11.SA\n"
     ]
    },
    {
     "name": "stderr",
     "output_type": "stream",
     "text": [
      "INFO:fbprophet:Disabling yearly seasonality. Run prophet with yearly_seasonality=True to override this.\n"
     ]
    },
    {
     "name": "stdout",
     "output_type": "stream",
     "text": [
      "PREVENDO O VALOR FUTURO DO ATIVO BICR11.SA\n"
     ]
    },
    {
     "name": "stderr",
     "output_type": "stream",
     "text": [
      "INFO:fbprophet:Disabling yearly seasonality. Run prophet with yearly_seasonality=True to override this.\n"
     ]
    },
    {
     "name": "stdout",
     "output_type": "stream",
     "text": [
      "PREVENDO O VALOR FUTURO DO ATIVO LGCP11.SA\n"
     ]
    },
    {
     "name": "stderr",
     "output_type": "stream",
     "text": [
      "INFO:fbprophet:Disabling yearly seasonality. Run prophet with yearly_seasonality=True to override this.\n"
     ]
    },
    {
     "name": "stdout",
     "output_type": "stream",
     "text": [
      "PREVENDO O VALOR FUTURO DO ATIVO TEPP11.SA\n",
      "PREVENDO O VALOR FUTURO DO ATIVO RFOF11.SA\n",
      "PREVENDO O VALOR FUTURO DO ATIVO RBGS11.SA\n",
      "PREVENDO O VALOR FUTURO DO ATIVO VLOL11.SA\n",
      "PREVENDO O VALOR FUTURO DO ATIVO BNFS11.SA\n",
      "PREVENDO O VALOR FUTURO DO ATIVO CXCE11B.SA\n",
      "PREVENDO O VALOR FUTURO DO ATIVO RBVO11.SA\n",
      "PREVENDO O VALOR FUTURO DO ATIVO CXTL11.SA\n",
      "PREVENDO O VALOR FUTURO DO ATIVO BBRC11.SA\n"
     ]
    }
   ],
   "source": [
    "previsaoDict = {}\n",
    "\n",
    "for tick in descontosDict.keys():\n",
    "    try:\n",
    "        previsaoDict[tick] = previsaoProfeta(stockDict[tick], qtdDiasPrevisao)\n",
    "        print(\"PREVENDO O VALOR FUTURO DO ATIVO\", tick)\n",
    "    except:\n",
    "        print(\"NAO DEU CERTO PARA O ATIVO\", tick)"
   ]
  },
  {
   "cell_type": "code",
   "execution_count": 18,
   "metadata": {
    "pycharm": {
     "name": "#%%\n"
    }
   },
   "outputs": [],
   "source": [
    "previsaoDf = pd.DataFrame.from_dict(previsaoDict, orient='index').reset_index()\n",
    "previsaoDf.columns = ['ticker', 'previsao']\n",
    "stockInfoDf['previsao'] = previsaoDf['previsao']"
   ]
  },
  {
   "cell_type": "code",
   "execution_count": 19,
   "metadata": {
    "pycharm": {
     "name": "#%%\n"
    }
   },
   "outputs": [
    {
     "name": "stdout",
     "output_type": "stream",
     "text": [
      "MONTECARLO DO ATIVO:  FIVN11.SA\n",
      "(0.3320278381925398, 7.5080186581186386, 2.48)\n",
      "MONTECARLO DO ATIVO:  BZLI11.SA\n",
      "(10.885357634012998, 24.808373005647315, 16.95)\n",
      "MONTECARLO DO ATIVO:  XTED11.SA\n",
      "(4.0547563180216475, 9.16332712970072, 6.27)\n",
      "MONTECARLO DO ATIVO:  ALMI11.SA\n",
      "(914.3356607525898, 1600.8319662684826, 1227.2)\n",
      "MONTECARLO DO ATIVO:  PABY11.SA\n",
      "(5.403288979463663, 14.32490040801227, 9.21)\n",
      "MONTECARLO DO ATIVO:  ORPD11.SA\n",
      "(100.17838080756538, 162.07657163774263, 128.47)\n",
      "MONTECARLO DO ATIVO:  QAGR11.SA\n",
      "(36.868411653521, 66.67776277875366, 50.42)\n",
      "MONTECARLO DO ATIVO:  GGRC11.SA\n",
      "(98.27092574007456, 135.90022584386216, 115.8)\n",
      "MONTECARLO DO ATIVO:  CXRI11.SA\n",
      "(41.16539961406564, 104.08758586835712, 68.22)\n",
      "MONTECARLO DO ATIVO:  CRFF11.SA\n",
      "(52.084299893576, 82.17765729764423, 66.28)\n",
      "MONTECARLO DO ATIVO:  SCPF11.SA\n",
      "(6.542376910582723, 8.893920632832963, 7.67)\n",
      "MONTECARLO DO ATIVO:  FISC11.SA\n",
      "(98.15815718898841, 254.27788439385353, 165.22)\n",
      "MONTECARLO DO ATIVO:  FLMA11.SA\n",
      "(90.57720743613648, 147.19040128291877, 116.58)\n",
      "MONTECARLO DO ATIVO:  BREV11.SA\n",
      "(72.73274104357999, 123.33359626871982, 95.83)\n",
      "MONTECARLO DO ATIVO:  ONEF11.SA\n",
      "(114.92777264552204, 171.1742921644787, 141.58)\n",
      "MONTECARLO DO ATIVO:  RCRB11.SA\n",
      "(98.1940996714714, 167.18335476624577, 129.72)\n",
      "MONTECARLO DO ATIVO:  MBRF11.SA\n",
      "(566.591040091898, 831.969022338768, 690.09)\n",
      "MONTECARLO DO ATIVO:  HCTR11.SA\n",
      "(102.70871355629173, 150.8036250606463, 124.9)\n",
      "MONTECARLO DO ATIVO:  JRDM11.SA\n",
      "(85.19999694824219, 85.19999694824219, 85.2)\n",
      "MONTECARLO DO ATIVO:  BRCR11.SA\n",
      "(61.08483226331968, 81.26591161287273, 70.67)\n",
      "MONTECARLO DO ATIVO:  FEXC11.SA\n",
      "(106.19999694824219, 106.19999694824219, 106.2)\n",
      "MONTECARLO DO ATIVO:  BTCR11.SA\n",
      "(76.3732174730173, 109.68863232507783, 92.11)\n",
      "MONTECARLO DO ATIVO:  BCFF11.SA\n",
      "(78.91000366210938, 78.91000366210938, 78.91)\n",
      "MONTECARLO DO ATIVO:  CEOC11.SA\n",
      "(48.99811830721588, 67.96012603772986, 58.0)\n",
      "MONTECARLO DO ATIVO:  MGFF11.SA\n",
      "(53.59865668705168, 77.27711689269935, 64.83)\n",
      "MONTECARLO DO ATIVO:  RBRP11.SA\n",
      "(54.95082387828698, 89.67145611259332, 70.8)\n",
      "MONTECARLO DO ATIVO:  RECT11.SA\n",
      "(59.23379665555799, 81.45765686151388, 69.88)\n",
      "MONTECARLO DO ATIVO:  RECR11.SA\n",
      "(94.08932540184871, 112.79695121029981, 103.22)\n",
      "MONTECARLO DO ATIVO:  CPFF11.SA\n",
      "(57.74466719390397, 87.19344418202239, 71.48)\n",
      "MONTECARLO DO ATIVO:  RVBI11.SA\n",
      "(62.88745368137609, 98.61287613251567, 79.49)\n",
      "MONTECARLO DO ATIVO:  CVBI11.SA\n",
      "(86.07685559454141, 122.39546977616348, 103.07)\n",
      "MONTECARLO DO ATIVO:  IBFF11.SA\n",
      "(48.86888171091678, 76.03863894328988, 61.57)\n",
      "MONTECARLO DO ATIVO:  IRDM11.SA\n",
      "(91.43319743479287, 127.48611331248628, 108.46)\n",
      "MONTECARLO DO ATIVO:  RBRR11.SA\n",
      "(87.44942164184067, 114.48660736479627, 100.29)\n",
      "MONTECARLO DO ATIVO:  RBRY11.SA\n",
      "(86.41150551898254, 124.70453444084455, 104.51)\n",
      "MONTECARLO DO ATIVO:  RBRF11.SA\n",
      "(58.57884655489004, 87.53095922622944, 72.11)\n",
      "MONTECARLO DO ATIVO:  ATSA11.SA\n",
      "(1028.6075001609565, 1071.5400571510856, 1050.01)\n",
      "MONTECARLO DO ATIVO:  VGIP11.SA\n",
      "(79.03427429601824, 125.10705916398366, 100.36)\n",
      "MONTECARLO DO ATIVO:  VGIR11.SA\n",
      "(81.43137374877732, 119.93435232700358, 99.48)\n",
      "MONTECARLO DO ATIVO:  MCCI11.SA\n",
      "(85.19965740884491, 120.28421245712931, 101.97)\n",
      "MONTECARLO DO ATIVO:  NAVT11.SA\n",
      "(55.223631290410154, 99.11671809153091, 75.43)\n",
      "MONTECARLO DO ATIVO:  TRNT11.SA\n",
      "(175.0, 175.0, 175.0)\n",
      "MONTECARLO DO ATIVO:  OUFF11.SA\n",
      "(53.40665747406079, 83.1888557126474, 67.19)\n",
      "MONTECARLO DO ATIVO:  BTLG11.SA\n",
      "(89.05704286349918, 122.93355815837705, 105.11)\n",
      "MONTECARLO DO ATIVO:  XPIN11.SA\n",
      "(79.4875898099038, 97.52630942703384, 88.18)\n",
      "MONTECARLO DO ATIVO:  XPML11.SA\n",
      "(80.95343816135222, 107.28481659997999, 93.5)\n",
      "MONTECARLO DO ATIVO:  FCFL11.SA\n",
      "(67.58477659648183, 169.1188961023197, 111.95)\n",
      "MONTECARLO DO ATIVO:  ALZR11.SA\n",
      "(97.89087134317947, 135.12779078905285, 115.48)\n",
      "MONTECARLO DO ATIVO:  XPHT11.SA\n",
      "(70.69193441513718, 116.93572846401273, 92.29)\n",
      "MONTECARLO DO ATIVO:  HTMX11.SA\n",
      "(84.3570076494891, 139.42292770982746, 109.65)\n",
      "MONTECARLO DO ATIVO:  CNES11.SA\n",
      "(94.77999877929688, 94.77999877929688, 94.78)\n",
      "MONTECARLO DO ATIVO:  EDGA11.SA\n",
      "(23.631331788043724, 41.47389830264915, 31.8)\n",
      "MONTECARLO DO ATIVO:  GSFI11.SA\n",
      "(2.8974548280346153, 6.138072171944104, 4.35)\n",
      "MONTECARLO DO ATIVO:  NVHO11.SA\n",
      "(7.4583452921767, 17.837737874759167, 11.98)\n",
      "MONTECARLO DO ATIVO:  NEWU11.SA\n",
      "(22.197044435112883, 41.51171774172908, 30.97)\n",
      "MONTECARLO DO ATIVO:  HCRI11.SA\n",
      "(320.0, 320.0, 320.0)\n",
      "MONTECARLO DO ATIVO:  PRSV11.SA\n",
      "(79.33194539829351, 166.88152529782815, 117.71)\n",
      "MONTECARLO DO ATIVO:  FAMB11B.SA\n",
      "(634.7856175782988, 1274.7452119405643, 919.09)\n",
      "MONTECARLO DO ATIVO:  FMOF11.SA\n",
      "(41.82496685092259, 95.34579891672902, 65.39)\n",
      "MONTECARLO DO ATIVO:  RBDS11.SA\n",
      "(3.062712857611983, 10.367893443295674, 6.02)\n",
      "MONTECARLO DO ATIVO:  KNRE11.SA\n",
      "(1.1299665284372589, 2.0824758350882306, 1.56)\n",
      "MONTECARLO DO ATIVO:  HRDF11.SA\n",
      "(0.67652333872568, 1.9455899464279849, 1.2)\n",
      "MONTECARLO DO ATIVO:  BPML11.SA\n",
      "(51.17626471312829, 91.70275432528345, 69.6)\n",
      "MONTECARLO DO ATIVO:  DRIT11B.SA\n",
      "(45.77123590672029, 163.40971106967731, 93.43)\n",
      "MONTECARLO DO ATIVO:  CTXT11.SA\n",
      "(18.849580031169083, 29.75607362982027, 23.95)\n",
      "MONTECARLO DO ATIVO:  GESE11B.SA\n",
      "(1520.0, 1520.0, 1520.0)\n",
      "MONTECARLO DO ATIVO:  RBIR11.SA\n",
      "(48.24038184343052, 104.60438925173553, 73.15)\n",
      "MONTECARLO DO ATIVO:  CARE11.SA\n",
      "(0.22381639965143632, 6.687599070981309, 2.09)\n",
      "MONTECARLO DO ATIVO:  WTSP11B.SA\n",
      "(28.0097850826411, 66.47264360075432, 44.58)\n",
      "MONTECARLO DO ATIVO:  VVPR11.SA\n",
      "(73.06637906860988, 123.51937394635598, 96.22)\n",
      "MONTECARLO DO ATIVO:  VSHO11.SA\n",
      "(60.123188399074564, 99.41971462540579, 78.43)\n",
      "MONTECARLO DO ATIVO:  PQDP11.SA\n",
      "(1740.8441468776018, 2722.7565842176887, 2198.55)\n",
      "MONTECARLO DO ATIVO:  LVBI11.SA\n",
      "(84.26360607115915, 121.57779743269295, 102.0)\n",
      "MONTECARLO DO ATIVO:  BBPO11.SA\n",
      "(82.09481167880999, 106.3263405395069, 93.74)\n",
      "MONTECARLO DO ATIVO:  JSRE11.SA\n",
      "(67.69420711402503, 92.92812672900747, 79.73)\n",
      "MONTECARLO DO ATIVO:  HGRU11.SA\n",
      "(96.99767373868863, 134.10026710505164, 114.67)\n",
      "MONTECARLO DO ATIVO:  RBRD11.SA\n",
      "(32.03916142863247, 55.111261330186345, 42.5)\n",
      "MONTECARLO DO ATIVO:  HGPO11.SA\n",
      "(215.16867454498043, 299.4052465028481, 255.09)\n",
      "MONTECARLO DO ATIVO:  HGFF11.SA\n",
      "(59.82130356526017, 94.89431378264061, 76.1)\n",
      "MONTECARLO DO ATIVO:  CBOP11.SA\n",
      "(60.61700397813727, 85.95341387792034, 72.69)\n",
      "MONTECARLO DO ATIVO:  KNCR11.SA\n",
      "(90.21313009099188, 110.55051246034058, 100.04)\n",
      "MONTECARLO DO ATIVO:  FIGS11.SA\n",
      "(44.66224693408635, 66.56754915193534, 54.8)\n",
      "MONTECARLO DO ATIVO:  HGBS11.SA\n",
      "(138.19048670509613, 199.08389583918597, 166.59)\n",
      "MONTECARLO DO ATIVO:  RNDP11.SA\n",
      "(479.09490459690096, 739.2941769491143, 600.72)\n",
      "MONTECARLO DO ATIVO:  OUJP11.SA\n",
      "(74.63323889076901, 110.436014385033, 91.19)\n",
      "MONTECARLO DO ATIVO:  SPTW11.SA\n",
      "(33.99304529057727, 59.40249188257359, 45.49)\n",
      "MONTECARLO DO ATIVO:  KFOF11.SA\n",
      "(58.0286768042755, 98.14639016610754, 76.31)\n",
      "MONTECARLO DO ATIVO:  VOTS11.SA\n",
      "(57.79788644490019, 115.95959974937013, 83.89)\n",
      "MONTECARLO DO ATIVO:  XPCI11.SA\n",
      "(80.90764783431676, 117.22717056007889, 98.05)\n",
      "MONTECARLO DO ATIVO:  TGAR11.SA\n",
      "(120.87675539901042, 121.55789374080244, 121.22)\n",
      "MONTECARLO DO ATIVO:  BARI11.SA\n",
      "(95.51044354883054, 115.07149029959905, 105.01)\n",
      "MONTECARLO DO ATIVO:  BRCO11.SA\n",
      "(80.10759215374016, 116.82677846597926, 97.22)\n",
      "MONTECARLO DO ATIVO:  HUSC11.SA\n",
      "(64.08340373816955, 178.70408426952804, 112.36)\n",
      "MONTECARLO DO ATIVO:  ARRI11.SA\n",
      "(76.69416903167838, 128.735872410076, 100.88)\n",
      "MONTECARLO DO ATIVO:  RBFF11.SA\n",
      "(47.84676010285535, 63.129037270049785, 55.2)\n",
      "MONTECARLO DO ATIVO:  RNGO11.SA\n",
      "(43.21175441090074, 59.15399155587352, 50.86)\n",
      "MONTECARLO DO ATIVO:  FVPQ11.SA\n",
      "(80.36993816798426, 125.51533315642735, 101.52)\n",
      "MONTECARLO DO ATIVO:  XPCM11.SA\n",
      "(13.720340296642792, 25.65863133798297, 19.1)\n",
      "MONTECARLO DO ATIVO:  TRXF11.SA\n",
      "(85.24364901669622, 119.57672213786793, 101.53)\n",
      "MONTECARLO DO ATIVO:  NSLU11.SA\n",
      "(217.0, 217.0, 217.0)\n",
      "MONTECARLO DO ATIVO:  FIIB11.SA\n",
      "(405.4611842291844, 515.0556280355441, 457.95)\n",
      "MONTECARLO DO ATIVO:  HGCR11.SA\n",
      "(91.75608918542483, 120.86954139012352, 105.57)\n",
      "MONTECARLO DO ATIVO:  HGRE11.SA\n",
      "(108.57372457148476, 159.07222010765898, 132.18)\n",
      "MONTECARLO DO ATIVO:  HGLG11.SA\n",
      "(142.3183981910975, 203.9208583442876, 171.16)\n",
      "MONTECARLO DO ATIVO:  KNHY11.SA\n",
      "(90.51544040686363, 123.92644882919465, 106.55)\n",
      "MONTECARLO DO ATIVO:  KNIP11.SA\n",
      "(93.97742419340125, 114.69511970540482, 104.07)\n",
      "MONTECARLO DO ATIVO:  VCJR11.SA\n",
      "(78.22877613633698, 120.70602547016539, 97.97)\n",
      "MONTECARLO DO ATIVO:  HFOF11.SA\n",
      "(69.89737698807998, 88.42867070937511, 78.75)\n",
      "MONTECARLO DO ATIVO:  HLOG11.SA\n",
      "(77.57957692905632, 109.96908938244206, 93.05)\n",
      "MONTECARLO DO ATIVO:  VRTA11.SA\n",
      "(89.77733996817057, 121.391967891662, 104.89)\n",
      "MONTECARLO DO ATIVO:  HPDP11.SA\n",
      "(62.01325204661154, 108.7066214834121, 83.45)\n",
      "MONTECARLO DO ATIVO:  BCRI11.SA\n",
      "(95.5475140827796, 129.2275389081691, 111.58)\n",
      "MONTECARLO DO ATIVO:  VINO11.SA\n",
      "(40.04613921748475, 64.48438918997769, 51.56)\n",
      "MONTECARLO DO ATIVO:  VILG11.SA\n",
      "(81.85425453057361, 124.17988367029281, 101.69)\n",
      "MONTECARLO DO ATIVO:  PORD11.SA\n",
      "(78.31418442253623, 109.94565069228584, 93.51)\n",
      "MONTECARLO DO ATIVO:  LUGG11.SA\n",
      "(76.04736783519024, 98.39013726460205, 86.8)\n",
      "MONTECARLO DO ATIVO:  RBCO11.SA\n",
      "(45.19222485412006, 65.64014840643007, 54.95)\n",
      "MONTECARLO DO ATIVO:  MFII11.SA\n",
      "(88.83235939038259, 133.5677690784423, 109.93)\n",
      "MONTECARLO DO ATIVO:  FIIP11B.SA\n",
      "(135.00392792253382, 199.69844512895443, 165.03)\n",
      "MONTECARLO DO ATIVO:  PLRI11.SA\n",
      "(28.130669013708964, 49.95923122108082, 38.13)\n",
      "MONTECARLO DO ATIVO:  EDFO11B.SA\n",
      "(151.6683537297838, 292.78181685562413, 215.28)\n",
      "MONTECARLO DO ATIVO:  VTLT11.SA\n",
      "(77.05295908464157, 108.38245715874508, 91.85)\n",
      "MONTECARLO DO ATIVO:  GTWR11.SA\n",
      "(72.20110299481546, 97.55543513944778, 84.18)\n",
      "MONTECARLO DO ATIVO:  KINP11.SA\n",
      "(6.793553364104189, 24.464273348613283, 14.02)\n",
      "MONTECARLO DO ATIVO:  WPLZ11.SA\n",
      "(70.01000213623047, 70.01000213623047, 70.01)\n",
      "MONTECARLO DO ATIVO:  PLCR11.SA\n",
      "(65.94541870958997, 116.54791491485115, 88.78)\n",
      "MONTECARLO DO ATIVO:  BBFI11B.SA\n",
      "(1778.721157088034, 2869.1891835235697, 2285.34)\n",
      "MONTECARLO DO ATIVO:  SARE11.SA\n",
      "(55.603326834445305, 90.25908776037593, 71.71)\n",
      "MONTECARLO DO ATIVO:  RDPD11.SA\n",
      "(41.79443887701654, 74.81622121645312, 56.74)\n",
      "MONTECARLO DO ATIVO:  SADI11.SA\n",
      "(77.84952120448213, 103.10603723714554, 89.88)\n",
      "MONTECARLO DO ATIVO:  MALL11.SA\n",
      "(76.21063852837239, 119.22888433654124, 96.39)\n",
      "MONTECARLO DO ATIVO:  HSML11.SA\n",
      "(61.8302463203995, 91.986563853146, 75.84)\n",
      "MONTECARLO DO ATIVO:  KNRI11.SA\n",
      "(113.16461022933316, 152.43478173297035, 132.01)\n",
      "MONTECARLO DO ATIVO:  XPLG11.SA\n",
      "(86.15180651408122, 111.75138624098038, 98.5)\n",
      "MONTECARLO DO ATIVO:  MXRF11.SA\n",
      "(7.977339604733806, 10.46200402426296, 9.16)\n",
      "MONTECARLO DO ATIVO:  XPPR11.SA\n",
      "(49.4557792021558, 79.90165912680949, 63.62)\n",
      "MONTECARLO DO ATIVO:  BPFF11.SA\n",
      "(56.3176488490135, 82.21572204609404, 68.62)\n",
      "MONTECARLO DO ATIVO:  JPPA11.SA\n",
      "(81.99468836824639, 115.79712940031858, 97.99)\n",
      "MONTECARLO DO ATIVO:  HOSI11.SA\n",
      "(54.14490286896619, 94.96661099744524, 72.88)\n",
      "MONTECARLO DO ATIVO:  HABT11.SA\n",
      "(95.24320334707235, 129.36538815897262, 111.48)\n",
      "MONTECARLO DO ATIVO:  SHPH11.SA\n",
      "(656.0202327330591, 971.0087356064306, 805.68)\n",
      "MONTECARLO DO ATIVO:  ABCP11.SA\n",
      "(61.67533994349705, 87.80811648319721, 74.1)\n",
      "MONTECARLO DO ATIVO:  NEWL11.SA\n",
      "(84.48704773984508, 124.6650273637798, 103.6)\n",
      "MONTECARLO DO ATIVO:  SDIL11.SA\n",
      "(69.50381954416557, 105.01030301295353, 86.19)\n",
      "MONTECARLO DO ATIVO:  RBED11.SA\n",
      "(102.11243163344002, 140.09947607463965, 120.09)\n",
      "MONTECARLO DO ATIVO:  RBVA11.SA\n",
      "(58.612148809751936, 149.98299394130893, 98.32)\n",
      "MONTECARLO DO ATIVO:  VISC11.SA\n",
      "(81.76403158012275, 121.56498596347187, 100.38)\n",
      "MONTECARLO DO ATIVO:  PATC11.SA\n",
      "(53.214921164081694, 80.00028928725582, 65.81)\n",
      "MONTECARLO DO ATIVO:  VIFI11.SA\n",
      "(66.33938567998999, 93.99053847163289, 79.39)\n",
      "MONTECARLO DO ATIVO:  BCIA11.SA\n",
      "(64.8427650412018, 113.15589947297228, 86.67)\n",
      "MONTECARLO DO ATIVO:  FPAB11.SA\n",
      "(158.26574924898486, 295.66956833180274, 220.01)\n",
      "MONTECARLO DO ATIVO:  XPSF11.SA\n",
      "(64.59329142372283, 97.34289384237017, 79.69)\n",
      "MONTECARLO DO ATIVO:  EURO11.SA\n",
      "(152.4964258703118, 257.2243812177704, 200.68)\n",
      "MONTECARLO DO ATIVO:  BICR11.SA\n",
      "(70.26854659776595, 123.61566307247827, 94.44)\n",
      "MONTECARLO DO ATIVO:  LGCP11.SA\n",
      "(67.81323160719242, 97.91455018738611, 82.23)\n",
      "MONTECARLO DO ATIVO:  TEPP11.SA\n",
      "(61.3550017372468, 86.87784909558833, 73.45)\n",
      "MONTECARLO DO ATIVO:  RFOF11.SA\n",
      "(55.66685053083992, 96.6283157379289, 74.03)\n",
      "MONTECARLO DO ATIVO:  RBGS11.SA\n",
      "(21.755691349849062, 36.33925099203744, 28.44)\n",
      "MONTECARLO DO ATIVO:  VLOL11.SA\n",
      "(75.27839216825416, 114.39411798356257, 93.49)\n",
      "MONTECARLO DO ATIVO:  BNFS11.SA\n",
      "(106.9937704610241, 148.20649518672815, 126.55)\n",
      "MONTECARLO DO ATIVO:  CXCE11B.SA\n",
      "(26.034882893998482, 71.14036514080274, 45.27)\n",
      "MONTECARLO DO ATIVO:  RBVO11.SA\n",
      "(8.377491432959893, 17.109897952682648, 12.25)\n",
      "MONTECARLO DO ATIVO:  CXTL11.SA\n",
      "(201.4793978701094, 455.1059257405689, 310.45)\n",
      "MONTECARLO DO ATIVO:  BBRC11.SA\n",
      "(86.1347662552389, 116.35371358124426, 100.55)\n"
     ]
    }
   ],
   "source": [
    "monteCarloDict = {}\n",
    "\n",
    "for tick in descontosDict.keys():\n",
    "    try:\n",
    "        monteCarloDict[tick] = MonteCarlo(stockDict[tick], qtdDiasPrevisao)\n",
    "        print(\"MONTECARLO DO ATIVO: \", tick)\n",
    "        print(monteCarloDict[tick])\n",
    "    except:\n",
    "        print(\"NAO DEU CERTO PARA O ATIVO\", tick)"
   ]
  },
  {
   "cell_type": "code",
   "execution_count": 20,
   "outputs": [
    {
     "name": "stdout",
     "output_type": "stream",
     "text": [
      "até aqui ta bom\n"
     ]
    }
   ],
   "source": [
    "\n",
    "monteCarloDF = pd.DataFrame.from_dict(monteCarloDict, orient = 'index').reset_index()\n",
    "monteCarloDF.columns = ['ticker', 'stop_loss', 'stop_gain', 'expected_value']\n",
    "\n",
    "stockInfoDf['stop_loss'] = monteCarloDF['stop_loss']\n",
    "stockInfoDf['stop_gain'] = monteCarloDF['stop_gain']\n",
    "stockInfoDf['expected_value'] = monteCarloDF['expected_value']\n",
    "\n",
    "stockInfoDf['retornoPrevisto'] = stockInfoDf['previsao']/stockInfoDf['precoAtual'] - 1\n",
    "stockInfoDf['retornoStopLoss'] = stockInfoDf['stop_loss']/stockInfoDf['precoAtual'] - 1\n",
    "stockInfoDf['retornoStopGain'] = stockInfoDf['stop_gain']/stockInfoDf['precoAtual'] - 1\n",
    "stockInfoDf['retornoEsperado'] = stockInfoDf['expected_value']/stockInfoDf['precoAtual'] -1\n",
    "\n",
    "#Atribui pontos pelo retorno previsto\n",
    "retornoPrevistoOrdenado = stockInfoDf.sort_values(by = 'retornoPrevisto')\n",
    "retornoPrevistoOrdenado = retornoPrevistoOrdenado.reset_index(drop = True)\n",
    "retornoPrevistoOrdenado['scoreRetPrevisto'] = retornoPrevistoOrdenado.index\n",
    "\n",
    "retornoStopLossOrdenado = retornoPrevistoOrdenado.sort_values(by = 'retornoStopLoss', ascending= False)\n",
    "retornoStopLossOrdenado = retornoStopLossOrdenado.reset_index(drop = True)\n",
    "retornoStopLossOrdenado['scoreStopLoss'] = retornoStopLossOrdenado.index\n",
    "\n",
    "retornoStopGainOrdenado = retornoStopLossOrdenado.sort_values(by = 'retornoStopGain')\n",
    "retornoStopGainOrdenado = retornoStopGainOrdenado.reset_index(drop = True)\n",
    "retornoStopGainOrdenado['scoreStopGain'] = retornoStopGainOrdenado.index\n",
    "\n",
    "retornoExpectedOrdenado = retornoStopGainOrdenado.sort_values(by = 'retornoEsperado')\n",
    "retornoExpectedOrdenado = retornoExpectedOrdenado.reset_index(drop = True)\n",
    "retornoExpectedOrdenado['scoreExpected'] = retornoExpectedOrdenado.index\n",
    "\n",
    "riscoOrdenado = retornoExpectedOrdenado.sort_values(by = 'risco', ascending= False)\n",
    "riscoOrdenado = riscoOrdenado.reset_index(drop = True)\n",
    "riscoOrdenado['scoreRisco'] = riscoOrdenado.index\n",
    "\n",
    "descontoOrdenado = riscoOrdenado.sort_values(by = 'desconto', ascending= False)\n",
    "descontoOrdenado = descontoOrdenado.reset_index(drop = True)\n",
    "descontoOrdenado['scoreDesconto'] = descontoOrdenado.index\n",
    "\n",
    "retornoOrdenado = descontoOrdenado.sort_values(by = 'retorno', ascending= True)\n",
    "retornoOrdenado = retornoOrdenado.reset_index(drop = True)\n",
    "retornoOrdenado['scoreRetorno'] = retornoOrdenado.index\n",
    "\n",
    "newDF = retornoOrdenado\n",
    "newDF = newDF[newDF['retornoEsperado'] > 0]\n",
    "newDF = newDF[newDF['precoAtual'] <=  300]\n",
    "newDF['scoreTotal'] = newDF['scoreRetPrevisto'] + newDF['scoreRisco'] + newDF['scoreDesconto'] + newDF['scoreRetorno'] + newDF['scoreStopLoss'] + newDF['scoreStopGain']+ newDF['scoreExpected']\n",
    "newDF = newDF.sort_values(by = 'scoreTotal', ascending= False)\n",
    "# newDF = newDF.dropna()\n",
    "\n",
    "newDF\n",
    "\n",
    "print('até aqui ta bom')"
   ],
   "metadata": {
    "collapsed": false,
    "pycharm": {
     "name": "#%%\n"
    }
   }
  },
  {
   "cell_type": "code",
   "execution_count": 21,
   "outputs": [
    {
     "data": {
      "text/plain": "Index(['ticker', 'desconto', 'risco', 'retorno', 'precoAtual', 'previsao',\n       'stop_loss', 'stop_gain', 'expected_value', 'retornoPrevisto',\n       'retornoStopLoss', 'retornoStopGain', 'retornoEsperado',\n       'scoreRetPrevisto', 'scoreStopLoss', 'scoreStopGain', 'scoreExpected',\n       'scoreRisco', 'scoreDesconto', 'scoreRetorno', 'scoreTotal'],\n      dtype='object')"
     },
     "execution_count": 21,
     "metadata": {},
     "output_type": "execute_result"
    }
   ],
   "source": [
    "newDF.columns\n"
   ],
   "metadata": {
    "collapsed": false,
    "pycharm": {
     "name": "#%%\n"
    }
   }
  },
  {
   "cell_type": "code",
   "execution_count": 22,
   "outputs": [
    {
     "data": {
      "text/plain": "Index(['ticker', 'Setor', 'Preço Atual', 'Liquidez Diária', 'Dividendo',\n       'DividendYield', 'DY (3M)Acumulado', 'DY (6M)Acumulado',\n       'DY (12M)Acumulado', 'DY (3M)Média', 'DY (6M)Média', 'DY (12M)Média',\n       'DY Ano', 'Variação Preço', 'Rentab.Período', 'Rentab.Acumulada',\n       'PatrimônioLíq.', 'VPA', 'P/VPA', 'DYPatrimonial',\n       'VariaçãoPatrimonial', 'Rentab. Patr.no Período',\n       'Rentab. Patr.Acumulada', 'VacânciaFísica', 'VacânciaFinanceira',\n       'QuantidadeAtivos'],\n      dtype='object')"
     },
     "execution_count": 22,
     "metadata": {},
     "output_type": "execute_result"
    }
   ],
   "source": [
    "df = df.rename(columns= {'Códigodo fundo': 'ticker'})\n",
    "df.columns"
   ],
   "metadata": {
    "collapsed": false,
    "pycharm": {
     "name": "#%%\n"
    }
   }
  },
  {
   "cell_type": "code",
   "execution_count": 23,
   "outputs": [
    {
     "data": {
      "text/plain": "      ticker                Setor  Preço Atual  Liquidez Diária  Dividendo  \\\n0     APTO11              Híbrido        10.10            280.0       0.03   \n1     FIVN11            Shoppings         2.40          73070.0       0.00   \n2     BZLI11  Títulos e Val. Mob.        14.70         440410.0       0.00   \n3     XTED11   Lajes Corporativas         6.27           1640.0       0.00   \n4     ALMI11   Lajes Corporativas      1002.48           1820.0       0.00   \n..       ...                  ...          ...              ...        ...   \n265  CXCE11B               Outros        45.43           2690.0       0.37   \n266   MFAI11              Híbrido        74.98           9990.0       1.06   \n267   RBVO11               Outros        12.30            650.0       0.05   \n268   CXTL11            Logística       309.97             30.0       0.75   \n269   BBRC11               Outros       100.30          11240.0       0.92   \n\n     DividendYield  DY (3M)Acumulado  DY (6M)Acumulado  DY (12M)Acumulado  \\\n0             0.30               NaN               NaN                NaN   \n1             0.00              0.00              0.00               0.00   \n2             0.00              0.00              0.00               0.00   \n3             0.00              0.00              0.00               0.00   \n4             0.00              0.00              0.00               0.00   \n..             ...               ...               ...                ...   \n265           0.82              2.31              6.60              12.74   \n266           1.44              3.14              5.41              10.04   \n267           0.42              0.91              2.03               3.46   \n268           0.25              0.66              1.28               0.00   \n269           0.84              2.76              5.08               9.69   \n\n     DY (3M)Média  ...  PatrimônioLíq.      VPA  P/VPA  DYPatrimonial  \\\n0             NaN  ...    3.947629e+07     9.84   1.03            NaN   \n1            0.00  ...    6.580577e+07     6.99   0.34            NaN   \n2            0.00  ...    4.327399e+08    10.89   1.35            NaN   \n3            0.00  ...    2.734137e+07    14.12   0.44            NaN   \n4            0.00  ...    2.502640e+08  2251.04   0.45            NaN   \n..            ...  ...             ...      ...    ...            ...   \n265          0.77  ...    1.109777e+08    64.79   0.70            NaN   \n266          1.05  ...    2.486491e+07    82.02   0.91            NaN   \n267          0.30  ...    1.198147e+07    23.23   0.53            NaN   \n268          0.22  ...    3.704425e+07   691.16   0.45            NaN   \n269          0.92  ...    1.708410e+08   107.45   0.93            NaN   \n\n     VariaçãoPatrimonial  Rentab. Patr.no Período  Rentab. Patr.Acumulada  \\\n0                    NaN                      NaN                     NaN   \n1                    NaN                      NaN                     NaN   \n2                    NaN                      NaN                     NaN   \n3                    NaN                      NaN                     NaN   \n4                    NaN                      NaN                     NaN   \n..                   ...                      ...                     ...   \n265                  NaN                      NaN                     NaN   \n266                  NaN                      NaN                     NaN   \n267                  NaN                      NaN                     NaN   \n268                  NaN                      NaN                     NaN   \n269                  NaN                      NaN                     NaN   \n\n     VacânciaFísica  VacânciaFinanceira  QuantidadeAtivos  \n0               NaN                 NaN                 0  \n1             56.00                 NaN                 1  \n2               NaN                 NaN                 0  \n3              0.00               100.0                 1  \n4             68.15                 NaN                 1  \n..              ...                 ...               ...  \n265            0.00                 NaN                 1  \n266             NaN                 NaN                 0  \n267             NaN                 NaN                 0  \n268           61.00                 NaN                 3  \n269            5.40                 2.1                20  \n\n[270 rows x 26 columns]",
      "text/html": "<div>\n<style scoped>\n    .dataframe tbody tr th:only-of-type {\n        vertical-align: middle;\n    }\n\n    .dataframe tbody tr th {\n        vertical-align: top;\n    }\n\n    .dataframe thead th {\n        text-align: right;\n    }\n</style>\n<table border=\"1\" class=\"dataframe\">\n  <thead>\n    <tr style=\"text-align: right;\">\n      <th></th>\n      <th>ticker</th>\n      <th>Setor</th>\n      <th>Preço Atual</th>\n      <th>Liquidez Diária</th>\n      <th>Dividendo</th>\n      <th>DividendYield</th>\n      <th>DY (3M)Acumulado</th>\n      <th>DY (6M)Acumulado</th>\n      <th>DY (12M)Acumulado</th>\n      <th>DY (3M)Média</th>\n      <th>...</th>\n      <th>PatrimônioLíq.</th>\n      <th>VPA</th>\n      <th>P/VPA</th>\n      <th>DYPatrimonial</th>\n      <th>VariaçãoPatrimonial</th>\n      <th>Rentab. Patr.no Período</th>\n      <th>Rentab. Patr.Acumulada</th>\n      <th>VacânciaFísica</th>\n      <th>VacânciaFinanceira</th>\n      <th>QuantidadeAtivos</th>\n    </tr>\n  </thead>\n  <tbody>\n    <tr>\n      <th>0</th>\n      <td>APTO11</td>\n      <td>Híbrido</td>\n      <td>10.10</td>\n      <td>280.0</td>\n      <td>0.03</td>\n      <td>0.30</td>\n      <td>NaN</td>\n      <td>NaN</td>\n      <td>NaN</td>\n      <td>NaN</td>\n      <td>...</td>\n      <td>3.947629e+07</td>\n      <td>9.84</td>\n      <td>1.03</td>\n      <td>NaN</td>\n      <td>NaN</td>\n      <td>NaN</td>\n      <td>NaN</td>\n      <td>NaN</td>\n      <td>NaN</td>\n      <td>0</td>\n    </tr>\n    <tr>\n      <th>1</th>\n      <td>FIVN11</td>\n      <td>Shoppings</td>\n      <td>2.40</td>\n      <td>73070.0</td>\n      <td>0.00</td>\n      <td>0.00</td>\n      <td>0.00</td>\n      <td>0.00</td>\n      <td>0.00</td>\n      <td>0.00</td>\n      <td>...</td>\n      <td>6.580577e+07</td>\n      <td>6.99</td>\n      <td>0.34</td>\n      <td>NaN</td>\n      <td>NaN</td>\n      <td>NaN</td>\n      <td>NaN</td>\n      <td>56.00</td>\n      <td>NaN</td>\n      <td>1</td>\n    </tr>\n    <tr>\n      <th>2</th>\n      <td>BZLI11</td>\n      <td>Títulos e Val. Mob.</td>\n      <td>14.70</td>\n      <td>440410.0</td>\n      <td>0.00</td>\n      <td>0.00</td>\n      <td>0.00</td>\n      <td>0.00</td>\n      <td>0.00</td>\n      <td>0.00</td>\n      <td>...</td>\n      <td>4.327399e+08</td>\n      <td>10.89</td>\n      <td>1.35</td>\n      <td>NaN</td>\n      <td>NaN</td>\n      <td>NaN</td>\n      <td>NaN</td>\n      <td>NaN</td>\n      <td>NaN</td>\n      <td>0</td>\n    </tr>\n    <tr>\n      <th>3</th>\n      <td>XTED11</td>\n      <td>Lajes Corporativas</td>\n      <td>6.27</td>\n      <td>1640.0</td>\n      <td>0.00</td>\n      <td>0.00</td>\n      <td>0.00</td>\n      <td>0.00</td>\n      <td>0.00</td>\n      <td>0.00</td>\n      <td>...</td>\n      <td>2.734137e+07</td>\n      <td>14.12</td>\n      <td>0.44</td>\n      <td>NaN</td>\n      <td>NaN</td>\n      <td>NaN</td>\n      <td>NaN</td>\n      <td>0.00</td>\n      <td>100.0</td>\n      <td>1</td>\n    </tr>\n    <tr>\n      <th>4</th>\n      <td>ALMI11</td>\n      <td>Lajes Corporativas</td>\n      <td>1002.48</td>\n      <td>1820.0</td>\n      <td>0.00</td>\n      <td>0.00</td>\n      <td>0.00</td>\n      <td>0.00</td>\n      <td>0.00</td>\n      <td>0.00</td>\n      <td>...</td>\n      <td>2.502640e+08</td>\n      <td>2251.04</td>\n      <td>0.45</td>\n      <td>NaN</td>\n      <td>NaN</td>\n      <td>NaN</td>\n      <td>NaN</td>\n      <td>68.15</td>\n      <td>NaN</td>\n      <td>1</td>\n    </tr>\n    <tr>\n      <th>...</th>\n      <td>...</td>\n      <td>...</td>\n      <td>...</td>\n      <td>...</td>\n      <td>...</td>\n      <td>...</td>\n      <td>...</td>\n      <td>...</td>\n      <td>...</td>\n      <td>...</td>\n      <td>...</td>\n      <td>...</td>\n      <td>...</td>\n      <td>...</td>\n      <td>...</td>\n      <td>...</td>\n      <td>...</td>\n      <td>...</td>\n      <td>...</td>\n      <td>...</td>\n      <td>...</td>\n    </tr>\n    <tr>\n      <th>265</th>\n      <td>CXCE11B</td>\n      <td>Outros</td>\n      <td>45.43</td>\n      <td>2690.0</td>\n      <td>0.37</td>\n      <td>0.82</td>\n      <td>2.31</td>\n      <td>6.60</td>\n      <td>12.74</td>\n      <td>0.77</td>\n      <td>...</td>\n      <td>1.109777e+08</td>\n      <td>64.79</td>\n      <td>0.70</td>\n      <td>NaN</td>\n      <td>NaN</td>\n      <td>NaN</td>\n      <td>NaN</td>\n      <td>0.00</td>\n      <td>NaN</td>\n      <td>1</td>\n    </tr>\n    <tr>\n      <th>266</th>\n      <td>MFAI11</td>\n      <td>Híbrido</td>\n      <td>74.98</td>\n      <td>9990.0</td>\n      <td>1.06</td>\n      <td>1.44</td>\n      <td>3.14</td>\n      <td>5.41</td>\n      <td>10.04</td>\n      <td>1.05</td>\n      <td>...</td>\n      <td>2.486491e+07</td>\n      <td>82.02</td>\n      <td>0.91</td>\n      <td>NaN</td>\n      <td>NaN</td>\n      <td>NaN</td>\n      <td>NaN</td>\n      <td>NaN</td>\n      <td>NaN</td>\n      <td>0</td>\n    </tr>\n    <tr>\n      <th>267</th>\n      <td>RBVO11</td>\n      <td>Outros</td>\n      <td>12.30</td>\n      <td>650.0</td>\n      <td>0.05</td>\n      <td>0.42</td>\n      <td>0.91</td>\n      <td>2.03</td>\n      <td>3.46</td>\n      <td>0.30</td>\n      <td>...</td>\n      <td>1.198147e+07</td>\n      <td>23.23</td>\n      <td>0.53</td>\n      <td>NaN</td>\n      <td>NaN</td>\n      <td>NaN</td>\n      <td>NaN</td>\n      <td>NaN</td>\n      <td>NaN</td>\n      <td>0</td>\n    </tr>\n    <tr>\n      <th>268</th>\n      <td>CXTL11</td>\n      <td>Logística</td>\n      <td>309.97</td>\n      <td>30.0</td>\n      <td>0.75</td>\n      <td>0.25</td>\n      <td>0.66</td>\n      <td>1.28</td>\n      <td>0.00</td>\n      <td>0.22</td>\n      <td>...</td>\n      <td>3.704425e+07</td>\n      <td>691.16</td>\n      <td>0.45</td>\n      <td>NaN</td>\n      <td>NaN</td>\n      <td>NaN</td>\n      <td>NaN</td>\n      <td>61.00</td>\n      <td>NaN</td>\n      <td>3</td>\n    </tr>\n    <tr>\n      <th>269</th>\n      <td>BBRC11</td>\n      <td>Outros</td>\n      <td>100.30</td>\n      <td>11240.0</td>\n      <td>0.92</td>\n      <td>0.84</td>\n      <td>2.76</td>\n      <td>5.08</td>\n      <td>9.69</td>\n      <td>0.92</td>\n      <td>...</td>\n      <td>1.708410e+08</td>\n      <td>107.45</td>\n      <td>0.93</td>\n      <td>NaN</td>\n      <td>NaN</td>\n      <td>NaN</td>\n      <td>NaN</td>\n      <td>5.40</td>\n      <td>2.1</td>\n      <td>20</td>\n    </tr>\n  </tbody>\n</table>\n<p>270 rows × 26 columns</p>\n</div>"
     },
     "execution_count": 23,
     "metadata": {},
     "output_type": "execute_result"
    }
   ],
   "source": [
    "df['ticker'] = df['ticker'].str.replace('.SA','')\n",
    "df\n"
   ],
   "metadata": {
    "collapsed": false,
    "pycharm": {
     "name": "#%%\n"
    }
   }
  },
  {
   "cell_type": "code",
   "execution_count": 24,
   "outputs": [
    {
     "data": {
      "text/plain": "      ticker                Setor  Preço Atual  Liquidez Diária  Dividendo  \\\n0     APTO11              Híbrido        10.10            280.0       0.03   \n1     FIVN11            Shoppings         2.40          73070.0       0.00   \n2     BZLI11  Títulos e Val. Mob.        14.70         440410.0       0.00   \n3     XTED11   Lajes Corporativas         6.27           1640.0       0.00   \n4     ALMI11   Lajes Corporativas      1002.48           1820.0       0.00   \n..       ...                  ...          ...              ...        ...   \n265  CXCE11B               Outros        45.43           2690.0       0.37   \n266   MFAI11              Híbrido        74.98           9990.0       1.06   \n267   RBVO11               Outros        12.30            650.0       0.05   \n268   CXTL11            Logística       309.97             30.0       0.75   \n269   BBRC11               Outros       100.30          11240.0       0.92   \n\n     DividendYield  DY (3M)Acumulado  DY (6M)Acumulado  DY (12M)Acumulado  \\\n0             0.30               NaN               NaN                NaN   \n1             0.00              0.00              0.00               0.00   \n2             0.00              0.00              0.00               0.00   \n3             0.00              0.00              0.00               0.00   \n4             0.00              0.00              0.00               0.00   \n..             ...               ...               ...                ...   \n265           0.82              2.31              6.60              12.74   \n266           1.44              3.14              5.41              10.04   \n267           0.42              0.91              2.03               3.46   \n268           0.25              0.66              1.28               0.00   \n269           0.84              2.76              5.08               9.69   \n\n     DY (3M)Média  ...  PatrimônioLíq.      VPA  P/VPA  DYPatrimonial  \\\n0             NaN  ...    3.947629e+07     9.84   1.03            NaN   \n1            0.00  ...    6.580577e+07     6.99   0.34            NaN   \n2            0.00  ...    4.327399e+08    10.89   1.35            NaN   \n3            0.00  ...    2.734137e+07    14.12   0.44            NaN   \n4            0.00  ...    2.502640e+08  2251.04   0.45            NaN   \n..            ...  ...             ...      ...    ...            ...   \n265          0.77  ...    1.109777e+08    64.79   0.70            NaN   \n266          1.05  ...    2.486491e+07    82.02   0.91            NaN   \n267          0.30  ...    1.198147e+07    23.23   0.53            NaN   \n268          0.22  ...    3.704425e+07   691.16   0.45            NaN   \n269          0.92  ...    1.708410e+08   107.45   0.93            NaN   \n\n     VariaçãoPatrimonial  Rentab. Patr.no Período  Rentab. Patr.Acumulada  \\\n0                    NaN                      NaN                     NaN   \n1                    NaN                      NaN                     NaN   \n2                    NaN                      NaN                     NaN   \n3                    NaN                      NaN                     NaN   \n4                    NaN                      NaN                     NaN   \n..                   ...                      ...                     ...   \n265                  NaN                      NaN                     NaN   \n266                  NaN                      NaN                     NaN   \n267                  NaN                      NaN                     NaN   \n268                  NaN                      NaN                     NaN   \n269                  NaN                      NaN                     NaN   \n\n     VacânciaFísica  VacânciaFinanceira  QuantidadeAtivos  \n0               NaN                 NaN                 0  \n1             56.00                 NaN                 1  \n2               NaN                 NaN                 0  \n3              0.00               100.0                 1  \n4             68.15                 NaN                 1  \n..              ...                 ...               ...  \n265            0.00                 NaN                 1  \n266             NaN                 NaN                 0  \n267             NaN                 NaN                 0  \n268           61.00                 NaN                 3  \n269            5.40                 2.1                20  \n\n[270 rows x 26 columns]",
      "text/html": "<div>\n<style scoped>\n    .dataframe tbody tr th:only-of-type {\n        vertical-align: middle;\n    }\n\n    .dataframe tbody tr th {\n        vertical-align: top;\n    }\n\n    .dataframe thead th {\n        text-align: right;\n    }\n</style>\n<table border=\"1\" class=\"dataframe\">\n  <thead>\n    <tr style=\"text-align: right;\">\n      <th></th>\n      <th>ticker</th>\n      <th>Setor</th>\n      <th>Preço Atual</th>\n      <th>Liquidez Diária</th>\n      <th>Dividendo</th>\n      <th>DividendYield</th>\n      <th>DY (3M)Acumulado</th>\n      <th>DY (6M)Acumulado</th>\n      <th>DY (12M)Acumulado</th>\n      <th>DY (3M)Média</th>\n      <th>...</th>\n      <th>PatrimônioLíq.</th>\n      <th>VPA</th>\n      <th>P/VPA</th>\n      <th>DYPatrimonial</th>\n      <th>VariaçãoPatrimonial</th>\n      <th>Rentab. Patr.no Período</th>\n      <th>Rentab. Patr.Acumulada</th>\n      <th>VacânciaFísica</th>\n      <th>VacânciaFinanceira</th>\n      <th>QuantidadeAtivos</th>\n    </tr>\n  </thead>\n  <tbody>\n    <tr>\n      <th>0</th>\n      <td>APTO11</td>\n      <td>Híbrido</td>\n      <td>10.10</td>\n      <td>280.0</td>\n      <td>0.03</td>\n      <td>0.30</td>\n      <td>NaN</td>\n      <td>NaN</td>\n      <td>NaN</td>\n      <td>NaN</td>\n      <td>...</td>\n      <td>3.947629e+07</td>\n      <td>9.84</td>\n      <td>1.03</td>\n      <td>NaN</td>\n      <td>NaN</td>\n      <td>NaN</td>\n      <td>NaN</td>\n      <td>NaN</td>\n      <td>NaN</td>\n      <td>0</td>\n    </tr>\n    <tr>\n      <th>1</th>\n      <td>FIVN11</td>\n      <td>Shoppings</td>\n      <td>2.40</td>\n      <td>73070.0</td>\n      <td>0.00</td>\n      <td>0.00</td>\n      <td>0.00</td>\n      <td>0.00</td>\n      <td>0.00</td>\n      <td>0.00</td>\n      <td>...</td>\n      <td>6.580577e+07</td>\n      <td>6.99</td>\n      <td>0.34</td>\n      <td>NaN</td>\n      <td>NaN</td>\n      <td>NaN</td>\n      <td>NaN</td>\n      <td>56.00</td>\n      <td>NaN</td>\n      <td>1</td>\n    </tr>\n    <tr>\n      <th>2</th>\n      <td>BZLI11</td>\n      <td>Títulos e Val. Mob.</td>\n      <td>14.70</td>\n      <td>440410.0</td>\n      <td>0.00</td>\n      <td>0.00</td>\n      <td>0.00</td>\n      <td>0.00</td>\n      <td>0.00</td>\n      <td>0.00</td>\n      <td>...</td>\n      <td>4.327399e+08</td>\n      <td>10.89</td>\n      <td>1.35</td>\n      <td>NaN</td>\n      <td>NaN</td>\n      <td>NaN</td>\n      <td>NaN</td>\n      <td>NaN</td>\n      <td>NaN</td>\n      <td>0</td>\n    </tr>\n    <tr>\n      <th>3</th>\n      <td>XTED11</td>\n      <td>Lajes Corporativas</td>\n      <td>6.27</td>\n      <td>1640.0</td>\n      <td>0.00</td>\n      <td>0.00</td>\n      <td>0.00</td>\n      <td>0.00</td>\n      <td>0.00</td>\n      <td>0.00</td>\n      <td>...</td>\n      <td>2.734137e+07</td>\n      <td>14.12</td>\n      <td>0.44</td>\n      <td>NaN</td>\n      <td>NaN</td>\n      <td>NaN</td>\n      <td>NaN</td>\n      <td>0.00</td>\n      <td>100.0</td>\n      <td>1</td>\n    </tr>\n    <tr>\n      <th>4</th>\n      <td>ALMI11</td>\n      <td>Lajes Corporativas</td>\n      <td>1002.48</td>\n      <td>1820.0</td>\n      <td>0.00</td>\n      <td>0.00</td>\n      <td>0.00</td>\n      <td>0.00</td>\n      <td>0.00</td>\n      <td>0.00</td>\n      <td>...</td>\n      <td>2.502640e+08</td>\n      <td>2251.04</td>\n      <td>0.45</td>\n      <td>NaN</td>\n      <td>NaN</td>\n      <td>NaN</td>\n      <td>NaN</td>\n      <td>68.15</td>\n      <td>NaN</td>\n      <td>1</td>\n    </tr>\n    <tr>\n      <th>...</th>\n      <td>...</td>\n      <td>...</td>\n      <td>...</td>\n      <td>...</td>\n      <td>...</td>\n      <td>...</td>\n      <td>...</td>\n      <td>...</td>\n      <td>...</td>\n      <td>...</td>\n      <td>...</td>\n      <td>...</td>\n      <td>...</td>\n      <td>...</td>\n      <td>...</td>\n      <td>...</td>\n      <td>...</td>\n      <td>...</td>\n      <td>...</td>\n      <td>...</td>\n      <td>...</td>\n    </tr>\n    <tr>\n      <th>265</th>\n      <td>CXCE11B</td>\n      <td>Outros</td>\n      <td>45.43</td>\n      <td>2690.0</td>\n      <td>0.37</td>\n      <td>0.82</td>\n      <td>2.31</td>\n      <td>6.60</td>\n      <td>12.74</td>\n      <td>0.77</td>\n      <td>...</td>\n      <td>1.109777e+08</td>\n      <td>64.79</td>\n      <td>0.70</td>\n      <td>NaN</td>\n      <td>NaN</td>\n      <td>NaN</td>\n      <td>NaN</td>\n      <td>0.00</td>\n      <td>NaN</td>\n      <td>1</td>\n    </tr>\n    <tr>\n      <th>266</th>\n      <td>MFAI11</td>\n      <td>Híbrido</td>\n      <td>74.98</td>\n      <td>9990.0</td>\n      <td>1.06</td>\n      <td>1.44</td>\n      <td>3.14</td>\n      <td>5.41</td>\n      <td>10.04</td>\n      <td>1.05</td>\n      <td>...</td>\n      <td>2.486491e+07</td>\n      <td>82.02</td>\n      <td>0.91</td>\n      <td>NaN</td>\n      <td>NaN</td>\n      <td>NaN</td>\n      <td>NaN</td>\n      <td>NaN</td>\n      <td>NaN</td>\n      <td>0</td>\n    </tr>\n    <tr>\n      <th>267</th>\n      <td>RBVO11</td>\n      <td>Outros</td>\n      <td>12.30</td>\n      <td>650.0</td>\n      <td>0.05</td>\n      <td>0.42</td>\n      <td>0.91</td>\n      <td>2.03</td>\n      <td>3.46</td>\n      <td>0.30</td>\n      <td>...</td>\n      <td>1.198147e+07</td>\n      <td>23.23</td>\n      <td>0.53</td>\n      <td>NaN</td>\n      <td>NaN</td>\n      <td>NaN</td>\n      <td>NaN</td>\n      <td>NaN</td>\n      <td>NaN</td>\n      <td>0</td>\n    </tr>\n    <tr>\n      <th>268</th>\n      <td>CXTL11</td>\n      <td>Logística</td>\n      <td>309.97</td>\n      <td>30.0</td>\n      <td>0.75</td>\n      <td>0.25</td>\n      <td>0.66</td>\n      <td>1.28</td>\n      <td>0.00</td>\n      <td>0.22</td>\n      <td>...</td>\n      <td>3.704425e+07</td>\n      <td>691.16</td>\n      <td>0.45</td>\n      <td>NaN</td>\n      <td>NaN</td>\n      <td>NaN</td>\n      <td>NaN</td>\n      <td>61.00</td>\n      <td>NaN</td>\n      <td>3</td>\n    </tr>\n    <tr>\n      <th>269</th>\n      <td>BBRC11</td>\n      <td>Outros</td>\n      <td>100.30</td>\n      <td>11240.0</td>\n      <td>0.92</td>\n      <td>0.84</td>\n      <td>2.76</td>\n      <td>5.08</td>\n      <td>9.69</td>\n      <td>0.92</td>\n      <td>...</td>\n      <td>1.708410e+08</td>\n      <td>107.45</td>\n      <td>0.93</td>\n      <td>NaN</td>\n      <td>NaN</td>\n      <td>NaN</td>\n      <td>NaN</td>\n      <td>5.40</td>\n      <td>2.1</td>\n      <td>20</td>\n    </tr>\n  </tbody>\n</table>\n<p>270 rows × 26 columns</p>\n</div>"
     },
     "execution_count": 24,
     "metadata": {},
     "output_type": "execute_result"
    }
   ],
   "source": [
    "df"
   ],
   "metadata": {
    "collapsed": false,
    "pycharm": {
     "name": "#%%\n"
    }
   }
  },
  {
   "cell_type": "code",
   "execution_count": 25,
   "outputs": [],
   "source": [
    "newDF['ticker'] = newDF['ticker'].str.replace('.SA','')"
   ],
   "metadata": {
    "collapsed": false,
    "pycharm": {
     "name": "#%%\n"
    }
   }
  },
  {
   "cell_type": "code",
   "execution_count": 26,
   "outputs": [
    {
     "data": {
      "text/plain": "     ticker  desconto     risco   retorno  precoAtual    previsao   stop_loss  \\\n156  HUSC11 -0.266405  0.040225  0.000660  112.239998  121.031417   64.083404   \n163  FIVN11 -0.463468  0.119874  0.003245    2.460000    1.878437    0.332028   \n132  FMOF11 -0.267978  0.032375  0.000180   65.150002   61.162386   41.824967   \n18   NVHO11 -0.545697  0.033808 -0.000717   11.930000   12.938972    7.458345   \n152  NAVT11  0.018074  0.023111  0.000483   75.199997   86.415858   55.223631   \n..      ...       ...       ...       ...         ...         ...         ...   \n101  CNES11  0.000000  0.000000  0.000000   94.779999   94.779999   94.779999   \n53   BBPO11 -0.366250  0.010133 -0.000305   93.699997   68.511754   82.094812   \n99   FEXC11  0.000000  0.000000  0.000000  106.199997  106.199997  106.199997   \n100  JRDM11  0.000000  0.000000  0.000000   85.199997   85.199997   85.199997   \n35   RBED11 -0.287579  0.012273 -0.000449  120.050003   85.788161  102.112432   \n\n      stop_gain  expected_value  retornoPrevisto  ...  retornoStopGain  \\\n156  178.704084          112.36         0.078327  ...         0.592160   \n163    7.508019            2.48        -0.236408  ...         2.052040   \n132   95.345799           65.39        -0.061207  ...         0.463481   \n18    17.837738           11.98         0.084574  ...         0.495200   \n152   99.116718           75.43         0.149147  ...         0.318042   \n..          ...             ...              ...  ...              ...   \n101   94.779999           94.78         0.000000  ...         0.000000   \n53   106.326341           93.74        -0.268818  ...         0.134753   \n99   106.199997          106.20         0.000000  ...         0.000000   \n100   85.199997           85.20         0.000000  ...         0.000000   \n35   140.099476          120.09        -0.285396  ...         0.167009   \n\n     retornoEsperado  scoreRetPrevisto  scoreStopLoss  scoreStopGain  \\\n156     1.069157e-03               161            157            157   \n163     8.130066e-03                43            162            162   \n132     3.683783e-03               112            147            147   \n18      4.191089e-03               162            150            150   \n152     3.058551e-03               163            132            131   \n..               ...               ...            ...            ...   \n101     1.287933e-08               145              4              4   \n53      4.269269e-04                33             19             19   \n99      2.873595e-08               142              7              7   \n100     3.581876e-08               144              1              1   \n35      3.331691e-04                27             35             39   \n\n     scoreExpected  scoreRisco  scoreDesconto  scoreRetorno  scoreTotal  \n156            126           6            109           156         872  \n163            162           1            147           163         840  \n132            159          16            110           132         823  \n18             161          14            151            18         806  \n152            154          30              6           152         768  \n..             ...         ...            ...           ...         ...  \n101             84         155             19           101         512  \n53             107         144            136            53         511  \n99              87         157             10            99         509  \n100             88         156             11           100         501  \n35             106         128            116            35         486  \n\n[76 rows x 21 columns]",
      "text/html": "<div>\n<style scoped>\n    .dataframe tbody tr th:only-of-type {\n        vertical-align: middle;\n    }\n\n    .dataframe tbody tr th {\n        vertical-align: top;\n    }\n\n    .dataframe thead th {\n        text-align: right;\n    }\n</style>\n<table border=\"1\" class=\"dataframe\">\n  <thead>\n    <tr style=\"text-align: right;\">\n      <th></th>\n      <th>ticker</th>\n      <th>desconto</th>\n      <th>risco</th>\n      <th>retorno</th>\n      <th>precoAtual</th>\n      <th>previsao</th>\n      <th>stop_loss</th>\n      <th>stop_gain</th>\n      <th>expected_value</th>\n      <th>retornoPrevisto</th>\n      <th>...</th>\n      <th>retornoStopGain</th>\n      <th>retornoEsperado</th>\n      <th>scoreRetPrevisto</th>\n      <th>scoreStopLoss</th>\n      <th>scoreStopGain</th>\n      <th>scoreExpected</th>\n      <th>scoreRisco</th>\n      <th>scoreDesconto</th>\n      <th>scoreRetorno</th>\n      <th>scoreTotal</th>\n    </tr>\n  </thead>\n  <tbody>\n    <tr>\n      <th>156</th>\n      <td>HUSC11</td>\n      <td>-0.266405</td>\n      <td>0.040225</td>\n      <td>0.000660</td>\n      <td>112.239998</td>\n      <td>121.031417</td>\n      <td>64.083404</td>\n      <td>178.704084</td>\n      <td>112.36</td>\n      <td>0.078327</td>\n      <td>...</td>\n      <td>0.592160</td>\n      <td>1.069157e-03</td>\n      <td>161</td>\n      <td>157</td>\n      <td>157</td>\n      <td>126</td>\n      <td>6</td>\n      <td>109</td>\n      <td>156</td>\n      <td>872</td>\n    </tr>\n    <tr>\n      <th>163</th>\n      <td>FIVN11</td>\n      <td>-0.463468</td>\n      <td>0.119874</td>\n      <td>0.003245</td>\n      <td>2.460000</td>\n      <td>1.878437</td>\n      <td>0.332028</td>\n      <td>7.508019</td>\n      <td>2.48</td>\n      <td>-0.236408</td>\n      <td>...</td>\n      <td>2.052040</td>\n      <td>8.130066e-03</td>\n      <td>43</td>\n      <td>162</td>\n      <td>162</td>\n      <td>162</td>\n      <td>1</td>\n      <td>147</td>\n      <td>163</td>\n      <td>840</td>\n    </tr>\n    <tr>\n      <th>132</th>\n      <td>FMOF11</td>\n      <td>-0.267978</td>\n      <td>0.032375</td>\n      <td>0.000180</td>\n      <td>65.150002</td>\n      <td>61.162386</td>\n      <td>41.824967</td>\n      <td>95.345799</td>\n      <td>65.39</td>\n      <td>-0.061207</td>\n      <td>...</td>\n      <td>0.463481</td>\n      <td>3.683783e-03</td>\n      <td>112</td>\n      <td>147</td>\n      <td>147</td>\n      <td>159</td>\n      <td>16</td>\n      <td>110</td>\n      <td>132</td>\n      <td>823</td>\n    </tr>\n    <tr>\n      <th>18</th>\n      <td>NVHO11</td>\n      <td>-0.545697</td>\n      <td>0.033808</td>\n      <td>-0.000717</td>\n      <td>11.930000</td>\n      <td>12.938972</td>\n      <td>7.458345</td>\n      <td>17.837738</td>\n      <td>11.98</td>\n      <td>0.084574</td>\n      <td>...</td>\n      <td>0.495200</td>\n      <td>4.191089e-03</td>\n      <td>162</td>\n      <td>150</td>\n      <td>150</td>\n      <td>161</td>\n      <td>14</td>\n      <td>151</td>\n      <td>18</td>\n      <td>806</td>\n    </tr>\n    <tr>\n      <th>152</th>\n      <td>NAVT11</td>\n      <td>0.018074</td>\n      <td>0.023111</td>\n      <td>0.000483</td>\n      <td>75.199997</td>\n      <td>86.415858</td>\n      <td>55.223631</td>\n      <td>99.116718</td>\n      <td>75.43</td>\n      <td>0.149147</td>\n      <td>...</td>\n      <td>0.318042</td>\n      <td>3.058551e-03</td>\n      <td>163</td>\n      <td>132</td>\n      <td>131</td>\n      <td>154</td>\n      <td>30</td>\n      <td>6</td>\n      <td>152</td>\n      <td>768</td>\n    </tr>\n    <tr>\n      <th>...</th>\n      <td>...</td>\n      <td>...</td>\n      <td>...</td>\n      <td>...</td>\n      <td>...</td>\n      <td>...</td>\n      <td>...</td>\n      <td>...</td>\n      <td>...</td>\n      <td>...</td>\n      <td>...</td>\n      <td>...</td>\n      <td>...</td>\n      <td>...</td>\n      <td>...</td>\n      <td>...</td>\n      <td>...</td>\n      <td>...</td>\n      <td>...</td>\n      <td>...</td>\n      <td>...</td>\n    </tr>\n    <tr>\n      <th>101</th>\n      <td>CNES11</td>\n      <td>0.000000</td>\n      <td>0.000000</td>\n      <td>0.000000</td>\n      <td>94.779999</td>\n      <td>94.779999</td>\n      <td>94.779999</td>\n      <td>94.779999</td>\n      <td>94.78</td>\n      <td>0.000000</td>\n      <td>...</td>\n      <td>0.000000</td>\n      <td>1.287933e-08</td>\n      <td>145</td>\n      <td>4</td>\n      <td>4</td>\n      <td>84</td>\n      <td>155</td>\n      <td>19</td>\n      <td>101</td>\n      <td>512</td>\n    </tr>\n    <tr>\n      <th>53</th>\n      <td>BBPO11</td>\n      <td>-0.366250</td>\n      <td>0.010133</td>\n      <td>-0.000305</td>\n      <td>93.699997</td>\n      <td>68.511754</td>\n      <td>82.094812</td>\n      <td>106.326341</td>\n      <td>93.74</td>\n      <td>-0.268818</td>\n      <td>...</td>\n      <td>0.134753</td>\n      <td>4.269269e-04</td>\n      <td>33</td>\n      <td>19</td>\n      <td>19</td>\n      <td>107</td>\n      <td>144</td>\n      <td>136</td>\n      <td>53</td>\n      <td>511</td>\n    </tr>\n    <tr>\n      <th>99</th>\n      <td>FEXC11</td>\n      <td>0.000000</td>\n      <td>0.000000</td>\n      <td>0.000000</td>\n      <td>106.199997</td>\n      <td>106.199997</td>\n      <td>106.199997</td>\n      <td>106.199997</td>\n      <td>106.20</td>\n      <td>0.000000</td>\n      <td>...</td>\n      <td>0.000000</td>\n      <td>2.873595e-08</td>\n      <td>142</td>\n      <td>7</td>\n      <td>7</td>\n      <td>87</td>\n      <td>157</td>\n      <td>10</td>\n      <td>99</td>\n      <td>509</td>\n    </tr>\n    <tr>\n      <th>100</th>\n      <td>JRDM11</td>\n      <td>0.000000</td>\n      <td>0.000000</td>\n      <td>0.000000</td>\n      <td>85.199997</td>\n      <td>85.199997</td>\n      <td>85.199997</td>\n      <td>85.199997</td>\n      <td>85.20</td>\n      <td>0.000000</td>\n      <td>...</td>\n      <td>0.000000</td>\n      <td>3.581876e-08</td>\n      <td>144</td>\n      <td>1</td>\n      <td>1</td>\n      <td>88</td>\n      <td>156</td>\n      <td>11</td>\n      <td>100</td>\n      <td>501</td>\n    </tr>\n    <tr>\n      <th>35</th>\n      <td>RBED11</td>\n      <td>-0.287579</td>\n      <td>0.012273</td>\n      <td>-0.000449</td>\n      <td>120.050003</td>\n      <td>85.788161</td>\n      <td>102.112432</td>\n      <td>140.099476</td>\n      <td>120.09</td>\n      <td>-0.285396</td>\n      <td>...</td>\n      <td>0.167009</td>\n      <td>3.331691e-04</td>\n      <td>27</td>\n      <td>35</td>\n      <td>39</td>\n      <td>106</td>\n      <td>128</td>\n      <td>116</td>\n      <td>35</td>\n      <td>486</td>\n    </tr>\n  </tbody>\n</table>\n<p>76 rows × 21 columns</p>\n</div>"
     },
     "execution_count": 26,
     "metadata": {},
     "output_type": "execute_result"
    }
   ],
   "source": [
    "newDF"
   ],
   "metadata": {
    "collapsed": false,
    "pycharm": {
     "name": "#%%\n"
    }
   }
  },
  {
   "cell_type": "code",
   "execution_count": 27,
   "outputs": [
    {
     "data": {
      "text/plain": "    ticker   stop_loss  retornoStopLoss   stop_gain  retornoStopGain  \\\n0   HUSC11   64.083404        -0.429050  178.704084         0.592160   \n1   FIVN11    0.332028        -0.865029    7.508019         2.052040   \n2   FMOF11   41.824967        -0.358020   95.345799         0.463481   \n3   NVHO11    7.458345        -0.374824   17.837738         0.495200   \n4   NAVT11   55.223631        -0.265643   99.116718         0.318042   \n..     ...         ...              ...         ...              ...   \n71  CNES11   94.779999         0.000000   94.779999         0.000000   \n72  BBPO11   82.094812        -0.123855  106.326341         0.134753   \n73  FEXC11  106.199997         0.000000  106.199997         0.000000   \n74  JRDM11   85.199997         0.000000   85.199997         0.000000   \n75  RBED11  102.112432        -0.149418  140.099476         0.167009   \n\n    retornoPrevisto  retornoEsperado  scoreTotal                Setor  \\\n0          0.078327     1.069157e-03         872               Outros   \n1         -0.236408     8.130066e-03         840            Shoppings   \n2         -0.061207     3.683783e-03         823   Lajes Corporativas   \n3          0.084574     4.191089e-03         806             Hospital   \n4          0.149147     3.058551e-03         768  Títulos e Val. Mob.   \n..              ...              ...         ...                  ...   \n71         0.000000     1.287933e-08         512   Lajes Corporativas   \n72        -0.268818     4.269269e-04         511   Lajes Corporativas   \n73         0.000000     2.873595e-08         509  Títulos e Val. Mob.   \n74         0.000000     3.581876e-08         501            Shoppings   \n75        -0.285396     3.331691e-04         486               Outros   \n\n    Preço Atual  ...  PatrimônioLíq.     VPA  P/VPA  DYPatrimonial  \\\n0        112.24  ...    1.131667e+08  142.42   0.79            NaN   \n1          2.40  ...    6.580577e+07    6.99   0.34            NaN   \n2         65.15  ...    6.234438e+07  122.72   0.53            NaN   \n3         11.93  ...    5.277581e+08   12.72   0.94            NaN   \n4         74.50  ...    9.743537e+07   92.40   0.81            NaN   \n..          ...  ...             ...     ...    ...            ...   \n71        33.15  ...    2.554356e+08   86.61   0.38            NaN   \n72        93.84  ...    1.525489e+09   95.82   0.98            NaN   \n73        86.86  ...    5.713939e+08   93.62   0.93            NaN   \n74        67.03  ...    2.204260e+08   87.37   0.77            NaN   \n75       120.00  ...    2.858971e+08  141.42   0.85            NaN   \n\n    VariaçãoPatrimonial  Rentab. Patr.no Período  Rentab. Patr.Acumulada  \\\n0                   NaN                      NaN                     NaN   \n1                   NaN                      NaN                     NaN   \n2                   NaN                      NaN                     NaN   \n3                   NaN                      NaN                     NaN   \n4                   NaN                      NaN                     NaN   \n..                  ...                      ...                     ...   \n71                  NaN                      NaN                     NaN   \n72                  NaN                      NaN                     NaN   \n73                  NaN                      NaN                     NaN   \n74                  NaN                      NaN                     NaN   \n75                  NaN                      NaN                     NaN   \n\n    VacânciaFísica  VacânciaFinanceira  QuantidadeAtivos  \n0              NaN                 NaN                 0  \n1            56.00                 NaN                 1  \n2            50.00                 NaN                 1  \n3              NaN                 NaN                 1  \n4              NaN                 NaN                 0  \n..             ...                 ...               ...  \n71           56.70                 NaN                 1  \n72            0.00                 0.0                64  \n73             NaN                 NaN                 0  \n74            2.95                 NaN                 1  \n75            0.00                 NaN                 5  \n\n[76 rows x 33 columns]",
      "text/html": "<div>\n<style scoped>\n    .dataframe tbody tr th:only-of-type {\n        vertical-align: middle;\n    }\n\n    .dataframe tbody tr th {\n        vertical-align: top;\n    }\n\n    .dataframe thead th {\n        text-align: right;\n    }\n</style>\n<table border=\"1\" class=\"dataframe\">\n  <thead>\n    <tr style=\"text-align: right;\">\n      <th></th>\n      <th>ticker</th>\n      <th>stop_loss</th>\n      <th>retornoStopLoss</th>\n      <th>stop_gain</th>\n      <th>retornoStopGain</th>\n      <th>retornoPrevisto</th>\n      <th>retornoEsperado</th>\n      <th>scoreTotal</th>\n      <th>Setor</th>\n      <th>Preço Atual</th>\n      <th>...</th>\n      <th>PatrimônioLíq.</th>\n      <th>VPA</th>\n      <th>P/VPA</th>\n      <th>DYPatrimonial</th>\n      <th>VariaçãoPatrimonial</th>\n      <th>Rentab. Patr.no Período</th>\n      <th>Rentab. Patr.Acumulada</th>\n      <th>VacânciaFísica</th>\n      <th>VacânciaFinanceira</th>\n      <th>QuantidadeAtivos</th>\n    </tr>\n  </thead>\n  <tbody>\n    <tr>\n      <th>0</th>\n      <td>HUSC11</td>\n      <td>64.083404</td>\n      <td>-0.429050</td>\n      <td>178.704084</td>\n      <td>0.592160</td>\n      <td>0.078327</td>\n      <td>1.069157e-03</td>\n      <td>872</td>\n      <td>Outros</td>\n      <td>112.24</td>\n      <td>...</td>\n      <td>1.131667e+08</td>\n      <td>142.42</td>\n      <td>0.79</td>\n      <td>NaN</td>\n      <td>NaN</td>\n      <td>NaN</td>\n      <td>NaN</td>\n      <td>NaN</td>\n      <td>NaN</td>\n      <td>0</td>\n    </tr>\n    <tr>\n      <th>1</th>\n      <td>FIVN11</td>\n      <td>0.332028</td>\n      <td>-0.865029</td>\n      <td>7.508019</td>\n      <td>2.052040</td>\n      <td>-0.236408</td>\n      <td>8.130066e-03</td>\n      <td>840</td>\n      <td>Shoppings</td>\n      <td>2.40</td>\n      <td>...</td>\n      <td>6.580577e+07</td>\n      <td>6.99</td>\n      <td>0.34</td>\n      <td>NaN</td>\n      <td>NaN</td>\n      <td>NaN</td>\n      <td>NaN</td>\n      <td>56.00</td>\n      <td>NaN</td>\n      <td>1</td>\n    </tr>\n    <tr>\n      <th>2</th>\n      <td>FMOF11</td>\n      <td>41.824967</td>\n      <td>-0.358020</td>\n      <td>95.345799</td>\n      <td>0.463481</td>\n      <td>-0.061207</td>\n      <td>3.683783e-03</td>\n      <td>823</td>\n      <td>Lajes Corporativas</td>\n      <td>65.15</td>\n      <td>...</td>\n      <td>6.234438e+07</td>\n      <td>122.72</td>\n      <td>0.53</td>\n      <td>NaN</td>\n      <td>NaN</td>\n      <td>NaN</td>\n      <td>NaN</td>\n      <td>50.00</td>\n      <td>NaN</td>\n      <td>1</td>\n    </tr>\n    <tr>\n      <th>3</th>\n      <td>NVHO11</td>\n      <td>7.458345</td>\n      <td>-0.374824</td>\n      <td>17.837738</td>\n      <td>0.495200</td>\n      <td>0.084574</td>\n      <td>4.191089e-03</td>\n      <td>806</td>\n      <td>Hospital</td>\n      <td>11.93</td>\n      <td>...</td>\n      <td>5.277581e+08</td>\n      <td>12.72</td>\n      <td>0.94</td>\n      <td>NaN</td>\n      <td>NaN</td>\n      <td>NaN</td>\n      <td>NaN</td>\n      <td>NaN</td>\n      <td>NaN</td>\n      <td>1</td>\n    </tr>\n    <tr>\n      <th>4</th>\n      <td>NAVT11</td>\n      <td>55.223631</td>\n      <td>-0.265643</td>\n      <td>99.116718</td>\n      <td>0.318042</td>\n      <td>0.149147</td>\n      <td>3.058551e-03</td>\n      <td>768</td>\n      <td>Títulos e Val. Mob.</td>\n      <td>74.50</td>\n      <td>...</td>\n      <td>9.743537e+07</td>\n      <td>92.40</td>\n      <td>0.81</td>\n      <td>NaN</td>\n      <td>NaN</td>\n      <td>NaN</td>\n      <td>NaN</td>\n      <td>NaN</td>\n      <td>NaN</td>\n      <td>0</td>\n    </tr>\n    <tr>\n      <th>...</th>\n      <td>...</td>\n      <td>...</td>\n      <td>...</td>\n      <td>...</td>\n      <td>...</td>\n      <td>...</td>\n      <td>...</td>\n      <td>...</td>\n      <td>...</td>\n      <td>...</td>\n      <td>...</td>\n      <td>...</td>\n      <td>...</td>\n      <td>...</td>\n      <td>...</td>\n      <td>...</td>\n      <td>...</td>\n      <td>...</td>\n      <td>...</td>\n      <td>...</td>\n      <td>...</td>\n    </tr>\n    <tr>\n      <th>71</th>\n      <td>CNES11</td>\n      <td>94.779999</td>\n      <td>0.000000</td>\n      <td>94.779999</td>\n      <td>0.000000</td>\n      <td>0.000000</td>\n      <td>1.287933e-08</td>\n      <td>512</td>\n      <td>Lajes Corporativas</td>\n      <td>33.15</td>\n      <td>...</td>\n      <td>2.554356e+08</td>\n      <td>86.61</td>\n      <td>0.38</td>\n      <td>NaN</td>\n      <td>NaN</td>\n      <td>NaN</td>\n      <td>NaN</td>\n      <td>56.70</td>\n      <td>NaN</td>\n      <td>1</td>\n    </tr>\n    <tr>\n      <th>72</th>\n      <td>BBPO11</td>\n      <td>82.094812</td>\n      <td>-0.123855</td>\n      <td>106.326341</td>\n      <td>0.134753</td>\n      <td>-0.268818</td>\n      <td>4.269269e-04</td>\n      <td>511</td>\n      <td>Lajes Corporativas</td>\n      <td>93.84</td>\n      <td>...</td>\n      <td>1.525489e+09</td>\n      <td>95.82</td>\n      <td>0.98</td>\n      <td>NaN</td>\n      <td>NaN</td>\n      <td>NaN</td>\n      <td>NaN</td>\n      <td>0.00</td>\n      <td>0.0</td>\n      <td>64</td>\n    </tr>\n    <tr>\n      <th>73</th>\n      <td>FEXC11</td>\n      <td>106.199997</td>\n      <td>0.000000</td>\n      <td>106.199997</td>\n      <td>0.000000</td>\n      <td>0.000000</td>\n      <td>2.873595e-08</td>\n      <td>509</td>\n      <td>Títulos e Val. Mob.</td>\n      <td>86.86</td>\n      <td>...</td>\n      <td>5.713939e+08</td>\n      <td>93.62</td>\n      <td>0.93</td>\n      <td>NaN</td>\n      <td>NaN</td>\n      <td>NaN</td>\n      <td>NaN</td>\n      <td>NaN</td>\n      <td>NaN</td>\n      <td>0</td>\n    </tr>\n    <tr>\n      <th>74</th>\n      <td>JRDM11</td>\n      <td>85.199997</td>\n      <td>0.000000</td>\n      <td>85.199997</td>\n      <td>0.000000</td>\n      <td>0.000000</td>\n      <td>3.581876e-08</td>\n      <td>501</td>\n      <td>Shoppings</td>\n      <td>67.03</td>\n      <td>...</td>\n      <td>2.204260e+08</td>\n      <td>87.37</td>\n      <td>0.77</td>\n      <td>NaN</td>\n      <td>NaN</td>\n      <td>NaN</td>\n      <td>NaN</td>\n      <td>2.95</td>\n      <td>NaN</td>\n      <td>1</td>\n    </tr>\n    <tr>\n      <th>75</th>\n      <td>RBED11</td>\n      <td>102.112432</td>\n      <td>-0.149418</td>\n      <td>140.099476</td>\n      <td>0.167009</td>\n      <td>-0.285396</td>\n      <td>3.331691e-04</td>\n      <td>486</td>\n      <td>Outros</td>\n      <td>120.00</td>\n      <td>...</td>\n      <td>2.858971e+08</td>\n      <td>141.42</td>\n      <td>0.85</td>\n      <td>NaN</td>\n      <td>NaN</td>\n      <td>NaN</td>\n      <td>NaN</td>\n      <td>0.00</td>\n      <td>NaN</td>\n      <td>5</td>\n    </tr>\n  </tbody>\n</table>\n<p>76 rows × 33 columns</p>\n</div>"
     },
     "execution_count": 27,
     "metadata": {},
     "output_type": "execute_result"
    }
   ],
   "source": [
    "dfFinal = newDF[['ticker', 'stop_loss', 'retornoStopLoss', 'stop_gain', 'retornoStopGain', 'retornoPrevisto','retornoEsperado', 'scoreTotal']]\n",
    "#dfFinal = newDF[['ticker', 'stop_loss', 'retornoStopLoss', 'stop_gain', 'retornoStopGain', 'retornoPrevisto','retornoEsperado']].dropna()\n",
    "\n",
    "finalData = pd.merge(dfFinal, df)\n",
    "finalData"
   ],
   "metadata": {
    "collapsed": false,
    "pycharm": {
     "name": "#%%\n"
    }
   }
  },
  {
   "cell_type": "code",
   "execution_count": 28,
   "outputs": [
    {
     "data": {
      "text/plain": "Index(['ticker', 'stop_loss', 'retornoStopLoss', 'stop_gain',\n       'retornoStopGain', 'retornoPrevisto', 'retornoEsperado', 'scoreTotal',\n       'Setor', 'Preço Atual', 'Liquidez Diária', 'Dividendo', 'DividendYield',\n       'DY (3M)Acumulado', 'DY (6M)Acumulado', 'DY (12M)Acumulado',\n       'DY (3M)Média', 'DY (6M)Média', 'DY (12M)Média', 'DY Ano',\n       'Variação Preço', 'Rentab.Período', 'Rentab.Acumulada',\n       'PatrimônioLíq.', 'VPA', 'P/VPA', 'DYPatrimonial',\n       'VariaçãoPatrimonial', 'Rentab. Patr.no Período',\n       'Rentab. Patr.Acumulada', 'VacânciaFísica', 'VacânciaFinanceira',\n       'QuantidadeAtivos'],\n      dtype='object')"
     },
     "execution_count": 28,
     "metadata": {},
     "output_type": "execute_result"
    }
   ],
   "source": [
    "finalData.columns"
   ],
   "metadata": {
    "collapsed": false,
    "pycharm": {
     "name": "#%%\n"
    }
   }
  },
  {
   "cell_type": "code",
   "execution_count": 29,
   "outputs": [
    {
     "data": {
      "text/plain": "     ticker   stop_loss  retornoStopLoss   stop_gain  retornoStopGain  \\\n41   PLCR11   65.945419        -0.254433  116.547915         0.317670   \n31   FCFL11   67.584777        -0.396241  169.118896         0.510799   \n66   VGIP11   79.034274        -0.212021  125.107059         0.247329   \n5   EDFO11B  151.668354        -0.294566  292.781817         0.361776   \n65   HGLG11  142.318398        -0.166657  203.920858         0.194056   \n21   VVPR11   73.066379        -0.238337  123.519374         0.287599   \n42   BCIA11   64.842765        -0.251325  113.155899         0.306499   \n60   RBRY11   86.411506        -0.171669  124.704534         0.195404   \n14   EURO11  152.496426        -0.237518  257.224381         0.286122   \n63   XPPR11   49.455779        -0.222393   79.901659         0.256315   \n67   MCCI11   85.199657        -0.163479  120.284212         0.180994   \n52   SDIL11   69.503820        -0.193130  105.010303         0.219066   \n55   SARE11   55.603327        -0.222875   90.259088         0.261483   \n56   ARRI11   76.694169        -0.239673  128.735872         0.276255   \n71   RECR11   94.089325        -0.088282  112.796951         0.092994   \n68   XPCI11   80.907648        -0.173653  117.227171         0.197295   \n54   HGCR11   91.756089        -0.130274  120.869541         0.145683   \n35  FIIP11B  135.003928        -0.180702  199.698445         0.211909   \n39   OUJP11   74.633239        -0.181294  110.436014         0.211453   \n70   KNHY11   90.515440        -0.150090  123.926449         0.163629   \n58   MGFF11   53.598657        -0.172733   77.277117         0.192732   \n25   RFOF11   55.666851        -0.247338   96.628316         0.306494   \n18   CXRI11   41.165400        -0.395959  104.087586         0.527331   \n57   BARI11   95.510444        -0.090290  115.071490         0.096023   \n33   RVBI11   62.887454        -0.208764   98.612876         0.240726   \n64   RBRR11   87.449422        -0.127251  114.486607         0.142581   \n74   KNIP11   93.977424        -0.095849  114.695120         0.103474   \n29   VTLT11   77.052959        -0.160643  108.382457         0.180637   \n61   CPFF11   57.744667        -0.191138   87.193444         0.221368   \n44   PORD11   78.314184        -0.162326  109.945651         0.176015   \n37   OUFF11   53.406657        -0.205021   83.188856         0.238298   \n46   GTWR11   72.201103        -0.141791   97.555435         0.159580   \n49   TRXF11   85.243649        -0.160161  119.576722         0.178096   \n20   LGCP11   67.813232        -0.174821   97.914550         0.191464   \n22   JPPA11   81.994688        -0.163149  115.797129         0.181845   \n62   FEXC11  106.199997         0.000000  106.199997         0.000000   \n24   BBRC11   86.134766        -0.142255  116.353714         0.158671   \n53   BBPO11   82.094812        -0.123855  106.326341         0.134753   \n28   RBED11  102.112432        -0.149418  140.099476         0.167009   \n\n    retornoPrevisto  retornoEsperado  scoreTotal                Setor  \\\n41        -0.050768     3.730956e-03         785              Híbrido   \n31         0.073456     8.931176e-05         774               Outros   \n66        -0.008975     5.981749e-04         763               Outros   \n5         -0.071260     1.302326e-03         760   Lajes Corporativas   \n65        -0.073118     2.225092e-03         718            Logística   \n21        -0.025864     3.023034e-03         712              Híbrido   \n42        -0.279118     6.927536e-04         707  Títulos e Val. Mob.   \n60        -0.083329     1.821322e-03         700  Títulos e Val. Mob.   \n14        -0.171575     3.400000e-03         691            Logística   \n63        -0.002284     3.144894e-04         690               Outros   \n67        -0.014678     1.178218e-03         688  Títulos e Val. Mob.   \n52        -0.181049     5.804575e-04         688            Logística   \n55        -0.206092     2.236156e-03         670              Híbrido   \n56        -0.098909     9.911027e-05         659  Títulos e Val. Mob.   \n71         0.064506     1.938280e-04         649  Títulos e Val. Mob.   \n68        -0.066835     1.429847e-03         646               Outros   \n54        -0.052776     6.635071e-04         643  Títulos e Val. Mob.   \n35        -0.209276     1.517182e-03         639            Logística   \n39        -0.141458     3.290515e-04         637  Títulos e Val. Mob.   \n70        -0.089868     4.694836e-04         637  Títulos e Val. Mob.   \n58        -0.194654     6.173651e-04         635  Títulos e Val. Mob.   \n25        -0.095935     9.464699e-04         629  Títulos e Val. Mob.   \n18        -1.899340     1.027124e-03         625              Híbrido   \n57        -0.034163     1.905147e-04         624  Títulos e Val. Mob.   \n33        -0.062636     1.257756e-04         622  Títulos e Val. Mob.   \n64        -0.095083     8.982341e-04         619  Títulos e Val. Mob.   \n74        -0.086037     1.250698e-03         617  Títulos e Val. Mob.   \n29        -0.106630     5.446290e-04         611            Logística   \n61        -0.107416     1.260689e-03         610              Híbrido   \n44        -0.147387     2.139495e-04         598  Títulos e Val. Mob.   \n37        -0.224446     1.488493e-04         591  Títulos e Val. Mob.   \n46        -0.152526     5.943510e-04         590   Lajes Corporativas   \n49        -0.033249     2.955665e-04         589               Outros   \n20        -0.089215     6.084168e-04         576            Logística   \n22        -0.004045     1.020274e-04         572  Títulos e Val. Mob.   \n62         0.000000     2.873595e-08         571  Títulos e Val. Mob.   \n24        -0.236737     1.294581e-03         565               Outros   \n53        -0.268818     4.269269e-04         564   Lajes Corporativas   \n28        -0.285396     3.331691e-04         514               Outros   \n\n    Preço Atual  ...     VPA  P/VPA  DYPatrimonial  VariaçãoPatrimonial  \\\n41        88.50  ...   92.90   0.95            NaN                  NaN   \n31       111.94  ...  104.76   1.07            NaN                  NaN   \n66       100.35  ...   96.10   1.04            NaN                  NaN   \n5        215.00  ...  193.32   1.11            NaN                  NaN   \n65       170.14  ...  148.08   1.15            NaN                  NaN   \n21        95.93  ...  103.42   0.93            NaN                  NaN   \n42        86.62  ...  106.15   0.82            NaN                  NaN   \n60       104.82  ...  104.49   1.00            NaN                  NaN   \n14       201.00  ...  312.12   0.64            NaN                  NaN   \n63        64.10  ...   82.38   0.78            NaN                  NaN   \n67       101.87  ...   97.92   1.04            NaN                  NaN   \n52        86.50  ...   97.41   0.89            NaN                  NaN   \n55        72.23  ...   99.32   0.73            NaN                  NaN   \n56       100.58  ...   93.44   1.08            NaN                  NaN   \n71       103.27  ...   95.30   1.08            NaN                  NaN   \n68        97.75  ...   95.14   1.03            NaN                  NaN   \n54       105.45  ...  102.54   1.03            NaN                  NaN   \n35       164.00  ...  200.35   0.82            NaN                  NaN   \n39        91.44  ...  101.78   0.90            NaN                  NaN   \n70       106.87  ...   99.41   1.07            NaN                  NaN   \n58        64.81  ...   78.81   0.82            NaN                  NaN   \n25        74.72  ...   86.47   0.86            NaN                  NaN   \n18        68.15  ...   88.17   0.77            NaN                  NaN   \n57       104.91  ...  101.74   1.03            NaN                  NaN   \n33        79.48  ...   88.60   0.90            NaN                  NaN   \n64       100.05  ...  100.69   0.99            NaN                  NaN   \n74       104.00  ...   99.27   1.05            NaN                  NaN   \n29        91.80  ...  103.15   0.89            NaN                  NaN   \n61        71.78  ...   79.31   0.91            NaN                  NaN   \n44        93.47  ...   99.37   0.94            NaN                  NaN   \n37        67.52  ...   81.47   0.83            NaN                  NaN   \n46        84.35  ...   98.49   0.86            NaN                  NaN   \n49       101.40  ...  101.93   0.99            NaN                  NaN   \n20        82.20  ...  102.06   0.81            NaN                  NaN   \n22        97.50  ...  104.51   0.93            NaN                  NaN   \n62        86.86  ...   93.62   0.93            NaN                  NaN   \n24       100.30  ...  107.45   0.93            NaN                  NaN   \n53        93.84  ...   95.82   0.98            NaN                  NaN   \n28       120.00  ...  141.42   0.85            NaN                  NaN   \n\n    Rentab. Patr.no Período  Rentab. Patr.Acumulada  VacânciaFísica  \\\n41                      NaN                     NaN             NaN   \n31                      NaN                     NaN             0.0   \n66                      NaN                     NaN             NaN   \n5                       NaN                     NaN             7.1   \n65                      NaN                     NaN             7.2   \n21                      NaN                     NaN             0.0   \n42                      NaN                     NaN             NaN   \n60                      NaN                     NaN             NaN   \n14                      NaN                     NaN             0.0   \n63                      NaN                     NaN            46.0   \n67                      NaN                     NaN             NaN   \n52                      NaN                     NaN             2.6   \n55                      NaN                     NaN             2.1   \n56                      NaN                     NaN             NaN   \n71                      NaN                     NaN             NaN   \n68                      NaN                     NaN             NaN   \n54                      NaN                     NaN             NaN   \n35                      NaN                     NaN             0.0   \n39                      NaN                     NaN             NaN   \n70                      NaN                     NaN             NaN   \n58                      NaN                     NaN             NaN   \n25                      NaN                     NaN             NaN   \n18                      NaN                     NaN             NaN   \n57                      NaN                     NaN             NaN   \n33                      NaN                     NaN             NaN   \n64                      NaN                     NaN             NaN   \n74                      NaN                     NaN             NaN   \n29                      NaN                     NaN             0.0   \n61                      NaN                     NaN             NaN   \n44                      NaN                     NaN             NaN   \n37                      NaN                     NaN             NaN   \n46                      NaN                     NaN             0.0   \n49                      NaN                     NaN             0.0   \n20                      NaN                     NaN             0.5   \n22                      NaN                     NaN             NaN   \n62                      NaN                     NaN             NaN   \n24                      NaN                     NaN             5.4   \n53                      NaN                     NaN             0.0   \n28                      NaN                     NaN             0.0   \n\n    VacânciaFinanceira  QuantidadeAtivos  scoreLiquidez  \n41                 NaN                 0             41  \n31                 NaN                 1             31  \n66                 NaN                 0             66  \n5                  NaN                 1              5  \n65                 6.5                17             65  \n21                 NaN                 6             21  \n42                 NaN                 0             42  \n60                 NaN                 0             60  \n14                 NaN                 6             14  \n63                 NaN                 4             63  \n67                 NaN                 0             67  \n52                 NaN                 5             52  \n55                 NaN                 3             55  \n56                 NaN                 0             56  \n71                 NaN                 0             71  \n68                 NaN                 0             68  \n54                 NaN                 0             54  \n35                 NaN                 7             35  \n39                 NaN                 0             39  \n70                 NaN                 0             70  \n58                 NaN                 0             58  \n25                 NaN                 0             25  \n18                 NaN                 0             18  \n57                 NaN                 0             57  \n33                 NaN                 0             33  \n64                 NaN                 0             64  \n74                 NaN                 0             74  \n29                 0.0                 1             29  \n61                 NaN                 0             61  \n44                 NaN                 0             44  \n37                 NaN                 0             37  \n46                 0.0                 1             46  \n49                 NaN                44             49  \n20                 NaN                 5             20  \n22                 NaN                 0             22  \n62                 NaN                 0             62  \n24                 2.1                20             24  \n53                 0.0                64             53  \n28                 NaN                 5             28  \n\n[39 rows x 34 columns]",
      "text/html": "<div>\n<style scoped>\n    .dataframe tbody tr th:only-of-type {\n        vertical-align: middle;\n    }\n\n    .dataframe tbody tr th {\n        vertical-align: top;\n    }\n\n    .dataframe thead th {\n        text-align: right;\n    }\n</style>\n<table border=\"1\" class=\"dataframe\">\n  <thead>\n    <tr style=\"text-align: right;\">\n      <th></th>\n      <th>ticker</th>\n      <th>stop_loss</th>\n      <th>retornoStopLoss</th>\n      <th>stop_gain</th>\n      <th>retornoStopGain</th>\n      <th>retornoPrevisto</th>\n      <th>retornoEsperado</th>\n      <th>scoreTotal</th>\n      <th>Setor</th>\n      <th>Preço Atual</th>\n      <th>...</th>\n      <th>VPA</th>\n      <th>P/VPA</th>\n      <th>DYPatrimonial</th>\n      <th>VariaçãoPatrimonial</th>\n      <th>Rentab. Patr.no Período</th>\n      <th>Rentab. Patr.Acumulada</th>\n      <th>VacânciaFísica</th>\n      <th>VacânciaFinanceira</th>\n      <th>QuantidadeAtivos</th>\n      <th>scoreLiquidez</th>\n    </tr>\n  </thead>\n  <tbody>\n    <tr>\n      <th>41</th>\n      <td>PLCR11</td>\n      <td>65.945419</td>\n      <td>-0.254433</td>\n      <td>116.547915</td>\n      <td>0.317670</td>\n      <td>-0.050768</td>\n      <td>3.730956e-03</td>\n      <td>785</td>\n      <td>Híbrido</td>\n      <td>88.50</td>\n      <td>...</td>\n      <td>92.90</td>\n      <td>0.95</td>\n      <td>NaN</td>\n      <td>NaN</td>\n      <td>NaN</td>\n      <td>NaN</td>\n      <td>NaN</td>\n      <td>NaN</td>\n      <td>0</td>\n      <td>41</td>\n    </tr>\n    <tr>\n      <th>31</th>\n      <td>FCFL11</td>\n      <td>67.584777</td>\n      <td>-0.396241</td>\n      <td>169.118896</td>\n      <td>0.510799</td>\n      <td>0.073456</td>\n      <td>8.931176e-05</td>\n      <td>774</td>\n      <td>Outros</td>\n      <td>111.94</td>\n      <td>...</td>\n      <td>104.76</td>\n      <td>1.07</td>\n      <td>NaN</td>\n      <td>NaN</td>\n      <td>NaN</td>\n      <td>NaN</td>\n      <td>0.0</td>\n      <td>NaN</td>\n      <td>1</td>\n      <td>31</td>\n    </tr>\n    <tr>\n      <th>66</th>\n      <td>VGIP11</td>\n      <td>79.034274</td>\n      <td>-0.212021</td>\n      <td>125.107059</td>\n      <td>0.247329</td>\n      <td>-0.008975</td>\n      <td>5.981749e-04</td>\n      <td>763</td>\n      <td>Outros</td>\n      <td>100.35</td>\n      <td>...</td>\n      <td>96.10</td>\n      <td>1.04</td>\n      <td>NaN</td>\n      <td>NaN</td>\n      <td>NaN</td>\n      <td>NaN</td>\n      <td>NaN</td>\n      <td>NaN</td>\n      <td>0</td>\n      <td>66</td>\n    </tr>\n    <tr>\n      <th>5</th>\n      <td>EDFO11B</td>\n      <td>151.668354</td>\n      <td>-0.294566</td>\n      <td>292.781817</td>\n      <td>0.361776</td>\n      <td>-0.071260</td>\n      <td>1.302326e-03</td>\n      <td>760</td>\n      <td>Lajes Corporativas</td>\n      <td>215.00</td>\n      <td>...</td>\n      <td>193.32</td>\n      <td>1.11</td>\n      <td>NaN</td>\n      <td>NaN</td>\n      <td>NaN</td>\n      <td>NaN</td>\n      <td>7.1</td>\n      <td>NaN</td>\n      <td>1</td>\n      <td>5</td>\n    </tr>\n    <tr>\n      <th>65</th>\n      <td>HGLG11</td>\n      <td>142.318398</td>\n      <td>-0.166657</td>\n      <td>203.920858</td>\n      <td>0.194056</td>\n      <td>-0.073118</td>\n      <td>2.225092e-03</td>\n      <td>718</td>\n      <td>Logística</td>\n      <td>170.14</td>\n      <td>...</td>\n      <td>148.08</td>\n      <td>1.15</td>\n      <td>NaN</td>\n      <td>NaN</td>\n      <td>NaN</td>\n      <td>NaN</td>\n      <td>7.2</td>\n      <td>6.5</td>\n      <td>17</td>\n      <td>65</td>\n    </tr>\n    <tr>\n      <th>21</th>\n      <td>VVPR11</td>\n      <td>73.066379</td>\n      <td>-0.238337</td>\n      <td>123.519374</td>\n      <td>0.287599</td>\n      <td>-0.025864</td>\n      <td>3.023034e-03</td>\n      <td>712</td>\n      <td>Híbrido</td>\n      <td>95.93</td>\n      <td>...</td>\n      <td>103.42</td>\n      <td>0.93</td>\n      <td>NaN</td>\n      <td>NaN</td>\n      <td>NaN</td>\n      <td>NaN</td>\n      <td>0.0</td>\n      <td>NaN</td>\n      <td>6</td>\n      <td>21</td>\n    </tr>\n    <tr>\n      <th>42</th>\n      <td>BCIA11</td>\n      <td>64.842765</td>\n      <td>-0.251325</td>\n      <td>113.155899</td>\n      <td>0.306499</td>\n      <td>-0.279118</td>\n      <td>6.927536e-04</td>\n      <td>707</td>\n      <td>Títulos e Val. Mob.</td>\n      <td>86.62</td>\n      <td>...</td>\n      <td>106.15</td>\n      <td>0.82</td>\n      <td>NaN</td>\n      <td>NaN</td>\n      <td>NaN</td>\n      <td>NaN</td>\n      <td>NaN</td>\n      <td>NaN</td>\n      <td>0</td>\n      <td>42</td>\n    </tr>\n    <tr>\n      <th>60</th>\n      <td>RBRY11</td>\n      <td>86.411506</td>\n      <td>-0.171669</td>\n      <td>124.704534</td>\n      <td>0.195404</td>\n      <td>-0.083329</td>\n      <td>1.821322e-03</td>\n      <td>700</td>\n      <td>Títulos e Val. Mob.</td>\n      <td>104.82</td>\n      <td>...</td>\n      <td>104.49</td>\n      <td>1.00</td>\n      <td>NaN</td>\n      <td>NaN</td>\n      <td>NaN</td>\n      <td>NaN</td>\n      <td>NaN</td>\n      <td>NaN</td>\n      <td>0</td>\n      <td>60</td>\n    </tr>\n    <tr>\n      <th>14</th>\n      <td>EURO11</td>\n      <td>152.496426</td>\n      <td>-0.237518</td>\n      <td>257.224381</td>\n      <td>0.286122</td>\n      <td>-0.171575</td>\n      <td>3.400000e-03</td>\n      <td>691</td>\n      <td>Logística</td>\n      <td>201.00</td>\n      <td>...</td>\n      <td>312.12</td>\n      <td>0.64</td>\n      <td>NaN</td>\n      <td>NaN</td>\n      <td>NaN</td>\n      <td>NaN</td>\n      <td>0.0</td>\n      <td>NaN</td>\n      <td>6</td>\n      <td>14</td>\n    </tr>\n    <tr>\n      <th>63</th>\n      <td>XPPR11</td>\n      <td>49.455779</td>\n      <td>-0.222393</td>\n      <td>79.901659</td>\n      <td>0.256315</td>\n      <td>-0.002284</td>\n      <td>3.144894e-04</td>\n      <td>690</td>\n      <td>Outros</td>\n      <td>64.10</td>\n      <td>...</td>\n      <td>82.38</td>\n      <td>0.78</td>\n      <td>NaN</td>\n      <td>NaN</td>\n      <td>NaN</td>\n      <td>NaN</td>\n      <td>46.0</td>\n      <td>NaN</td>\n      <td>4</td>\n      <td>63</td>\n    </tr>\n    <tr>\n      <th>67</th>\n      <td>MCCI11</td>\n      <td>85.199657</td>\n      <td>-0.163479</td>\n      <td>120.284212</td>\n      <td>0.180994</td>\n      <td>-0.014678</td>\n      <td>1.178218e-03</td>\n      <td>688</td>\n      <td>Títulos e Val. Mob.</td>\n      <td>101.87</td>\n      <td>...</td>\n      <td>97.92</td>\n      <td>1.04</td>\n      <td>NaN</td>\n      <td>NaN</td>\n      <td>NaN</td>\n      <td>NaN</td>\n      <td>NaN</td>\n      <td>NaN</td>\n      <td>0</td>\n      <td>67</td>\n    </tr>\n    <tr>\n      <th>52</th>\n      <td>SDIL11</td>\n      <td>69.503820</td>\n      <td>-0.193130</td>\n      <td>105.010303</td>\n      <td>0.219066</td>\n      <td>-0.181049</td>\n      <td>5.804575e-04</td>\n      <td>688</td>\n      <td>Logística</td>\n      <td>86.50</td>\n      <td>...</td>\n      <td>97.41</td>\n      <td>0.89</td>\n      <td>NaN</td>\n      <td>NaN</td>\n      <td>NaN</td>\n      <td>NaN</td>\n      <td>2.6</td>\n      <td>NaN</td>\n      <td>5</td>\n      <td>52</td>\n    </tr>\n    <tr>\n      <th>55</th>\n      <td>SARE11</td>\n      <td>55.603327</td>\n      <td>-0.222875</td>\n      <td>90.259088</td>\n      <td>0.261483</td>\n      <td>-0.206092</td>\n      <td>2.236156e-03</td>\n      <td>670</td>\n      <td>Híbrido</td>\n      <td>72.23</td>\n      <td>...</td>\n      <td>99.32</td>\n      <td>0.73</td>\n      <td>NaN</td>\n      <td>NaN</td>\n      <td>NaN</td>\n      <td>NaN</td>\n      <td>2.1</td>\n      <td>NaN</td>\n      <td>3</td>\n      <td>55</td>\n    </tr>\n    <tr>\n      <th>56</th>\n      <td>ARRI11</td>\n      <td>76.694169</td>\n      <td>-0.239673</td>\n      <td>128.735872</td>\n      <td>0.276255</td>\n      <td>-0.098909</td>\n      <td>9.911027e-05</td>\n      <td>659</td>\n      <td>Títulos e Val. Mob.</td>\n      <td>100.58</td>\n      <td>...</td>\n      <td>93.44</td>\n      <td>1.08</td>\n      <td>NaN</td>\n      <td>NaN</td>\n      <td>NaN</td>\n      <td>NaN</td>\n      <td>NaN</td>\n      <td>NaN</td>\n      <td>0</td>\n      <td>56</td>\n    </tr>\n    <tr>\n      <th>71</th>\n      <td>RECR11</td>\n      <td>94.089325</td>\n      <td>-0.088282</td>\n      <td>112.796951</td>\n      <td>0.092994</td>\n      <td>0.064506</td>\n      <td>1.938280e-04</td>\n      <td>649</td>\n      <td>Títulos e Val. Mob.</td>\n      <td>103.27</td>\n      <td>...</td>\n      <td>95.30</td>\n      <td>1.08</td>\n      <td>NaN</td>\n      <td>NaN</td>\n      <td>NaN</td>\n      <td>NaN</td>\n      <td>NaN</td>\n      <td>NaN</td>\n      <td>0</td>\n      <td>71</td>\n    </tr>\n    <tr>\n      <th>68</th>\n      <td>XPCI11</td>\n      <td>80.907648</td>\n      <td>-0.173653</td>\n      <td>117.227171</td>\n      <td>0.197295</td>\n      <td>-0.066835</td>\n      <td>1.429847e-03</td>\n      <td>646</td>\n      <td>Outros</td>\n      <td>97.75</td>\n      <td>...</td>\n      <td>95.14</td>\n      <td>1.03</td>\n      <td>NaN</td>\n      <td>NaN</td>\n      <td>NaN</td>\n      <td>NaN</td>\n      <td>NaN</td>\n      <td>NaN</td>\n      <td>0</td>\n      <td>68</td>\n    </tr>\n    <tr>\n      <th>54</th>\n      <td>HGCR11</td>\n      <td>91.756089</td>\n      <td>-0.130274</td>\n      <td>120.869541</td>\n      <td>0.145683</td>\n      <td>-0.052776</td>\n      <td>6.635071e-04</td>\n      <td>643</td>\n      <td>Títulos e Val. Mob.</td>\n      <td>105.45</td>\n      <td>...</td>\n      <td>102.54</td>\n      <td>1.03</td>\n      <td>NaN</td>\n      <td>NaN</td>\n      <td>NaN</td>\n      <td>NaN</td>\n      <td>NaN</td>\n      <td>NaN</td>\n      <td>0</td>\n      <td>54</td>\n    </tr>\n    <tr>\n      <th>35</th>\n      <td>FIIP11B</td>\n      <td>135.003928</td>\n      <td>-0.180702</td>\n      <td>199.698445</td>\n      <td>0.211909</td>\n      <td>-0.209276</td>\n      <td>1.517182e-03</td>\n      <td>639</td>\n      <td>Logística</td>\n      <td>164.00</td>\n      <td>...</td>\n      <td>200.35</td>\n      <td>0.82</td>\n      <td>NaN</td>\n      <td>NaN</td>\n      <td>NaN</td>\n      <td>NaN</td>\n      <td>0.0</td>\n      <td>NaN</td>\n      <td>7</td>\n      <td>35</td>\n    </tr>\n    <tr>\n      <th>39</th>\n      <td>OUJP11</td>\n      <td>74.633239</td>\n      <td>-0.181294</td>\n      <td>110.436014</td>\n      <td>0.211453</td>\n      <td>-0.141458</td>\n      <td>3.290515e-04</td>\n      <td>637</td>\n      <td>Títulos e Val. Mob.</td>\n      <td>91.44</td>\n      <td>...</td>\n      <td>101.78</td>\n      <td>0.90</td>\n      <td>NaN</td>\n      <td>NaN</td>\n      <td>NaN</td>\n      <td>NaN</td>\n      <td>NaN</td>\n      <td>NaN</td>\n      <td>0</td>\n      <td>39</td>\n    </tr>\n    <tr>\n      <th>70</th>\n      <td>KNHY11</td>\n      <td>90.515440</td>\n      <td>-0.150090</td>\n      <td>123.926449</td>\n      <td>0.163629</td>\n      <td>-0.089868</td>\n      <td>4.694836e-04</td>\n      <td>637</td>\n      <td>Títulos e Val. Mob.</td>\n      <td>106.87</td>\n      <td>...</td>\n      <td>99.41</td>\n      <td>1.07</td>\n      <td>NaN</td>\n      <td>NaN</td>\n      <td>NaN</td>\n      <td>NaN</td>\n      <td>NaN</td>\n      <td>NaN</td>\n      <td>0</td>\n      <td>70</td>\n    </tr>\n    <tr>\n      <th>58</th>\n      <td>MGFF11</td>\n      <td>53.598657</td>\n      <td>-0.172733</td>\n      <td>77.277117</td>\n      <td>0.192732</td>\n      <td>-0.194654</td>\n      <td>6.173651e-04</td>\n      <td>635</td>\n      <td>Títulos e Val. Mob.</td>\n      <td>64.81</td>\n      <td>...</td>\n      <td>78.81</td>\n      <td>0.82</td>\n      <td>NaN</td>\n      <td>NaN</td>\n      <td>NaN</td>\n      <td>NaN</td>\n      <td>NaN</td>\n      <td>NaN</td>\n      <td>0</td>\n      <td>58</td>\n    </tr>\n    <tr>\n      <th>25</th>\n      <td>RFOF11</td>\n      <td>55.666851</td>\n      <td>-0.247338</td>\n      <td>96.628316</td>\n      <td>0.306494</td>\n      <td>-0.095935</td>\n      <td>9.464699e-04</td>\n      <td>629</td>\n      <td>Títulos e Val. Mob.</td>\n      <td>74.72</td>\n      <td>...</td>\n      <td>86.47</td>\n      <td>0.86</td>\n      <td>NaN</td>\n      <td>NaN</td>\n      <td>NaN</td>\n      <td>NaN</td>\n      <td>NaN</td>\n      <td>NaN</td>\n      <td>0</td>\n      <td>25</td>\n    </tr>\n    <tr>\n      <th>18</th>\n      <td>CXRI11</td>\n      <td>41.165400</td>\n      <td>-0.395959</td>\n      <td>104.087586</td>\n      <td>0.527331</td>\n      <td>-1.899340</td>\n      <td>1.027124e-03</td>\n      <td>625</td>\n      <td>Híbrido</td>\n      <td>68.15</td>\n      <td>...</td>\n      <td>88.17</td>\n      <td>0.77</td>\n      <td>NaN</td>\n      <td>NaN</td>\n      <td>NaN</td>\n      <td>NaN</td>\n      <td>NaN</td>\n      <td>NaN</td>\n      <td>0</td>\n      <td>18</td>\n    </tr>\n    <tr>\n      <th>57</th>\n      <td>BARI11</td>\n      <td>95.510444</td>\n      <td>-0.090290</td>\n      <td>115.071490</td>\n      <td>0.096023</td>\n      <td>-0.034163</td>\n      <td>1.905147e-04</td>\n      <td>624</td>\n      <td>Títulos e Val. Mob.</td>\n      <td>104.91</td>\n      <td>...</td>\n      <td>101.74</td>\n      <td>1.03</td>\n      <td>NaN</td>\n      <td>NaN</td>\n      <td>NaN</td>\n      <td>NaN</td>\n      <td>NaN</td>\n      <td>NaN</td>\n      <td>0</td>\n      <td>57</td>\n    </tr>\n    <tr>\n      <th>33</th>\n      <td>RVBI11</td>\n      <td>62.887454</td>\n      <td>-0.208764</td>\n      <td>98.612876</td>\n      <td>0.240726</td>\n      <td>-0.062636</td>\n      <td>1.257756e-04</td>\n      <td>622</td>\n      <td>Títulos e Val. Mob.</td>\n      <td>79.48</td>\n      <td>...</td>\n      <td>88.60</td>\n      <td>0.90</td>\n      <td>NaN</td>\n      <td>NaN</td>\n      <td>NaN</td>\n      <td>NaN</td>\n      <td>NaN</td>\n      <td>NaN</td>\n      <td>0</td>\n      <td>33</td>\n    </tr>\n    <tr>\n      <th>64</th>\n      <td>RBRR11</td>\n      <td>87.449422</td>\n      <td>-0.127251</td>\n      <td>114.486607</td>\n      <td>0.142581</td>\n      <td>-0.095083</td>\n      <td>8.982341e-04</td>\n      <td>619</td>\n      <td>Títulos e Val. Mob.</td>\n      <td>100.05</td>\n      <td>...</td>\n      <td>100.69</td>\n      <td>0.99</td>\n      <td>NaN</td>\n      <td>NaN</td>\n      <td>NaN</td>\n      <td>NaN</td>\n      <td>NaN</td>\n      <td>NaN</td>\n      <td>0</td>\n      <td>64</td>\n    </tr>\n    <tr>\n      <th>74</th>\n      <td>KNIP11</td>\n      <td>93.977424</td>\n      <td>-0.095849</td>\n      <td>114.695120</td>\n      <td>0.103474</td>\n      <td>-0.086037</td>\n      <td>1.250698e-03</td>\n      <td>617</td>\n      <td>Títulos e Val. Mob.</td>\n      <td>104.00</td>\n      <td>...</td>\n      <td>99.27</td>\n      <td>1.05</td>\n      <td>NaN</td>\n      <td>NaN</td>\n      <td>NaN</td>\n      <td>NaN</td>\n      <td>NaN</td>\n      <td>NaN</td>\n      <td>0</td>\n      <td>74</td>\n    </tr>\n    <tr>\n      <th>29</th>\n      <td>VTLT11</td>\n      <td>77.052959</td>\n      <td>-0.160643</td>\n      <td>108.382457</td>\n      <td>0.180637</td>\n      <td>-0.106630</td>\n      <td>5.446290e-04</td>\n      <td>611</td>\n      <td>Logística</td>\n      <td>91.80</td>\n      <td>...</td>\n      <td>103.15</td>\n      <td>0.89</td>\n      <td>NaN</td>\n      <td>NaN</td>\n      <td>NaN</td>\n      <td>NaN</td>\n      <td>0.0</td>\n      <td>0.0</td>\n      <td>1</td>\n      <td>29</td>\n    </tr>\n    <tr>\n      <th>61</th>\n      <td>CPFF11</td>\n      <td>57.744667</td>\n      <td>-0.191138</td>\n      <td>87.193444</td>\n      <td>0.221368</td>\n      <td>-0.107416</td>\n      <td>1.260689e-03</td>\n      <td>610</td>\n      <td>Híbrido</td>\n      <td>71.78</td>\n      <td>...</td>\n      <td>79.31</td>\n      <td>0.91</td>\n      <td>NaN</td>\n      <td>NaN</td>\n      <td>NaN</td>\n      <td>NaN</td>\n      <td>NaN</td>\n      <td>NaN</td>\n      <td>0</td>\n      <td>61</td>\n    </tr>\n    <tr>\n      <th>44</th>\n      <td>PORD11</td>\n      <td>78.314184</td>\n      <td>-0.162326</td>\n      <td>109.945651</td>\n      <td>0.176015</td>\n      <td>-0.147387</td>\n      <td>2.139495e-04</td>\n      <td>598</td>\n      <td>Títulos e Val. Mob.</td>\n      <td>93.47</td>\n      <td>...</td>\n      <td>99.37</td>\n      <td>0.94</td>\n      <td>NaN</td>\n      <td>NaN</td>\n      <td>NaN</td>\n      <td>NaN</td>\n      <td>NaN</td>\n      <td>NaN</td>\n      <td>0</td>\n      <td>44</td>\n    </tr>\n    <tr>\n      <th>37</th>\n      <td>OUFF11</td>\n      <td>53.406657</td>\n      <td>-0.205021</td>\n      <td>83.188856</td>\n      <td>0.238298</td>\n      <td>-0.224446</td>\n      <td>1.488493e-04</td>\n      <td>591</td>\n      <td>Títulos e Val. Mob.</td>\n      <td>67.52</td>\n      <td>...</td>\n      <td>81.47</td>\n      <td>0.83</td>\n      <td>NaN</td>\n      <td>NaN</td>\n      <td>NaN</td>\n      <td>NaN</td>\n      <td>NaN</td>\n      <td>NaN</td>\n      <td>0</td>\n      <td>37</td>\n    </tr>\n    <tr>\n      <th>46</th>\n      <td>GTWR11</td>\n      <td>72.201103</td>\n      <td>-0.141791</td>\n      <td>97.555435</td>\n      <td>0.159580</td>\n      <td>-0.152526</td>\n      <td>5.943510e-04</td>\n      <td>590</td>\n      <td>Lajes Corporativas</td>\n      <td>84.35</td>\n      <td>...</td>\n      <td>98.49</td>\n      <td>0.86</td>\n      <td>NaN</td>\n      <td>NaN</td>\n      <td>NaN</td>\n      <td>NaN</td>\n      <td>0.0</td>\n      <td>0.0</td>\n      <td>1</td>\n      <td>46</td>\n    </tr>\n    <tr>\n      <th>49</th>\n      <td>TRXF11</td>\n      <td>85.243649</td>\n      <td>-0.160161</td>\n      <td>119.576722</td>\n      <td>0.178096</td>\n      <td>-0.033249</td>\n      <td>2.955665e-04</td>\n      <td>589</td>\n      <td>Outros</td>\n      <td>101.40</td>\n      <td>...</td>\n      <td>101.93</td>\n      <td>0.99</td>\n      <td>NaN</td>\n      <td>NaN</td>\n      <td>NaN</td>\n      <td>NaN</td>\n      <td>0.0</td>\n      <td>NaN</td>\n      <td>44</td>\n      <td>49</td>\n    </tr>\n    <tr>\n      <th>20</th>\n      <td>LGCP11</td>\n      <td>67.813232</td>\n      <td>-0.174821</td>\n      <td>97.914550</td>\n      <td>0.191464</td>\n      <td>-0.089215</td>\n      <td>6.084168e-04</td>\n      <td>576</td>\n      <td>Logística</td>\n      <td>82.20</td>\n      <td>...</td>\n      <td>102.06</td>\n      <td>0.81</td>\n      <td>NaN</td>\n      <td>NaN</td>\n      <td>NaN</td>\n      <td>NaN</td>\n      <td>0.5</td>\n      <td>NaN</td>\n      <td>5</td>\n      <td>20</td>\n    </tr>\n    <tr>\n      <th>22</th>\n      <td>JPPA11</td>\n      <td>81.994688</td>\n      <td>-0.163149</td>\n      <td>115.797129</td>\n      <td>0.181845</td>\n      <td>-0.004045</td>\n      <td>1.020274e-04</td>\n      <td>572</td>\n      <td>Títulos e Val. Mob.</td>\n      <td>97.50</td>\n      <td>...</td>\n      <td>104.51</td>\n      <td>0.93</td>\n      <td>NaN</td>\n      <td>NaN</td>\n      <td>NaN</td>\n      <td>NaN</td>\n      <td>NaN</td>\n      <td>NaN</td>\n      <td>0</td>\n      <td>22</td>\n    </tr>\n    <tr>\n      <th>62</th>\n      <td>FEXC11</td>\n      <td>106.199997</td>\n      <td>0.000000</td>\n      <td>106.199997</td>\n      <td>0.000000</td>\n      <td>0.000000</td>\n      <td>2.873595e-08</td>\n      <td>571</td>\n      <td>Títulos e Val. Mob.</td>\n      <td>86.86</td>\n      <td>...</td>\n      <td>93.62</td>\n      <td>0.93</td>\n      <td>NaN</td>\n      <td>NaN</td>\n      <td>NaN</td>\n      <td>NaN</td>\n      <td>NaN</td>\n      <td>NaN</td>\n      <td>0</td>\n      <td>62</td>\n    </tr>\n    <tr>\n      <th>24</th>\n      <td>BBRC11</td>\n      <td>86.134766</td>\n      <td>-0.142255</td>\n      <td>116.353714</td>\n      <td>0.158671</td>\n      <td>-0.236737</td>\n      <td>1.294581e-03</td>\n      <td>565</td>\n      <td>Outros</td>\n      <td>100.30</td>\n      <td>...</td>\n      <td>107.45</td>\n      <td>0.93</td>\n      <td>NaN</td>\n      <td>NaN</td>\n      <td>NaN</td>\n      <td>NaN</td>\n      <td>5.4</td>\n      <td>2.1</td>\n      <td>20</td>\n      <td>24</td>\n    </tr>\n    <tr>\n      <th>53</th>\n      <td>BBPO11</td>\n      <td>82.094812</td>\n      <td>-0.123855</td>\n      <td>106.326341</td>\n      <td>0.134753</td>\n      <td>-0.268818</td>\n      <td>4.269269e-04</td>\n      <td>564</td>\n      <td>Lajes Corporativas</td>\n      <td>93.84</td>\n      <td>...</td>\n      <td>95.82</td>\n      <td>0.98</td>\n      <td>NaN</td>\n      <td>NaN</td>\n      <td>NaN</td>\n      <td>NaN</td>\n      <td>0.0</td>\n      <td>0.0</td>\n      <td>64</td>\n      <td>53</td>\n    </tr>\n    <tr>\n      <th>28</th>\n      <td>RBED11</td>\n      <td>102.112432</td>\n      <td>-0.149418</td>\n      <td>140.099476</td>\n      <td>0.167009</td>\n      <td>-0.285396</td>\n      <td>3.331691e-04</td>\n      <td>514</td>\n      <td>Outros</td>\n      <td>120.00</td>\n      <td>...</td>\n      <td>141.42</td>\n      <td>0.85</td>\n      <td>NaN</td>\n      <td>NaN</td>\n      <td>NaN</td>\n      <td>NaN</td>\n      <td>0.0</td>\n      <td>NaN</td>\n      <td>5</td>\n      <td>28</td>\n    </tr>\n  </tbody>\n</table>\n<p>39 rows × 34 columns</p>\n</div>"
     },
     "execution_count": 29,
     "metadata": {},
     "output_type": "execute_result"
    }
   ],
   "source": [
    "LiquidezDiaria = finalData.sort_values(by = 'Liquidez Diária', ascending= True)\n",
    "LiquidezDiaria = LiquidezDiaria.reset_index(drop = True)\n",
    "LiquidezDiaria['scoreLiquidez'] = LiquidezDiaria.index\n",
    "\n",
    "LiquidezDiaria['scoreTotal'] = LiquidezDiaria['scoreTotal'] + LiquidezDiaria['scoreLiquidez']\n",
    "newDF = LiquidezDiaria\n",
    "newDF = newDF.sort_values(by = 'scoreTotal', ascending= False)\n",
    "newDF = newDF[newDF['Dividendo'] > 0.5]\n",
    "newDF = newDF[newDF['DY Ano'] > 7]\n",
    "\n",
    "newDF\n",
    "\n"
   ],
   "metadata": {
    "collapsed": false,
    "pycharm": {
     "name": "#%%\n"
    }
   }
  },
  {
   "cell_type": "code",
   "execution_count": 30,
   "outputs": [
    {
     "data": {
      "text/plain": "     ticker   stop_loss  retornoStopLoss   stop_gain  retornoStopGain  \\\n41   PLCR11   65.945419        -0.254433  116.547915         0.317670   \n31   FCFL11   67.584777        -0.396241  169.118896         0.510799   \n66   VGIP11   79.034274        -0.212021  125.107059         0.247329   \n5   EDFO11B  151.668354        -0.294566  292.781817         0.361776   \n65   HGLG11  142.318398        -0.166657  203.920858         0.194056   \n21   VVPR11   73.066379        -0.238337  123.519374         0.287599   \n42   BCIA11   64.842765        -0.251325  113.155899         0.306499   \n60   RBRY11   86.411506        -0.171669  124.704534         0.195404   \n14   EURO11  152.496426        -0.237518  257.224381         0.286122   \n63   XPPR11   49.455779        -0.222393   79.901659         0.256315   \n\n    retornoPrevisto  retornoEsperado  scoreTotal                Setor  \\\n41        -0.050768         0.003731         785              Híbrido   \n31         0.073456         0.000089         774               Outros   \n66        -0.008975         0.000598         763               Outros   \n5         -0.071260         0.001302         760   Lajes Corporativas   \n65        -0.073118         0.002225         718            Logística   \n21        -0.025864         0.003023         712              Híbrido   \n42        -0.279118         0.000693         707  Títulos e Val. Mob.   \n60        -0.083329         0.001821         700  Títulos e Val. Mob.   \n14        -0.171575         0.003400         691            Logística   \n63        -0.002284         0.000314         690               Outros   \n\n    Preço Atual  ...     VPA  P/VPA  DYPatrimonial  VariaçãoPatrimonial  \\\n41        88.50  ...   92.90   0.95            NaN                  NaN   \n31       111.94  ...  104.76   1.07            NaN                  NaN   \n66       100.35  ...   96.10   1.04            NaN                  NaN   \n5        215.00  ...  193.32   1.11            NaN                  NaN   \n65       170.14  ...  148.08   1.15            NaN                  NaN   \n21        95.93  ...  103.42   0.93            NaN                  NaN   \n42        86.62  ...  106.15   0.82            NaN                  NaN   \n60       104.82  ...  104.49   1.00            NaN                  NaN   \n14       201.00  ...  312.12   0.64            NaN                  NaN   \n63        64.10  ...   82.38   0.78            NaN                  NaN   \n\n    Rentab. Patr.no Período  Rentab. Patr.Acumulada  VacânciaFísica  \\\n41                      NaN                     NaN             NaN   \n31                      NaN                     NaN             0.0   \n66                      NaN                     NaN             NaN   \n5                       NaN                     NaN             7.1   \n65                      NaN                     NaN             7.2   \n21                      NaN                     NaN             0.0   \n42                      NaN                     NaN             NaN   \n60                      NaN                     NaN             NaN   \n14                      NaN                     NaN             0.0   \n63                      NaN                     NaN            46.0   \n\n    VacânciaFinanceira  QuantidadeAtivos  scoreLiquidez  \n41                 NaN                 0             41  \n31                 NaN                 1             31  \n66                 NaN                 0             66  \n5                  NaN                 1              5  \n65                 6.5                17             65  \n21                 NaN                 6             21  \n42                 NaN                 0             42  \n60                 NaN                 0             60  \n14                 NaN                 6             14  \n63                 NaN                 4             63  \n\n[10 rows x 34 columns]",
      "text/html": "<div>\n<style scoped>\n    .dataframe tbody tr th:only-of-type {\n        vertical-align: middle;\n    }\n\n    .dataframe tbody tr th {\n        vertical-align: top;\n    }\n\n    .dataframe thead th {\n        text-align: right;\n    }\n</style>\n<table border=\"1\" class=\"dataframe\">\n  <thead>\n    <tr style=\"text-align: right;\">\n      <th></th>\n      <th>ticker</th>\n      <th>stop_loss</th>\n      <th>retornoStopLoss</th>\n      <th>stop_gain</th>\n      <th>retornoStopGain</th>\n      <th>retornoPrevisto</th>\n      <th>retornoEsperado</th>\n      <th>scoreTotal</th>\n      <th>Setor</th>\n      <th>Preço Atual</th>\n      <th>...</th>\n      <th>VPA</th>\n      <th>P/VPA</th>\n      <th>DYPatrimonial</th>\n      <th>VariaçãoPatrimonial</th>\n      <th>Rentab. Patr.no Período</th>\n      <th>Rentab. Patr.Acumulada</th>\n      <th>VacânciaFísica</th>\n      <th>VacânciaFinanceira</th>\n      <th>QuantidadeAtivos</th>\n      <th>scoreLiquidez</th>\n    </tr>\n  </thead>\n  <tbody>\n    <tr>\n      <th>41</th>\n      <td>PLCR11</td>\n      <td>65.945419</td>\n      <td>-0.254433</td>\n      <td>116.547915</td>\n      <td>0.317670</td>\n      <td>-0.050768</td>\n      <td>0.003731</td>\n      <td>785</td>\n      <td>Híbrido</td>\n      <td>88.50</td>\n      <td>...</td>\n      <td>92.90</td>\n      <td>0.95</td>\n      <td>NaN</td>\n      <td>NaN</td>\n      <td>NaN</td>\n      <td>NaN</td>\n      <td>NaN</td>\n      <td>NaN</td>\n      <td>0</td>\n      <td>41</td>\n    </tr>\n    <tr>\n      <th>31</th>\n      <td>FCFL11</td>\n      <td>67.584777</td>\n      <td>-0.396241</td>\n      <td>169.118896</td>\n      <td>0.510799</td>\n      <td>0.073456</td>\n      <td>0.000089</td>\n      <td>774</td>\n      <td>Outros</td>\n      <td>111.94</td>\n      <td>...</td>\n      <td>104.76</td>\n      <td>1.07</td>\n      <td>NaN</td>\n      <td>NaN</td>\n      <td>NaN</td>\n      <td>NaN</td>\n      <td>0.0</td>\n      <td>NaN</td>\n      <td>1</td>\n      <td>31</td>\n    </tr>\n    <tr>\n      <th>66</th>\n      <td>VGIP11</td>\n      <td>79.034274</td>\n      <td>-0.212021</td>\n      <td>125.107059</td>\n      <td>0.247329</td>\n      <td>-0.008975</td>\n      <td>0.000598</td>\n      <td>763</td>\n      <td>Outros</td>\n      <td>100.35</td>\n      <td>...</td>\n      <td>96.10</td>\n      <td>1.04</td>\n      <td>NaN</td>\n      <td>NaN</td>\n      <td>NaN</td>\n      <td>NaN</td>\n      <td>NaN</td>\n      <td>NaN</td>\n      <td>0</td>\n      <td>66</td>\n    </tr>\n    <tr>\n      <th>5</th>\n      <td>EDFO11B</td>\n      <td>151.668354</td>\n      <td>-0.294566</td>\n      <td>292.781817</td>\n      <td>0.361776</td>\n      <td>-0.071260</td>\n      <td>0.001302</td>\n      <td>760</td>\n      <td>Lajes Corporativas</td>\n      <td>215.00</td>\n      <td>...</td>\n      <td>193.32</td>\n      <td>1.11</td>\n      <td>NaN</td>\n      <td>NaN</td>\n      <td>NaN</td>\n      <td>NaN</td>\n      <td>7.1</td>\n      <td>NaN</td>\n      <td>1</td>\n      <td>5</td>\n    </tr>\n    <tr>\n      <th>65</th>\n      <td>HGLG11</td>\n      <td>142.318398</td>\n      <td>-0.166657</td>\n      <td>203.920858</td>\n      <td>0.194056</td>\n      <td>-0.073118</td>\n      <td>0.002225</td>\n      <td>718</td>\n      <td>Logística</td>\n      <td>170.14</td>\n      <td>...</td>\n      <td>148.08</td>\n      <td>1.15</td>\n      <td>NaN</td>\n      <td>NaN</td>\n      <td>NaN</td>\n      <td>NaN</td>\n      <td>7.2</td>\n      <td>6.5</td>\n      <td>17</td>\n      <td>65</td>\n    </tr>\n    <tr>\n      <th>21</th>\n      <td>VVPR11</td>\n      <td>73.066379</td>\n      <td>-0.238337</td>\n      <td>123.519374</td>\n      <td>0.287599</td>\n      <td>-0.025864</td>\n      <td>0.003023</td>\n      <td>712</td>\n      <td>Híbrido</td>\n      <td>95.93</td>\n      <td>...</td>\n      <td>103.42</td>\n      <td>0.93</td>\n      <td>NaN</td>\n      <td>NaN</td>\n      <td>NaN</td>\n      <td>NaN</td>\n      <td>0.0</td>\n      <td>NaN</td>\n      <td>6</td>\n      <td>21</td>\n    </tr>\n    <tr>\n      <th>42</th>\n      <td>BCIA11</td>\n      <td>64.842765</td>\n      <td>-0.251325</td>\n      <td>113.155899</td>\n      <td>0.306499</td>\n      <td>-0.279118</td>\n      <td>0.000693</td>\n      <td>707</td>\n      <td>Títulos e Val. Mob.</td>\n      <td>86.62</td>\n      <td>...</td>\n      <td>106.15</td>\n      <td>0.82</td>\n      <td>NaN</td>\n      <td>NaN</td>\n      <td>NaN</td>\n      <td>NaN</td>\n      <td>NaN</td>\n      <td>NaN</td>\n      <td>0</td>\n      <td>42</td>\n    </tr>\n    <tr>\n      <th>60</th>\n      <td>RBRY11</td>\n      <td>86.411506</td>\n      <td>-0.171669</td>\n      <td>124.704534</td>\n      <td>0.195404</td>\n      <td>-0.083329</td>\n      <td>0.001821</td>\n      <td>700</td>\n      <td>Títulos e Val. Mob.</td>\n      <td>104.82</td>\n      <td>...</td>\n      <td>104.49</td>\n      <td>1.00</td>\n      <td>NaN</td>\n      <td>NaN</td>\n      <td>NaN</td>\n      <td>NaN</td>\n      <td>NaN</td>\n      <td>NaN</td>\n      <td>0</td>\n      <td>60</td>\n    </tr>\n    <tr>\n      <th>14</th>\n      <td>EURO11</td>\n      <td>152.496426</td>\n      <td>-0.237518</td>\n      <td>257.224381</td>\n      <td>0.286122</td>\n      <td>-0.171575</td>\n      <td>0.003400</td>\n      <td>691</td>\n      <td>Logística</td>\n      <td>201.00</td>\n      <td>...</td>\n      <td>312.12</td>\n      <td>0.64</td>\n      <td>NaN</td>\n      <td>NaN</td>\n      <td>NaN</td>\n      <td>NaN</td>\n      <td>0.0</td>\n      <td>NaN</td>\n      <td>6</td>\n      <td>14</td>\n    </tr>\n    <tr>\n      <th>63</th>\n      <td>XPPR11</td>\n      <td>49.455779</td>\n      <td>-0.222393</td>\n      <td>79.901659</td>\n      <td>0.256315</td>\n      <td>-0.002284</td>\n      <td>0.000314</td>\n      <td>690</td>\n      <td>Outros</td>\n      <td>64.10</td>\n      <td>...</td>\n      <td>82.38</td>\n      <td>0.78</td>\n      <td>NaN</td>\n      <td>NaN</td>\n      <td>NaN</td>\n      <td>NaN</td>\n      <td>46.0</td>\n      <td>NaN</td>\n      <td>4</td>\n      <td>63</td>\n    </tr>\n  </tbody>\n</table>\n<p>10 rows × 34 columns</p>\n</div>"
     },
     "execution_count": 30,
     "metadata": {},
     "output_type": "execute_result"
    }
   ],
   "source": [
    "carteira = newDF.head(10)\n",
    "carteira\n"
   ],
   "metadata": {
    "collapsed": false,
    "pycharm": {
     "name": "#%%\n"
    }
   }
  },
  {
   "cell_type": "code",
   "execution_count": 31,
   "outputs": [
    {
     "data": {
      "text/plain": "9.216000000000001"
     },
     "execution_count": 31,
     "metadata": {},
     "output_type": "execute_result"
    }
   ],
   "source": [
    "carteira['DY Ano'].mean()\n",
    "\n"
   ],
   "metadata": {
    "collapsed": false,
    "pycharm": {
     "name": "#%%\n"
    }
   }
  },
  {
   "cell_type": "code",
   "execution_count": 32,
   "outputs": [
    {
     "data": {
      "text/plain": "41     44240.0\n31     18890.0\n66    334240.0\n5        140.0\n65    260720.0\n21     10340.0\n42     44920.0\n60    151250.0\n14      3490.0\n63    210030.0\nName: Liquidez Diária, dtype: float64"
     },
     "execution_count": 32,
     "metadata": {},
     "output_type": "execute_result"
    }
   ],
   "source": [
    "carteira['Liquidez Diária']"
   ],
   "metadata": {
    "collapsed": false,
    "pycharm": {
     "name": "#%%\n"
    }
   }
  }
 ],
 "metadata": {
  "kernelspec": {
   "name": "python3",
   "language": "python",
   "display_name": "Python 3"
  },
  "language_info": {
   "codemirror_mode": {
    "name": "ipython",
    "version": 3
   },
   "file_extension": ".py",
   "mimetype": "text/x-python",
   "name": "python",
   "nbconvert_exporter": "python",
   "pygments_lexer": "ipython3",
   "version": "3.6.13"
  }
 },
 "nbformat": 4,
 "nbformat_minor": 1
}