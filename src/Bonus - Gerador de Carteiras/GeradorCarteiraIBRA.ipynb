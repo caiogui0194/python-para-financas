{
 "cells": [
  {
   "cell_type": "code",
   "execution_count": 12,
   "metadata": {
    "collapsed": true
   },
   "outputs": [],
   "source": [
    "import pandas as pd\n",
    "import requests\n",
    "from bs4 import BeautifulSoup\n",
    "import numpy as np\n",
    "import yfinance as yf\n",
    "from datetime import  datetime\n",
    "from datetime import timedelta\n",
    "import fbprophet"
   ]
  },
  {
   "cell_type": "code",
   "execution_count": 13,
   "outputs": [],
   "source": [
    "# url = 'http://bvmf.bmfbovespa.com.br/indices/ResumoCarteiraTeorica.aspx?Indice=IBOV&idioma=pt-br'\n",
    "#\n",
    "# agent = {\"User-Agent\":\"Mozilla/5.0\"}\n",
    "# resposta = requests.get(url, headers = agent)\n",
    "# soup = BeautifulSoup(resposta.text, 'lxml')\n",
    "# table = soup.find_all('table')[0]\n",
    "# df = pd.read_html(str(table), decimal=',', thousands='.')[0]\n",
    "# df = df.iloc[:-1, :]\n",
    "#\n",
    "# df"
   ],
   "metadata": {
    "collapsed": false,
    "pycharm": {
     "name": "#%%\n"
    }
   }
  },
  {
   "cell_type": "code",
   "execution_count": 14,
   "outputs": [
    {
     "data": {
      "text/plain": "   Código          Ação        Tipo  Qtde. Teórica  Part. (%)\n0   RRRP3  3R PETROLEUM  ON      NM      199733824      0.335\n1   ALPA4    ALPARGATAS  PN      N1      167963777      0.210\n2   ABEV3     AMBEV S/A          ON     4359908680      2.983\n3   AMER3    AMERICANAS  ON      NM      571352399      0.792\n4   ASAI3         ASSAI  ON      NM      794310097      0.484\n..    ...           ...         ...            ...        ...\n86  VALE3          VALE  ON      NM     3843570705     15.622\n87  VIIA3           VIA  ON      NM     1596295753      0.287\n88  VBBR3         VIBRA  ON      NM     1131883365      1.256\n89  WEGE3           WEG  ON  ED  NM     1484859030      2.040\n90  YDUQ3    YDUQS PART  ON      NM      300833122      0.312\n\n[91 rows x 5 columns]",
      "text/html": "<div>\n<style scoped>\n    .dataframe tbody tr th:only-of-type {\n        vertical-align: middle;\n    }\n\n    .dataframe tbody tr th {\n        vertical-align: top;\n    }\n\n    .dataframe thead th {\n        text-align: right;\n    }\n</style>\n<table border=\"1\" class=\"dataframe\">\n  <thead>\n    <tr style=\"text-align: right;\">\n      <th></th>\n      <th>Código</th>\n      <th>Ação</th>\n      <th>Tipo</th>\n      <th>Qtde. Teórica</th>\n      <th>Part. (%)</th>\n    </tr>\n  </thead>\n  <tbody>\n    <tr>\n      <th>0</th>\n      <td>RRRP3</td>\n      <td>3R PETROLEUM</td>\n      <td>ON      NM</td>\n      <td>199733824</td>\n      <td>0.335</td>\n    </tr>\n    <tr>\n      <th>1</th>\n      <td>ALPA4</td>\n      <td>ALPARGATAS</td>\n      <td>PN      N1</td>\n      <td>167963777</td>\n      <td>0.210</td>\n    </tr>\n    <tr>\n      <th>2</th>\n      <td>ABEV3</td>\n      <td>AMBEV S/A</td>\n      <td>ON</td>\n      <td>4359908680</td>\n      <td>2.983</td>\n    </tr>\n    <tr>\n      <th>3</th>\n      <td>AMER3</td>\n      <td>AMERICANAS</td>\n      <td>ON      NM</td>\n      <td>571352399</td>\n      <td>0.792</td>\n    </tr>\n    <tr>\n      <th>4</th>\n      <td>ASAI3</td>\n      <td>ASSAI</td>\n      <td>ON      NM</td>\n      <td>794310097</td>\n      <td>0.484</td>\n    </tr>\n    <tr>\n      <th>...</th>\n      <td>...</td>\n      <td>...</td>\n      <td>...</td>\n      <td>...</td>\n      <td>...</td>\n    </tr>\n    <tr>\n      <th>86</th>\n      <td>VALE3</td>\n      <td>VALE</td>\n      <td>ON      NM</td>\n      <td>3843570705</td>\n      <td>15.622</td>\n    </tr>\n    <tr>\n      <th>87</th>\n      <td>VIIA3</td>\n      <td>VIA</td>\n      <td>ON      NM</td>\n      <td>1596295753</td>\n      <td>0.287</td>\n    </tr>\n    <tr>\n      <th>88</th>\n      <td>VBBR3</td>\n      <td>VIBRA</td>\n      <td>ON      NM</td>\n      <td>1131883365</td>\n      <td>1.256</td>\n    </tr>\n    <tr>\n      <th>89</th>\n      <td>WEGE3</td>\n      <td>WEG</td>\n      <td>ON  ED  NM</td>\n      <td>1484859030</td>\n      <td>2.040</td>\n    </tr>\n    <tr>\n      <th>90</th>\n      <td>YDUQ3</td>\n      <td>YDUQS PART</td>\n      <td>ON      NM</td>\n      <td>300833122</td>\n      <td>0.312</td>\n    </tr>\n  </tbody>\n</table>\n<p>91 rows × 5 columns</p>\n</div>"
     },
     "execution_count": 14,
     "metadata": {},
     "output_type": "execute_result"
    }
   ],
   "source": [
    "data = pd.read_excel(\"IBOVDia_23-02-22.xlsx\", engine='openpyxl')\n",
    "data\n"
   ],
   "metadata": {
    "collapsed": false,
    "pycharm": {
     "name": "#%%\n"
    }
   }
  },
  {
   "cell_type": "code",
   "execution_count": 15,
   "outputs": [
    {
     "data": {
      "text/plain": "   Código          Ação        Tipo  Qtde. Teórica  Part. (%)\n0   RRRP3  3R PETROLEUM  ON      NM      199733824      0.335\n1   ALPA4    ALPARGATAS  PN      N1      167963777      0.210\n2   ABEV3     AMBEV S/A          ON     4359908680      2.983\n3   AMER3    AMERICANAS  ON      NM      571352399      0.792\n4   ASAI3         ASSAI  ON      NM      794310097      0.484\n..    ...           ...         ...            ...        ...\n86  VALE3          VALE  ON      NM     3843570705     15.622\n87  VIIA3           VIA  ON      NM     1596295753      0.287\n88  VBBR3         VIBRA  ON      NM     1131883365      1.256\n89  WEGE3           WEG  ON  ED  NM     1484859030      2.040\n90  YDUQ3    YDUQS PART  ON      NM      300833122      0.312\n\n[91 rows x 5 columns]",
      "text/html": "<div>\n<style scoped>\n    .dataframe tbody tr th:only-of-type {\n        vertical-align: middle;\n    }\n\n    .dataframe tbody tr th {\n        vertical-align: top;\n    }\n\n    .dataframe thead th {\n        text-align: right;\n    }\n</style>\n<table border=\"1\" class=\"dataframe\">\n  <thead>\n    <tr style=\"text-align: right;\">\n      <th></th>\n      <th>Código</th>\n      <th>Ação</th>\n      <th>Tipo</th>\n      <th>Qtde. Teórica</th>\n      <th>Part. (%)</th>\n    </tr>\n  </thead>\n  <tbody>\n    <tr>\n      <th>0</th>\n      <td>RRRP3</td>\n      <td>3R PETROLEUM</td>\n      <td>ON      NM</td>\n      <td>199733824</td>\n      <td>0.335</td>\n    </tr>\n    <tr>\n      <th>1</th>\n      <td>ALPA4</td>\n      <td>ALPARGATAS</td>\n      <td>PN      N1</td>\n      <td>167963777</td>\n      <td>0.210</td>\n    </tr>\n    <tr>\n      <th>2</th>\n      <td>ABEV3</td>\n      <td>AMBEV S/A</td>\n      <td>ON</td>\n      <td>4359908680</td>\n      <td>2.983</td>\n    </tr>\n    <tr>\n      <th>3</th>\n      <td>AMER3</td>\n      <td>AMERICANAS</td>\n      <td>ON      NM</td>\n      <td>571352399</td>\n      <td>0.792</td>\n    </tr>\n    <tr>\n      <th>4</th>\n      <td>ASAI3</td>\n      <td>ASSAI</td>\n      <td>ON      NM</td>\n      <td>794310097</td>\n      <td>0.484</td>\n    </tr>\n    <tr>\n      <th>...</th>\n      <td>...</td>\n      <td>...</td>\n      <td>...</td>\n      <td>...</td>\n      <td>...</td>\n    </tr>\n    <tr>\n      <th>86</th>\n      <td>VALE3</td>\n      <td>VALE</td>\n      <td>ON      NM</td>\n      <td>3843570705</td>\n      <td>15.622</td>\n    </tr>\n    <tr>\n      <th>87</th>\n      <td>VIIA3</td>\n      <td>VIA</td>\n      <td>ON      NM</td>\n      <td>1596295753</td>\n      <td>0.287</td>\n    </tr>\n    <tr>\n      <th>88</th>\n      <td>VBBR3</td>\n      <td>VIBRA</td>\n      <td>ON      NM</td>\n      <td>1131883365</td>\n      <td>1.256</td>\n    </tr>\n    <tr>\n      <th>89</th>\n      <td>WEGE3</td>\n      <td>WEG</td>\n      <td>ON  ED  NM</td>\n      <td>1484859030</td>\n      <td>2.040</td>\n    </tr>\n    <tr>\n      <th>90</th>\n      <td>YDUQ3</td>\n      <td>YDUQS PART</td>\n      <td>ON      NM</td>\n      <td>300833122</td>\n      <td>0.312</td>\n    </tr>\n  </tbody>\n</table>\n<p>91 rows × 5 columns</p>\n</div>"
     },
     "execution_count": 15,
     "metadata": {},
     "output_type": "execute_result"
    }
   ],
   "source": [
    "data"
   ],
   "metadata": {
    "collapsed": false,
    "pycharm": {
     "name": "#%%\n"
    }
   }
  },
  {
   "cell_type": "code",
   "execution_count": 16,
   "outputs": [],
   "source": [
    "#Define as funcoes\n",
    "def getSector(nomeDoAtivo):\n",
    "    setor = yf.Ticker(nomeDoAtivo)\n",
    "    print('ok')\n",
    "    return setor.info['sector']\n",
    "\n",
    "\n",
    "def get_stocks(nomeDoAtivo):\n",
    "    # stock = yf.download(nomeDoAtivo, start=dataInicio, end=dataFim, interval='1d')\n",
    "    stock = yf.download(nomeDoAtivo, interval='1d')\n",
    "    return stock\n",
    "\n",
    "def getReturns(nomeDoAtivo, stockDict):\n",
    "    data = pd.DataFrame(stockDict[nomeDoAtivo])\n",
    "    retorno = data['Close'].pct_change()\n",
    "    return retorno\n",
    "\n",
    "def getDiscounts(df):\n",
    "    maxPrice = df['Close'].describe()['75%']\n",
    "    minPrice = df['Close'].iloc[-1]\n",
    "    return (minPrice - maxPrice)/maxPrice\n",
    "\n",
    "def previsaoProfeta(dataFrameAtivo, qtdDiasPrevisao):\n",
    "    from fbprophet import Prophet\n",
    "    df = pd.DataFrame()\n",
    "    df['y'] = dataFrameAtivo['Close']\n",
    "    df['ds'] = dataFrameAtivo.index\n",
    "\n",
    "    modelo = Prophet(daily_seasonality= True)\n",
    "    modelo.fit(df)\n",
    "\n",
    "    futuro = modelo.make_future_dataframe(periods= qtdDiasPrevisao)\n",
    "    predictions = modelo.predict(futuro)\n",
    "\n",
    "    return predictions['yhat'].iloc[-1]\n",
    "\n",
    "def MonteCarlo(dataFrameAtivo, qtdDiasPrevisao):\n",
    "    returns = dataFrameAtivo['Close'].pct_change()\n",
    "    daily_vol = returns.std()\n",
    "    last_price = dataFrameAtivo['Close'][-1]\n",
    "\n",
    "    T = qtdDiasPrevisao\n",
    "    NUM_SIMULATIONS = 10000\n",
    "    df = pd.DataFrame()\n",
    "    last_price_list = []\n",
    "\n",
    "    for x in range(NUM_SIMULATIONS):\n",
    "        count = 0\n",
    "        price_list = []\n",
    "        price = last_price * (1 + np.random.normal(0, daily_vol))\n",
    "        price_list.append(price)\n",
    "\n",
    "        for y in range(T):\n",
    "            if count == qtdDiasPrevisao-1:\n",
    "                break\n",
    "            price = price_list[count]* (1 + np.random.normal(0, daily_vol))\n",
    "            price_list.append(price)\n",
    "            count += 1\n",
    "\n",
    "        df[x] = price_list\n",
    "        last_price_list.append(price_list[-1])\n",
    "\n",
    "    max_drop = np.percentile(last_price_list,5)\n",
    "    max_top = np.percentile(last_price_list,95)\n",
    "    expected_value = round(np.mean(last_price_list),2)\n",
    "\n",
    "    return max_drop, max_top, expected_value"
   ],
   "metadata": {
    "collapsed": false,
    "pycharm": {
     "name": "#%%\n"
    }
   }
  },
  {
   "cell_type": "code",
   "execution_count": 17,
   "outputs": [],
   "source": [
    "qtdDiasDados = 1250\n",
    "qtdDiasPrevisao = 30"
   ],
   "metadata": {
    "collapsed": false,
    "pycharm": {
     "name": "#%%\n"
    }
   }
  },
  {
   "cell_type": "code",
   "execution_count": 18,
   "outputs": [
    {
     "name": "stdout",
     "output_type": "stream",
     "text": [
      "[*********************100%***********************]  1 of 1 completed\n",
      "[*********************100%***********************]  1 of 1 completed\n",
      "[*********************100%***********************]  1 of 1 completed\n",
      "[*********************100%***********************]  1 of 1 completed\n",
      "[*********************100%***********************]  1 of 1 completed\n",
      "[*********************100%***********************]  1 of 1 completed\n",
      "[*********************100%***********************]  1 of 1 completed\n",
      "[*********************100%***********************]  1 of 1 completed\n",
      "[*********************100%***********************]  1 of 1 completed\n",
      "[*********************100%***********************]  1 of 1 completed\n",
      "[*********************100%***********************]  1 of 1 completed\n",
      "[*********************100%***********************]  1 of 1 completed\n",
      "[*********************100%***********************]  1 of 1 completed\n",
      "[*********************100%***********************]  1 of 1 completed\n",
      "[*********************100%***********************]  1 of 1 completed\n",
      "[*********************100%***********************]  1 of 1 completed\n",
      "[*********************100%***********************]  1 of 1 completed\n",
      "[*********************100%***********************]  1 of 1 completed\n",
      "[*********************100%***********************]  1 of 1 completed\n",
      "[*********************100%***********************]  1 of 1 completed\n",
      "[*********************100%***********************]  1 of 1 completed\n",
      "[*********************100%***********************]  1 of 1 completed\n",
      "[*********************100%***********************]  1 of 1 completed\n",
      "[*********************100%***********************]  1 of 1 completed\n",
      "[*********************100%***********************]  1 of 1 completed\n",
      "[*********************100%***********************]  1 of 1 completed\n",
      "[*********************100%***********************]  1 of 1 completed\n",
      "[*********************100%***********************]  1 of 1 completed\n",
      "[*********************100%***********************]  1 of 1 completed\n",
      "[*********************100%***********************]  1 of 1 completed\n",
      "[*********************100%***********************]  1 of 1 completed\n",
      "[*********************100%***********************]  1 of 1 completed\n",
      "[*********************100%***********************]  1 of 1 completed\n",
      "[*********************100%***********************]  1 of 1 completed\n",
      "[*********************100%***********************]  1 of 1 completed\n",
      "[*********************100%***********************]  1 of 1 completed\n",
      "[*********************100%***********************]  1 of 1 completed\n",
      "[*********************100%***********************]  1 of 1 completed\n",
      "[*********************100%***********************]  1 of 1 completed\n",
      "[*********************100%***********************]  1 of 1 completed\n",
      "[*********************100%***********************]  1 of 1 completed\n",
      "[*********************100%***********************]  1 of 1 completed\n",
      "[*********************100%***********************]  1 of 1 completed\n",
      "[*********************100%***********************]  1 of 1 completed\n",
      "[*********************100%***********************]  1 of 1 completed\n",
      "[*********************100%***********************]  1 of 1 completed\n",
      "[*********************100%***********************]  1 of 1 completed\n",
      "[*********************100%***********************]  1 of 1 completed\n",
      "[*********************100%***********************]  1 of 1 completed\n",
      "[*********************100%***********************]  1 of 1 completed\n",
      "[*********************100%***********************]  1 of 1 completed\n",
      "[*********************100%***********************]  1 of 1 completed\n",
      "[*********************100%***********************]  1 of 1 completed\n",
      "[*********************100%***********************]  1 of 1 completed\n",
      "[*********************100%***********************]  1 of 1 completed\n",
      "[*********************100%***********************]  1 of 1 completed\n",
      "[*********************100%***********************]  1 of 1 completed\n",
      "[*********************100%***********************]  1 of 1 completed\n",
      "[*********************100%***********************]  1 of 1 completed\n",
      "[*********************100%***********************]  1 of 1 completed\n",
      "[*********************100%***********************]  1 of 1 completed\n",
      "[*********************100%***********************]  1 of 1 completed\n",
      "[*********************100%***********************]  1 of 1 completed\n",
      "[*********************100%***********************]  1 of 1 completed\n",
      "[*********************100%***********************]  1 of 1 completed\n",
      "[*********************100%***********************]  1 of 1 completed\n",
      "[*********************100%***********************]  1 of 1 completed\n",
      "[*********************100%***********************]  1 of 1 completed\n",
      "[*********************100%***********************]  1 of 1 completed\n",
      "[*********************100%***********************]  1 of 1 completed\n",
      "[*********************100%***********************]  1 of 1 completed\n",
      "[*********************100%***********************]  1 of 1 completed\n",
      "[*********************100%***********************]  1 of 1 completed\n",
      "[*********************100%***********************]  1 of 1 completed\n",
      "[*********************100%***********************]  1 of 1 completed\n",
      "[*********************100%***********************]  1 of 1 completed\n",
      "[*********************100%***********************]  1 of 1 completed\n",
      "[*********************100%***********************]  1 of 1 completed\n",
      "[*********************100%***********************]  1 of 1 completed\n",
      "[*********************100%***********************]  1 of 1 completed\n",
      "[*********************100%***********************]  1 of 1 completed\n",
      "[*********************100%***********************]  1 of 1 completed\n",
      "[*********************100%***********************]  1 of 1 completed\n",
      "[*********************100%***********************]  1 of 1 completed\n",
      "[*********************100%***********************]  1 of 1 completed\n",
      "[*********************100%***********************]  1 of 1 completed\n",
      "[*********************100%***********************]  1 of 1 completed\n",
      "[*********************100%***********************]  1 of 1 completed\n",
      "[*********************100%***********************]  1 of 1 completed\n",
      "[*********************100%***********************]  1 of 1 completed\n",
      "[*********************100%***********************]  1 of 1 completed\n"
     ]
    }
   ],
   "source": [
    "dataFim = datetime.strptime(\"2020-01-10\", \"%Y-%m-%d\")\n",
    "dataInicio = dataFim - timedelta(days = qtdDiasDados)\n",
    "\n",
    "df = data\n",
    "\n",
    "symbols = df['Código'] + '.SA'\n",
    "tickers = [tick for tick in symbols]\n",
    "\n",
    "stockDict = {}\n",
    "\n",
    "for tick in tickers:\n",
    "    try:\n",
    "        stockDict[tick] = get_stocks(tick)\n",
    "    except:\n",
    "        print('NAO DEU CERTO PARA O ATIVO : ', tick)"
   ],
   "metadata": {
    "collapsed": false,
    "pycharm": {
     "name": "#%%\n"
    }
   }
  },
  {
   "cell_type": "code",
   "execution_count": 19,
   "outputs": [],
   "source": [
    "#Calcula os retornos\n",
    "retornosDict = {}\n",
    "\n",
    "for chave in stockDict.keys():\n",
    "    try:\n",
    "        #print('Calculando retornos do ativo: ', chave)\n",
    "        retornosDict[chave] = getReturns(chave, stockDict)\n",
    "    except:\n",
    "        print('Não rolou calcular o retorno do ativo: ', chave)"
   ],
   "metadata": {
    "collapsed": false,
    "pycharm": {
     "name": "#%%\n"
    }
   }
  },
  {
   "cell_type": "code",
   "execution_count": 20,
   "outputs": [],
   "source": [
    "descontosDict = {}\n",
    "\n",
    "for tick in stockDict.keys():\n",
    "    try:\n",
    "        descontosDict[tick] = getDiscounts(stockDict[tick])\n",
    "    except:\n",
    "        #print(\"NAO DEU PARA O ATIVO: \", tick)\n",
    "        print('')"
   ],
   "metadata": {
    "collapsed": false,
    "pycharm": {
     "name": "#%%\n"
    }
   }
  },
  {
   "cell_type": "code",
   "execution_count": 21,
   "outputs": [],
   "source": [
    "stockInfoDf = pd.DataFrame.from_dict(descontosDict, orient = 'index').reset_index()\n",
    "stockInfoDf.columns = ['ticker', 'desconto']"
   ],
   "metadata": {
    "collapsed": false,
    "pycharm": {
     "name": "#%%\n"
    }
   }
  },
  {
   "cell_type": "code",
   "execution_count": 22,
   "outputs": [
    {
     "data": {
      "text/plain": "      ticker  desconto     risco   retorno  precoAtual\n0   RRRP3.SA -0.116348  0.031734  0.002246   36.000000\n1   ALPA4.SA  1.045455  0.024088  0.000850   27.000000\n2   ABEV3.SA -0.131953  0.018774  0.000777   14.670000\n3   AMER3.SA -0.322440  0.036822  0.000774   30.040001\n4   ASAI3.SA -0.251018  0.019726 -0.000170   13.060000\n..       ...       ...       ...       ...         ...\n86  VALE3.SA  0.817973  0.025745  0.000909   87.190002\n87  VIIA3.SA -0.411321  0.042162  0.001079    3.900000\n88  VBBR3.SA -0.081703  0.028353  0.000458   23.940001\n89  WEGE3.SA  3.633012  0.021227  0.001148   29.580000\n90  YDUQ3.SA -0.172963  0.029779  0.000749   22.330000\n\n[91 rows x 5 columns]",
      "text/html": "<div>\n<style scoped>\n    .dataframe tbody tr th:only-of-type {\n        vertical-align: middle;\n    }\n\n    .dataframe tbody tr th {\n        vertical-align: top;\n    }\n\n    .dataframe thead th {\n        text-align: right;\n    }\n</style>\n<table border=\"1\" class=\"dataframe\">\n  <thead>\n    <tr style=\"text-align: right;\">\n      <th></th>\n      <th>ticker</th>\n      <th>desconto</th>\n      <th>risco</th>\n      <th>retorno</th>\n      <th>precoAtual</th>\n    </tr>\n  </thead>\n  <tbody>\n    <tr>\n      <th>0</th>\n      <td>RRRP3.SA</td>\n      <td>-0.116348</td>\n      <td>0.031734</td>\n      <td>0.002246</td>\n      <td>36.000000</td>\n    </tr>\n    <tr>\n      <th>1</th>\n      <td>ALPA4.SA</td>\n      <td>1.045455</td>\n      <td>0.024088</td>\n      <td>0.000850</td>\n      <td>27.000000</td>\n    </tr>\n    <tr>\n      <th>2</th>\n      <td>ABEV3.SA</td>\n      <td>-0.131953</td>\n      <td>0.018774</td>\n      <td>0.000777</td>\n      <td>14.670000</td>\n    </tr>\n    <tr>\n      <th>3</th>\n      <td>AMER3.SA</td>\n      <td>-0.322440</td>\n      <td>0.036822</td>\n      <td>0.000774</td>\n      <td>30.040001</td>\n    </tr>\n    <tr>\n      <th>4</th>\n      <td>ASAI3.SA</td>\n      <td>-0.251018</td>\n      <td>0.019726</td>\n      <td>-0.000170</td>\n      <td>13.060000</td>\n    </tr>\n    <tr>\n      <th>...</th>\n      <td>...</td>\n      <td>...</td>\n      <td>...</td>\n      <td>...</td>\n      <td>...</td>\n    </tr>\n    <tr>\n      <th>86</th>\n      <td>VALE3.SA</td>\n      <td>0.817973</td>\n      <td>0.025745</td>\n      <td>0.000909</td>\n      <td>87.190002</td>\n    </tr>\n    <tr>\n      <th>87</th>\n      <td>VIIA3.SA</td>\n      <td>-0.411321</td>\n      <td>0.042162</td>\n      <td>0.001079</td>\n      <td>3.900000</td>\n    </tr>\n    <tr>\n      <th>88</th>\n      <td>VBBR3.SA</td>\n      <td>-0.081703</td>\n      <td>0.028353</td>\n      <td>0.000458</td>\n      <td>23.940001</td>\n    </tr>\n    <tr>\n      <th>89</th>\n      <td>WEGE3.SA</td>\n      <td>3.633012</td>\n      <td>0.021227</td>\n      <td>0.001148</td>\n      <td>29.580000</td>\n    </tr>\n    <tr>\n      <th>90</th>\n      <td>YDUQ3.SA</td>\n      <td>-0.172963</td>\n      <td>0.029779</td>\n      <td>0.000749</td>\n      <td>22.330000</td>\n    </tr>\n  </tbody>\n</table>\n<p>91 rows × 5 columns</p>\n</div>"
     },
     "execution_count": 22,
     "metadata": {},
     "output_type": "execute_result"
    }
   ],
   "source": [
    "rtnList = []\n",
    "\n",
    "for tick in descontosDict.keys():\n",
    "    try:\n",
    "        rtnList.append(retornosDict[tick].mean())\n",
    "    except:\n",
    "        print(\"NAO DEU CERTO PARA O ATIVO: \",tick)\n",
    "\n",
    "stdList = []\n",
    "\n",
    "for tick in descontosDict.keys():\n",
    "    try:\n",
    "        stdList.append(retornosDict[tick].std())\n",
    "    except:\n",
    "        print(\"NAO DEU PARA O ATIVO: \", tick)\n",
    "\n",
    "stockInfoDf['risco'] = stdList\n",
    "stockInfoDf['retorno'] = rtnList\n",
    "stockInfoDf['precoAtual'] = [stockDict[tick]['Adj Close'].iloc[-1] for tick in stockInfoDf['ticker']]\n",
    "\n",
    "stockInfoDf"
   ],
   "metadata": {
    "collapsed": false,
    "pycharm": {
     "name": "#%%\n"
    }
   }
  },
  {
   "cell_type": "code",
   "execution_count": 23,
   "outputs": [
    {
     "name": "stderr",
     "output_type": "stream",
     "text": [
      "INFO:fbprophet:Disabling yearly seasonality. Run prophet with yearly_seasonality=True to override this.\n"
     ]
    },
    {
     "name": "stdout",
     "output_type": "stream",
     "text": [
      "PREVENDO O VALOR FUTURO DO ATIVO RRRP3.SA\n",
      "PREVENDO O VALOR FUTURO DO ATIVO ALPA4.SA\n",
      "PREVENDO O VALOR FUTURO DO ATIVO ABEV3.SA\n"
     ]
    },
    {
     "name": "stderr",
     "output_type": "stream",
     "text": [
      "INFO:fbprophet:Disabling yearly seasonality. Run prophet with yearly_seasonality=True to override this.\n"
     ]
    },
    {
     "name": "stdout",
     "output_type": "stream",
     "text": [
      "PREVENDO O VALOR FUTURO DO ATIVO AMER3.SA\n",
      "PREVENDO O VALOR FUTURO DO ATIVO ASAI3.SA\n",
      "PREVENDO O VALOR FUTURO DO ATIVO AZUL4.SA\n",
      "PREVENDO O VALOR FUTURO DO ATIVO B3SA3.SA\n",
      "PREVENDO O VALOR FUTURO DO ATIVO BIDI11.SA\n",
      "PREVENDO O VALOR FUTURO DO ATIVO BPAN4.SA\n",
      "PREVENDO O VALOR FUTURO DO ATIVO BBSE3.SA\n",
      "PREVENDO O VALOR FUTURO DO ATIVO BRML3.SA\n",
      "PREVENDO O VALOR FUTURO DO ATIVO BBDC3.SA\n",
      "PREVENDO O VALOR FUTURO DO ATIVO BBDC4.SA\n",
      "PREVENDO O VALOR FUTURO DO ATIVO BRAP4.SA\n",
      "PREVENDO O VALOR FUTURO DO ATIVO BBAS3.SA\n",
      "PREVENDO O VALOR FUTURO DO ATIVO BRKM5.SA\n",
      "PREVENDO O VALOR FUTURO DO ATIVO BRFS3.SA\n",
      "PREVENDO O VALOR FUTURO DO ATIVO BPAC11.SA\n",
      "PREVENDO O VALOR FUTURO DO ATIVO CRFB3.SA\n",
      "PREVENDO O VALOR FUTURO DO ATIVO CCRO3.SA\n",
      "PREVENDO O VALOR FUTURO DO ATIVO CMIG4.SA\n",
      "PREVENDO O VALOR FUTURO DO ATIVO CIEL3.SA\n",
      "PREVENDO O VALOR FUTURO DO ATIVO COGN3.SA\n",
      "PREVENDO O VALOR FUTURO DO ATIVO CPLE6.SA\n",
      "PREVENDO O VALOR FUTURO DO ATIVO CSAN3.SA\n"
     ]
    },
    {
     "name": "stderr",
     "output_type": "stream",
     "text": [
      "INFO:fbprophet:Disabling yearly seasonality. Run prophet with yearly_seasonality=True to override this.\n"
     ]
    },
    {
     "name": "stdout",
     "output_type": "stream",
     "text": [
      "PREVENDO O VALOR FUTURO DO ATIVO CPFE3.SA\n",
      "PREVENDO O VALOR FUTURO DO ATIVO CMIN3.SA\n",
      "PREVENDO O VALOR FUTURO DO ATIVO CVCB3.SA\n",
      "PREVENDO O VALOR FUTURO DO ATIVO CYRE3.SA\n",
      "PREVENDO O VALOR FUTURO DO ATIVO DXCO3.SA\n",
      "PREVENDO O VALOR FUTURO DO ATIVO ECOR3.SA\n",
      "PREVENDO O VALOR FUTURO DO ATIVO ELET3.SA\n",
      "PREVENDO O VALOR FUTURO DO ATIVO ELET6.SA\n",
      "PREVENDO O VALOR FUTURO DO ATIVO EMBR3.SA\n",
      "PREVENDO O VALOR FUTURO DO ATIVO ENBR3.SA\n",
      "PREVENDO O VALOR FUTURO DO ATIVO ENGI11.SA\n",
      "PREVENDO O VALOR FUTURO DO ATIVO ENEV3.SA\n",
      "PREVENDO O VALOR FUTURO DO ATIVO EGIE3.SA\n",
      "PREVENDO O VALOR FUTURO DO ATIVO EQTL3.SA\n",
      "PREVENDO O VALOR FUTURO DO ATIVO EZTC3.SA\n",
      "PREVENDO O VALOR FUTURO DO ATIVO FLRY3.SA\n",
      "PREVENDO O VALOR FUTURO DO ATIVO GGBR4.SA\n",
      "PREVENDO O VALOR FUTURO DO ATIVO GOAU4.SA\n",
      "PREVENDO O VALOR FUTURO DO ATIVO GOLL4.SA\n"
     ]
    },
    {
     "name": "stderr",
     "output_type": "stream",
     "text": [
      "INFO:fbprophet:Disabling yearly seasonality. Run prophet with yearly_seasonality=True to override this.\n"
     ]
    },
    {
     "name": "stdout",
     "output_type": "stream",
     "text": [
      "PREVENDO O VALOR FUTURO DO ATIVO NTCO3.SA\n",
      "PREVENDO O VALOR FUTURO DO ATIVO SOMA3.SA\n",
      "PREVENDO O VALOR FUTURO DO ATIVO HAPV3.SA\n"
     ]
    },
    {
     "name": "stderr",
     "output_type": "stream",
     "text": [
      "INFO:fbprophet:Disabling yearly seasonality. Run prophet with yearly_seasonality=True to override this.\n"
     ]
    },
    {
     "name": "stdout",
     "output_type": "stream",
     "text": [
      "PREVENDO O VALOR FUTURO DO ATIVO HYPE3.SA\n",
      "PREVENDO O VALOR FUTURO DO ATIVO IGTI11.SA\n",
      "PREVENDO O VALOR FUTURO DO ATIVO IRBR3.SA\n",
      "PREVENDO O VALOR FUTURO DO ATIVO ITSA4.SA\n",
      "PREVENDO O VALOR FUTURO DO ATIVO ITUB4.SA\n",
      "PREVENDO O VALOR FUTURO DO ATIVO JBSS3.SA\n",
      "PREVENDO O VALOR FUTURO DO ATIVO JHSF3.SA\n",
      "PREVENDO O VALOR FUTURO DO ATIVO KLBN11.SA\n",
      "PREVENDO O VALOR FUTURO DO ATIVO RENT3.SA\n",
      "PREVENDO O VALOR FUTURO DO ATIVO LCAM3.SA\n",
      "PREVENDO O VALOR FUTURO DO ATIVO LWSA3.SA\n",
      "PREVENDO O VALOR FUTURO DO ATIVO LREN3.SA\n",
      "PREVENDO O VALOR FUTURO DO ATIVO MGLU3.SA\n"
     ]
    },
    {
     "name": "stderr",
     "output_type": "stream",
     "text": [
      "INFO:fbprophet:Disabling yearly seasonality. Run prophet with yearly_seasonality=True to override this.\n"
     ]
    },
    {
     "name": "stdout",
     "output_type": "stream",
     "text": [
      "PREVENDO O VALOR FUTURO DO ATIVO MRFG3.SA\n",
      "PREVENDO O VALOR FUTURO DO ATIVO CASH3.SA\n",
      "PREVENDO O VALOR FUTURO DO ATIVO BEEF3.SA\n",
      "PREVENDO O VALOR FUTURO DO ATIVO MRVE3.SA\n",
      "PREVENDO O VALOR FUTURO DO ATIVO MULT3.SA\n",
      "PREVENDO O VALOR FUTURO DO ATIVO PCAR3.SA\n",
      "PREVENDO O VALOR FUTURO DO ATIVO PETR3.SA\n",
      "PREVENDO O VALOR FUTURO DO ATIVO PETR4.SA\n"
     ]
    },
    {
     "name": "stderr",
     "output_type": "stream",
     "text": [
      "INFO:fbprophet:Disabling yearly seasonality. Run prophet with yearly_seasonality=True to override this.\n"
     ]
    },
    {
     "name": "stdout",
     "output_type": "stream",
     "text": [
      "PREVENDO O VALOR FUTURO DO ATIVO PRIO3.SA\n",
      "PREVENDO O VALOR FUTURO DO ATIVO PETZ3.SA\n",
      "PREVENDO O VALOR FUTURO DO ATIVO POSI3.SA\n",
      "PREVENDO O VALOR FUTURO DO ATIVO QUAL3.SA\n"
     ]
    },
    {
     "name": "stderr",
     "output_type": "stream",
     "text": [
      "INFO:fbprophet:Disabling yearly seasonality. Run prophet with yearly_seasonality=True to override this.\n"
     ]
    },
    {
     "name": "stdout",
     "output_type": "stream",
     "text": [
      "PREVENDO O VALOR FUTURO DO ATIVO RADL3.SA\n",
      "PREVENDO O VALOR FUTURO DO ATIVO RDOR3.SA\n",
      "PREVENDO O VALOR FUTURO DO ATIVO RAIL3.SA\n",
      "PREVENDO O VALOR FUTURO DO ATIVO SBSP3.SA\n",
      "PREVENDO O VALOR FUTURO DO ATIVO SANB11.SA\n",
      "PREVENDO O VALOR FUTURO DO ATIVO CSNA3.SA\n",
      "PREVENDO O VALOR FUTURO DO ATIVO SULA11.SA\n",
      "PREVENDO O VALOR FUTURO DO ATIVO SUZB3.SA\n",
      "PREVENDO O VALOR FUTURO DO ATIVO TAEE11.SA\n",
      "PREVENDO O VALOR FUTURO DO ATIVO VIVT3.SA\n",
      "PREVENDO O VALOR FUTURO DO ATIVO TIMS3.SA\n",
      "PREVENDO O VALOR FUTURO DO ATIVO TOTS3.SA\n",
      "PREVENDO O VALOR FUTURO DO ATIVO UGPA3.SA\n",
      "PREVENDO O VALOR FUTURO DO ATIVO USIM5.SA\n",
      "PREVENDO O VALOR FUTURO DO ATIVO VALE3.SA\n",
      "PREVENDO O VALOR FUTURO DO ATIVO VIIA3.SA\n",
      "PREVENDO O VALOR FUTURO DO ATIVO VBBR3.SA\n",
      "PREVENDO O VALOR FUTURO DO ATIVO WEGE3.SA\n",
      "PREVENDO O VALOR FUTURO DO ATIVO YDUQ3.SA\n"
     ]
    }
   ],
   "source": [
    "previsaoDict = {}\n",
    "\n",
    "for tick in descontosDict.keys():\n",
    "    try:\n",
    "        previsaoDict[tick] = previsaoProfeta(stockDict[tick], qtdDiasPrevisao)\n",
    "        print(\"PREVENDO O VALOR FUTURO DO ATIVO\", tick)\n",
    "    except:\n",
    "        print(\"NAO DEU CERTO PARA O ATIVO\", tick)"
   ],
   "metadata": {
    "collapsed": false,
    "pycharm": {
     "name": "#%%\n"
    }
   }
  },
  {
   "cell_type": "code",
   "execution_count": 24,
   "outputs": [],
   "source": [
    "previsaoDf = pd.DataFrame.from_dict(previsaoDict, orient='index').reset_index()\n",
    "previsaoDf.columns = ['ticker', 'previsao']\n",
    "stockInfoDf['previsao'] = previsaoDf['previsao']"
   ],
   "metadata": {
    "collapsed": false,
    "pycharm": {
     "name": "#%%\n"
    }
   }
  },
  {
   "cell_type": "code",
   "execution_count": 25,
   "outputs": [
    {
     "name": "stdout",
     "output_type": "stream",
     "text": [
      "MONTECARLO DO ATIVO:  RRRP3.SA\n",
      "(26.553240912779508, 47.40667627246397, 36.01)\n",
      "MONTECARLO DO ATIVO:  ALPA4.SA\n",
      "(21.665652579559634, 33.24749785878304, 27.03)\n",
      "MONTECARLO DO ATIVO:  ABEV3.SA\n",
      "(12.316929310204584, 17.225631361531633, 14.67)\n",
      "MONTECARLO DO ATIVO:  AMER3.SA\n",
      "(21.01142999630724, 40.82704250043952, 29.99)\n",
      "MONTECARLO DO ATIVO:  ASAI3.SA\n",
      "(10.857704485098846, 15.551845846579997, 13.06)\n",
      "MONTECARLO DO ATIVO:  AZUL4.SA\n",
      "(19.07093024816793, 38.91848474605834, 28.08)\n",
      "MONTECARLO DO ATIVO:  B3SA3.SA\n",
      "(10.931311955589534, 18.712630421389715, 14.49)\n",
      "MONTECARLO DO ATIVO:  BIDI11.SA\n",
      "(14.9117235068063, 35.26986318885213, 23.8)\n",
      "MONTECARLO DO ATIVO:  BPAN4.SA\n",
      "(7.430856378743523, 13.741714949864136, 10.29)\n",
      "MONTECARLO DO ATIVO:  BBSE3.SA\n",
      "(19.31286189048873, 27.52519588063633, 23.19)\n",
      "MONTECARLO DO ATIVO:  BRML3.SA\n",
      "(7.434645152988572, 12.318223850608657, 9.7)\n",
      "MONTECARLO DO ATIVO:  BBDC3.SA\n",
      "(14.244612664044052, 21.567288506455643, 17.67)\n",
      "MONTECARLO DO ATIVO:  BBDC4.SA\n",
      "(16.72832706804953, 25.800709550202267, 20.99)\n",
      "MONTECARLO DO ATIVO:  BRAP4.SA\n",
      "(21.893370717209788, 38.53826109462231, 29.53)\n",
      "MONTECARLO DO ATIVO:  BBAS3.SA\n",
      "(27.674373435471466, 45.339905391970404, 35.85)\n",
      "MONTECARLO DO ATIVO:  BRKM5.SA\n",
      "(-15378816836185.344, 15676622878942.48, -232074329770403.2)\n",
      "MONTECARLO DO ATIVO:  BRFS3.SA\n",
      "(14.483473860422743, 25.2554690223817, 19.38)\n",
      "MONTECARLO DO ATIVO:  BPAC11.SA\n",
      "(18.935984638237628, 33.26159704785158, 25.48)\n",
      "MONTECARLO DO ATIVO:  CRFB3.SA\n",
      "(14.844157183191367, 21.43631776389994, 17.94)\n",
      "MONTECARLO DO ATIVO:  CCRO3.SA\n",
      "(10.136279399479815, 15.918704351241228, 12.82)\n",
      "MONTECARLO DO ATIVO:  CMIG4.SA\n",
      "(3.3375622880797104, 31.77323466369124, 12.92)\n",
      "MONTECARLO DO ATIVO:  CIEL3.SA\n",
      "(2.0674611706405015, 3.25284113670632, 2.62)\n",
      "MONTECARLO DO ATIVO:  COGN3.SA\n",
      "(1.7287522121866392, 3.3343017563170885, 2.45)\n",
      "MONTECARLO DO ATIVO:  CPLE6.SA\n",
      "(5.702819775023647, 8.943465261557021, 7.21)\n",
      "MONTECARLO DO ATIVO:  CSAN3.SA\n",
      "(15.964688356095055, 25.993594243324956, 20.62)\n",
      "MONTECARLO DO ATIVO:  CPFE3.SA\n",
      "(0.9078230950006421, 112.04035514761519, 30.58)\n",
      "MONTECARLO DO ATIVO:  CMIN3.SA\n",
      "(4.870633571048705, 7.872096352405572, 6.26)\n",
      "MONTECARLO DO ATIVO:  CVCB3.SA\n",
      "(10.09315667497674, 18.76615815040494, 14.03)\n",
      "MONTECARLO DO ATIVO:  CYRE3.SA\n",
      "(11.256396580891114, 21.495041612323682, 15.87)\n",
      "MONTECARLO DO ATIVO:  DXCO3.SA\n",
      "(14.671925215147548, 23.788244389103987, 18.87)\n",
      "MONTECARLO DO ATIVO:  ECOR3.SA\n",
      "(5.451634861450287, 8.459210949880708, 6.86)\n",
      "MONTECARLO DO ATIVO:  ELET3.SA\n",
      "(24.953334154532538, 45.02264070989111, 34.17)\n",
      "MONTECARLO DO ATIVO:  ELET6.SA\n",
      "(25.59126680343493, 43.37053690476635, 33.86)\n",
      "MONTECARLO DO ATIVO:  EMBR3.SA\n",
      "(13.730162481523442, 22.185573485535926, 17.61)\n",
      "MONTECARLO DO ATIVO:  ENBR3.SA\n",
      "(18.04876448738763, 24.818866830324417, 21.25)\n",
      "MONTECARLO DO ATIVO:  ENGI11.SA\n",
      "(36.17328892135383, 52.82303444391111, 44.03)\n",
      "MONTECARLO DO ATIVO:  ENEV3.SA\n",
      "(9.852969494565912, 18.33800849451178, 13.69)\n",
      "MONTECARLO DO ATIVO:  EGIE3.SA\n",
      "(32.97472981025564, 49.233952072071496, 40.68)\n",
      "MONTECARLO DO ATIVO:  EQTL3.SA\n",
      "(20.031121277957848, 30.952786344739692, 25.08)\n",
      "MONTECARLO DO ATIVO:  EZTC3.SA\n",
      "(14.291897126994995, 23.316852845356816, 18.48)\n",
      "MONTECARLO DO ATIVO:  FLRY3.SA\n",
      "(15.619078568402168, 22.407105448081037, 18.85)\n",
      "MONTECARLO DO ATIVO:  GGBR4.SA\n",
      "(19.13590063305088, 32.84175772130315, 25.41)\n",
      "MONTECARLO DO ATIVO:  GOAU4.SA\n",
      "(7.778379474819488, 13.779608677468426, 10.52)\n",
      "MONTECARLO DO ATIVO:  GOLL4.SA\n",
      "(12.684812608045181, 26.131618069985635, 18.62)\n",
      "MONTECARLO DO ATIVO:  NTCO3.SA\n",
      "(15.916951196289071, 30.02744348425697, 22.28)\n",
      "MONTECARLO DO ATIVO:  SOMA3.SA\n",
      "(10.026563840983846, 17.167659833389468, 13.29)\n",
      "MONTECARLO DO ATIVO:  HAPV3.SA\n",
      "(9.528322694695204, 15.693788345508304, 12.38)\n",
      "MONTECARLO DO ATIVO:  HYPE3.SA\n",
      "(26.403649350042386, 40.19625738263939, 32.87)\n",
      "MONTECARLO DO ATIVO:  IGTI11.SA\n",
      "(14.218462321544129, 25.0602151814813, 19.2)\n",
      "MONTECARLO DO ATIVO:  IRBR3.SA\n",
      "(2.2490662106611454, 4.321846795670773, 3.19)\n",
      "MONTECARLO DO ATIVO:  ITSA4.SA\n",
      "(7.980023738518584, 12.770236423720663, 10.21)\n",
      "MONTECARLO DO ATIVO:  ITUB4.SA\n",
      "(20.785264834631526, 31.156290824787995, 25.74)\n",
      "MONTECARLO DO ATIVO:  JBSS3.SA\n",
      "(26.864885479411413, 48.19302257477899, 36.63)\n",
      "MONTECARLO DO ATIVO:  JHSF3.SA\n",
      "(4.253475501618379, 7.655120185121118, 5.8)\n",
      "MONTECARLO DO ATIVO:  KLBN11.SA\n",
      "(19.64352321495524, 27.878881073611726, 23.56)\n",
      "MONTECARLO DO ATIVO:  RENT3.SA\n",
      "(47.20829229881025, 77.34244599867705, 61.23)\n",
      "MONTECARLO DO ATIVO:  LCAM3.SA\n",
      "(20.689471593813423, 34.81630264864385, 27.16)\n",
      "MONTECARLO DO ATIVO:  LWSA3.SA\n",
      "(6.36145342299052, 15.134728098791891, 10.14)\n",
      "MONTECARLO DO ATIVO:  LREN3.SA\n",
      "(18.977179436698798, 34.476298359985805, 26.02)\n",
      "MONTECARLO DO ATIVO:  MGLU3.SA\n",
      "(4.259736566833287, 8.402017719930413, 6.11)\n",
      "MONTECARLO DO ATIVO:  MRFG3.SA\n",
      "(16.426563456705544, 28.637169539067266, 22.09)\n",
      "MONTECARLO DO ATIVO:  CASH3.SA\n",
      "(1.410267091843915, 4.057341265116652, 2.52)\n",
      "MONTECARLO DO ATIVO:  BEEF3.SA\n",
      "(7.8772615477033545, 12.805106693920413, 10.15)\n",
      "MONTECARLO DO ATIVO:  MRVE3.SA\n",
      "(9.075311737718684, 16.31876255348608, 12.36)\n",
      "MONTECARLO DO ATIVO:  MULT3.SA\n",
      "(17.79683289799538, 27.319347779307602, 22.27)\n",
      "MONTECARLO DO ATIVO:  PCAR3.SA\n",
      "(15.365371553635622, 29.685039600644735, 21.81)\n",
      "MONTECARLO DO ATIVO:  PETR3.SA\n",
      "(27.94491732221079, 45.86672159134145, 36.22)\n",
      "MONTECARLO DO ATIVO:  PETR4.SA\n",
      "(25.896555065839625, 42.25965328608264, 33.53)\n",
      "MONTECARLO DO ATIVO:  PRIO3.SA\n",
      "(15.254592372601762, 37.00989135102707, 24.64)\n",
      "MONTECARLO DO ATIVO:  PETZ3.SA\n",
      "(13.982960178050208, 23.591821794787982, 18.38)\n",
      "MONTECARLO DO ATIVO:  POSI3.SA\n",
      "(5.98038354688368, 12.12330970427793, 8.69)\n",
      "MONTECARLO DO ATIVO:  QUAL3.SA\n",
      "(12.575874519816626, 20.58315529598699, 16.28)\n",
      "MONTECARLO DO ATIVO:  RADL3.SA\n",
      "(13.255267945033564, 38.7834197001784, 23.86)\n",
      "MONTECARLO DO ATIVO:  RDOR3.SA\n",
      "(41.33762893057905, 61.42949751799322, 50.93)\n",
      "MONTECARLO DO ATIVO:  RAIL3.SA\n",
      "(11.571482150073088, 21.34828091742017, 15.96)\n",
      "MONTECARLO DO ATIVO:  SBSP3.SA\n",
      "(31.574161539001082, 49.495810850039696, 39.86)\n",
      "MONTECARLO DO ATIVO:  SANB11.SA\n",
      "(25.757246323690747, 38.477345989913175, 31.74)\n",
      "MONTECARLO DO ATIVO:  CSNA3.SA\n",
      "(17.92275486509985, 33.011986368046216, 24.81)\n",
      "MONTECARLO DO ATIVO:  SULA11.SA\n",
      "(20.093845391871604, 30.59824568141429, 25.02)\n",
      "MONTECARLO DO ATIVO:  SUZB3.SA\n",
      "(0.43933551820590383, 233.91531825887412, 56.78)\n",
      "MONTECARLO DO ATIVO:  TAEE11.SA\n",
      "(32.8083586160208, 45.54930195385488, 38.86)\n",
      "MONTECARLO DO ATIVO:  VIVT3.SA\n",
      "(40.79006615516184, 58.51310198806902, 49.15)\n",
      "MONTECARLO DO ATIVO:  TIMS3.SA\n",
      "(9.667979009160364, 17.9269390852465, 13.41)\n",
      "MONTECARLO DO ATIVO:  TOTS3.SA\n",
      "(26.163096630514588, 39.718295835606995, 32.52)\n",
      "MONTECARLO DO ATIVO:  UGPA3.SA\n",
      "(12.010068083076499, 18.960951746727062, 15.25)\n",
      "MONTECARLO DO ATIVO:  USIM5.SA\n",
      "(10.680574926143324, 19.694540223340915, 14.76)\n",
      "MONTECARLO DO ATIVO:  VALE3.SA\n",
      "(68.84801176552574, 109.04451212671853, 87.28)\n",
      "MONTECARLO DO ATIVO:  VIIA3.SA\n",
      "(2.5842016013322318, 5.51401503563267, 3.88)\n",
      "MONTECARLO DO ATIVO:  VBBR3.SA\n",
      "(18.348655745680272, 30.651589200518533, 23.95)\n",
      "MONTECARLO DO ATIVO:  WEGE3.SA\n",
      "(24.255259219643637, 35.58988623531041, 29.6)\n",
      "MONTECARLO DO ATIVO:  YDUQ3.SA\n",
      "(16.921510182043935, 28.482217468125803, 22.28)\n"
     ]
    }
   ],
   "source": [
    "monteCarloDict = {}\n",
    "\n",
    "for tick in descontosDict.keys():\n",
    "    try:\n",
    "        monteCarloDict[tick] = MonteCarlo(stockDict[tick], qtdDiasPrevisao)\n",
    "        print(\"MONTECARLO DO ATIVO: \", tick)\n",
    "        print(monteCarloDict[tick])\n",
    "    except:\n",
    "        print(\"NAO DEU CERTO PARA O ATIVO\", tick)"
   ],
   "metadata": {
    "collapsed": false,
    "pycharm": {
     "name": "#%%\n"
    }
   }
  },
  {
   "cell_type": "code",
   "execution_count": 26,
   "outputs": [],
   "source": [
    "monteCarloDF = pd.DataFrame.from_dict(monteCarloDict, orient = 'index').reset_index()\n",
    "monteCarloDF.columns = ['ticker', 'stop_loss', 'stop_gain', 'expected_value']\n",
    "stockInfoDf['stop_loss'] = monteCarloDF['stop_loss']\n",
    "stockInfoDf['stop_gain'] = monteCarloDF['stop_gain']\n",
    "stockInfoDf['expected_value'] = monteCarloDF['expected_value']"
   ],
   "metadata": {
    "collapsed": false,
    "pycharm": {
     "name": "#%%\n"
    }
   }
  },
  {
   "cell_type": "code",
   "execution_count": 27,
   "outputs": [],
   "source": [
    "stockInfoDf['retornoPrevisto'] = stockInfoDf['previsao']/stockInfoDf['precoAtual'] - 1\n",
    "stockInfoDf['retornoStopLoss'] = stockInfoDf['stop_loss']/stockInfoDf['precoAtual'] - 1\n",
    "stockInfoDf['retornoStopGain'] = stockInfoDf['stop_gain']/stockInfoDf['precoAtual'] - 1\n",
    "stockInfoDf['retornoEsperado'] = stockInfoDf['expected_value']/stockInfoDf['precoAtual'] -1"
   ],
   "metadata": {
    "collapsed": false,
    "pycharm": {
     "name": "#%%\n"
    }
   }
  },
  {
   "cell_type": "code",
   "execution_count": 28,
   "outputs": [],
   "source": [
    "#Atribui pontos pelo retorno previsto\n",
    "retornoPrevistoOrdenado = stockInfoDf.sort_values(by = 'retornoPrevisto')\n",
    "retornoPrevistoOrdenado = retornoPrevistoOrdenado.reset_index(drop = True)\n",
    "retornoPrevistoOrdenado['scoreRetPrevisto'] = retornoPrevistoOrdenado.index"
   ],
   "metadata": {
    "collapsed": false,
    "pycharm": {
     "name": "#%%\n"
    }
   }
  },
  {
   "cell_type": "code",
   "execution_count": 29,
   "outputs": [],
   "source": [
    "retornoStopLossOrdenado = retornoPrevistoOrdenado.sort_values(by = 'retornoStopLoss', ascending= False)\n",
    "retornoStopLossOrdenado = retornoStopLossOrdenado.reset_index(drop = True)\n",
    "retornoStopLossOrdenado['scoreStopLoss'] = retornoStopLossOrdenado.index"
   ],
   "metadata": {
    "collapsed": false,
    "pycharm": {
     "name": "#%%\n"
    }
   }
  },
  {
   "cell_type": "code",
   "execution_count": 30,
   "outputs": [],
   "source": [
    "retornoStopGainOrdenado = retornoStopLossOrdenado.sort_values(by = 'retornoStopGain')\n",
    "retornoStopGainOrdenado = retornoStopGainOrdenado.reset_index(drop = True)\n",
    "retornoStopGainOrdenado['scoreStopGain'] = retornoStopGainOrdenado.index"
   ],
   "metadata": {
    "collapsed": false,
    "pycharm": {
     "name": "#%%\n"
    }
   }
  },
  {
   "cell_type": "code",
   "execution_count": 31,
   "outputs": [],
   "source": [
    "retornoExpectedOrdenado = retornoStopGainOrdenado.sort_values(by = 'retornoEsperado')\n",
    "retornoExpectedOrdenado = retornoExpectedOrdenado.reset_index(drop = True)\n",
    "retornoExpectedOrdenado['scoreExpected'] = retornoExpectedOrdenado.index"
   ],
   "metadata": {
    "collapsed": false,
    "pycharm": {
     "name": "#%%\n"
    }
   }
  },
  {
   "cell_type": "code",
   "execution_count": 32,
   "outputs": [],
   "source": [
    "riscoOrdenado = retornoExpectedOrdenado.sort_values(by = 'risco', ascending= False)\n",
    "riscoOrdenado = riscoOrdenado.reset_index(drop = True)\n",
    "riscoOrdenado['scoreRisco'] = riscoOrdenado.index"
   ],
   "metadata": {
    "collapsed": false,
    "pycharm": {
     "name": "#%%\n"
    }
   }
  },
  {
   "cell_type": "code",
   "execution_count": 33,
   "outputs": [],
   "source": [
    "descontoOrdenado = riscoOrdenado.sort_values(by = 'desconto', ascending= False)\n",
    "descontoOrdenado = descontoOrdenado.reset_index(drop = True)\n",
    "descontoOrdenado['scoreDesconto'] = descontoOrdenado.index"
   ],
   "metadata": {
    "collapsed": false,
    "pycharm": {
     "name": "#%%\n"
    }
   }
  },
  {
   "cell_type": "code",
   "execution_count": 34,
   "outputs": [],
   "source": [
    "retornoOrdenado = descontoOrdenado.sort_values(by = 'retorno', ascending= True)\n",
    "retornoOrdenado = retornoOrdenado.reset_index(drop = True)\n",
    "retornoOrdenado['scoreRetorno'] = retornoOrdenado.index"
   ],
   "metadata": {
    "collapsed": false,
    "pycharm": {
     "name": "#%%\n"
    }
   }
  },
  {
   "cell_type": "code",
   "execution_count": 35,
   "outputs": [
    {
     "data": {
      "text/plain": "       ticker  desconto     risco   retorno  precoAtual    previsao  \\\n81   CMIG4.SA -0.998203  0.121880  0.001772   12.810000  227.700042   \n77   CYRE3.SA -0.167630  0.035476  0.001337   15.840000   24.578515   \n80   MGLU3.SA  0.003496  0.037619  0.001614    6.100000   17.631919   \n88   CPFE3.SA  0.327764  0.244802  0.004054   30.250000   31.310548   \n26   CVCB3.SA -0.669575  0.033747  0.000532   14.010000   17.088665   \n50   GOLL4.SA -0.334526  0.040272  0.000705   18.600000   20.596508   \n84   RADL3.SA  1.011206  0.058943  0.002196   23.690001   26.251003   \n63   BRAP4.SA -0.013737  0.031624  0.000857   29.469999   52.647275   \n87   CASH3.SA -0.599045  0.059085  0.003152    2.520000    1.252606   \n6    ENEV3.SA -0.859647  0.034533 -0.000138   13.680000   21.021313   \n68   USIM5.SA -0.018629  0.033855  0.000915   14.750000   16.377422   \n85   RRRP3.SA -0.116348  0.031734  0.002246   36.000000   36.161283   \n32   COGN3.SA -0.815152  0.036560  0.000569    2.440000    0.162424   \n75   PRIO3.SA  1.704693  0.049578  0.001198   24.610001   25.831988   \n40   ELET3.SA  0.357711  0.032076  0.000608   34.110001   40.938728   \n33   PCAR3.SA -0.709295  0.037100  0.000572   21.799999   18.944224   \n39   MRVE3.SA -0.072589  0.032414  0.000604   12.360000   15.163561   \n64   TIMS3.SA  0.123219  0.034179  0.000880   13.400000   13.470850   \n43   EZTC3.SA -0.085657  0.027332  0.000619   18.480000   29.589987   \n46   BRFS3.SA -0.571855  0.030607  0.000639   19.379999   18.457216   \n65   PETZ3.SA -0.215049  0.029086  0.000898   18.360001   13.332091   \n82  BPAC11.SA  0.226802  0.031330  0.001881   25.450001   20.994247   \n61   BBAS3.SA  0.203668  0.027584  0.000850   35.770000   34.651567   \n31   BRML3.SA -0.244303  0.028177  0.000559    9.680000    7.996190   \n45   BBDC3.SA  0.097869  0.022768  0.000632   17.639999   20.368149   \n62   ALPA4.SA  1.045455  0.024088  0.000850   27.000000   49.438589   \n44  SULA11.SA  0.222781  0.023084  0.000629   24.969999   29.101730   \n38   SBSP3.SA  0.397448  0.024882  0.000602   39.790001   46.891442   \n78   RENT3.SA  2.055862  0.027509  0.001341   61.189999   65.761867   \n70   TOTS3.SA  1.520497  0.023196  0.000941   32.480000   37.143711   \n79   LCAM3.SA  0.780328  0.028881  0.001344   27.150000   26.889550   \n74   WEGE3.SA  3.633012  0.021227  0.001148   29.580000   38.924043   \n67   VALE3.SA  0.817973  0.025745  0.000909   87.190002   92.095628   \n47   ITUB4.SA  0.177471  0.022645  0.000662   25.700001   26.961842   \n29   ELET6.SA  0.185289  0.029278  0.000535   33.840000   35.563235   \n48   HYPE3.SA  0.109085  0.023632  0.000677   32.840000   33.203634   \n8    BEEF3.SA -0.077966  0.026741  0.000189   10.150000   10.337056   \n28  KLBN11.SA  0.098798  0.019355  0.000535   23.549999   26.441090   \n7    CIEL3.SA -0.885035  0.025012 -0.000062    2.620000    1.357496   \n21   VBBR3.SA -0.081703  0.028353  0.000458   23.940001   13.807911   \n15  SANB11.SA -0.053981  0.022483  0.000363   31.719999   32.830036   \n13   VIVT3.SA  0.132995  0.020041  0.000330   49.070000   49.879849   \n14   BBSE3.SA -0.233796  0.019716  0.000347   23.170000   18.624672   \n17   ENBR3.SA  0.588305  0.017662  0.000379   21.219999   20.510932   \n\n    stop_loss   stop_gain  expected_value  retornoPrevisto  ...  \\\n81   3.337562   31.773235           12.92        16.775178  ...   \n77  11.256397   21.495042           15.87         0.551674  ...   \n80   4.259737    8.402018            6.11         1.890479  ...   \n88   0.907823  112.040355           30.58         0.035059  ...   \n26  10.093157   18.766158           14.03         0.219748  ...   \n50  12.684813   26.131618           18.62         0.107339  ...   \n84  13.255268   38.783420           23.86         0.108105  ...   \n63  21.893371   38.538261           29.53         0.786470  ...   \n87   1.410267    4.057341            2.52        -0.502934  ...   \n6    9.852969   18.338008           13.69         0.536646  ...   \n68  10.680575   19.694540           14.76         0.110334  ...   \n85  26.553241   47.406676           36.01         0.004480  ...   \n32   1.728752    3.334302            2.45        -0.933433  ...   \n75  15.254592   37.009891           24.64         0.049654  ...   \n40  24.953334   45.022641           34.17         0.200197  ...   \n33  15.365372   29.685040           21.81        -0.130999  ...   \n39   9.075312   16.318763           12.36         0.226825  ...   \n64   9.667979   17.926939           13.41         0.005287  ...   \n43  14.291897   23.316853           18.48         0.601190  ...   \n46  14.483474   25.255469           19.38        -0.047615  ...   \n65  13.982960   23.591822           18.38        -0.273851  ...   \n82  18.935985   33.261597           25.48        -0.175079  ...   \n61  27.674373   45.339905           35.85        -0.031267  ...   \n31   7.434645   12.318224            9.70        -0.173947  ...   \n45  14.244613   21.567289           17.67         0.154657  ...   \n62  21.665653   33.247498           27.03         0.831059  ...   \n44  20.093845   30.598246           25.02         0.165468  ...   \n38  31.574162   49.495811           39.86         0.178473  ...   \n78  47.208292   77.342446           61.23         0.074716  ...   \n70  26.163097   39.718296           32.52         0.143587  ...   \n79  20.689472   34.816303           27.16        -0.009593  ...   \n74  24.255259   35.589886           29.60         0.315891  ...   \n67  68.848012  109.044512           87.28         0.056264  ...   \n47  20.785265   31.156291           25.74         0.049099  ...   \n29  25.591267   43.370537           33.86         0.050923  ...   \n48  26.403649   40.196257           32.87         0.011073  ...   \n8    7.877262   12.805107           10.15         0.018429  ...   \n28  19.643523   27.878881           23.56         0.122764  ...   \n7    2.067461    3.252841            2.62        -0.481872  ...   \n21  18.348656   30.651589           23.95        -0.423228  ...   \n15  25.757246   38.477346           31.74         0.034995  ...   \n13  40.790066   58.513102           49.15         0.016504  ...   \n14  19.312862   27.525196           23.19        -0.196173  ...   \n17  18.048764   24.818867           21.25        -0.033415  ...   \n\n    retornoStopGain  retornoEsperado  scoreRetPrevisto  scoreStopLoss  \\\n81         1.480346     8.587008e-03                89             87   \n77         0.357010     1.893930e-03                79             72   \n80         0.377380     1.639360e-03                86             77   \n88         2.703813     1.090909e-02                43             88   \n26         0.339483     1.427535e-03                71             69   \n50         0.404926     1.075248e-03                55             79   \n84         0.637122     7.176001e-03                56             86   \n63         0.307712     2.035992e-03                82             54   \n87         0.610056     7.568844e-09                 6             85   \n6          0.340498     7.309718e-04                78             70   \n68         0.335223     6.779661e-04                57             65   \n85         0.316852     2.777778e-04                34             58   \n32         0.366517     4.098337e-03                 4             73   \n75         0.503856     1.218992e-03                47             84   \n40         0.319925     1.758997e-03                69             62   \n33         0.361699     4.587506e-04                21             75   \n39         0.320288     2.777692e-08                72             59   \n64         0.337831     7.462971e-04                35             66   \n43         0.261734     2.477076e-08                80             37   \n46         0.303172     4.330410e-08                27             52   \n65         0.284958     1.089291e-03                10             46   \n82         0.306939     1.178752e-03                15             53   \n61         0.267540     2.236498e-03                30             35   \n31         0.272544     2.066084e-03                16             43   \n45         0.222635     1.700715e-03                63             15   \n62         0.231389     1.111111e-03                83             19   \n44         0.225400     2.002430e-03                65             17   \n38         0.243926     1.759213e-03                67             24   \n78         0.263972     6.537240e-04                52             39   \n70         0.222854     1.231541e-03                62             16   \n79         0.282368     3.683382e-04                32             45   \n74         0.203174     6.761351e-04                76             10   \n67         0.250654     1.032200e-03                49             27   \n47         0.212307     1.556391e-03                46             14   \n29         0.281635     5.910120e-04                48             48   \n48         0.224003     9.135154e-04                37             18   \n8          0.261587     3.758323e-08                40             34   \n28         0.183817     4.246609e-04                59              3   \n7          0.241542     4.367974e-08                 7             28   \n21         0.280350     4.176886e-04                 8             44   \n15         0.213031     6.305387e-04                42             11   \n13         0.192441     1.630330e-03                39              6   \n14         0.187967     8.631819e-04                14              4   \n17         0.169598     1.413793e-03                29              0   \n\n    scoreStopGain  scoreExpected  scoreRisco  scoreDesconto  scoreRetorno  \\\n81             87             89           3             90            81   \n77             73             82          18             59            77   \n80             77             78          13             40            80   \n88             88             90           2             22            88   \n26             69             75          26             83            26   \n50             80             68          10             72            50   \n84             86             88           5              9            84   \n63             56             84          34             41            63   \n87             85             47           4             81            87   \n6              70             63          20             86             6   \n68             66             62          24             42            68   \n85             59             53          32             54            85   \n32             76             87          16             85            32   \n75             84             72           6              3            75   \n40             61             80          31             21            40   \n33             75             57          14             84            33   \n39             62             49          30             48            39   \n64             68             64          22             35            64   \n43             37             48          52             52            43   \n46             53             51          38             79            46   \n65             48             69          44             63            65   \n82             55             71          36             27            82   \n61             41             86          50             29            61   \n31             43             85          47             66            31   \n45             15             79          75             38            45   \n62             21             70          68              6            62   \n44             18             83          74             28            44   \n38             28             81          65             18            38   \n78             39             60          51              1            78   \n70             16             73          73              5            70   \n79             47             54          45             12            79   \n74             10             61          81              0            74   \n67             29             67          61             10            67   \n47             13             76          76             31            47   \n29             46             58          43             30            29   \n48             17             66          72             36            48   \n8              36             50          58             50             8   \n28              3             56          87             37            28   \n7              27             52          64             88             7   \n21             45             55          46             51            21   \n15             14             59          77             46            15   \n13              7             77          83             33            13   \n14              4             65          86             65            14   \n17              0             74          90             15            17   \n\n    scoreTotal  \n81         526  \n77         460  \n80         451  \n88         421  \n26         419  \n50         414  \n84         414  \n63         414  \n87         395  \n6          393  \n68         384  \n85         375  \n32         373  \n75         371  \n40         364  \n33         359  \n39         359  \n64         354  \n43         349  \n46         346  \n65         345  \n82         339  \n61         332  \n31         331  \n45         330  \n62         329  \n44         329  \n38         321  \n78         320  \n70         315  \n79         314  \n74         312  \n67         310  \n47         303  \n29         302  \n48         294  \n8          276  \n28         273  \n7          273  \n21         270  \n15         264  \n13         258  \n14         252  \n17         225  \n\n[44 rows x 21 columns]",
      "text/html": "<div>\n<style scoped>\n    .dataframe tbody tr th:only-of-type {\n        vertical-align: middle;\n    }\n\n    .dataframe tbody tr th {\n        vertical-align: top;\n    }\n\n    .dataframe thead th {\n        text-align: right;\n    }\n</style>\n<table border=\"1\" class=\"dataframe\">\n  <thead>\n    <tr style=\"text-align: right;\">\n      <th></th>\n      <th>ticker</th>\n      <th>desconto</th>\n      <th>risco</th>\n      <th>retorno</th>\n      <th>precoAtual</th>\n      <th>previsao</th>\n      <th>stop_loss</th>\n      <th>stop_gain</th>\n      <th>expected_value</th>\n      <th>retornoPrevisto</th>\n      <th>...</th>\n      <th>retornoStopGain</th>\n      <th>retornoEsperado</th>\n      <th>scoreRetPrevisto</th>\n      <th>scoreStopLoss</th>\n      <th>scoreStopGain</th>\n      <th>scoreExpected</th>\n      <th>scoreRisco</th>\n      <th>scoreDesconto</th>\n      <th>scoreRetorno</th>\n      <th>scoreTotal</th>\n    </tr>\n  </thead>\n  <tbody>\n    <tr>\n      <th>81</th>\n      <td>CMIG4.SA</td>\n      <td>-0.998203</td>\n      <td>0.121880</td>\n      <td>0.001772</td>\n      <td>12.810000</td>\n      <td>227.700042</td>\n      <td>3.337562</td>\n      <td>31.773235</td>\n      <td>12.92</td>\n      <td>16.775178</td>\n      <td>...</td>\n      <td>1.480346</td>\n      <td>8.587008e-03</td>\n      <td>89</td>\n      <td>87</td>\n      <td>87</td>\n      <td>89</td>\n      <td>3</td>\n      <td>90</td>\n      <td>81</td>\n      <td>526</td>\n    </tr>\n    <tr>\n      <th>77</th>\n      <td>CYRE3.SA</td>\n      <td>-0.167630</td>\n      <td>0.035476</td>\n      <td>0.001337</td>\n      <td>15.840000</td>\n      <td>24.578515</td>\n      <td>11.256397</td>\n      <td>21.495042</td>\n      <td>15.87</td>\n      <td>0.551674</td>\n      <td>...</td>\n      <td>0.357010</td>\n      <td>1.893930e-03</td>\n      <td>79</td>\n      <td>72</td>\n      <td>73</td>\n      <td>82</td>\n      <td>18</td>\n      <td>59</td>\n      <td>77</td>\n      <td>460</td>\n    </tr>\n    <tr>\n      <th>80</th>\n      <td>MGLU3.SA</td>\n      <td>0.003496</td>\n      <td>0.037619</td>\n      <td>0.001614</td>\n      <td>6.100000</td>\n      <td>17.631919</td>\n      <td>4.259737</td>\n      <td>8.402018</td>\n      <td>6.11</td>\n      <td>1.890479</td>\n      <td>...</td>\n      <td>0.377380</td>\n      <td>1.639360e-03</td>\n      <td>86</td>\n      <td>77</td>\n      <td>77</td>\n      <td>78</td>\n      <td>13</td>\n      <td>40</td>\n      <td>80</td>\n      <td>451</td>\n    </tr>\n    <tr>\n      <th>88</th>\n      <td>CPFE3.SA</td>\n      <td>0.327764</td>\n      <td>0.244802</td>\n      <td>0.004054</td>\n      <td>30.250000</td>\n      <td>31.310548</td>\n      <td>0.907823</td>\n      <td>112.040355</td>\n      <td>30.58</td>\n      <td>0.035059</td>\n      <td>...</td>\n      <td>2.703813</td>\n      <td>1.090909e-02</td>\n      <td>43</td>\n      <td>88</td>\n      <td>88</td>\n      <td>90</td>\n      <td>2</td>\n      <td>22</td>\n      <td>88</td>\n      <td>421</td>\n    </tr>\n    <tr>\n      <th>26</th>\n      <td>CVCB3.SA</td>\n      <td>-0.669575</td>\n      <td>0.033747</td>\n      <td>0.000532</td>\n      <td>14.010000</td>\n      <td>17.088665</td>\n      <td>10.093157</td>\n      <td>18.766158</td>\n      <td>14.03</td>\n      <td>0.219748</td>\n      <td>...</td>\n      <td>0.339483</td>\n      <td>1.427535e-03</td>\n      <td>71</td>\n      <td>69</td>\n      <td>69</td>\n      <td>75</td>\n      <td>26</td>\n      <td>83</td>\n      <td>26</td>\n      <td>419</td>\n    </tr>\n    <tr>\n      <th>50</th>\n      <td>GOLL4.SA</td>\n      <td>-0.334526</td>\n      <td>0.040272</td>\n      <td>0.000705</td>\n      <td>18.600000</td>\n      <td>20.596508</td>\n      <td>12.684813</td>\n      <td>26.131618</td>\n      <td>18.62</td>\n      <td>0.107339</td>\n      <td>...</td>\n      <td>0.404926</td>\n      <td>1.075248e-03</td>\n      <td>55</td>\n      <td>79</td>\n      <td>80</td>\n      <td>68</td>\n      <td>10</td>\n      <td>72</td>\n      <td>50</td>\n      <td>414</td>\n    </tr>\n    <tr>\n      <th>84</th>\n      <td>RADL3.SA</td>\n      <td>1.011206</td>\n      <td>0.058943</td>\n      <td>0.002196</td>\n      <td>23.690001</td>\n      <td>26.251003</td>\n      <td>13.255268</td>\n      <td>38.783420</td>\n      <td>23.86</td>\n      <td>0.108105</td>\n      <td>...</td>\n      <td>0.637122</td>\n      <td>7.176001e-03</td>\n      <td>56</td>\n      <td>86</td>\n      <td>86</td>\n      <td>88</td>\n      <td>5</td>\n      <td>9</td>\n      <td>84</td>\n      <td>414</td>\n    </tr>\n    <tr>\n      <th>63</th>\n      <td>BRAP4.SA</td>\n      <td>-0.013737</td>\n      <td>0.031624</td>\n      <td>0.000857</td>\n      <td>29.469999</td>\n      <td>52.647275</td>\n      <td>21.893371</td>\n      <td>38.538261</td>\n      <td>29.53</td>\n      <td>0.786470</td>\n      <td>...</td>\n      <td>0.307712</td>\n      <td>2.035992e-03</td>\n      <td>82</td>\n      <td>54</td>\n      <td>56</td>\n      <td>84</td>\n      <td>34</td>\n      <td>41</td>\n      <td>63</td>\n      <td>414</td>\n    </tr>\n    <tr>\n      <th>87</th>\n      <td>CASH3.SA</td>\n      <td>-0.599045</td>\n      <td>0.059085</td>\n      <td>0.003152</td>\n      <td>2.520000</td>\n      <td>1.252606</td>\n      <td>1.410267</td>\n      <td>4.057341</td>\n      <td>2.52</td>\n      <td>-0.502934</td>\n      <td>...</td>\n      <td>0.610056</td>\n      <td>7.568844e-09</td>\n      <td>6</td>\n      <td>85</td>\n      <td>85</td>\n      <td>47</td>\n      <td>4</td>\n      <td>81</td>\n      <td>87</td>\n      <td>395</td>\n    </tr>\n    <tr>\n      <th>6</th>\n      <td>ENEV3.SA</td>\n      <td>-0.859647</td>\n      <td>0.034533</td>\n      <td>-0.000138</td>\n      <td>13.680000</td>\n      <td>21.021313</td>\n      <td>9.852969</td>\n      <td>18.338008</td>\n      <td>13.69</td>\n      <td>0.536646</td>\n      <td>...</td>\n      <td>0.340498</td>\n      <td>7.309718e-04</td>\n      <td>78</td>\n      <td>70</td>\n      <td>70</td>\n      <td>63</td>\n      <td>20</td>\n      <td>86</td>\n      <td>6</td>\n      <td>393</td>\n    </tr>\n    <tr>\n      <th>68</th>\n      <td>USIM5.SA</td>\n      <td>-0.018629</td>\n      <td>0.033855</td>\n      <td>0.000915</td>\n      <td>14.750000</td>\n      <td>16.377422</td>\n      <td>10.680575</td>\n      <td>19.694540</td>\n      <td>14.76</td>\n      <td>0.110334</td>\n      <td>...</td>\n      <td>0.335223</td>\n      <td>6.779661e-04</td>\n      <td>57</td>\n      <td>65</td>\n      <td>66</td>\n      <td>62</td>\n      <td>24</td>\n      <td>42</td>\n      <td>68</td>\n      <td>384</td>\n    </tr>\n    <tr>\n      <th>85</th>\n      <td>RRRP3.SA</td>\n      <td>-0.116348</td>\n      <td>0.031734</td>\n      <td>0.002246</td>\n      <td>36.000000</td>\n      <td>36.161283</td>\n      <td>26.553241</td>\n      <td>47.406676</td>\n      <td>36.01</td>\n      <td>0.004480</td>\n      <td>...</td>\n      <td>0.316852</td>\n      <td>2.777778e-04</td>\n      <td>34</td>\n      <td>58</td>\n      <td>59</td>\n      <td>53</td>\n      <td>32</td>\n      <td>54</td>\n      <td>85</td>\n      <td>375</td>\n    </tr>\n    <tr>\n      <th>32</th>\n      <td>COGN3.SA</td>\n      <td>-0.815152</td>\n      <td>0.036560</td>\n      <td>0.000569</td>\n      <td>2.440000</td>\n      <td>0.162424</td>\n      <td>1.728752</td>\n      <td>3.334302</td>\n      <td>2.45</td>\n      <td>-0.933433</td>\n      <td>...</td>\n      <td>0.366517</td>\n      <td>4.098337e-03</td>\n      <td>4</td>\n      <td>73</td>\n      <td>76</td>\n      <td>87</td>\n      <td>16</td>\n      <td>85</td>\n      <td>32</td>\n      <td>373</td>\n    </tr>\n    <tr>\n      <th>75</th>\n      <td>PRIO3.SA</td>\n      <td>1.704693</td>\n      <td>0.049578</td>\n      <td>0.001198</td>\n      <td>24.610001</td>\n      <td>25.831988</td>\n      <td>15.254592</td>\n      <td>37.009891</td>\n      <td>24.64</td>\n      <td>0.049654</td>\n      <td>...</td>\n      <td>0.503856</td>\n      <td>1.218992e-03</td>\n      <td>47</td>\n      <td>84</td>\n      <td>84</td>\n      <td>72</td>\n      <td>6</td>\n      <td>3</td>\n      <td>75</td>\n      <td>371</td>\n    </tr>\n    <tr>\n      <th>40</th>\n      <td>ELET3.SA</td>\n      <td>0.357711</td>\n      <td>0.032076</td>\n      <td>0.000608</td>\n      <td>34.110001</td>\n      <td>40.938728</td>\n      <td>24.953334</td>\n      <td>45.022641</td>\n      <td>34.17</td>\n      <td>0.200197</td>\n      <td>...</td>\n      <td>0.319925</td>\n      <td>1.758997e-03</td>\n      <td>69</td>\n      <td>62</td>\n      <td>61</td>\n      <td>80</td>\n      <td>31</td>\n      <td>21</td>\n      <td>40</td>\n      <td>364</td>\n    </tr>\n    <tr>\n      <th>33</th>\n      <td>PCAR3.SA</td>\n      <td>-0.709295</td>\n      <td>0.037100</td>\n      <td>0.000572</td>\n      <td>21.799999</td>\n      <td>18.944224</td>\n      <td>15.365372</td>\n      <td>29.685040</td>\n      <td>21.81</td>\n      <td>-0.130999</td>\n      <td>...</td>\n      <td>0.361699</td>\n      <td>4.587506e-04</td>\n      <td>21</td>\n      <td>75</td>\n      <td>75</td>\n      <td>57</td>\n      <td>14</td>\n      <td>84</td>\n      <td>33</td>\n      <td>359</td>\n    </tr>\n    <tr>\n      <th>39</th>\n      <td>MRVE3.SA</td>\n      <td>-0.072589</td>\n      <td>0.032414</td>\n      <td>0.000604</td>\n      <td>12.360000</td>\n      <td>15.163561</td>\n      <td>9.075312</td>\n      <td>16.318763</td>\n      <td>12.36</td>\n      <td>0.226825</td>\n      <td>...</td>\n      <td>0.320288</td>\n      <td>2.777692e-08</td>\n      <td>72</td>\n      <td>59</td>\n      <td>62</td>\n      <td>49</td>\n      <td>30</td>\n      <td>48</td>\n      <td>39</td>\n      <td>359</td>\n    </tr>\n    <tr>\n      <th>64</th>\n      <td>TIMS3.SA</td>\n      <td>0.123219</td>\n      <td>0.034179</td>\n      <td>0.000880</td>\n      <td>13.400000</td>\n      <td>13.470850</td>\n      <td>9.667979</td>\n      <td>17.926939</td>\n      <td>13.41</td>\n      <td>0.005287</td>\n      <td>...</td>\n      <td>0.337831</td>\n      <td>7.462971e-04</td>\n      <td>35</td>\n      <td>66</td>\n      <td>68</td>\n      <td>64</td>\n      <td>22</td>\n      <td>35</td>\n      <td>64</td>\n      <td>354</td>\n    </tr>\n    <tr>\n      <th>43</th>\n      <td>EZTC3.SA</td>\n      <td>-0.085657</td>\n      <td>0.027332</td>\n      <td>0.000619</td>\n      <td>18.480000</td>\n      <td>29.589987</td>\n      <td>14.291897</td>\n      <td>23.316853</td>\n      <td>18.48</td>\n      <td>0.601190</td>\n      <td>...</td>\n      <td>0.261734</td>\n      <td>2.477076e-08</td>\n      <td>80</td>\n      <td>37</td>\n      <td>37</td>\n      <td>48</td>\n      <td>52</td>\n      <td>52</td>\n      <td>43</td>\n      <td>349</td>\n    </tr>\n    <tr>\n      <th>46</th>\n      <td>BRFS3.SA</td>\n      <td>-0.571855</td>\n      <td>0.030607</td>\n      <td>0.000639</td>\n      <td>19.379999</td>\n      <td>18.457216</td>\n      <td>14.483474</td>\n      <td>25.255469</td>\n      <td>19.38</td>\n      <td>-0.047615</td>\n      <td>...</td>\n      <td>0.303172</td>\n      <td>4.330410e-08</td>\n      <td>27</td>\n      <td>52</td>\n      <td>53</td>\n      <td>51</td>\n      <td>38</td>\n      <td>79</td>\n      <td>46</td>\n      <td>346</td>\n    </tr>\n    <tr>\n      <th>65</th>\n      <td>PETZ3.SA</td>\n      <td>-0.215049</td>\n      <td>0.029086</td>\n      <td>0.000898</td>\n      <td>18.360001</td>\n      <td>13.332091</td>\n      <td>13.982960</td>\n      <td>23.591822</td>\n      <td>18.38</td>\n      <td>-0.273851</td>\n      <td>...</td>\n      <td>0.284958</td>\n      <td>1.089291e-03</td>\n      <td>10</td>\n      <td>46</td>\n      <td>48</td>\n      <td>69</td>\n      <td>44</td>\n      <td>63</td>\n      <td>65</td>\n      <td>345</td>\n    </tr>\n    <tr>\n      <th>82</th>\n      <td>BPAC11.SA</td>\n      <td>0.226802</td>\n      <td>0.031330</td>\n      <td>0.001881</td>\n      <td>25.450001</td>\n      <td>20.994247</td>\n      <td>18.935985</td>\n      <td>33.261597</td>\n      <td>25.48</td>\n      <td>-0.175079</td>\n      <td>...</td>\n      <td>0.306939</td>\n      <td>1.178752e-03</td>\n      <td>15</td>\n      <td>53</td>\n      <td>55</td>\n      <td>71</td>\n      <td>36</td>\n      <td>27</td>\n      <td>82</td>\n      <td>339</td>\n    </tr>\n    <tr>\n      <th>61</th>\n      <td>BBAS3.SA</td>\n      <td>0.203668</td>\n      <td>0.027584</td>\n      <td>0.000850</td>\n      <td>35.770000</td>\n      <td>34.651567</td>\n      <td>27.674373</td>\n      <td>45.339905</td>\n      <td>35.85</td>\n      <td>-0.031267</td>\n      <td>...</td>\n      <td>0.267540</td>\n      <td>2.236498e-03</td>\n      <td>30</td>\n      <td>35</td>\n      <td>41</td>\n      <td>86</td>\n      <td>50</td>\n      <td>29</td>\n      <td>61</td>\n      <td>332</td>\n    </tr>\n    <tr>\n      <th>31</th>\n      <td>BRML3.SA</td>\n      <td>-0.244303</td>\n      <td>0.028177</td>\n      <td>0.000559</td>\n      <td>9.680000</td>\n      <td>7.996190</td>\n      <td>7.434645</td>\n      <td>12.318224</td>\n      <td>9.70</td>\n      <td>-0.173947</td>\n      <td>...</td>\n      <td>0.272544</td>\n      <td>2.066084e-03</td>\n      <td>16</td>\n      <td>43</td>\n      <td>43</td>\n      <td>85</td>\n      <td>47</td>\n      <td>66</td>\n      <td>31</td>\n      <td>331</td>\n    </tr>\n    <tr>\n      <th>45</th>\n      <td>BBDC3.SA</td>\n      <td>0.097869</td>\n      <td>0.022768</td>\n      <td>0.000632</td>\n      <td>17.639999</td>\n      <td>20.368149</td>\n      <td>14.244613</td>\n      <td>21.567289</td>\n      <td>17.67</td>\n      <td>0.154657</td>\n      <td>...</td>\n      <td>0.222635</td>\n      <td>1.700715e-03</td>\n      <td>63</td>\n      <td>15</td>\n      <td>15</td>\n      <td>79</td>\n      <td>75</td>\n      <td>38</td>\n      <td>45</td>\n      <td>330</td>\n    </tr>\n    <tr>\n      <th>62</th>\n      <td>ALPA4.SA</td>\n      <td>1.045455</td>\n      <td>0.024088</td>\n      <td>0.000850</td>\n      <td>27.000000</td>\n      <td>49.438589</td>\n      <td>21.665653</td>\n      <td>33.247498</td>\n      <td>27.03</td>\n      <td>0.831059</td>\n      <td>...</td>\n      <td>0.231389</td>\n      <td>1.111111e-03</td>\n      <td>83</td>\n      <td>19</td>\n      <td>21</td>\n      <td>70</td>\n      <td>68</td>\n      <td>6</td>\n      <td>62</td>\n      <td>329</td>\n    </tr>\n    <tr>\n      <th>44</th>\n      <td>SULA11.SA</td>\n      <td>0.222781</td>\n      <td>0.023084</td>\n      <td>0.000629</td>\n      <td>24.969999</td>\n      <td>29.101730</td>\n      <td>20.093845</td>\n      <td>30.598246</td>\n      <td>25.02</td>\n      <td>0.165468</td>\n      <td>...</td>\n      <td>0.225400</td>\n      <td>2.002430e-03</td>\n      <td>65</td>\n      <td>17</td>\n      <td>18</td>\n      <td>83</td>\n      <td>74</td>\n      <td>28</td>\n      <td>44</td>\n      <td>329</td>\n    </tr>\n    <tr>\n      <th>38</th>\n      <td>SBSP3.SA</td>\n      <td>0.397448</td>\n      <td>0.024882</td>\n      <td>0.000602</td>\n      <td>39.790001</td>\n      <td>46.891442</td>\n      <td>31.574162</td>\n      <td>49.495811</td>\n      <td>39.86</td>\n      <td>0.178473</td>\n      <td>...</td>\n      <td>0.243926</td>\n      <td>1.759213e-03</td>\n      <td>67</td>\n      <td>24</td>\n      <td>28</td>\n      <td>81</td>\n      <td>65</td>\n      <td>18</td>\n      <td>38</td>\n      <td>321</td>\n    </tr>\n    <tr>\n      <th>78</th>\n      <td>RENT3.SA</td>\n      <td>2.055862</td>\n      <td>0.027509</td>\n      <td>0.001341</td>\n      <td>61.189999</td>\n      <td>65.761867</td>\n      <td>47.208292</td>\n      <td>77.342446</td>\n      <td>61.23</td>\n      <td>0.074716</td>\n      <td>...</td>\n      <td>0.263972</td>\n      <td>6.537240e-04</td>\n      <td>52</td>\n      <td>39</td>\n      <td>39</td>\n      <td>60</td>\n      <td>51</td>\n      <td>1</td>\n      <td>78</td>\n      <td>320</td>\n    </tr>\n    <tr>\n      <th>70</th>\n      <td>TOTS3.SA</td>\n      <td>1.520497</td>\n      <td>0.023196</td>\n      <td>0.000941</td>\n      <td>32.480000</td>\n      <td>37.143711</td>\n      <td>26.163097</td>\n      <td>39.718296</td>\n      <td>32.52</td>\n      <td>0.143587</td>\n      <td>...</td>\n      <td>0.222854</td>\n      <td>1.231541e-03</td>\n      <td>62</td>\n      <td>16</td>\n      <td>16</td>\n      <td>73</td>\n      <td>73</td>\n      <td>5</td>\n      <td>70</td>\n      <td>315</td>\n    </tr>\n    <tr>\n      <th>79</th>\n      <td>LCAM3.SA</td>\n      <td>0.780328</td>\n      <td>0.028881</td>\n      <td>0.001344</td>\n      <td>27.150000</td>\n      <td>26.889550</td>\n      <td>20.689472</td>\n      <td>34.816303</td>\n      <td>27.16</td>\n      <td>-0.009593</td>\n      <td>...</td>\n      <td>0.282368</td>\n      <td>3.683382e-04</td>\n      <td>32</td>\n      <td>45</td>\n      <td>47</td>\n      <td>54</td>\n      <td>45</td>\n      <td>12</td>\n      <td>79</td>\n      <td>314</td>\n    </tr>\n    <tr>\n      <th>74</th>\n      <td>WEGE3.SA</td>\n      <td>3.633012</td>\n      <td>0.021227</td>\n      <td>0.001148</td>\n      <td>29.580000</td>\n      <td>38.924043</td>\n      <td>24.255259</td>\n      <td>35.589886</td>\n      <td>29.60</td>\n      <td>0.315891</td>\n      <td>...</td>\n      <td>0.203174</td>\n      <td>6.761351e-04</td>\n      <td>76</td>\n      <td>10</td>\n      <td>10</td>\n      <td>61</td>\n      <td>81</td>\n      <td>0</td>\n      <td>74</td>\n      <td>312</td>\n    </tr>\n    <tr>\n      <th>67</th>\n      <td>VALE3.SA</td>\n      <td>0.817973</td>\n      <td>0.025745</td>\n      <td>0.000909</td>\n      <td>87.190002</td>\n      <td>92.095628</td>\n      <td>68.848012</td>\n      <td>109.044512</td>\n      <td>87.28</td>\n      <td>0.056264</td>\n      <td>...</td>\n      <td>0.250654</td>\n      <td>1.032200e-03</td>\n      <td>49</td>\n      <td>27</td>\n      <td>29</td>\n      <td>67</td>\n      <td>61</td>\n      <td>10</td>\n      <td>67</td>\n      <td>310</td>\n    </tr>\n    <tr>\n      <th>47</th>\n      <td>ITUB4.SA</td>\n      <td>0.177471</td>\n      <td>0.022645</td>\n      <td>0.000662</td>\n      <td>25.700001</td>\n      <td>26.961842</td>\n      <td>20.785265</td>\n      <td>31.156291</td>\n      <td>25.74</td>\n      <td>0.049099</td>\n      <td>...</td>\n      <td>0.212307</td>\n      <td>1.556391e-03</td>\n      <td>46</td>\n      <td>14</td>\n      <td>13</td>\n      <td>76</td>\n      <td>76</td>\n      <td>31</td>\n      <td>47</td>\n      <td>303</td>\n    </tr>\n    <tr>\n      <th>29</th>\n      <td>ELET6.SA</td>\n      <td>0.185289</td>\n      <td>0.029278</td>\n      <td>0.000535</td>\n      <td>33.840000</td>\n      <td>35.563235</td>\n      <td>25.591267</td>\n      <td>43.370537</td>\n      <td>33.86</td>\n      <td>0.050923</td>\n      <td>...</td>\n      <td>0.281635</td>\n      <td>5.910120e-04</td>\n      <td>48</td>\n      <td>48</td>\n      <td>46</td>\n      <td>58</td>\n      <td>43</td>\n      <td>30</td>\n      <td>29</td>\n      <td>302</td>\n    </tr>\n    <tr>\n      <th>48</th>\n      <td>HYPE3.SA</td>\n      <td>0.109085</td>\n      <td>0.023632</td>\n      <td>0.000677</td>\n      <td>32.840000</td>\n      <td>33.203634</td>\n      <td>26.403649</td>\n      <td>40.196257</td>\n      <td>32.87</td>\n      <td>0.011073</td>\n      <td>...</td>\n      <td>0.224003</td>\n      <td>9.135154e-04</td>\n      <td>37</td>\n      <td>18</td>\n      <td>17</td>\n      <td>66</td>\n      <td>72</td>\n      <td>36</td>\n      <td>48</td>\n      <td>294</td>\n    </tr>\n    <tr>\n      <th>8</th>\n      <td>BEEF3.SA</td>\n      <td>-0.077966</td>\n      <td>0.026741</td>\n      <td>0.000189</td>\n      <td>10.150000</td>\n      <td>10.337056</td>\n      <td>7.877262</td>\n      <td>12.805107</td>\n      <td>10.15</td>\n      <td>0.018429</td>\n      <td>...</td>\n      <td>0.261587</td>\n      <td>3.758323e-08</td>\n      <td>40</td>\n      <td>34</td>\n      <td>36</td>\n      <td>50</td>\n      <td>58</td>\n      <td>50</td>\n      <td>8</td>\n      <td>276</td>\n    </tr>\n    <tr>\n      <th>28</th>\n      <td>KLBN11.SA</td>\n      <td>0.098798</td>\n      <td>0.019355</td>\n      <td>0.000535</td>\n      <td>23.549999</td>\n      <td>26.441090</td>\n      <td>19.643523</td>\n      <td>27.878881</td>\n      <td>23.56</td>\n      <td>0.122764</td>\n      <td>...</td>\n      <td>0.183817</td>\n      <td>4.246609e-04</td>\n      <td>59</td>\n      <td>3</td>\n      <td>3</td>\n      <td>56</td>\n      <td>87</td>\n      <td>37</td>\n      <td>28</td>\n      <td>273</td>\n    </tr>\n    <tr>\n      <th>7</th>\n      <td>CIEL3.SA</td>\n      <td>-0.885035</td>\n      <td>0.025012</td>\n      <td>-0.000062</td>\n      <td>2.620000</td>\n      <td>1.357496</td>\n      <td>2.067461</td>\n      <td>3.252841</td>\n      <td>2.62</td>\n      <td>-0.481872</td>\n      <td>...</td>\n      <td>0.241542</td>\n      <td>4.367974e-08</td>\n      <td>7</td>\n      <td>28</td>\n      <td>27</td>\n      <td>52</td>\n      <td>64</td>\n      <td>88</td>\n      <td>7</td>\n      <td>273</td>\n    </tr>\n    <tr>\n      <th>21</th>\n      <td>VBBR3.SA</td>\n      <td>-0.081703</td>\n      <td>0.028353</td>\n      <td>0.000458</td>\n      <td>23.940001</td>\n      <td>13.807911</td>\n      <td>18.348656</td>\n      <td>30.651589</td>\n      <td>23.95</td>\n      <td>-0.423228</td>\n      <td>...</td>\n      <td>0.280350</td>\n      <td>4.176886e-04</td>\n      <td>8</td>\n      <td>44</td>\n      <td>45</td>\n      <td>55</td>\n      <td>46</td>\n      <td>51</td>\n      <td>21</td>\n      <td>270</td>\n    </tr>\n    <tr>\n      <th>15</th>\n      <td>SANB11.SA</td>\n      <td>-0.053981</td>\n      <td>0.022483</td>\n      <td>0.000363</td>\n      <td>31.719999</td>\n      <td>32.830036</td>\n      <td>25.757246</td>\n      <td>38.477346</td>\n      <td>31.74</td>\n      <td>0.034995</td>\n      <td>...</td>\n      <td>0.213031</td>\n      <td>6.305387e-04</td>\n      <td>42</td>\n      <td>11</td>\n      <td>14</td>\n      <td>59</td>\n      <td>77</td>\n      <td>46</td>\n      <td>15</td>\n      <td>264</td>\n    </tr>\n    <tr>\n      <th>13</th>\n      <td>VIVT3.SA</td>\n      <td>0.132995</td>\n      <td>0.020041</td>\n      <td>0.000330</td>\n      <td>49.070000</td>\n      <td>49.879849</td>\n      <td>40.790066</td>\n      <td>58.513102</td>\n      <td>49.15</td>\n      <td>0.016504</td>\n      <td>...</td>\n      <td>0.192441</td>\n      <td>1.630330e-03</td>\n      <td>39</td>\n      <td>6</td>\n      <td>7</td>\n      <td>77</td>\n      <td>83</td>\n      <td>33</td>\n      <td>13</td>\n      <td>258</td>\n    </tr>\n    <tr>\n      <th>14</th>\n      <td>BBSE3.SA</td>\n      <td>-0.233796</td>\n      <td>0.019716</td>\n      <td>0.000347</td>\n      <td>23.170000</td>\n      <td>18.624672</td>\n      <td>19.312862</td>\n      <td>27.525196</td>\n      <td>23.19</td>\n      <td>-0.196173</td>\n      <td>...</td>\n      <td>0.187967</td>\n      <td>8.631819e-04</td>\n      <td>14</td>\n      <td>4</td>\n      <td>4</td>\n      <td>65</td>\n      <td>86</td>\n      <td>65</td>\n      <td>14</td>\n      <td>252</td>\n    </tr>\n    <tr>\n      <th>17</th>\n      <td>ENBR3.SA</td>\n      <td>0.588305</td>\n      <td>0.017662</td>\n      <td>0.000379</td>\n      <td>21.219999</td>\n      <td>20.510932</td>\n      <td>18.048764</td>\n      <td>24.818867</td>\n      <td>21.25</td>\n      <td>-0.033415</td>\n      <td>...</td>\n      <td>0.169598</td>\n      <td>1.413793e-03</td>\n      <td>29</td>\n      <td>0</td>\n      <td>0</td>\n      <td>74</td>\n      <td>90</td>\n      <td>15</td>\n      <td>17</td>\n      <td>225</td>\n    </tr>\n  </tbody>\n</table>\n<p>44 rows × 21 columns</p>\n</div>"
     },
     "execution_count": 35,
     "metadata": {},
     "output_type": "execute_result"
    }
   ],
   "source": [
    "newDF = retornoOrdenado\n",
    "newDF = newDF[newDF['retornoEsperado'] > 0]\n",
    "newDF = newDF[newDF['precoAtual'] <=  300]\n",
    "newDF['scoreTotal'] = newDF['scoreRetPrevisto'] + newDF['scoreRisco'] + newDF['scoreDesconto'] + newDF['scoreRetorno'] + newDF['scoreStopLoss'] + newDF['scoreStopGain']+ newDF['scoreExpected']\n",
    "newDF = newDF.sort_values(by = 'scoreTotal', ascending= False)\n",
    "newDF = newDF.dropna()\n",
    "\n",
    "newDF"
   ],
   "metadata": {
    "collapsed": false,
    "pycharm": {
     "name": "#%%\n"
    }
   }
  },
  {
   "cell_type": "code",
   "execution_count": 36,
   "outputs": [
    {
     "data": {
      "text/plain": "       ticker  precoAtual     risco  stop_loss  retornoStopLoss   stop_gain  \\\n81   CMIG4.SA   12.810000  0.121880   3.337562        -0.739457   31.773235   \n77   CYRE3.SA   15.840000  0.035476  11.256397        -0.289369   21.495042   \n80   MGLU3.SA    6.100000  0.037619   4.259737        -0.301683    8.402018   \n88   CPFE3.SA   30.250000  0.244802   0.907823        -0.969989  112.040355   \n26   CVCB3.SA   14.010000  0.033747  10.093157        -0.279575   18.766158   \n50   GOLL4.SA   18.600000  0.040272  12.684813        -0.318021   26.131618   \n84   RADL3.SA   23.690001  0.058943  13.255268        -0.440470   38.783420   \n63   BRAP4.SA   29.469999  0.031624  21.893371        -0.257096   38.538261   \n87   CASH3.SA    2.520000  0.059085   1.410267        -0.440370    4.057341   \n6    ENEV3.SA   13.680000  0.034533   9.852969        -0.279754   18.338008   \n68   USIM5.SA   14.750000  0.033855  10.680575        -0.275893   19.694540   \n85   RRRP3.SA   36.000000  0.031734  26.553241        -0.262410   47.406676   \n32   COGN3.SA    2.440000  0.036560   1.728752        -0.291495    3.334302   \n75   PRIO3.SA   24.610001  0.049578  15.254592        -0.380147   37.009891   \n40   ELET3.SA   34.110001  0.032076  24.953334        -0.268445   45.022641   \n33   PCAR3.SA   21.799999  0.037100  15.365372        -0.295166   29.685040   \n39   MRVE3.SA   12.360000  0.032414   9.075312        -0.265751   16.318763   \n64   TIMS3.SA   13.400000  0.034179   9.667979        -0.278509   17.926939   \n43   EZTC3.SA   18.480000  0.027332  14.291897        -0.226629   23.316853   \n46   BRFS3.SA   19.379999  0.030607  14.483474        -0.252659   25.255469   \n65   PETZ3.SA   18.360001  0.029086  13.982960        -0.238401   23.591822   \n82  BPAC11.SA   25.450001  0.031330  18.935985        -0.255953   33.261597   \n61   BBAS3.SA   35.770000  0.027584  27.674373        -0.226324   45.339905   \n31   BRML3.SA    9.680000  0.028177   7.434645        -0.231958   12.318224   \n45   BBDC3.SA   17.639999  0.022768  14.244613        -0.192482   21.567289   \n62   ALPA4.SA   27.000000  0.024088  21.665653        -0.197568   33.247498   \n44  SULA11.SA   24.969999  0.023084  20.093845        -0.195280   30.598246   \n38   SBSP3.SA   39.790001  0.024882  31.574162        -0.206480   49.495811   \n78   RENT3.SA   61.189999  0.027509  47.208292        -0.228497   77.342446   \n70   TOTS3.SA   32.480000  0.023196  26.163097        -0.194486   39.718296   \n79   LCAM3.SA   27.150000  0.028881  20.689472        -0.237957   34.816303   \n74   WEGE3.SA   29.580000  0.021227  24.255259        -0.180012   35.589886   \n67   VALE3.SA   87.190002  0.025745  68.848012        -0.210368  109.044512   \n47   ITUB4.SA   25.700001  0.022645  20.785265        -0.191235   31.156291   \n29   ELET6.SA   33.840000  0.029278  25.591267        -0.243757   43.370537   \n48   HYPE3.SA   32.840000  0.023632  26.403649        -0.195991   40.196257   \n8    BEEF3.SA   10.150000  0.026741   7.877262        -0.223915   12.805107   \n28  KLBN11.SA   23.549999  0.019355  19.643523        -0.165880   27.878881   \n7    CIEL3.SA    2.620000  0.025012   2.067461        -0.210893    3.252841   \n21   VBBR3.SA   23.940001  0.028353  18.348656        -0.233557   30.651589   \n15  SANB11.SA   31.719999  0.022483  25.757246        -0.187981   38.477346   \n13   VIVT3.SA   49.070000  0.020041  40.790066        -0.168737   58.513102   \n14   BBSE3.SA   23.170000  0.019716  19.312862        -0.166471   27.525196   \n17   ENBR3.SA   21.219999  0.017662  18.048764        -0.149446   24.818867   \n\n    retornoStopGain  retornoPrevisto  retornoEsperado  scoreTotal  \n81         1.480346        16.775178     8.587008e-03         526  \n77         0.357010         0.551674     1.893930e-03         460  \n80         0.377380         1.890479     1.639360e-03         451  \n88         2.703813         0.035059     1.090909e-02         421  \n26         0.339483         0.219748     1.427535e-03         419  \n50         0.404926         0.107339     1.075248e-03         414  \n84         0.637122         0.108105     7.176001e-03         414  \n63         0.307712         0.786470     2.035992e-03         414  \n87         0.610056        -0.502934     7.568844e-09         395  \n6          0.340498         0.536646     7.309718e-04         393  \n68         0.335223         0.110334     6.779661e-04         384  \n85         0.316852         0.004480     2.777778e-04         375  \n32         0.366517        -0.933433     4.098337e-03         373  \n75         0.503856         0.049654     1.218992e-03         371  \n40         0.319925         0.200197     1.758997e-03         364  \n33         0.361699        -0.130999     4.587506e-04         359  \n39         0.320288         0.226825     2.777692e-08         359  \n64         0.337831         0.005287     7.462971e-04         354  \n43         0.261734         0.601190     2.477076e-08         349  \n46         0.303172        -0.047615     4.330410e-08         346  \n65         0.284958        -0.273851     1.089291e-03         345  \n82         0.306939        -0.175079     1.178752e-03         339  \n61         0.267540        -0.031267     2.236498e-03         332  \n31         0.272544        -0.173947     2.066084e-03         331  \n45         0.222635         0.154657     1.700715e-03         330  \n62         0.231389         0.831059     1.111111e-03         329  \n44         0.225400         0.165468     2.002430e-03         329  \n38         0.243926         0.178473     1.759213e-03         321  \n78         0.263972         0.074716     6.537240e-04         320  \n70         0.222854         0.143587     1.231541e-03         315  \n79         0.282368        -0.009593     3.683382e-04         314  \n74         0.203174         0.315891     6.761351e-04         312  \n67         0.250654         0.056264     1.032200e-03         310  \n47         0.212307         0.049099     1.556391e-03         303  \n29         0.281635         0.050923     5.910120e-04         302  \n48         0.224003         0.011073     9.135154e-04         294  \n8          0.261587         0.018429     3.758323e-08         276  \n28         0.183817         0.122764     4.246609e-04         273  \n7          0.241542        -0.481872     4.367974e-08         273  \n21         0.280350        -0.423228     4.176886e-04         270  \n15         0.213031         0.034995     6.305387e-04         264  \n13         0.192441         0.016504     1.630330e-03         258  \n14         0.187967        -0.196173     8.631819e-04         252  \n17         0.169598        -0.033415     1.413793e-03         225  ",
      "text/html": "<div>\n<style scoped>\n    .dataframe tbody tr th:only-of-type {\n        vertical-align: middle;\n    }\n\n    .dataframe tbody tr th {\n        vertical-align: top;\n    }\n\n    .dataframe thead th {\n        text-align: right;\n    }\n</style>\n<table border=\"1\" class=\"dataframe\">\n  <thead>\n    <tr style=\"text-align: right;\">\n      <th></th>\n      <th>ticker</th>\n      <th>precoAtual</th>\n      <th>risco</th>\n      <th>stop_loss</th>\n      <th>retornoStopLoss</th>\n      <th>stop_gain</th>\n      <th>retornoStopGain</th>\n      <th>retornoPrevisto</th>\n      <th>retornoEsperado</th>\n      <th>scoreTotal</th>\n    </tr>\n  </thead>\n  <tbody>\n    <tr>\n      <th>81</th>\n      <td>CMIG4.SA</td>\n      <td>12.810000</td>\n      <td>0.121880</td>\n      <td>3.337562</td>\n      <td>-0.739457</td>\n      <td>31.773235</td>\n      <td>1.480346</td>\n      <td>16.775178</td>\n      <td>8.587008e-03</td>\n      <td>526</td>\n    </tr>\n    <tr>\n      <th>77</th>\n      <td>CYRE3.SA</td>\n      <td>15.840000</td>\n      <td>0.035476</td>\n      <td>11.256397</td>\n      <td>-0.289369</td>\n      <td>21.495042</td>\n      <td>0.357010</td>\n      <td>0.551674</td>\n      <td>1.893930e-03</td>\n      <td>460</td>\n    </tr>\n    <tr>\n      <th>80</th>\n      <td>MGLU3.SA</td>\n      <td>6.100000</td>\n      <td>0.037619</td>\n      <td>4.259737</td>\n      <td>-0.301683</td>\n      <td>8.402018</td>\n      <td>0.377380</td>\n      <td>1.890479</td>\n      <td>1.639360e-03</td>\n      <td>451</td>\n    </tr>\n    <tr>\n      <th>88</th>\n      <td>CPFE3.SA</td>\n      <td>30.250000</td>\n      <td>0.244802</td>\n      <td>0.907823</td>\n      <td>-0.969989</td>\n      <td>112.040355</td>\n      <td>2.703813</td>\n      <td>0.035059</td>\n      <td>1.090909e-02</td>\n      <td>421</td>\n    </tr>\n    <tr>\n      <th>26</th>\n      <td>CVCB3.SA</td>\n      <td>14.010000</td>\n      <td>0.033747</td>\n      <td>10.093157</td>\n      <td>-0.279575</td>\n      <td>18.766158</td>\n      <td>0.339483</td>\n      <td>0.219748</td>\n      <td>1.427535e-03</td>\n      <td>419</td>\n    </tr>\n    <tr>\n      <th>50</th>\n      <td>GOLL4.SA</td>\n      <td>18.600000</td>\n      <td>0.040272</td>\n      <td>12.684813</td>\n      <td>-0.318021</td>\n      <td>26.131618</td>\n      <td>0.404926</td>\n      <td>0.107339</td>\n      <td>1.075248e-03</td>\n      <td>414</td>\n    </tr>\n    <tr>\n      <th>84</th>\n      <td>RADL3.SA</td>\n      <td>23.690001</td>\n      <td>0.058943</td>\n      <td>13.255268</td>\n      <td>-0.440470</td>\n      <td>38.783420</td>\n      <td>0.637122</td>\n      <td>0.108105</td>\n      <td>7.176001e-03</td>\n      <td>414</td>\n    </tr>\n    <tr>\n      <th>63</th>\n      <td>BRAP4.SA</td>\n      <td>29.469999</td>\n      <td>0.031624</td>\n      <td>21.893371</td>\n      <td>-0.257096</td>\n      <td>38.538261</td>\n      <td>0.307712</td>\n      <td>0.786470</td>\n      <td>2.035992e-03</td>\n      <td>414</td>\n    </tr>\n    <tr>\n      <th>87</th>\n      <td>CASH3.SA</td>\n      <td>2.520000</td>\n      <td>0.059085</td>\n      <td>1.410267</td>\n      <td>-0.440370</td>\n      <td>4.057341</td>\n      <td>0.610056</td>\n      <td>-0.502934</td>\n      <td>7.568844e-09</td>\n      <td>395</td>\n    </tr>\n    <tr>\n      <th>6</th>\n      <td>ENEV3.SA</td>\n      <td>13.680000</td>\n      <td>0.034533</td>\n      <td>9.852969</td>\n      <td>-0.279754</td>\n      <td>18.338008</td>\n      <td>0.340498</td>\n      <td>0.536646</td>\n      <td>7.309718e-04</td>\n      <td>393</td>\n    </tr>\n    <tr>\n      <th>68</th>\n      <td>USIM5.SA</td>\n      <td>14.750000</td>\n      <td>0.033855</td>\n      <td>10.680575</td>\n      <td>-0.275893</td>\n      <td>19.694540</td>\n      <td>0.335223</td>\n      <td>0.110334</td>\n      <td>6.779661e-04</td>\n      <td>384</td>\n    </tr>\n    <tr>\n      <th>85</th>\n      <td>RRRP3.SA</td>\n      <td>36.000000</td>\n      <td>0.031734</td>\n      <td>26.553241</td>\n      <td>-0.262410</td>\n      <td>47.406676</td>\n      <td>0.316852</td>\n      <td>0.004480</td>\n      <td>2.777778e-04</td>\n      <td>375</td>\n    </tr>\n    <tr>\n      <th>32</th>\n      <td>COGN3.SA</td>\n      <td>2.440000</td>\n      <td>0.036560</td>\n      <td>1.728752</td>\n      <td>-0.291495</td>\n      <td>3.334302</td>\n      <td>0.366517</td>\n      <td>-0.933433</td>\n      <td>4.098337e-03</td>\n      <td>373</td>\n    </tr>\n    <tr>\n      <th>75</th>\n      <td>PRIO3.SA</td>\n      <td>24.610001</td>\n      <td>0.049578</td>\n      <td>15.254592</td>\n      <td>-0.380147</td>\n      <td>37.009891</td>\n      <td>0.503856</td>\n      <td>0.049654</td>\n      <td>1.218992e-03</td>\n      <td>371</td>\n    </tr>\n    <tr>\n      <th>40</th>\n      <td>ELET3.SA</td>\n      <td>34.110001</td>\n      <td>0.032076</td>\n      <td>24.953334</td>\n      <td>-0.268445</td>\n      <td>45.022641</td>\n      <td>0.319925</td>\n      <td>0.200197</td>\n      <td>1.758997e-03</td>\n      <td>364</td>\n    </tr>\n    <tr>\n      <th>33</th>\n      <td>PCAR3.SA</td>\n      <td>21.799999</td>\n      <td>0.037100</td>\n      <td>15.365372</td>\n      <td>-0.295166</td>\n      <td>29.685040</td>\n      <td>0.361699</td>\n      <td>-0.130999</td>\n      <td>4.587506e-04</td>\n      <td>359</td>\n    </tr>\n    <tr>\n      <th>39</th>\n      <td>MRVE3.SA</td>\n      <td>12.360000</td>\n      <td>0.032414</td>\n      <td>9.075312</td>\n      <td>-0.265751</td>\n      <td>16.318763</td>\n      <td>0.320288</td>\n      <td>0.226825</td>\n      <td>2.777692e-08</td>\n      <td>359</td>\n    </tr>\n    <tr>\n      <th>64</th>\n      <td>TIMS3.SA</td>\n      <td>13.400000</td>\n      <td>0.034179</td>\n      <td>9.667979</td>\n      <td>-0.278509</td>\n      <td>17.926939</td>\n      <td>0.337831</td>\n      <td>0.005287</td>\n      <td>7.462971e-04</td>\n      <td>354</td>\n    </tr>\n    <tr>\n      <th>43</th>\n      <td>EZTC3.SA</td>\n      <td>18.480000</td>\n      <td>0.027332</td>\n      <td>14.291897</td>\n      <td>-0.226629</td>\n      <td>23.316853</td>\n      <td>0.261734</td>\n      <td>0.601190</td>\n      <td>2.477076e-08</td>\n      <td>349</td>\n    </tr>\n    <tr>\n      <th>46</th>\n      <td>BRFS3.SA</td>\n      <td>19.379999</td>\n      <td>0.030607</td>\n      <td>14.483474</td>\n      <td>-0.252659</td>\n      <td>25.255469</td>\n      <td>0.303172</td>\n      <td>-0.047615</td>\n      <td>4.330410e-08</td>\n      <td>346</td>\n    </tr>\n    <tr>\n      <th>65</th>\n      <td>PETZ3.SA</td>\n      <td>18.360001</td>\n      <td>0.029086</td>\n      <td>13.982960</td>\n      <td>-0.238401</td>\n      <td>23.591822</td>\n      <td>0.284958</td>\n      <td>-0.273851</td>\n      <td>1.089291e-03</td>\n      <td>345</td>\n    </tr>\n    <tr>\n      <th>82</th>\n      <td>BPAC11.SA</td>\n      <td>25.450001</td>\n      <td>0.031330</td>\n      <td>18.935985</td>\n      <td>-0.255953</td>\n      <td>33.261597</td>\n      <td>0.306939</td>\n      <td>-0.175079</td>\n      <td>1.178752e-03</td>\n      <td>339</td>\n    </tr>\n    <tr>\n      <th>61</th>\n      <td>BBAS3.SA</td>\n      <td>35.770000</td>\n      <td>0.027584</td>\n      <td>27.674373</td>\n      <td>-0.226324</td>\n      <td>45.339905</td>\n      <td>0.267540</td>\n      <td>-0.031267</td>\n      <td>2.236498e-03</td>\n      <td>332</td>\n    </tr>\n    <tr>\n      <th>31</th>\n      <td>BRML3.SA</td>\n      <td>9.680000</td>\n      <td>0.028177</td>\n      <td>7.434645</td>\n      <td>-0.231958</td>\n      <td>12.318224</td>\n      <td>0.272544</td>\n      <td>-0.173947</td>\n      <td>2.066084e-03</td>\n      <td>331</td>\n    </tr>\n    <tr>\n      <th>45</th>\n      <td>BBDC3.SA</td>\n      <td>17.639999</td>\n      <td>0.022768</td>\n      <td>14.244613</td>\n      <td>-0.192482</td>\n      <td>21.567289</td>\n      <td>0.222635</td>\n      <td>0.154657</td>\n      <td>1.700715e-03</td>\n      <td>330</td>\n    </tr>\n    <tr>\n      <th>62</th>\n      <td>ALPA4.SA</td>\n      <td>27.000000</td>\n      <td>0.024088</td>\n      <td>21.665653</td>\n      <td>-0.197568</td>\n      <td>33.247498</td>\n      <td>0.231389</td>\n      <td>0.831059</td>\n      <td>1.111111e-03</td>\n      <td>329</td>\n    </tr>\n    <tr>\n      <th>44</th>\n      <td>SULA11.SA</td>\n      <td>24.969999</td>\n      <td>0.023084</td>\n      <td>20.093845</td>\n      <td>-0.195280</td>\n      <td>30.598246</td>\n      <td>0.225400</td>\n      <td>0.165468</td>\n      <td>2.002430e-03</td>\n      <td>329</td>\n    </tr>\n    <tr>\n      <th>38</th>\n      <td>SBSP3.SA</td>\n      <td>39.790001</td>\n      <td>0.024882</td>\n      <td>31.574162</td>\n      <td>-0.206480</td>\n      <td>49.495811</td>\n      <td>0.243926</td>\n      <td>0.178473</td>\n      <td>1.759213e-03</td>\n      <td>321</td>\n    </tr>\n    <tr>\n      <th>78</th>\n      <td>RENT3.SA</td>\n      <td>61.189999</td>\n      <td>0.027509</td>\n      <td>47.208292</td>\n      <td>-0.228497</td>\n      <td>77.342446</td>\n      <td>0.263972</td>\n      <td>0.074716</td>\n      <td>6.537240e-04</td>\n      <td>320</td>\n    </tr>\n    <tr>\n      <th>70</th>\n      <td>TOTS3.SA</td>\n      <td>32.480000</td>\n      <td>0.023196</td>\n      <td>26.163097</td>\n      <td>-0.194486</td>\n      <td>39.718296</td>\n      <td>0.222854</td>\n      <td>0.143587</td>\n      <td>1.231541e-03</td>\n      <td>315</td>\n    </tr>\n    <tr>\n      <th>79</th>\n      <td>LCAM3.SA</td>\n      <td>27.150000</td>\n      <td>0.028881</td>\n      <td>20.689472</td>\n      <td>-0.237957</td>\n      <td>34.816303</td>\n      <td>0.282368</td>\n      <td>-0.009593</td>\n      <td>3.683382e-04</td>\n      <td>314</td>\n    </tr>\n    <tr>\n      <th>74</th>\n      <td>WEGE3.SA</td>\n      <td>29.580000</td>\n      <td>0.021227</td>\n      <td>24.255259</td>\n      <td>-0.180012</td>\n      <td>35.589886</td>\n      <td>0.203174</td>\n      <td>0.315891</td>\n      <td>6.761351e-04</td>\n      <td>312</td>\n    </tr>\n    <tr>\n      <th>67</th>\n      <td>VALE3.SA</td>\n      <td>87.190002</td>\n      <td>0.025745</td>\n      <td>68.848012</td>\n      <td>-0.210368</td>\n      <td>109.044512</td>\n      <td>0.250654</td>\n      <td>0.056264</td>\n      <td>1.032200e-03</td>\n      <td>310</td>\n    </tr>\n    <tr>\n      <th>47</th>\n      <td>ITUB4.SA</td>\n      <td>25.700001</td>\n      <td>0.022645</td>\n      <td>20.785265</td>\n      <td>-0.191235</td>\n      <td>31.156291</td>\n      <td>0.212307</td>\n      <td>0.049099</td>\n      <td>1.556391e-03</td>\n      <td>303</td>\n    </tr>\n    <tr>\n      <th>29</th>\n      <td>ELET6.SA</td>\n      <td>33.840000</td>\n      <td>0.029278</td>\n      <td>25.591267</td>\n      <td>-0.243757</td>\n      <td>43.370537</td>\n      <td>0.281635</td>\n      <td>0.050923</td>\n      <td>5.910120e-04</td>\n      <td>302</td>\n    </tr>\n    <tr>\n      <th>48</th>\n      <td>HYPE3.SA</td>\n      <td>32.840000</td>\n      <td>0.023632</td>\n      <td>26.403649</td>\n      <td>-0.195991</td>\n      <td>40.196257</td>\n      <td>0.224003</td>\n      <td>0.011073</td>\n      <td>9.135154e-04</td>\n      <td>294</td>\n    </tr>\n    <tr>\n      <th>8</th>\n      <td>BEEF3.SA</td>\n      <td>10.150000</td>\n      <td>0.026741</td>\n      <td>7.877262</td>\n      <td>-0.223915</td>\n      <td>12.805107</td>\n      <td>0.261587</td>\n      <td>0.018429</td>\n      <td>3.758323e-08</td>\n      <td>276</td>\n    </tr>\n    <tr>\n      <th>28</th>\n      <td>KLBN11.SA</td>\n      <td>23.549999</td>\n      <td>0.019355</td>\n      <td>19.643523</td>\n      <td>-0.165880</td>\n      <td>27.878881</td>\n      <td>0.183817</td>\n      <td>0.122764</td>\n      <td>4.246609e-04</td>\n      <td>273</td>\n    </tr>\n    <tr>\n      <th>7</th>\n      <td>CIEL3.SA</td>\n      <td>2.620000</td>\n      <td>0.025012</td>\n      <td>2.067461</td>\n      <td>-0.210893</td>\n      <td>3.252841</td>\n      <td>0.241542</td>\n      <td>-0.481872</td>\n      <td>4.367974e-08</td>\n      <td>273</td>\n    </tr>\n    <tr>\n      <th>21</th>\n      <td>VBBR3.SA</td>\n      <td>23.940001</td>\n      <td>0.028353</td>\n      <td>18.348656</td>\n      <td>-0.233557</td>\n      <td>30.651589</td>\n      <td>0.280350</td>\n      <td>-0.423228</td>\n      <td>4.176886e-04</td>\n      <td>270</td>\n    </tr>\n    <tr>\n      <th>15</th>\n      <td>SANB11.SA</td>\n      <td>31.719999</td>\n      <td>0.022483</td>\n      <td>25.757246</td>\n      <td>-0.187981</td>\n      <td>38.477346</td>\n      <td>0.213031</td>\n      <td>0.034995</td>\n      <td>6.305387e-04</td>\n      <td>264</td>\n    </tr>\n    <tr>\n      <th>13</th>\n      <td>VIVT3.SA</td>\n      <td>49.070000</td>\n      <td>0.020041</td>\n      <td>40.790066</td>\n      <td>-0.168737</td>\n      <td>58.513102</td>\n      <td>0.192441</td>\n      <td>0.016504</td>\n      <td>1.630330e-03</td>\n      <td>258</td>\n    </tr>\n    <tr>\n      <th>14</th>\n      <td>BBSE3.SA</td>\n      <td>23.170000</td>\n      <td>0.019716</td>\n      <td>19.312862</td>\n      <td>-0.166471</td>\n      <td>27.525196</td>\n      <td>0.187967</td>\n      <td>-0.196173</td>\n      <td>8.631819e-04</td>\n      <td>252</td>\n    </tr>\n    <tr>\n      <th>17</th>\n      <td>ENBR3.SA</td>\n      <td>21.219999</td>\n      <td>0.017662</td>\n      <td>18.048764</td>\n      <td>-0.149446</td>\n      <td>24.818867</td>\n      <td>0.169598</td>\n      <td>-0.033415</td>\n      <td>1.413793e-03</td>\n      <td>225</td>\n    </tr>\n  </tbody>\n</table>\n</div>"
     },
     "execution_count": 36,
     "metadata": {},
     "output_type": "execute_result"
    }
   ],
   "source": [
    "dfFinal = newDF[['ticker','precoAtual', 'risco', 'stop_loss', 'retornoStopLoss', 'stop_gain', 'retornoStopGain', 'retornoPrevisto','retornoEsperado', 'scoreTotal']].dropna()\n",
    "#dfFinal = newDF[['ticker', 'stop_loss', 'retornoStopLoss', 'stop_gain', 'retornoStopGain', 'retornoPrevisto','retornoEsperado']].dropna()\n",
    "\n",
    "dfFinal.to_csv('carteiraAcoes' + str(qtdDiasPrevisao) + '_' + str(datetime.now().day) + '.csv')\n",
    "dfFinal"
   ],
   "metadata": {
    "collapsed": false,
    "pycharm": {
     "name": "#%%\n"
    }
   }
  },
  {
   "cell_type": "code",
   "execution_count": 37,
   "outputs": [],
   "source": [
    "carteira = pd.read_csv('carteiraAcoes30_11.csv')"
   ],
   "metadata": {
    "collapsed": false,
    "pycharm": {
     "name": "#%%\n"
    }
   }
  },
  {
   "cell_type": "code",
   "execution_count": 38,
   "outputs": [
    {
     "data": {
      "text/plain": "       ticker  precoAtual     risco  stop_loss  retornoStopLoss   stop_gain  \\\n81   CMIG4.SA   12.810000  0.121880   3.337562        -0.739457   31.773235   \n77   CYRE3.SA   15.840000  0.035476  11.256397        -0.289369   21.495042   \n80   MGLU3.SA    6.100000  0.037619   4.259737        -0.301683    8.402018   \n26   CVCB3.SA   14.010000  0.033747  10.093157        -0.279575   18.766158   \n50   GOLL4.SA   18.600000  0.040272  12.684813        -0.318021   26.131618   \n84   RADL3.SA   23.690001  0.058943  13.255268        -0.440470   38.783420   \n63   BRAP4.SA   29.469999  0.031624  21.893371        -0.257096   38.538261   \n6    ENEV3.SA   13.680000  0.034533   9.852969        -0.279754   18.338008   \n68   USIM5.SA   14.750000  0.033855  10.680575        -0.275893   19.694540   \n85   RRRP3.SA   36.000000  0.031734  26.553241        -0.262410   47.406676   \n75   PRIO3.SA   24.610001  0.049578  15.254592        -0.380147   37.009891   \n40   ELET3.SA   34.110001  0.032076  24.953334        -0.268445   45.022641   \n39   MRVE3.SA   12.360000  0.032414   9.075312        -0.265751   16.318763   \n64   TIMS3.SA   13.400000  0.034179   9.667979        -0.278509   17.926939   \n43   EZTC3.SA   18.480000  0.027332  14.291897        -0.226629   23.316853   \n45   BBDC3.SA   17.639999  0.022768  14.244613        -0.192482   21.567289   \n62   ALPA4.SA   27.000000  0.024088  21.665653        -0.197568   33.247498   \n44  SULA11.SA   24.969999  0.023084  20.093845        -0.195280   30.598246   \n38   SBSP3.SA   39.790001  0.024882  31.574162        -0.206480   49.495811   \n78   RENT3.SA   61.189999  0.027509  47.208292        -0.228497   77.342446   \n70   TOTS3.SA   32.480000  0.023196  26.163097        -0.194486   39.718296   \n74   WEGE3.SA   29.580000  0.021227  24.255259        -0.180012   35.589886   \n67   VALE3.SA   87.190002  0.025745  68.848012        -0.210368  109.044512   \n47   ITUB4.SA   25.700001  0.022645  20.785265        -0.191235   31.156291   \n29   ELET6.SA   33.840000  0.029278  25.591267        -0.243757   43.370537   \n48   HYPE3.SA   32.840000  0.023632  26.403649        -0.195991   40.196257   \n8    BEEF3.SA   10.150000  0.026741   7.877262        -0.223915   12.805107   \n28  KLBN11.SA   23.549999  0.019355  19.643523        -0.165880   27.878881   \n15  SANB11.SA   31.719999  0.022483  25.757246        -0.187981   38.477346   \n13   VIVT3.SA   49.070000  0.020041  40.790066        -0.168737   58.513102   \n\n    retornoStopGain  retornoPrevisto  retornoEsperado  scoreTotal  \n81         1.480346        16.775178     8.587008e-03         526  \n77         0.357010         0.551674     1.893930e-03         460  \n80         0.377380         1.890479     1.639360e-03         451  \n26         0.339483         0.219748     1.427535e-03         419  \n50         0.404926         0.107339     1.075248e-03         414  \n84         0.637122         0.108105     7.176001e-03         414  \n63         0.307712         0.786470     2.035992e-03         414  \n6          0.340498         0.536646     7.309718e-04         393  \n68         0.335223         0.110334     6.779661e-04         384  \n85         0.316852         0.004480     2.777778e-04         375  \n75         0.503856         0.049654     1.218992e-03         371  \n40         0.319925         0.200197     1.758997e-03         364  \n39         0.320288         0.226825     2.777692e-08         359  \n64         0.337831         0.005287     7.462971e-04         354  \n43         0.261734         0.601190     2.477076e-08         349  \n45         0.222635         0.154657     1.700715e-03         330  \n62         0.231389         0.831059     1.111111e-03         329  \n44         0.225400         0.165468     2.002430e-03         329  \n38         0.243926         0.178473     1.759213e-03         321  \n78         0.263972         0.074716     6.537240e-04         320  \n70         0.222854         0.143587     1.231541e-03         315  \n74         0.203174         0.315891     6.761351e-04         312  \n67         0.250654         0.056264     1.032200e-03         310  \n47         0.212307         0.049099     1.556391e-03         303  \n29         0.281635         0.050923     5.910120e-04         302  \n48         0.224003         0.011073     9.135154e-04         294  \n8          0.261587         0.018429     3.758323e-08         276  \n28         0.183817         0.122764     4.246609e-04         273  \n15         0.213031         0.034995     6.305387e-04         264  \n13         0.192441         0.016504     1.630330e-03         258  ",
      "text/html": "<div>\n<style scoped>\n    .dataframe tbody tr th:only-of-type {\n        vertical-align: middle;\n    }\n\n    .dataframe tbody tr th {\n        vertical-align: top;\n    }\n\n    .dataframe thead th {\n        text-align: right;\n    }\n</style>\n<table border=\"1\" class=\"dataframe\">\n  <thead>\n    <tr style=\"text-align: right;\">\n      <th></th>\n      <th>ticker</th>\n      <th>precoAtual</th>\n      <th>risco</th>\n      <th>stop_loss</th>\n      <th>retornoStopLoss</th>\n      <th>stop_gain</th>\n      <th>retornoStopGain</th>\n      <th>retornoPrevisto</th>\n      <th>retornoEsperado</th>\n      <th>scoreTotal</th>\n    </tr>\n  </thead>\n  <tbody>\n    <tr>\n      <th>81</th>\n      <td>CMIG4.SA</td>\n      <td>12.810000</td>\n      <td>0.121880</td>\n      <td>3.337562</td>\n      <td>-0.739457</td>\n      <td>31.773235</td>\n      <td>1.480346</td>\n      <td>16.775178</td>\n      <td>8.587008e-03</td>\n      <td>526</td>\n    </tr>\n    <tr>\n      <th>77</th>\n      <td>CYRE3.SA</td>\n      <td>15.840000</td>\n      <td>0.035476</td>\n      <td>11.256397</td>\n      <td>-0.289369</td>\n      <td>21.495042</td>\n      <td>0.357010</td>\n      <td>0.551674</td>\n      <td>1.893930e-03</td>\n      <td>460</td>\n    </tr>\n    <tr>\n      <th>80</th>\n      <td>MGLU3.SA</td>\n      <td>6.100000</td>\n      <td>0.037619</td>\n      <td>4.259737</td>\n      <td>-0.301683</td>\n      <td>8.402018</td>\n      <td>0.377380</td>\n      <td>1.890479</td>\n      <td>1.639360e-03</td>\n      <td>451</td>\n    </tr>\n    <tr>\n      <th>26</th>\n      <td>CVCB3.SA</td>\n      <td>14.010000</td>\n      <td>0.033747</td>\n      <td>10.093157</td>\n      <td>-0.279575</td>\n      <td>18.766158</td>\n      <td>0.339483</td>\n      <td>0.219748</td>\n      <td>1.427535e-03</td>\n      <td>419</td>\n    </tr>\n    <tr>\n      <th>50</th>\n      <td>GOLL4.SA</td>\n      <td>18.600000</td>\n      <td>0.040272</td>\n      <td>12.684813</td>\n      <td>-0.318021</td>\n      <td>26.131618</td>\n      <td>0.404926</td>\n      <td>0.107339</td>\n      <td>1.075248e-03</td>\n      <td>414</td>\n    </tr>\n    <tr>\n      <th>84</th>\n      <td>RADL3.SA</td>\n      <td>23.690001</td>\n      <td>0.058943</td>\n      <td>13.255268</td>\n      <td>-0.440470</td>\n      <td>38.783420</td>\n      <td>0.637122</td>\n      <td>0.108105</td>\n      <td>7.176001e-03</td>\n      <td>414</td>\n    </tr>\n    <tr>\n      <th>63</th>\n      <td>BRAP4.SA</td>\n      <td>29.469999</td>\n      <td>0.031624</td>\n      <td>21.893371</td>\n      <td>-0.257096</td>\n      <td>38.538261</td>\n      <td>0.307712</td>\n      <td>0.786470</td>\n      <td>2.035992e-03</td>\n      <td>414</td>\n    </tr>\n    <tr>\n      <th>6</th>\n      <td>ENEV3.SA</td>\n      <td>13.680000</td>\n      <td>0.034533</td>\n      <td>9.852969</td>\n      <td>-0.279754</td>\n      <td>18.338008</td>\n      <td>0.340498</td>\n      <td>0.536646</td>\n      <td>7.309718e-04</td>\n      <td>393</td>\n    </tr>\n    <tr>\n      <th>68</th>\n      <td>USIM5.SA</td>\n      <td>14.750000</td>\n      <td>0.033855</td>\n      <td>10.680575</td>\n      <td>-0.275893</td>\n      <td>19.694540</td>\n      <td>0.335223</td>\n      <td>0.110334</td>\n      <td>6.779661e-04</td>\n      <td>384</td>\n    </tr>\n    <tr>\n      <th>85</th>\n      <td>RRRP3.SA</td>\n      <td>36.000000</td>\n      <td>0.031734</td>\n      <td>26.553241</td>\n      <td>-0.262410</td>\n      <td>47.406676</td>\n      <td>0.316852</td>\n      <td>0.004480</td>\n      <td>2.777778e-04</td>\n      <td>375</td>\n    </tr>\n    <tr>\n      <th>75</th>\n      <td>PRIO3.SA</td>\n      <td>24.610001</td>\n      <td>0.049578</td>\n      <td>15.254592</td>\n      <td>-0.380147</td>\n      <td>37.009891</td>\n      <td>0.503856</td>\n      <td>0.049654</td>\n      <td>1.218992e-03</td>\n      <td>371</td>\n    </tr>\n    <tr>\n      <th>40</th>\n      <td>ELET3.SA</td>\n      <td>34.110001</td>\n      <td>0.032076</td>\n      <td>24.953334</td>\n      <td>-0.268445</td>\n      <td>45.022641</td>\n      <td>0.319925</td>\n      <td>0.200197</td>\n      <td>1.758997e-03</td>\n      <td>364</td>\n    </tr>\n    <tr>\n      <th>39</th>\n      <td>MRVE3.SA</td>\n      <td>12.360000</td>\n      <td>0.032414</td>\n      <td>9.075312</td>\n      <td>-0.265751</td>\n      <td>16.318763</td>\n      <td>0.320288</td>\n      <td>0.226825</td>\n      <td>2.777692e-08</td>\n      <td>359</td>\n    </tr>\n    <tr>\n      <th>64</th>\n      <td>TIMS3.SA</td>\n      <td>13.400000</td>\n      <td>0.034179</td>\n      <td>9.667979</td>\n      <td>-0.278509</td>\n      <td>17.926939</td>\n      <td>0.337831</td>\n      <td>0.005287</td>\n      <td>7.462971e-04</td>\n      <td>354</td>\n    </tr>\n    <tr>\n      <th>43</th>\n      <td>EZTC3.SA</td>\n      <td>18.480000</td>\n      <td>0.027332</td>\n      <td>14.291897</td>\n      <td>-0.226629</td>\n      <td>23.316853</td>\n      <td>0.261734</td>\n      <td>0.601190</td>\n      <td>2.477076e-08</td>\n      <td>349</td>\n    </tr>\n    <tr>\n      <th>45</th>\n      <td>BBDC3.SA</td>\n      <td>17.639999</td>\n      <td>0.022768</td>\n      <td>14.244613</td>\n      <td>-0.192482</td>\n      <td>21.567289</td>\n      <td>0.222635</td>\n      <td>0.154657</td>\n      <td>1.700715e-03</td>\n      <td>330</td>\n    </tr>\n    <tr>\n      <th>62</th>\n      <td>ALPA4.SA</td>\n      <td>27.000000</td>\n      <td>0.024088</td>\n      <td>21.665653</td>\n      <td>-0.197568</td>\n      <td>33.247498</td>\n      <td>0.231389</td>\n      <td>0.831059</td>\n      <td>1.111111e-03</td>\n      <td>329</td>\n    </tr>\n    <tr>\n      <th>44</th>\n      <td>SULA11.SA</td>\n      <td>24.969999</td>\n      <td>0.023084</td>\n      <td>20.093845</td>\n      <td>-0.195280</td>\n      <td>30.598246</td>\n      <td>0.225400</td>\n      <td>0.165468</td>\n      <td>2.002430e-03</td>\n      <td>329</td>\n    </tr>\n    <tr>\n      <th>38</th>\n      <td>SBSP3.SA</td>\n      <td>39.790001</td>\n      <td>0.024882</td>\n      <td>31.574162</td>\n      <td>-0.206480</td>\n      <td>49.495811</td>\n      <td>0.243926</td>\n      <td>0.178473</td>\n      <td>1.759213e-03</td>\n      <td>321</td>\n    </tr>\n    <tr>\n      <th>78</th>\n      <td>RENT3.SA</td>\n      <td>61.189999</td>\n      <td>0.027509</td>\n      <td>47.208292</td>\n      <td>-0.228497</td>\n      <td>77.342446</td>\n      <td>0.263972</td>\n      <td>0.074716</td>\n      <td>6.537240e-04</td>\n      <td>320</td>\n    </tr>\n    <tr>\n      <th>70</th>\n      <td>TOTS3.SA</td>\n      <td>32.480000</td>\n      <td>0.023196</td>\n      <td>26.163097</td>\n      <td>-0.194486</td>\n      <td>39.718296</td>\n      <td>0.222854</td>\n      <td>0.143587</td>\n      <td>1.231541e-03</td>\n      <td>315</td>\n    </tr>\n    <tr>\n      <th>74</th>\n      <td>WEGE3.SA</td>\n      <td>29.580000</td>\n      <td>0.021227</td>\n      <td>24.255259</td>\n      <td>-0.180012</td>\n      <td>35.589886</td>\n      <td>0.203174</td>\n      <td>0.315891</td>\n      <td>6.761351e-04</td>\n      <td>312</td>\n    </tr>\n    <tr>\n      <th>67</th>\n      <td>VALE3.SA</td>\n      <td>87.190002</td>\n      <td>0.025745</td>\n      <td>68.848012</td>\n      <td>-0.210368</td>\n      <td>109.044512</td>\n      <td>0.250654</td>\n      <td>0.056264</td>\n      <td>1.032200e-03</td>\n      <td>310</td>\n    </tr>\n    <tr>\n      <th>47</th>\n      <td>ITUB4.SA</td>\n      <td>25.700001</td>\n      <td>0.022645</td>\n      <td>20.785265</td>\n      <td>-0.191235</td>\n      <td>31.156291</td>\n      <td>0.212307</td>\n      <td>0.049099</td>\n      <td>1.556391e-03</td>\n      <td>303</td>\n    </tr>\n    <tr>\n      <th>29</th>\n      <td>ELET6.SA</td>\n      <td>33.840000</td>\n      <td>0.029278</td>\n      <td>25.591267</td>\n      <td>-0.243757</td>\n      <td>43.370537</td>\n      <td>0.281635</td>\n      <td>0.050923</td>\n      <td>5.910120e-04</td>\n      <td>302</td>\n    </tr>\n    <tr>\n      <th>48</th>\n      <td>HYPE3.SA</td>\n      <td>32.840000</td>\n      <td>0.023632</td>\n      <td>26.403649</td>\n      <td>-0.195991</td>\n      <td>40.196257</td>\n      <td>0.224003</td>\n      <td>0.011073</td>\n      <td>9.135154e-04</td>\n      <td>294</td>\n    </tr>\n    <tr>\n      <th>8</th>\n      <td>BEEF3.SA</td>\n      <td>10.150000</td>\n      <td>0.026741</td>\n      <td>7.877262</td>\n      <td>-0.223915</td>\n      <td>12.805107</td>\n      <td>0.261587</td>\n      <td>0.018429</td>\n      <td>3.758323e-08</td>\n      <td>276</td>\n    </tr>\n    <tr>\n      <th>28</th>\n      <td>KLBN11.SA</td>\n      <td>23.549999</td>\n      <td>0.019355</td>\n      <td>19.643523</td>\n      <td>-0.165880</td>\n      <td>27.878881</td>\n      <td>0.183817</td>\n      <td>0.122764</td>\n      <td>4.246609e-04</td>\n      <td>273</td>\n    </tr>\n    <tr>\n      <th>15</th>\n      <td>SANB11.SA</td>\n      <td>31.719999</td>\n      <td>0.022483</td>\n      <td>25.757246</td>\n      <td>-0.187981</td>\n      <td>38.477346</td>\n      <td>0.213031</td>\n      <td>0.034995</td>\n      <td>6.305387e-04</td>\n      <td>264</td>\n    </tr>\n    <tr>\n      <th>13</th>\n      <td>VIVT3.SA</td>\n      <td>49.070000</td>\n      <td>0.020041</td>\n      <td>40.790066</td>\n      <td>-0.168737</td>\n      <td>58.513102</td>\n      <td>0.192441</td>\n      <td>0.016504</td>\n      <td>1.630330e-03</td>\n      <td>258</td>\n    </tr>\n  </tbody>\n</table>\n</div>"
     },
     "execution_count": 38,
     "metadata": {},
     "output_type": "execute_result"
    }
   ],
   "source": [
    "carteira = dfFinal[dfFinal['retornoPrevisto'] > 0]\n",
    "carteira = carteira[carteira['risco'] <= 0.2]\n",
    "carteira = carteira[carteira['precoAtual'] >= 5]\n",
    "carteira"
   ],
   "metadata": {
    "collapsed": false,
    "pycharm": {
     "name": "#%%\n"
    }
   }
  },
  {
   "cell_type": "code",
   "execution_count": 39,
   "outputs": [
    {
     "data": {
      "text/plain": "      ticker  precoAtual     risco  stop_loss  retornoStopLoss  stop_gain  \\\n81  CMIG4.SA   12.810000  0.121880   3.337562        -0.739457  31.773235   \n77  CYRE3.SA   15.840000  0.035476  11.256397        -0.289369  21.495042   \n80  MGLU3.SA    6.100000  0.037619   4.259737        -0.301683   8.402018   \n26  CVCB3.SA   14.010000  0.033747  10.093157        -0.279575  18.766158   \n50  GOLL4.SA   18.600000  0.040272  12.684813        -0.318021  26.131618   \n84  RADL3.SA   23.690001  0.058943  13.255268        -0.440470  38.783420   \n63  BRAP4.SA   29.469999  0.031624  21.893371        -0.257096  38.538261   \n6   ENEV3.SA   13.680000  0.034533   9.852969        -0.279754  18.338008   \n68  USIM5.SA   14.750000  0.033855  10.680575        -0.275893  19.694540   \n85  RRRP3.SA   36.000000  0.031734  26.553241        -0.262410  47.406676   \n\n    retornoStopGain  retornoPrevisto  retornoEsperado  scoreTotal  \n81         1.480346        16.775178         0.008587         526  \n77         0.357010         0.551674         0.001894         460  \n80         0.377380         1.890479         0.001639         451  \n26         0.339483         0.219748         0.001428         419  \n50         0.404926         0.107339         0.001075         414  \n84         0.637122         0.108105         0.007176         414  \n63         0.307712         0.786470         0.002036         414  \n6          0.340498         0.536646         0.000731         393  \n68         0.335223         0.110334         0.000678         384  \n85         0.316852         0.004480         0.000278         375  ",
      "text/html": "<div>\n<style scoped>\n    .dataframe tbody tr th:only-of-type {\n        vertical-align: middle;\n    }\n\n    .dataframe tbody tr th {\n        vertical-align: top;\n    }\n\n    .dataframe thead th {\n        text-align: right;\n    }\n</style>\n<table border=\"1\" class=\"dataframe\">\n  <thead>\n    <tr style=\"text-align: right;\">\n      <th></th>\n      <th>ticker</th>\n      <th>precoAtual</th>\n      <th>risco</th>\n      <th>stop_loss</th>\n      <th>retornoStopLoss</th>\n      <th>stop_gain</th>\n      <th>retornoStopGain</th>\n      <th>retornoPrevisto</th>\n      <th>retornoEsperado</th>\n      <th>scoreTotal</th>\n    </tr>\n  </thead>\n  <tbody>\n    <tr>\n      <th>81</th>\n      <td>CMIG4.SA</td>\n      <td>12.810000</td>\n      <td>0.121880</td>\n      <td>3.337562</td>\n      <td>-0.739457</td>\n      <td>31.773235</td>\n      <td>1.480346</td>\n      <td>16.775178</td>\n      <td>0.008587</td>\n      <td>526</td>\n    </tr>\n    <tr>\n      <th>77</th>\n      <td>CYRE3.SA</td>\n      <td>15.840000</td>\n      <td>0.035476</td>\n      <td>11.256397</td>\n      <td>-0.289369</td>\n      <td>21.495042</td>\n      <td>0.357010</td>\n      <td>0.551674</td>\n      <td>0.001894</td>\n      <td>460</td>\n    </tr>\n    <tr>\n      <th>80</th>\n      <td>MGLU3.SA</td>\n      <td>6.100000</td>\n      <td>0.037619</td>\n      <td>4.259737</td>\n      <td>-0.301683</td>\n      <td>8.402018</td>\n      <td>0.377380</td>\n      <td>1.890479</td>\n      <td>0.001639</td>\n      <td>451</td>\n    </tr>\n    <tr>\n      <th>26</th>\n      <td>CVCB3.SA</td>\n      <td>14.010000</td>\n      <td>0.033747</td>\n      <td>10.093157</td>\n      <td>-0.279575</td>\n      <td>18.766158</td>\n      <td>0.339483</td>\n      <td>0.219748</td>\n      <td>0.001428</td>\n      <td>419</td>\n    </tr>\n    <tr>\n      <th>50</th>\n      <td>GOLL4.SA</td>\n      <td>18.600000</td>\n      <td>0.040272</td>\n      <td>12.684813</td>\n      <td>-0.318021</td>\n      <td>26.131618</td>\n      <td>0.404926</td>\n      <td>0.107339</td>\n      <td>0.001075</td>\n      <td>414</td>\n    </tr>\n    <tr>\n      <th>84</th>\n      <td>RADL3.SA</td>\n      <td>23.690001</td>\n      <td>0.058943</td>\n      <td>13.255268</td>\n      <td>-0.440470</td>\n      <td>38.783420</td>\n      <td>0.637122</td>\n      <td>0.108105</td>\n      <td>0.007176</td>\n      <td>414</td>\n    </tr>\n    <tr>\n      <th>63</th>\n      <td>BRAP4.SA</td>\n      <td>29.469999</td>\n      <td>0.031624</td>\n      <td>21.893371</td>\n      <td>-0.257096</td>\n      <td>38.538261</td>\n      <td>0.307712</td>\n      <td>0.786470</td>\n      <td>0.002036</td>\n      <td>414</td>\n    </tr>\n    <tr>\n      <th>6</th>\n      <td>ENEV3.SA</td>\n      <td>13.680000</td>\n      <td>0.034533</td>\n      <td>9.852969</td>\n      <td>-0.279754</td>\n      <td>18.338008</td>\n      <td>0.340498</td>\n      <td>0.536646</td>\n      <td>0.000731</td>\n      <td>393</td>\n    </tr>\n    <tr>\n      <th>68</th>\n      <td>USIM5.SA</td>\n      <td>14.750000</td>\n      <td>0.033855</td>\n      <td>10.680575</td>\n      <td>-0.275893</td>\n      <td>19.694540</td>\n      <td>0.335223</td>\n      <td>0.110334</td>\n      <td>0.000678</td>\n      <td>384</td>\n    </tr>\n    <tr>\n      <th>85</th>\n      <td>RRRP3.SA</td>\n      <td>36.000000</td>\n      <td>0.031734</td>\n      <td>26.553241</td>\n      <td>-0.262410</td>\n      <td>47.406676</td>\n      <td>0.316852</td>\n      <td>0.004480</td>\n      <td>0.000278</td>\n      <td>375</td>\n    </tr>\n  </tbody>\n</table>\n</div>"
     },
     "execution_count": 39,
     "metadata": {},
     "output_type": "execute_result"
    }
   ],
   "source": [
    "carteira.head(10)"
   ],
   "metadata": {
    "collapsed": false,
    "pycharm": {
     "name": "#%%\n"
    }
   }
  },
  {
   "cell_type": "code",
   "execution_count": 40,
   "outputs": [
    {
     "name": "stdout",
     "output_type": "stream",
     "text": [
      "ok\n",
      "ok\n",
      "ok\n",
      "ok\n",
      "ok\n",
      "ok\n",
      "ok\n",
      "ok\n",
      "ok\n",
      "ok\n",
      "ok\n",
      "ok\n",
      "ok\n",
      "ok\n",
      "ok\n",
      "ok\n",
      "ok\n",
      "ok\n",
      "ok\n",
      "ok\n",
      "ok\n",
      "ok\n",
      "ok\n",
      "ok\n",
      "ok\n",
      "ok\n",
      "ok\n",
      "ok\n",
      "ok\n",
      "ok\n",
      "ok\n"
     ]
    },
    {
     "data": {
      "text/plain": "       ticker  precoAtual     risco  stop_loss  retornoStopLoss   stop_gain  \\\n81   CMIG4.SA   12.810000  0.121880   3.337562        -0.739457   31.773235   \n77   CYRE3.SA   15.840000  0.035476  11.256397        -0.289369   21.495042   \n80   MGLU3.SA    6.100000  0.037619   4.259737        -0.301683    8.402018   \n26   CVCB3.SA   14.010000  0.033747  10.093157        -0.279575   18.766158   \n50   GOLL4.SA   18.600000  0.040272  12.684813        -0.318021   26.131618   \n84   RADL3.SA   23.690001  0.058943  13.255268        -0.440470   38.783420   \n63   BRAP4.SA   29.469999  0.031624  21.893371        -0.257096   38.538261   \n6    ENEV3.SA   13.680000  0.034533   9.852969        -0.279754   18.338008   \n68   USIM5.SA   14.750000  0.033855  10.680575        -0.275893   19.694540   \n85   RRRP3.SA   36.000000  0.031734  26.553241        -0.262410   47.406676   \n75   PRIO3.SA   24.610001  0.049578  15.254592        -0.380147   37.009891   \n40   ELET3.SA   34.110001  0.032076  24.953334        -0.268445   45.022641   \n39   MRVE3.SA   12.360000  0.032414   9.075312        -0.265751   16.318763   \n64   TIMS3.SA   13.400000  0.034179   9.667979        -0.278509   17.926939   \n43   EZTC3.SA   18.480000  0.027332  14.291897        -0.226629   23.316853   \n45   BBDC3.SA   17.639999  0.022768  14.244613        -0.192482   21.567289   \n62   ALPA4.SA   27.000000  0.024088  21.665653        -0.197568   33.247498   \n44  SULA11.SA   24.969999  0.023084  20.093845        -0.195280   30.598246   \n38   SBSP3.SA   39.790001  0.024882  31.574162        -0.206480   49.495811   \n78   RENT3.SA   61.189999  0.027509  47.208292        -0.228497   77.342446   \n70   TOTS3.SA   32.480000  0.023196  26.163097        -0.194486   39.718296   \n74   WEGE3.SA   29.580000  0.021227  24.255259        -0.180012   35.589886   \n67   VALE3.SA   87.190002  0.025745  68.848012        -0.210368  109.044512   \n47   ITUB4.SA   25.700001  0.022645  20.785265        -0.191235   31.156291   \n29   ELET6.SA   33.840000  0.029278  25.591267        -0.243757   43.370537   \n48   HYPE3.SA   32.840000  0.023632  26.403649        -0.195991   40.196257   \n8    BEEF3.SA   10.150000  0.026741   7.877262        -0.223915   12.805107   \n28  KLBN11.SA   23.549999  0.019355  19.643523        -0.165880   27.878881   \n15  SANB11.SA   31.719999  0.022483  25.757246        -0.187981   38.477346   \n13   VIVT3.SA   49.070000  0.020041  40.790066        -0.168737   58.513102   \n\n    retornoStopGain  retornoPrevisto  retornoEsperado  scoreTotal  \\\n81         1.480346        16.775178     8.587008e-03         526   \n77         0.357010         0.551674     1.893930e-03         460   \n80         0.377380         1.890479     1.639360e-03         451   \n26         0.339483         0.219748     1.427535e-03         419   \n50         0.404926         0.107339     1.075248e-03         414   \n84         0.637122         0.108105     7.176001e-03         414   \n63         0.307712         0.786470     2.035992e-03         414   \n6          0.340498         0.536646     7.309718e-04         393   \n68         0.335223         0.110334     6.779661e-04         384   \n85         0.316852         0.004480     2.777778e-04         375   \n75         0.503856         0.049654     1.218992e-03         371   \n40         0.319925         0.200197     1.758997e-03         364   \n39         0.320288         0.226825     2.777692e-08         359   \n64         0.337831         0.005287     7.462971e-04         354   \n43         0.261734         0.601190     2.477076e-08         349   \n45         0.222635         0.154657     1.700715e-03         330   \n62         0.231389         0.831059     1.111111e-03         329   \n44         0.225400         0.165468     2.002430e-03         329   \n38         0.243926         0.178473     1.759213e-03         321   \n78         0.263972         0.074716     6.537240e-04         320   \n70         0.222854         0.143587     1.231541e-03         315   \n74         0.203174         0.315891     6.761351e-04         312   \n67         0.250654         0.056264     1.032200e-03         310   \n47         0.212307         0.049099     1.556391e-03         303   \n29         0.281635         0.050923     5.910120e-04         302   \n48         0.224003         0.011073     9.135154e-04         294   \n8          0.261587         0.018429     3.758323e-08         276   \n28         0.183817         0.122764     4.246609e-04         273   \n15         0.213031         0.034995     6.305387e-04         264   \n13         0.192441         0.016504     1.630330e-03         258   \n\n                     setor  \n81               Utilities  \n77       Consumer Cyclical  \n80       Consumer Cyclical  \n26       Consumer Cyclical  \n50             Industrials  \n84              Healthcare  \n63      Financial Services  \n6                Utilities  \n68         Basic Materials  \n85                  Energy  \n75                  Energy  \n40               Utilities  \n39       Consumer Cyclical  \n64  Communication Services  \n43             Real Estate  \n45      Financial Services  \n62       Consumer Cyclical  \n44      Financial Services  \n38               Utilities  \n78             Industrials  \n70              Technology  \n74             Industrials  \n67         Basic Materials  \n47      Financial Services  \n29               Utilities  \n48              Healthcare  \n8       Consumer Defensive  \n28         Basic Materials  \n15      Financial Services  \n13  Communication Services  ",
      "text/html": "<div>\n<style scoped>\n    .dataframe tbody tr th:only-of-type {\n        vertical-align: middle;\n    }\n\n    .dataframe tbody tr th {\n        vertical-align: top;\n    }\n\n    .dataframe thead th {\n        text-align: right;\n    }\n</style>\n<table border=\"1\" class=\"dataframe\">\n  <thead>\n    <tr style=\"text-align: right;\">\n      <th></th>\n      <th>ticker</th>\n      <th>precoAtual</th>\n      <th>risco</th>\n      <th>stop_loss</th>\n      <th>retornoStopLoss</th>\n      <th>stop_gain</th>\n      <th>retornoStopGain</th>\n      <th>retornoPrevisto</th>\n      <th>retornoEsperado</th>\n      <th>scoreTotal</th>\n      <th>setor</th>\n    </tr>\n  </thead>\n  <tbody>\n    <tr>\n      <th>81</th>\n      <td>CMIG4.SA</td>\n      <td>12.810000</td>\n      <td>0.121880</td>\n      <td>3.337562</td>\n      <td>-0.739457</td>\n      <td>31.773235</td>\n      <td>1.480346</td>\n      <td>16.775178</td>\n      <td>8.587008e-03</td>\n      <td>526</td>\n      <td>Utilities</td>\n    </tr>\n    <tr>\n      <th>77</th>\n      <td>CYRE3.SA</td>\n      <td>15.840000</td>\n      <td>0.035476</td>\n      <td>11.256397</td>\n      <td>-0.289369</td>\n      <td>21.495042</td>\n      <td>0.357010</td>\n      <td>0.551674</td>\n      <td>1.893930e-03</td>\n      <td>460</td>\n      <td>Consumer Cyclical</td>\n    </tr>\n    <tr>\n      <th>80</th>\n      <td>MGLU3.SA</td>\n      <td>6.100000</td>\n      <td>0.037619</td>\n      <td>4.259737</td>\n      <td>-0.301683</td>\n      <td>8.402018</td>\n      <td>0.377380</td>\n      <td>1.890479</td>\n      <td>1.639360e-03</td>\n      <td>451</td>\n      <td>Consumer Cyclical</td>\n    </tr>\n    <tr>\n      <th>26</th>\n      <td>CVCB3.SA</td>\n      <td>14.010000</td>\n      <td>0.033747</td>\n      <td>10.093157</td>\n      <td>-0.279575</td>\n      <td>18.766158</td>\n      <td>0.339483</td>\n      <td>0.219748</td>\n      <td>1.427535e-03</td>\n      <td>419</td>\n      <td>Consumer Cyclical</td>\n    </tr>\n    <tr>\n      <th>50</th>\n      <td>GOLL4.SA</td>\n      <td>18.600000</td>\n      <td>0.040272</td>\n      <td>12.684813</td>\n      <td>-0.318021</td>\n      <td>26.131618</td>\n      <td>0.404926</td>\n      <td>0.107339</td>\n      <td>1.075248e-03</td>\n      <td>414</td>\n      <td>Industrials</td>\n    </tr>\n    <tr>\n      <th>84</th>\n      <td>RADL3.SA</td>\n      <td>23.690001</td>\n      <td>0.058943</td>\n      <td>13.255268</td>\n      <td>-0.440470</td>\n      <td>38.783420</td>\n      <td>0.637122</td>\n      <td>0.108105</td>\n      <td>7.176001e-03</td>\n      <td>414</td>\n      <td>Healthcare</td>\n    </tr>\n    <tr>\n      <th>63</th>\n      <td>BRAP4.SA</td>\n      <td>29.469999</td>\n      <td>0.031624</td>\n      <td>21.893371</td>\n      <td>-0.257096</td>\n      <td>38.538261</td>\n      <td>0.307712</td>\n      <td>0.786470</td>\n      <td>2.035992e-03</td>\n      <td>414</td>\n      <td>Financial Services</td>\n    </tr>\n    <tr>\n      <th>6</th>\n      <td>ENEV3.SA</td>\n      <td>13.680000</td>\n      <td>0.034533</td>\n      <td>9.852969</td>\n      <td>-0.279754</td>\n      <td>18.338008</td>\n      <td>0.340498</td>\n      <td>0.536646</td>\n      <td>7.309718e-04</td>\n      <td>393</td>\n      <td>Utilities</td>\n    </tr>\n    <tr>\n      <th>68</th>\n      <td>USIM5.SA</td>\n      <td>14.750000</td>\n      <td>0.033855</td>\n      <td>10.680575</td>\n      <td>-0.275893</td>\n      <td>19.694540</td>\n      <td>0.335223</td>\n      <td>0.110334</td>\n      <td>6.779661e-04</td>\n      <td>384</td>\n      <td>Basic Materials</td>\n    </tr>\n    <tr>\n      <th>85</th>\n      <td>RRRP3.SA</td>\n      <td>36.000000</td>\n      <td>0.031734</td>\n      <td>26.553241</td>\n      <td>-0.262410</td>\n      <td>47.406676</td>\n      <td>0.316852</td>\n      <td>0.004480</td>\n      <td>2.777778e-04</td>\n      <td>375</td>\n      <td>Energy</td>\n    </tr>\n    <tr>\n      <th>75</th>\n      <td>PRIO3.SA</td>\n      <td>24.610001</td>\n      <td>0.049578</td>\n      <td>15.254592</td>\n      <td>-0.380147</td>\n      <td>37.009891</td>\n      <td>0.503856</td>\n      <td>0.049654</td>\n      <td>1.218992e-03</td>\n      <td>371</td>\n      <td>Energy</td>\n    </tr>\n    <tr>\n      <th>40</th>\n      <td>ELET3.SA</td>\n      <td>34.110001</td>\n      <td>0.032076</td>\n      <td>24.953334</td>\n      <td>-0.268445</td>\n      <td>45.022641</td>\n      <td>0.319925</td>\n      <td>0.200197</td>\n      <td>1.758997e-03</td>\n      <td>364</td>\n      <td>Utilities</td>\n    </tr>\n    <tr>\n      <th>39</th>\n      <td>MRVE3.SA</td>\n      <td>12.360000</td>\n      <td>0.032414</td>\n      <td>9.075312</td>\n      <td>-0.265751</td>\n      <td>16.318763</td>\n      <td>0.320288</td>\n      <td>0.226825</td>\n      <td>2.777692e-08</td>\n      <td>359</td>\n      <td>Consumer Cyclical</td>\n    </tr>\n    <tr>\n      <th>64</th>\n      <td>TIMS3.SA</td>\n      <td>13.400000</td>\n      <td>0.034179</td>\n      <td>9.667979</td>\n      <td>-0.278509</td>\n      <td>17.926939</td>\n      <td>0.337831</td>\n      <td>0.005287</td>\n      <td>7.462971e-04</td>\n      <td>354</td>\n      <td>Communication Services</td>\n    </tr>\n    <tr>\n      <th>43</th>\n      <td>EZTC3.SA</td>\n      <td>18.480000</td>\n      <td>0.027332</td>\n      <td>14.291897</td>\n      <td>-0.226629</td>\n      <td>23.316853</td>\n      <td>0.261734</td>\n      <td>0.601190</td>\n      <td>2.477076e-08</td>\n      <td>349</td>\n      <td>Real Estate</td>\n    </tr>\n    <tr>\n      <th>45</th>\n      <td>BBDC3.SA</td>\n      <td>17.639999</td>\n      <td>0.022768</td>\n      <td>14.244613</td>\n      <td>-0.192482</td>\n      <td>21.567289</td>\n      <td>0.222635</td>\n      <td>0.154657</td>\n      <td>1.700715e-03</td>\n      <td>330</td>\n      <td>Financial Services</td>\n    </tr>\n    <tr>\n      <th>62</th>\n      <td>ALPA4.SA</td>\n      <td>27.000000</td>\n      <td>0.024088</td>\n      <td>21.665653</td>\n      <td>-0.197568</td>\n      <td>33.247498</td>\n      <td>0.231389</td>\n      <td>0.831059</td>\n      <td>1.111111e-03</td>\n      <td>329</td>\n      <td>Consumer Cyclical</td>\n    </tr>\n    <tr>\n      <th>44</th>\n      <td>SULA11.SA</td>\n      <td>24.969999</td>\n      <td>0.023084</td>\n      <td>20.093845</td>\n      <td>-0.195280</td>\n      <td>30.598246</td>\n      <td>0.225400</td>\n      <td>0.165468</td>\n      <td>2.002430e-03</td>\n      <td>329</td>\n      <td>Financial Services</td>\n    </tr>\n    <tr>\n      <th>38</th>\n      <td>SBSP3.SA</td>\n      <td>39.790001</td>\n      <td>0.024882</td>\n      <td>31.574162</td>\n      <td>-0.206480</td>\n      <td>49.495811</td>\n      <td>0.243926</td>\n      <td>0.178473</td>\n      <td>1.759213e-03</td>\n      <td>321</td>\n      <td>Utilities</td>\n    </tr>\n    <tr>\n      <th>78</th>\n      <td>RENT3.SA</td>\n      <td>61.189999</td>\n      <td>0.027509</td>\n      <td>47.208292</td>\n      <td>-0.228497</td>\n      <td>77.342446</td>\n      <td>0.263972</td>\n      <td>0.074716</td>\n      <td>6.537240e-04</td>\n      <td>320</td>\n      <td>Industrials</td>\n    </tr>\n    <tr>\n      <th>70</th>\n      <td>TOTS3.SA</td>\n      <td>32.480000</td>\n      <td>0.023196</td>\n      <td>26.163097</td>\n      <td>-0.194486</td>\n      <td>39.718296</td>\n      <td>0.222854</td>\n      <td>0.143587</td>\n      <td>1.231541e-03</td>\n      <td>315</td>\n      <td>Technology</td>\n    </tr>\n    <tr>\n      <th>74</th>\n      <td>WEGE3.SA</td>\n      <td>29.580000</td>\n      <td>0.021227</td>\n      <td>24.255259</td>\n      <td>-0.180012</td>\n      <td>35.589886</td>\n      <td>0.203174</td>\n      <td>0.315891</td>\n      <td>6.761351e-04</td>\n      <td>312</td>\n      <td>Industrials</td>\n    </tr>\n    <tr>\n      <th>67</th>\n      <td>VALE3.SA</td>\n      <td>87.190002</td>\n      <td>0.025745</td>\n      <td>68.848012</td>\n      <td>-0.210368</td>\n      <td>109.044512</td>\n      <td>0.250654</td>\n      <td>0.056264</td>\n      <td>1.032200e-03</td>\n      <td>310</td>\n      <td>Basic Materials</td>\n    </tr>\n    <tr>\n      <th>47</th>\n      <td>ITUB4.SA</td>\n      <td>25.700001</td>\n      <td>0.022645</td>\n      <td>20.785265</td>\n      <td>-0.191235</td>\n      <td>31.156291</td>\n      <td>0.212307</td>\n      <td>0.049099</td>\n      <td>1.556391e-03</td>\n      <td>303</td>\n      <td>Financial Services</td>\n    </tr>\n    <tr>\n      <th>29</th>\n      <td>ELET6.SA</td>\n      <td>33.840000</td>\n      <td>0.029278</td>\n      <td>25.591267</td>\n      <td>-0.243757</td>\n      <td>43.370537</td>\n      <td>0.281635</td>\n      <td>0.050923</td>\n      <td>5.910120e-04</td>\n      <td>302</td>\n      <td>Utilities</td>\n    </tr>\n    <tr>\n      <th>48</th>\n      <td>HYPE3.SA</td>\n      <td>32.840000</td>\n      <td>0.023632</td>\n      <td>26.403649</td>\n      <td>-0.195991</td>\n      <td>40.196257</td>\n      <td>0.224003</td>\n      <td>0.011073</td>\n      <td>9.135154e-04</td>\n      <td>294</td>\n      <td>Healthcare</td>\n    </tr>\n    <tr>\n      <th>8</th>\n      <td>BEEF3.SA</td>\n      <td>10.150000</td>\n      <td>0.026741</td>\n      <td>7.877262</td>\n      <td>-0.223915</td>\n      <td>12.805107</td>\n      <td>0.261587</td>\n      <td>0.018429</td>\n      <td>3.758323e-08</td>\n      <td>276</td>\n      <td>Consumer Defensive</td>\n    </tr>\n    <tr>\n      <th>28</th>\n      <td>KLBN11.SA</td>\n      <td>23.549999</td>\n      <td>0.019355</td>\n      <td>19.643523</td>\n      <td>-0.165880</td>\n      <td>27.878881</td>\n      <td>0.183817</td>\n      <td>0.122764</td>\n      <td>4.246609e-04</td>\n      <td>273</td>\n      <td>Basic Materials</td>\n    </tr>\n    <tr>\n      <th>15</th>\n      <td>SANB11.SA</td>\n      <td>31.719999</td>\n      <td>0.022483</td>\n      <td>25.757246</td>\n      <td>-0.187981</td>\n      <td>38.477346</td>\n      <td>0.213031</td>\n      <td>0.034995</td>\n      <td>6.305387e-04</td>\n      <td>264</td>\n      <td>Financial Services</td>\n    </tr>\n    <tr>\n      <th>13</th>\n      <td>VIVT3.SA</td>\n      <td>49.070000</td>\n      <td>0.020041</td>\n      <td>40.790066</td>\n      <td>-0.168737</td>\n      <td>58.513102</td>\n      <td>0.192441</td>\n      <td>0.016504</td>\n      <td>1.630330e-03</td>\n      <td>258</td>\n      <td>Communication Services</td>\n    </tr>\n  </tbody>\n</table>\n</div>"
     },
     "execution_count": 40,
     "metadata": {},
     "output_type": "execute_result"
    }
   ],
   "source": [
    "# carteira['setor'] = df.apply(lambda x : getSector(carteira['ticker']), axis= 1)\n",
    "carteira['setor'] = np.vectorize(getSector)(carteira['ticker'])\n",
    "carteira"
   ],
   "metadata": {
    "collapsed": false,
    "pycharm": {
     "name": "#%%\n"
    }
   }
  },
  {
   "cell_type": "code",
   "execution_count": 41,
   "outputs": [
    {
     "data": {
      "text/plain": "      ticker  precoAtual     risco  stop_loss  retornoStopLoss  stop_gain  \\\n81  CMIG4.SA       12.81  0.121880   3.337562        -0.739457  31.773235   \n77  CYRE3.SA       15.84  0.035476  11.256397        -0.289369  21.495042   \n80  MGLU3.SA        6.10  0.037619   4.259737        -0.301683   8.402018   \n26  CVCB3.SA       14.01  0.033747  10.093157        -0.279575  18.766158   \n50  GOLL4.SA       18.60  0.040272  12.684813        -0.318021  26.131618   \n\n    retornoStopGain  retornoPrevisto  retornoEsperado  scoreTotal  \\\n81         1.480346        16.775178         0.008587         526   \n77         0.357010         0.551674         0.001894         460   \n80         0.377380         1.890479         0.001639         451   \n26         0.339483         0.219748         0.001428         419   \n50         0.404926         0.107339         0.001075         414   \n\n                setor  \n81          Utilities  \n77  Consumer Cyclical  \n80  Consumer Cyclical  \n26  Consumer Cyclical  \n50        Industrials  ",
      "text/html": "<div>\n<style scoped>\n    .dataframe tbody tr th:only-of-type {\n        vertical-align: middle;\n    }\n\n    .dataframe tbody tr th {\n        vertical-align: top;\n    }\n\n    .dataframe thead th {\n        text-align: right;\n    }\n</style>\n<table border=\"1\" class=\"dataframe\">\n  <thead>\n    <tr style=\"text-align: right;\">\n      <th></th>\n      <th>ticker</th>\n      <th>precoAtual</th>\n      <th>risco</th>\n      <th>stop_loss</th>\n      <th>retornoStopLoss</th>\n      <th>stop_gain</th>\n      <th>retornoStopGain</th>\n      <th>retornoPrevisto</th>\n      <th>retornoEsperado</th>\n      <th>scoreTotal</th>\n      <th>setor</th>\n    </tr>\n  </thead>\n  <tbody>\n    <tr>\n      <th>81</th>\n      <td>CMIG4.SA</td>\n      <td>12.81</td>\n      <td>0.121880</td>\n      <td>3.337562</td>\n      <td>-0.739457</td>\n      <td>31.773235</td>\n      <td>1.480346</td>\n      <td>16.775178</td>\n      <td>0.008587</td>\n      <td>526</td>\n      <td>Utilities</td>\n    </tr>\n    <tr>\n      <th>77</th>\n      <td>CYRE3.SA</td>\n      <td>15.84</td>\n      <td>0.035476</td>\n      <td>11.256397</td>\n      <td>-0.289369</td>\n      <td>21.495042</td>\n      <td>0.357010</td>\n      <td>0.551674</td>\n      <td>0.001894</td>\n      <td>460</td>\n      <td>Consumer Cyclical</td>\n    </tr>\n    <tr>\n      <th>80</th>\n      <td>MGLU3.SA</td>\n      <td>6.10</td>\n      <td>0.037619</td>\n      <td>4.259737</td>\n      <td>-0.301683</td>\n      <td>8.402018</td>\n      <td>0.377380</td>\n      <td>1.890479</td>\n      <td>0.001639</td>\n      <td>451</td>\n      <td>Consumer Cyclical</td>\n    </tr>\n    <tr>\n      <th>26</th>\n      <td>CVCB3.SA</td>\n      <td>14.01</td>\n      <td>0.033747</td>\n      <td>10.093157</td>\n      <td>-0.279575</td>\n      <td>18.766158</td>\n      <td>0.339483</td>\n      <td>0.219748</td>\n      <td>0.001428</td>\n      <td>419</td>\n      <td>Consumer Cyclical</td>\n    </tr>\n    <tr>\n      <th>50</th>\n      <td>GOLL4.SA</td>\n      <td>18.60</td>\n      <td>0.040272</td>\n      <td>12.684813</td>\n      <td>-0.318021</td>\n      <td>26.131618</td>\n      <td>0.404926</td>\n      <td>0.107339</td>\n      <td>0.001075</td>\n      <td>414</td>\n      <td>Industrials</td>\n    </tr>\n  </tbody>\n</table>\n</div>"
     },
     "execution_count": 41,
     "metadata": {},
     "output_type": "execute_result"
    }
   ],
   "source": [
    "carteira.head(5)"
   ],
   "metadata": {
    "collapsed": false,
    "pycharm": {
     "name": "#%%\n"
    }
   }
  }
 ],
 "metadata": {
  "kernelspec": {
   "display_name": "Python 3",
   "language": "python",
   "name": "python3"
  },
  "language_info": {
   "codemirror_mode": {
    "name": "ipython",
    "version": 2
   },
   "file_extension": ".py",
   "mimetype": "text/x-python",
   "name": "python",
   "nbconvert_exporter": "python",
   "pygments_lexer": "ipython2",
   "version": "2.7.6"
  }
 },
 "nbformat": 4,
 "nbformat_minor": 0
}