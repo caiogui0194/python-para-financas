{
  "nbformat": 4,
  "nbformat_minor": 0,
  "metadata": {
    "colab": {
      "name": "PrevisaoProphet",
      "provenance": []
    },
    "kernelspec": {
      "name": "python3",
      "display_name": "Python 3"
    }
  },
  "cells": [
    {
      "cell_type": "code",
      "metadata": {
        "id": "26KThuDY24o2",
        "colab": {
          "base_uri": "https://localhost:8080/"
        },
        "outputId": "4923fd0f-01b7-425a-9f2a-a25343589a27"
      },
      "source": [
        "!pip install yfinance"
      ],
      "execution_count": null,
      "outputs": [
        {
          "output_type": "stream",
          "text": [
            "Collecting yfinance\n",
            "  Downloading https://files.pythonhosted.org/packages/a7/ee/315752b9ef281ba83c62aa7ec2e2074f85223da6e7e74efb4d3e11c0f510/yfinance-0.1.59.tar.gz\n",
            "Requirement already satisfied: pandas>=0.24 in /usr/local/lib/python3.7/dist-packages (from yfinance) (1.1.5)\n",
            "Requirement already satisfied: numpy>=1.15 in /usr/local/lib/python3.7/dist-packages (from yfinance) (1.19.5)\n",
            "Requirement already satisfied: requests>=2.20 in /usr/local/lib/python3.7/dist-packages (from yfinance) (2.23.0)\n",
            "Requirement already satisfied: multitasking>=0.0.7 in /usr/local/lib/python3.7/dist-packages (from yfinance) (0.0.9)\n",
            "Collecting lxml>=4.5.1\n",
            "\u001b[?25l  Downloading https://files.pythonhosted.org/packages/cf/4d/6537313bf58fe22b508f08cf3eb86b29b6f9edf68e00454224539421073b/lxml-4.6.3-cp37-cp37m-manylinux1_x86_64.whl (5.5MB)\n",
            "\u001b[K     |████████████████████████████████| 5.5MB 6.5MB/s \n",
            "\u001b[?25hRequirement already satisfied: python-dateutil>=2.7.3 in /usr/local/lib/python3.7/dist-packages (from pandas>=0.24->yfinance) (2.8.1)\n",
            "Requirement already satisfied: pytz>=2017.2 in /usr/local/lib/python3.7/dist-packages (from pandas>=0.24->yfinance) (2018.9)\n",
            "Requirement already satisfied: chardet<4,>=3.0.2 in /usr/local/lib/python3.7/dist-packages (from requests>=2.20->yfinance) (3.0.4)\n",
            "Requirement already satisfied: idna<3,>=2.5 in /usr/local/lib/python3.7/dist-packages (from requests>=2.20->yfinance) (2.10)\n",
            "Requirement already satisfied: urllib3!=1.25.0,!=1.25.1,<1.26,>=1.21.1 in /usr/local/lib/python3.7/dist-packages (from requests>=2.20->yfinance) (1.24.3)\n",
            "Requirement already satisfied: certifi>=2017.4.17 in /usr/local/lib/python3.7/dist-packages (from requests>=2.20->yfinance) (2020.12.5)\n",
            "Requirement already satisfied: six>=1.5 in /usr/local/lib/python3.7/dist-packages (from python-dateutil>=2.7.3->pandas>=0.24->yfinance) (1.15.0)\n",
            "Building wheels for collected packages: yfinance\n",
            "  Building wheel for yfinance (setup.py) ... \u001b[?25l\u001b[?25hdone\n",
            "  Created wheel for yfinance: filename=yfinance-0.1.59-py2.py3-none-any.whl size=23442 sha256=901d1ec22cb17806e825056e063271da9e6b80547615a93116cc831005fadb67\n",
            "  Stored in directory: /root/.cache/pip/wheels/f8/2a/0f/4b5a86e1d52e451757eb6bc17fd899629f0925c777741b6d04\n",
            "Successfully built yfinance\n",
            "Installing collected packages: lxml, yfinance\n",
            "  Found existing installation: lxml 4.2.6\n",
            "    Uninstalling lxml-4.2.6:\n",
            "      Successfully uninstalled lxml-4.2.6\n",
            "Successfully installed lxml-4.6.3 yfinance-0.1.59\n"
          ],
          "name": "stdout"
        }
      ]
    },
    {
      "cell_type": "code",
      "metadata": {
        "id": "mxGcTpiG29_w",
        "colab": {
          "base_uri": "https://localhost:8080/"
        },
        "outputId": "dd5c09fd-cf89-44c2-fac7-5cd52cf86289"
      },
      "source": [
        "!pip install fbprophet"
      ],
      "execution_count": null,
      "outputs": [
        {
          "output_type": "stream",
          "text": [
            "Requirement already satisfied: fbprophet in /usr/local/lib/python3.7/dist-packages (0.7.1)\n",
            "Requirement already satisfied: Cython>=0.22 in /usr/local/lib/python3.7/dist-packages (from fbprophet) (0.29.22)\n",
            "Requirement already satisfied: cmdstanpy==0.9.5 in /usr/local/lib/python3.7/dist-packages (from fbprophet) (0.9.5)\n",
            "Requirement already satisfied: pystan>=2.14 in /usr/local/lib/python3.7/dist-packages (from fbprophet) (2.19.1.1)\n",
            "Requirement already satisfied: numpy>=1.15.4 in /usr/local/lib/python3.7/dist-packages (from fbprophet) (1.19.5)\n",
            "Requirement already satisfied: pandas>=1.0.4 in /usr/local/lib/python3.7/dist-packages (from fbprophet) (1.1.5)\n",
            "Requirement already satisfied: matplotlib>=2.0.0 in /usr/local/lib/python3.7/dist-packages (from fbprophet) (3.2.2)\n",
            "Requirement already satisfied: LunarCalendar>=0.0.9 in /usr/local/lib/python3.7/dist-packages (from fbprophet) (0.0.9)\n",
            "Requirement already satisfied: convertdate>=2.1.2 in /usr/local/lib/python3.7/dist-packages (from fbprophet) (2.3.2)\n",
            "Requirement already satisfied: holidays>=0.10.2 in /usr/local/lib/python3.7/dist-packages (from fbprophet) (0.10.5.2)\n",
            "Requirement already satisfied: setuptools-git>=1.2 in /usr/local/lib/python3.7/dist-packages (from fbprophet) (1.2)\n",
            "Requirement already satisfied: python-dateutil>=2.8.0 in /usr/local/lib/python3.7/dist-packages (from fbprophet) (2.8.1)\n",
            "Requirement already satisfied: tqdm>=4.36.1 in /usr/local/lib/python3.7/dist-packages (from fbprophet) (4.41.1)\n",
            "Requirement already satisfied: pytz>=2017.2 in /usr/local/lib/python3.7/dist-packages (from pandas>=1.0.4->fbprophet) (2018.9)\n",
            "Requirement already satisfied: pyparsing!=2.0.4,!=2.1.2,!=2.1.6,>=2.0.1 in /usr/local/lib/python3.7/dist-packages (from matplotlib>=2.0.0->fbprophet) (2.4.7)\n",
            "Requirement already satisfied: cycler>=0.10 in /usr/local/lib/python3.7/dist-packages (from matplotlib>=2.0.0->fbprophet) (0.10.0)\n",
            "Requirement already satisfied: kiwisolver>=1.0.1 in /usr/local/lib/python3.7/dist-packages (from matplotlib>=2.0.0->fbprophet) (1.3.1)\n",
            "Requirement already satisfied: ephem>=3.7.5.3 in /usr/local/lib/python3.7/dist-packages (from LunarCalendar>=0.0.9->fbprophet) (3.7.7.1)\n",
            "Requirement already satisfied: pymeeus<=1,>=0.3.13 in /usr/local/lib/python3.7/dist-packages (from convertdate>=2.1.2->fbprophet) (0.5.11)\n",
            "Requirement already satisfied: korean-lunar-calendar in /usr/local/lib/python3.7/dist-packages (from holidays>=0.10.2->fbprophet) (0.2.1)\n",
            "Requirement already satisfied: six in /usr/local/lib/python3.7/dist-packages (from holidays>=0.10.2->fbprophet) (1.15.0)\n",
            "Requirement already satisfied: hijri-converter in /usr/local/lib/python3.7/dist-packages (from holidays>=0.10.2->fbprophet) (2.1.1)\n"
          ],
          "name": "stdout"
        }
      ]
    },
    {
      "cell_type": "code",
      "metadata": {
        "id": "tN5SHSx03DjM"
      },
      "source": [
        "import yfinance\n",
        "import datetime\n",
        "import pandas as pd \n",
        "import numpy as np \n",
        "import matplotlib.pyplot as plt\n"
      ],
      "execution_count": null,
      "outputs": []
    },
    {
      "cell_type": "code",
      "metadata": {
        "id": "1eLmbNzp3Om-",
        "colab": {
          "base_uri": "https://localhost:8080/",
          "height": 463
        },
        "outputId": "825b9ddd-230e-4497-a5d5-891e2d97a26f"
      },
      "source": [
        "data = yfinance.download('TRIS3.SA', start = '2020-06-01', end = datetime.datetime.today(), interval= '1d')\n",
        "data"
      ],
      "execution_count": null,
      "outputs": [
        {
          "output_type": "stream",
          "text": [
            "\r[*********************100%***********************]  1 of 1 completed\n"
          ],
          "name": "stdout"
        },
        {
          "output_type": "execute_result",
          "data": {
            "text/html": [
              "<div>\n",
              "<style scoped>\n",
              "    .dataframe tbody tr th:only-of-type {\n",
              "        vertical-align: middle;\n",
              "    }\n",
              "\n",
              "    .dataframe tbody tr th {\n",
              "        vertical-align: top;\n",
              "    }\n",
              "\n",
              "    .dataframe thead th {\n",
              "        text-align: right;\n",
              "    }\n",
              "</style>\n",
              "<table border=\"1\" class=\"dataframe\">\n",
              "  <thead>\n",
              "    <tr style=\"text-align: right;\">\n",
              "      <th></th>\n",
              "      <th>Open</th>\n",
              "      <th>High</th>\n",
              "      <th>Low</th>\n",
              "      <th>Close</th>\n",
              "      <th>Adj Close</th>\n",
              "      <th>Volume</th>\n",
              "    </tr>\n",
              "    <tr>\n",
              "      <th>Date</th>\n",
              "      <th></th>\n",
              "      <th></th>\n",
              "      <th></th>\n",
              "      <th></th>\n",
              "      <th></th>\n",
              "      <th></th>\n",
              "    </tr>\n",
              "  </thead>\n",
              "  <tbody>\n",
              "    <tr>\n",
              "      <th>2020-06-01</th>\n",
              "      <td>8.05</td>\n",
              "      <td>8.44</td>\n",
              "      <td>7.89</td>\n",
              "      <td>8.30</td>\n",
              "      <td>8.30</td>\n",
              "      <td>1696600</td>\n",
              "    </tr>\n",
              "    <tr>\n",
              "      <th>2020-06-02</th>\n",
              "      <td>8.40</td>\n",
              "      <td>9.07</td>\n",
              "      <td>8.34</td>\n",
              "      <td>8.98</td>\n",
              "      <td>8.98</td>\n",
              "      <td>3642300</td>\n",
              "    </tr>\n",
              "    <tr>\n",
              "      <th>2020-06-03</th>\n",
              "      <td>9.32</td>\n",
              "      <td>10.71</td>\n",
              "      <td>9.20</td>\n",
              "      <td>10.67</td>\n",
              "      <td>10.67</td>\n",
              "      <td>5383200</td>\n",
              "    </tr>\n",
              "    <tr>\n",
              "      <th>2020-06-04</th>\n",
              "      <td>10.64</td>\n",
              "      <td>11.02</td>\n",
              "      <td>10.00</td>\n",
              "      <td>10.56</td>\n",
              "      <td>10.56</td>\n",
              "      <td>3447200</td>\n",
              "    </tr>\n",
              "    <tr>\n",
              "      <th>2020-06-05</th>\n",
              "      <td>11.14</td>\n",
              "      <td>11.42</td>\n",
              "      <td>10.37</td>\n",
              "      <td>10.62</td>\n",
              "      <td>10.62</td>\n",
              "      <td>2993900</td>\n",
              "    </tr>\n",
              "    <tr>\n",
              "      <th>...</th>\n",
              "      <td>...</td>\n",
              "      <td>...</td>\n",
              "      <td>...</td>\n",
              "      <td>...</td>\n",
              "      <td>...</td>\n",
              "      <td>...</td>\n",
              "    </tr>\n",
              "    <tr>\n",
              "      <th>2021-04-16</th>\n",
              "      <td>10.11</td>\n",
              "      <td>10.23</td>\n",
              "      <td>10.08</td>\n",
              "      <td>10.19</td>\n",
              "      <td>10.19</td>\n",
              "      <td>670600</td>\n",
              "    </tr>\n",
              "    <tr>\n",
              "      <th>2021-04-19</th>\n",
              "      <td>10.19</td>\n",
              "      <td>10.30</td>\n",
              "      <td>10.08</td>\n",
              "      <td>10.23</td>\n",
              "      <td>10.23</td>\n",
              "      <td>763100</td>\n",
              "    </tr>\n",
              "    <tr>\n",
              "      <th>2021-04-20</th>\n",
              "      <td>10.24</td>\n",
              "      <td>10.29</td>\n",
              "      <td>10.00</td>\n",
              "      <td>10.03</td>\n",
              "      <td>10.03</td>\n",
              "      <td>1232400</td>\n",
              "    </tr>\n",
              "    <tr>\n",
              "      <th>2021-04-22</th>\n",
              "      <td>10.07</td>\n",
              "      <td>10.23</td>\n",
              "      <td>9.93</td>\n",
              "      <td>9.94</td>\n",
              "      <td>9.94</td>\n",
              "      <td>911700</td>\n",
              "    </tr>\n",
              "    <tr>\n",
              "      <th>2021-04-23</th>\n",
              "      <td>9.99</td>\n",
              "      <td>10.10</td>\n",
              "      <td>9.88</td>\n",
              "      <td>10.01</td>\n",
              "      <td>10.01</td>\n",
              "      <td>606300</td>\n",
              "    </tr>\n",
              "  </tbody>\n",
              "</table>\n",
              "<p>220 rows × 6 columns</p>\n",
              "</div>"
            ],
            "text/plain": [
              "             Open   High    Low  Close  Adj Close   Volume\n",
              "Date                                                      \n",
              "2020-06-01   8.05   8.44   7.89   8.30       8.30  1696600\n",
              "2020-06-02   8.40   9.07   8.34   8.98       8.98  3642300\n",
              "2020-06-03   9.32  10.71   9.20  10.67      10.67  5383200\n",
              "2020-06-04  10.64  11.02  10.00  10.56      10.56  3447200\n",
              "2020-06-05  11.14  11.42  10.37  10.62      10.62  2993900\n",
              "...           ...    ...    ...    ...        ...      ...\n",
              "2021-04-16  10.11  10.23  10.08  10.19      10.19   670600\n",
              "2021-04-19  10.19  10.30  10.08  10.23      10.23   763100\n",
              "2021-04-20  10.24  10.29  10.00  10.03      10.03  1232400\n",
              "2021-04-22  10.07  10.23   9.93   9.94       9.94   911700\n",
              "2021-04-23   9.99  10.10   9.88  10.01      10.01   606300\n",
              "\n",
              "[220 rows x 6 columns]"
            ]
          },
          "metadata": {
            "tags": []
          },
          "execution_count": 4
        }
      ]
    },
    {
      "cell_type": "code",
      "metadata": {
        "id": "97zP5Qg-KEau"
      },
      "source": [
        ""
      ],
      "execution_count": null,
      "outputs": []
    },
    {
      "cell_type": "code",
      "metadata": {
        "id": "1hCJm-8e5EP0"
      },
      "source": [
        "df = pd.DataFrame()"
      ],
      "execution_count": null,
      "outputs": []
    },
    {
      "cell_type": "code",
      "metadata": {
        "id": "qiHWyM0d5IFv"
      },
      "source": [
        "df['y'] = data[\"Adj Close\"]"
      ],
      "execution_count": null,
      "outputs": []
    },
    {
      "cell_type": "code",
      "metadata": {
        "id": "vTZwETqB5Njv"
      },
      "source": [
        "df['ds'] = data.index"
      ],
      "execution_count": null,
      "outputs": []
    },
    {
      "cell_type": "code",
      "metadata": {
        "id": "QTtdFoHx5TnO",
        "colab": {
          "base_uri": "https://localhost:8080/",
          "height": 446
        },
        "outputId": "29a9c534-3b32-45da-9c65-45dccd890c84"
      },
      "source": [
        "df"
      ],
      "execution_count": null,
      "outputs": [
        {
          "output_type": "execute_result",
          "data": {
            "text/html": [
              "<div>\n",
              "<style scoped>\n",
              "    .dataframe tbody tr th:only-of-type {\n",
              "        vertical-align: middle;\n",
              "    }\n",
              "\n",
              "    .dataframe tbody tr th {\n",
              "        vertical-align: top;\n",
              "    }\n",
              "\n",
              "    .dataframe thead th {\n",
              "        text-align: right;\n",
              "    }\n",
              "</style>\n",
              "<table border=\"1\" class=\"dataframe\">\n",
              "  <thead>\n",
              "    <tr style=\"text-align: right;\">\n",
              "      <th></th>\n",
              "      <th>y</th>\n",
              "      <th>ds</th>\n",
              "    </tr>\n",
              "    <tr>\n",
              "      <th>Date</th>\n",
              "      <th></th>\n",
              "      <th></th>\n",
              "    </tr>\n",
              "  </thead>\n",
              "  <tbody>\n",
              "    <tr>\n",
              "      <th>2020-06-01</th>\n",
              "      <td>33.669998</td>\n",
              "      <td>2020-06-01</td>\n",
              "    </tr>\n",
              "    <tr>\n",
              "      <th>2020-06-02</th>\n",
              "      <td>36.860001</td>\n",
              "      <td>2020-06-02</td>\n",
              "    </tr>\n",
              "    <tr>\n",
              "      <th>2020-06-03</th>\n",
              "      <td>39.869999</td>\n",
              "      <td>2020-06-03</td>\n",
              "    </tr>\n",
              "    <tr>\n",
              "      <th>2020-06-04</th>\n",
              "      <td>39.500000</td>\n",
              "      <td>2020-06-04</td>\n",
              "    </tr>\n",
              "    <tr>\n",
              "      <th>2020-06-05</th>\n",
              "      <td>38.630001</td>\n",
              "      <td>2020-06-05</td>\n",
              "    </tr>\n",
              "    <tr>\n",
              "      <th>...</th>\n",
              "      <td>...</td>\n",
              "      <td>...</td>\n",
              "    </tr>\n",
              "    <tr>\n",
              "      <th>2021-04-14</th>\n",
              "      <td>32.810001</td>\n",
              "      <td>2021-04-14</td>\n",
              "    </tr>\n",
              "    <tr>\n",
              "      <th>2021-04-15</th>\n",
              "      <td>33.630001</td>\n",
              "      <td>2021-04-15</td>\n",
              "    </tr>\n",
              "    <tr>\n",
              "      <th>2021-04-16</th>\n",
              "      <td>34.080002</td>\n",
              "      <td>2021-04-16</td>\n",
              "    </tr>\n",
              "    <tr>\n",
              "      <th>2021-04-19</th>\n",
              "      <td>33.980000</td>\n",
              "      <td>2021-04-19</td>\n",
              "    </tr>\n",
              "    <tr>\n",
              "      <th>2021-04-20</th>\n",
              "      <td>33.750000</td>\n",
              "      <td>2021-04-20</td>\n",
              "    </tr>\n",
              "  </tbody>\n",
              "</table>\n",
              "<p>218 rows × 2 columns</p>\n",
              "</div>"
            ],
            "text/plain": [
              "                    y         ds\n",
              "Date                            \n",
              "2020-06-01  33.669998 2020-06-01\n",
              "2020-06-02  36.860001 2020-06-02\n",
              "2020-06-03  39.869999 2020-06-03\n",
              "2020-06-04  39.500000 2020-06-04\n",
              "2020-06-05  38.630001 2020-06-05\n",
              "...               ...        ...\n",
              "2021-04-14  32.810001 2021-04-14\n",
              "2021-04-15  33.630001 2021-04-15\n",
              "2021-04-16  34.080002 2021-04-16\n",
              "2021-04-19  33.980000 2021-04-19\n",
              "2021-04-20  33.750000 2021-04-20\n",
              "\n",
              "[218 rows x 2 columns]"
            ]
          },
          "metadata": {
            "tags": []
          },
          "execution_count": 17
        }
      ]
    },
    {
      "cell_type": "code",
      "metadata": {
        "id": "vF1VOB585UGd"
      },
      "source": [
        "from fbprophet import Prophet"
      ],
      "execution_count": null,
      "outputs": []
    },
    {
      "cell_type": "code",
      "metadata": {
        "id": "CpjvdDFW5bFU"
      },
      "source": [
        "modelo = Prophet(daily_seasonality= True)"
      ],
      "execution_count": null,
      "outputs": []
    },
    {
      "cell_type": "code",
      "metadata": {
        "id": "_HwVjlib5eVI",
        "colab": {
          "base_uri": "https://localhost:8080/"
        },
        "outputId": "3b45cbdf-b857-4c26-9c2b-9a97fce5f00c"
      },
      "source": [
        "modelo.fit(df)"
      ],
      "execution_count": null,
      "outputs": [
        {
          "output_type": "stream",
          "text": [
            "INFO:fbprophet:Disabling yearly seasonality. Run prophet with yearly_seasonality=True to override this.\n"
          ],
          "name": "stderr"
        },
        {
          "output_type": "execute_result",
          "data": {
            "text/plain": [
              "<fbprophet.forecaster.Prophet at 0x7fc1ee052f50>"
            ]
          },
          "metadata": {
            "tags": []
          },
          "execution_count": 10
        }
      ]
    },
    {
      "cell_type": "code",
      "metadata": {
        "id": "-1wsm1ge5jcd",
        "colab": {
          "base_uri": "https://localhost:8080/",
          "height": 865
        },
        "outputId": "25cb12be-2ed2-4267-be41-87c43f03b497"
      },
      "source": [
        "futuro = modelo.make_future_dataframe(periods= 50)\n",
        "predictions = modelo.predict(futuro)\n",
        "modelo.plot(predictions)"
      ],
      "execution_count": null,
      "outputs": [
        {
          "output_type": "execute_result",
          "data": {
            "image/png": "[encoded data removed]",
            "text/plain": [
              "<Figure size 720x432 with 1 Axes>"
            ]
          },
          "metadata": {
            "tags": []
          },
          "execution_count": 11
        },
        {
          "output_type": "display_data",
          "data": {
            "image/png": "[encoded data removed]",
            "text/plain": [
              "<Figure size 720x432 with 1 Axes>"
            ]
          },
          "metadata": {
            "tags": []
          }
        }
      ]
    },
    {
      "cell_type": "code",
      "metadata": {
        "id": "9dOAfVgX5ye7",
        "colab": {
          "base_uri": "https://localhost:8080/",
          "height": 309
        },
        "outputId": "b9dcb3a2-1d96-43eb-b819-aab3c2b902d7"
      },
      "source": [
        "predictions.tail()"
      ],
      "execution_count": null,
      "outputs": [
        {
          "output_type": "execute_result",
          "data": {
            "text/html": [
              "<div>\n",
              "<style scoped>\n",
              "    .dataframe tbody tr th:only-of-type {\n",
              "        vertical-align: middle;\n",
              "    }\n",
              "\n",
              "    .dataframe tbody tr th {\n",
              "        vertical-align: top;\n",
              "    }\n",
              "\n",
              "    .dataframe thead th {\n",
              "        text-align: right;\n",
              "    }\n",
              "</style>\n",
              "<table border=\"1\" class=\"dataframe\">\n",
              "  <thead>\n",
              "    <tr style=\"text-align: right;\">\n",
              "      <th></th>\n",
              "      <th>ds</th>\n",
              "      <th>trend</th>\n",
              "      <th>yhat_lower</th>\n",
              "      <th>yhat_upper</th>\n",
              "      <th>trend_lower</th>\n",
              "      <th>trend_upper</th>\n",
              "      <th>additive_terms</th>\n",
              "      <th>additive_terms_lower</th>\n",
              "      <th>additive_terms_upper</th>\n",
              "      <th>daily</th>\n",
              "      <th>daily_lower</th>\n",
              "      <th>daily_upper</th>\n",
              "      <th>weekly</th>\n",
              "      <th>weekly_lower</th>\n",
              "      <th>weekly_upper</th>\n",
              "      <th>yearly</th>\n",
              "      <th>yearly_lower</th>\n",
              "      <th>yearly_upper</th>\n",
              "      <th>multiplicative_terms</th>\n",
              "      <th>multiplicative_terms_lower</th>\n",
              "      <th>multiplicative_terms_upper</th>\n",
              "      <th>yhat</th>\n",
              "    </tr>\n",
              "  </thead>\n",
              "  <tbody>\n",
              "    <tr>\n",
              "      <th>1093</th>\n",
              "      <td>2021-12-29</td>\n",
              "      <td>67593.110890</td>\n",
              "      <td>46006.403126</td>\n",
              "      <td>86626.609172</td>\n",
              "      <td>47275.967867</td>\n",
              "      <td>88025.401275</td>\n",
              "      <td>-1321.311065</td>\n",
              "      <td>-1321.311065</td>\n",
              "      <td>-1321.311065</td>\n",
              "      <td>-1745.354456</td>\n",
              "      <td>-1745.354456</td>\n",
              "      <td>-1745.354456</td>\n",
              "      <td>35.140223</td>\n",
              "      <td>35.140223</td>\n",
              "      <td>35.140223</td>\n",
              "      <td>388.903167</td>\n",
              "      <td>388.903167</td>\n",
              "      <td>388.903167</td>\n",
              "      <td>0.0</td>\n",
              "      <td>0.0</td>\n",
              "      <td>0.0</td>\n",
              "      <td>66271.799825</td>\n",
              "    </tr>\n",
              "    <tr>\n",
              "      <th>1094</th>\n",
              "      <td>2021-12-30</td>\n",
              "      <td>67703.226023</td>\n",
              "      <td>46039.309186</td>\n",
              "      <td>87306.885292</td>\n",
              "      <td>47298.480622</td>\n",
              "      <td>88194.572787</td>\n",
              "      <td>-1160.670865</td>\n",
              "      <td>-1160.670865</td>\n",
              "      <td>-1160.670865</td>\n",
              "      <td>-1745.354456</td>\n",
              "      <td>-1745.354456</td>\n",
              "      <td>-1745.354456</td>\n",
              "      <td>-19.485789</td>\n",
              "      <td>-19.485789</td>\n",
              "      <td>-19.485789</td>\n",
              "      <td>604.169379</td>\n",
              "      <td>604.169379</td>\n",
              "      <td>604.169379</td>\n",
              "      <td>0.0</td>\n",
              "      <td>0.0</td>\n",
              "      <td>0.0</td>\n",
              "      <td>66542.555157</td>\n",
              "    </tr>\n",
              "    <tr>\n",
              "      <th>1095</th>\n",
              "      <td>2021-12-31</td>\n",
              "      <td>67813.341155</td>\n",
              "      <td>46293.600854</td>\n",
              "      <td>87303.723957</td>\n",
              "      <td>47298.923020</td>\n",
              "      <td>88398.378234</td>\n",
              "      <td>-936.531354</td>\n",
              "      <td>-936.531354</td>\n",
              "      <td>-936.531354</td>\n",
              "      <td>-1745.354456</td>\n",
              "      <td>-1745.354456</td>\n",
              "      <td>-1745.354456</td>\n",
              "      <td>2.753190</td>\n",
              "      <td>2.753190</td>\n",
              "      <td>2.753190</td>\n",
              "      <td>806.069911</td>\n",
              "      <td>806.069911</td>\n",
              "      <td>806.069911</td>\n",
              "      <td>0.0</td>\n",
              "      <td>0.0</td>\n",
              "      <td>0.0</td>\n",
              "      <td>66876.809801</td>\n",
              "    </tr>\n",
              "    <tr>\n",
              "      <th>1096</th>\n",
              "      <td>2022-01-01</td>\n",
              "      <td>67923.456288</td>\n",
              "      <td>46343.217598</td>\n",
              "      <td>87981.678834</td>\n",
              "      <td>47300.747649</td>\n",
              "      <td>88602.183681</td>\n",
              "      <td>-719.193276</td>\n",
              "      <td>-719.193276</td>\n",
              "      <td>-719.193276</td>\n",
              "      <td>-1745.354456</td>\n",
              "      <td>-1745.354456</td>\n",
              "      <td>-1745.354456</td>\n",
              "      <td>32.929547</td>\n",
              "      <td>32.929547</td>\n",
              "      <td>32.929547</td>\n",
              "      <td>993.231633</td>\n",
              "      <td>993.231633</td>\n",
              "      <td>993.231633</td>\n",
              "      <td>0.0</td>\n",
              "      <td>0.0</td>\n",
              "      <td>0.0</td>\n",
              "      <td>67204.263012</td>\n",
              "    </tr>\n",
              "    <tr>\n",
              "      <th>1097</th>\n",
              "      <td>2022-01-02</td>\n",
              "      <td>68033.571420</td>\n",
              "      <td>46786.012886</td>\n",
              "      <td>88388.389305</td>\n",
              "      <td>47323.871096</td>\n",
              "      <td>88805.989129</td>\n",
              "      <td>-630.756716</td>\n",
              "      <td>-630.756716</td>\n",
              "      <td>-630.756716</td>\n",
              "      <td>-1745.354456</td>\n",
              "      <td>-1745.354456</td>\n",
              "      <td>-1745.354456</td>\n",
              "      <td>-49.953771</td>\n",
              "      <td>-49.953771</td>\n",
              "      <td>-49.953771</td>\n",
              "      <td>1164.551511</td>\n",
              "      <td>1164.551511</td>\n",
              "      <td>1164.551511</td>\n",
              "      <td>0.0</td>\n",
              "      <td>0.0</td>\n",
              "      <td>0.0</td>\n",
              "      <td>67402.814704</td>\n",
              "    </tr>\n",
              "  </tbody>\n",
              "</table>\n",
              "</div>"
            ],
            "text/plain": [
              "             ds         trend  ...  multiplicative_terms_upper          yhat\n",
              "1093 2021-12-29  67593.110890  ...                         0.0  66271.799825\n",
              "1094 2021-12-30  67703.226023  ...                         0.0  66542.555157\n",
              "1095 2021-12-31  67813.341155  ...                         0.0  66876.809801\n",
              "1096 2022-01-01  67923.456288  ...                         0.0  67204.263012\n",
              "1097 2022-01-02  68033.571420  ...                         0.0  67402.814704\n",
              "\n",
              "[5 rows x 22 columns]"
            ]
          },
          "metadata": {
            "tags": []
          },
          "execution_count": 13
        }
      ]
    },
    {
      "cell_type": "code",
      "metadata": {
        "id": "GYSuyZ3Z56Pz"
      },
      "source": [
        "!pip install git+https://github.com/ourownstory/neural_prophet"
      ],
      "execution_count": null,
      "outputs": []
    },
    {
      "cell_type": "code",
      "metadata": {
        "id": "jMGhsRVTiQs8"
      },
      "source": [
        "from neuralprophet import NeuralProphet"
      ],
      "execution_count": null,
      "outputs": []
    },
    {
      "cell_type": "code",
      "metadata": {
        "id": "MQZjsLvBizaR"
      },
      "source": [
        "from sklearn.metrics import mean_squared_error"
      ],
      "execution_count": null,
      "outputs": []
    },
    {
      "cell_type": "code",
      "metadata": {
        "id": "hZj3wPbZjGl1"
      },
      "source": [
        "test_lenght = 30\n",
        "df_train = df.iloc[:-test_lenght]\n",
        "df_test = df.iloc[-test_lenght:]"
      ],
      "execution_count": null,
      "outputs": []
    },
    {
      "cell_type": "code",
      "metadata": {
        "id": "WUQa2Akzi2SA"
      },
      "source": [
        "nprophet_model = NeuralProphet()\n",
        "metrics = nprophet_model.fit()"
      ],
      "execution_count": null,
      "outputs": []
    }
  ]
}