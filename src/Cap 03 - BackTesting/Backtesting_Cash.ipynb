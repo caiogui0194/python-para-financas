{
 "cells": [
  {
   "cell_type": "code",
   "execution_count": 21,
   "metadata": {
    "collapsed": true
   },
   "outputs": [],
   "source": [
    "import yfinance as yf\n",
    "import datetime\n",
    "import pandas as pd\n",
    "import numpy as np\n",
    "import matplotlib.pyplot as plt"
   ]
  },
  {
   "cell_type": "code",
   "execution_count": 22,
   "outputs": [
    {
     "data": {
      "text/plain": "                 Open       High        Low      Close  Adj Close    Volume\nDate                                                                       \n2020-10-05  19.360001  20.160000  19.240000  20.030001  18.288559  73288500\n2020-10-06  20.469999  20.700001  19.930000  19.930000  18.197252  77064600\n2020-10-07  20.000000  20.049999  19.559999  19.790001  18.069426  53521000\n2020-10-08  20.040001  20.590000  19.860001  20.440001  18.662914  78070400\n2020-10-09  20.340000  20.389999  19.799999  19.799999  18.078556  67962300\n...               ...        ...        ...        ...        ...       ...\n2021-10-08  29.000000  29.610001  28.709999  29.120001  29.120001  84170500\n2021-10-11  29.500000  29.850000  29.150000  29.320000  29.320000  76466700\n2021-10-13  29.170000  29.700001  29.080000  29.629999  29.629999  55605400\n2021-10-14  29.860001  30.219999  29.500000  29.680000  29.680000  76172700\n2021-10-15  29.799999  29.840000  29.510000  29.600000  29.600000  72479900\n\n[253 rows x 6 columns]",
      "text/html": "<div>\n<style scoped>\n    .dataframe tbody tr th:only-of-type {\n        vertical-align: middle;\n    }\n\n    .dataframe tbody tr th {\n        vertical-align: top;\n    }\n\n    .dataframe thead th {\n        text-align: right;\n    }\n</style>\n<table border=\"1\" class=\"dataframe\">\n  <thead>\n    <tr style=\"text-align: right;\">\n      <th></th>\n      <th>Open</th>\n      <th>High</th>\n      <th>Low</th>\n      <th>Close</th>\n      <th>Adj Close</th>\n      <th>Volume</th>\n    </tr>\n    <tr>\n      <th>Date</th>\n      <th></th>\n      <th></th>\n      <th></th>\n      <th></th>\n      <th></th>\n      <th></th>\n    </tr>\n  </thead>\n  <tbody>\n    <tr>\n      <th>2020-10-05</th>\n      <td>19.360001</td>\n      <td>20.160000</td>\n      <td>19.240000</td>\n      <td>20.030001</td>\n      <td>18.288559</td>\n      <td>73288500</td>\n    </tr>\n    <tr>\n      <th>2020-10-06</th>\n      <td>20.469999</td>\n      <td>20.700001</td>\n      <td>19.930000</td>\n      <td>19.930000</td>\n      <td>18.197252</td>\n      <td>77064600</td>\n    </tr>\n    <tr>\n      <th>2020-10-07</th>\n      <td>20.000000</td>\n      <td>20.049999</td>\n      <td>19.559999</td>\n      <td>19.790001</td>\n      <td>18.069426</td>\n      <td>53521000</td>\n    </tr>\n    <tr>\n      <th>2020-10-08</th>\n      <td>20.040001</td>\n      <td>20.590000</td>\n      <td>19.860001</td>\n      <td>20.440001</td>\n      <td>18.662914</td>\n      <td>78070400</td>\n    </tr>\n    <tr>\n      <th>2020-10-09</th>\n      <td>20.340000</td>\n      <td>20.389999</td>\n      <td>19.799999</td>\n      <td>19.799999</td>\n      <td>18.078556</td>\n      <td>67962300</td>\n    </tr>\n    <tr>\n      <th>...</th>\n      <td>...</td>\n      <td>...</td>\n      <td>...</td>\n      <td>...</td>\n      <td>...</td>\n      <td>...</td>\n    </tr>\n    <tr>\n      <th>2021-10-08</th>\n      <td>29.000000</td>\n      <td>29.610001</td>\n      <td>28.709999</td>\n      <td>29.120001</td>\n      <td>29.120001</td>\n      <td>84170500</td>\n    </tr>\n    <tr>\n      <th>2021-10-11</th>\n      <td>29.500000</td>\n      <td>29.850000</td>\n      <td>29.150000</td>\n      <td>29.320000</td>\n      <td>29.320000</td>\n      <td>76466700</td>\n    </tr>\n    <tr>\n      <th>2021-10-13</th>\n      <td>29.170000</td>\n      <td>29.700001</td>\n      <td>29.080000</td>\n      <td>29.629999</td>\n      <td>29.629999</td>\n      <td>55605400</td>\n    </tr>\n    <tr>\n      <th>2021-10-14</th>\n      <td>29.860001</td>\n      <td>30.219999</td>\n      <td>29.500000</td>\n      <td>29.680000</td>\n      <td>29.680000</td>\n      <td>76172700</td>\n    </tr>\n    <tr>\n      <th>2021-10-15</th>\n      <td>29.799999</td>\n      <td>29.840000</td>\n      <td>29.510000</td>\n      <td>29.600000</td>\n      <td>29.600000</td>\n      <td>72479900</td>\n    </tr>\n  </tbody>\n</table>\n<p>253 rows × 6 columns</p>\n</div>"
     },
     "execution_count": 22,
     "metadata": {},
     "output_type": "execute_result"
    }
   ],
   "source": [
    "data = yf.download('PETR4.SA', start='2020-10-04', end=datetime.datetime.today(), progress=False)\n",
    "data"
   ],
   "metadata": {
    "collapsed": false,
    "pycharm": {
     "name": "#%%\n"
    }
   }
  },
  {
   "cell_type": "code",
   "execution_count": 23,
   "outputs": [
    {
     "data": {
      "text/plain": "Empty DataFrame\nColumns: []\nIndex: [2020-10-05 00:00:00, 2020-10-06 00:00:00, 2020-10-07 00:00:00, 2020-10-08 00:00:00, 2020-10-09 00:00:00, 2020-10-13 00:00:00, 2020-10-14 00:00:00, 2020-10-15 00:00:00, 2020-10-16 00:00:00, 2020-10-19 00:00:00, 2020-10-20 00:00:00, 2020-10-21 00:00:00, 2020-10-22 00:00:00, 2020-10-23 00:00:00, 2020-10-26 00:00:00, 2020-10-27 00:00:00, 2020-10-28 00:00:00, 2020-10-29 00:00:00, 2020-10-30 00:00:00, 2020-11-03 00:00:00, 2020-11-04 00:00:00, 2020-11-05 00:00:00, 2020-11-06 00:00:00, 2020-11-09 00:00:00, 2020-11-10 00:00:00, 2020-11-11 00:00:00, 2020-11-12 00:00:00, 2020-11-13 00:00:00, 2020-11-16 00:00:00, 2020-11-17 00:00:00, 2020-11-18 00:00:00, 2020-11-19 00:00:00, 2020-11-23 00:00:00, 2020-11-24 00:00:00, 2020-11-25 00:00:00, 2020-11-26 00:00:00, 2020-11-27 00:00:00, 2020-11-30 00:00:00, 2020-12-01 00:00:00, 2020-12-02 00:00:00, 2020-12-03 00:00:00, 2020-12-04 00:00:00, 2020-12-07 00:00:00, 2020-12-08 00:00:00, 2020-12-09 00:00:00, 2020-12-10 00:00:00, 2020-12-11 00:00:00, 2020-12-14 00:00:00, 2020-12-15 00:00:00, 2020-12-16 00:00:00, 2020-12-17 00:00:00, 2020-12-18 00:00:00, 2020-12-21 00:00:00, 2020-12-22 00:00:00, 2020-12-23 00:00:00, 2020-12-28 00:00:00, 2020-12-29 00:00:00, 2020-12-30 00:00:00, 2021-01-04 00:00:00, 2021-01-05 00:00:00, 2021-01-06 00:00:00, 2021-01-07 00:00:00, 2021-01-08 00:00:00, 2021-01-11 00:00:00, 2021-01-12 00:00:00, 2021-01-13 00:00:00, 2021-01-14 00:00:00, 2021-01-15 00:00:00, 2021-01-18 00:00:00, 2021-01-19 00:00:00, 2021-01-20 00:00:00, 2021-01-21 00:00:00, 2021-01-22 00:00:00, 2021-01-26 00:00:00, 2021-01-27 00:00:00, 2021-01-28 00:00:00, 2021-01-29 00:00:00, 2021-02-01 00:00:00, 2021-02-02 00:00:00, 2021-02-03 00:00:00, 2021-02-04 00:00:00, 2021-02-05 00:00:00, 2021-02-08 00:00:00, 2021-02-09 00:00:00, 2021-02-10 00:00:00, 2021-02-11 00:00:00, 2021-02-12 00:00:00, 2021-02-18 00:00:00, 2021-02-19 00:00:00, 2021-02-22 00:00:00, 2021-02-23 00:00:00, 2021-02-24 00:00:00, 2021-02-25 00:00:00, 2021-02-26 00:00:00, 2021-03-01 00:00:00, 2021-03-02 00:00:00, 2021-03-03 00:00:00, 2021-03-04 00:00:00, 2021-03-05 00:00:00, 2021-03-08 00:00:00, ...]\n\n[253 rows x 0 columns]",
      "text/html": "<div>\n<style scoped>\n    .dataframe tbody tr th:only-of-type {\n        vertical-align: middle;\n    }\n\n    .dataframe tbody tr th {\n        vertical-align: top;\n    }\n\n    .dataframe thead th {\n        text-align: right;\n    }\n</style>\n<table border=\"1\" class=\"dataframe\">\n  <thead>\n    <tr style=\"text-align: right;\">\n      <th></th>\n    </tr>\n    <tr>\n      <th>Date</th>\n    </tr>\n  </thead>\n  <tbody>\n    <tr>\n      <th>2020-10-05</th>\n    </tr>\n    <tr>\n      <th>2020-10-06</th>\n    </tr>\n    <tr>\n      <th>2020-10-07</th>\n    </tr>\n    <tr>\n      <th>2020-10-08</th>\n    </tr>\n    <tr>\n      <th>2020-10-09</th>\n    </tr>\n    <tr>\n      <th>...</th>\n    </tr>\n    <tr>\n      <th>2021-10-08</th>\n    </tr>\n    <tr>\n      <th>2021-10-11</th>\n    </tr>\n    <tr>\n      <th>2021-10-13</th>\n    </tr>\n    <tr>\n      <th>2021-10-14</th>\n    </tr>\n    <tr>\n      <th>2021-10-15</th>\n    </tr>\n  </tbody>\n</table>\n<p>253 rows × 0 columns</p>\n</div>"
     },
     "execution_count": 23,
     "metadata": {},
     "output_type": "execute_result"
    }
   ],
   "source": [
    "data_signal = pd.DataFrame(index = data.index)\n",
    "data_signal"
   ],
   "metadata": {
    "collapsed": false,
    "pycharm": {
     "name": "#%%\n"
    }
   }
  },
  {
   "cell_type": "code",
   "execution_count": 24,
   "outputs": [
    {
     "data": {
      "text/plain": "                price\nDate                 \n2020-10-05  18.288559\n2020-10-06  18.197252\n2020-10-07  18.069426\n2020-10-08  18.662914\n2020-10-09  18.078556\n...               ...\n2021-10-08  29.120001\n2021-10-11  29.320000\n2021-10-13  29.629999\n2021-10-14  29.680000\n2021-10-15  29.600000\n\n[253 rows x 1 columns]",
      "text/html": "<div>\n<style scoped>\n    .dataframe tbody tr th:only-of-type {\n        vertical-align: middle;\n    }\n\n    .dataframe tbody tr th {\n        vertical-align: top;\n    }\n\n    .dataframe thead th {\n        text-align: right;\n    }\n</style>\n<table border=\"1\" class=\"dataframe\">\n  <thead>\n    <tr style=\"text-align: right;\">\n      <th></th>\n      <th>price</th>\n    </tr>\n    <tr>\n      <th>Date</th>\n      <th></th>\n    </tr>\n  </thead>\n  <tbody>\n    <tr>\n      <th>2020-10-05</th>\n      <td>18.288559</td>\n    </tr>\n    <tr>\n      <th>2020-10-06</th>\n      <td>18.197252</td>\n    </tr>\n    <tr>\n      <th>2020-10-07</th>\n      <td>18.069426</td>\n    </tr>\n    <tr>\n      <th>2020-10-08</th>\n      <td>18.662914</td>\n    </tr>\n    <tr>\n      <th>2020-10-09</th>\n      <td>18.078556</td>\n    </tr>\n    <tr>\n      <th>...</th>\n      <td>...</td>\n    </tr>\n    <tr>\n      <th>2021-10-08</th>\n      <td>29.120001</td>\n    </tr>\n    <tr>\n      <th>2021-10-11</th>\n      <td>29.320000</td>\n    </tr>\n    <tr>\n      <th>2021-10-13</th>\n      <td>29.629999</td>\n    </tr>\n    <tr>\n      <th>2021-10-14</th>\n      <td>29.680000</td>\n    </tr>\n    <tr>\n      <th>2021-10-15</th>\n      <td>29.600000</td>\n    </tr>\n  </tbody>\n</table>\n<p>253 rows × 1 columns</p>\n</div>"
     },
     "execution_count": 24,
     "metadata": {},
     "output_type": "execute_result"
    }
   ],
   "source": [
    "data_signal['price'] = data['Adj Close']\n",
    "data_signal"
   ],
   "metadata": {
    "collapsed": false,
    "pycharm": {
     "name": "#%%\n"
    }
   }
  },
  {
   "cell_type": "code",
   "execution_count": 25,
   "outputs": [
    {
     "data": {
      "text/plain": "                price  diferenca_diaria\nDate                                   \n2020-10-05  18.288559               NaN\n2020-10-06  18.197252         -0.091307\n2020-10-07  18.069426         -0.127827\n2020-10-08  18.662914          0.593489\n2020-10-09  18.078556         -0.584358\n...               ...               ...\n2021-10-08  29.120001          0.520000\n2021-10-11  29.320000          0.199999\n2021-10-13  29.629999          0.309999\n2021-10-14  29.680000          0.050001\n2021-10-15  29.600000         -0.080000\n\n[253 rows x 2 columns]",
      "text/html": "<div>\n<style scoped>\n    .dataframe tbody tr th:only-of-type {\n        vertical-align: middle;\n    }\n\n    .dataframe tbody tr th {\n        vertical-align: top;\n    }\n\n    .dataframe thead th {\n        text-align: right;\n    }\n</style>\n<table border=\"1\" class=\"dataframe\">\n  <thead>\n    <tr style=\"text-align: right;\">\n      <th></th>\n      <th>price</th>\n      <th>diferenca_diaria</th>\n    </tr>\n    <tr>\n      <th>Date</th>\n      <th></th>\n      <th></th>\n    </tr>\n  </thead>\n  <tbody>\n    <tr>\n      <th>2020-10-05</th>\n      <td>18.288559</td>\n      <td>NaN</td>\n    </tr>\n    <tr>\n      <th>2020-10-06</th>\n      <td>18.197252</td>\n      <td>-0.091307</td>\n    </tr>\n    <tr>\n      <th>2020-10-07</th>\n      <td>18.069426</td>\n      <td>-0.127827</td>\n    </tr>\n    <tr>\n      <th>2020-10-08</th>\n      <td>18.662914</td>\n      <td>0.593489</td>\n    </tr>\n    <tr>\n      <th>2020-10-09</th>\n      <td>18.078556</td>\n      <td>-0.584358</td>\n    </tr>\n    <tr>\n      <th>...</th>\n      <td>...</td>\n      <td>...</td>\n    </tr>\n    <tr>\n      <th>2021-10-08</th>\n      <td>29.120001</td>\n      <td>0.520000</td>\n    </tr>\n    <tr>\n      <th>2021-10-11</th>\n      <td>29.320000</td>\n      <td>0.199999</td>\n    </tr>\n    <tr>\n      <th>2021-10-13</th>\n      <td>29.629999</td>\n      <td>0.309999</td>\n    </tr>\n    <tr>\n      <th>2021-10-14</th>\n      <td>29.680000</td>\n      <td>0.050001</td>\n    </tr>\n    <tr>\n      <th>2021-10-15</th>\n      <td>29.600000</td>\n      <td>-0.080000</td>\n    </tr>\n  </tbody>\n</table>\n<p>253 rows × 2 columns</p>\n</div>"
     },
     "execution_count": 25,
     "metadata": {},
     "output_type": "execute_result"
    }
   ],
   "source": [
    "data_signal['diferenca_diaria'] = data_signal['price'].diff()\n",
    "data_signal"
   ],
   "metadata": {
    "collapsed": false,
    "pycharm": {
     "name": "#%%\n"
    }
   }
  },
  {
   "cell_type": "code",
   "execution_count": 26,
   "outputs": [
    {
     "data": {
      "text/plain": "                price  diferenca_diaria  sinal\nDate                                          \n2020-10-05  18.288559               NaN    0.0\n2020-10-06  18.197252         -0.091307    0.0\n2020-10-07  18.069426         -0.127827    0.0\n2020-10-08  18.662914          0.593489    0.0\n2020-10-09  18.078556         -0.584358    0.0\n...               ...               ...    ...\n2021-10-08  29.120001          0.520000    0.0\n2021-10-11  29.320000          0.199999    0.0\n2021-10-13  29.629999          0.309999    0.0\n2021-10-14  29.680000          0.050001    0.0\n2021-10-15  29.600000         -0.080000    0.0\n\n[253 rows x 3 columns]",
      "text/html": "<div>\n<style scoped>\n    .dataframe tbody tr th:only-of-type {\n        vertical-align: middle;\n    }\n\n    .dataframe tbody tr th {\n        vertical-align: top;\n    }\n\n    .dataframe thead th {\n        text-align: right;\n    }\n</style>\n<table border=\"1\" class=\"dataframe\">\n  <thead>\n    <tr style=\"text-align: right;\">\n      <th></th>\n      <th>price</th>\n      <th>diferenca_diaria</th>\n      <th>sinal</th>\n    </tr>\n    <tr>\n      <th>Date</th>\n      <th></th>\n      <th></th>\n      <th></th>\n    </tr>\n  </thead>\n  <tbody>\n    <tr>\n      <th>2020-10-05</th>\n      <td>18.288559</td>\n      <td>NaN</td>\n      <td>0.0</td>\n    </tr>\n    <tr>\n      <th>2020-10-06</th>\n      <td>18.197252</td>\n      <td>-0.091307</td>\n      <td>0.0</td>\n    </tr>\n    <tr>\n      <th>2020-10-07</th>\n      <td>18.069426</td>\n      <td>-0.127827</td>\n      <td>0.0</td>\n    </tr>\n    <tr>\n      <th>2020-10-08</th>\n      <td>18.662914</td>\n      <td>0.593489</td>\n      <td>0.0</td>\n    </tr>\n    <tr>\n      <th>2020-10-09</th>\n      <td>18.078556</td>\n      <td>-0.584358</td>\n      <td>0.0</td>\n    </tr>\n    <tr>\n      <th>...</th>\n      <td>...</td>\n      <td>...</td>\n      <td>...</td>\n    </tr>\n    <tr>\n      <th>2021-10-08</th>\n      <td>29.120001</td>\n      <td>0.520000</td>\n      <td>0.0</td>\n    </tr>\n    <tr>\n      <th>2021-10-11</th>\n      <td>29.320000</td>\n      <td>0.199999</td>\n      <td>0.0</td>\n    </tr>\n    <tr>\n      <th>2021-10-13</th>\n      <td>29.629999</td>\n      <td>0.309999</td>\n      <td>0.0</td>\n    </tr>\n    <tr>\n      <th>2021-10-14</th>\n      <td>29.680000</td>\n      <td>0.050001</td>\n      <td>0.0</td>\n    </tr>\n    <tr>\n      <th>2021-10-15</th>\n      <td>29.600000</td>\n      <td>-0.080000</td>\n      <td>0.0</td>\n    </tr>\n  </tbody>\n</table>\n<p>253 rows × 3 columns</p>\n</div>"
     },
     "execution_count": 26,
     "metadata": {},
     "output_type": "execute_result"
    }
   ],
   "source": [
    "data_signal['sinal'] = 0.0\n",
    "data_signal"
   ],
   "metadata": {
    "collapsed": false,
    "pycharm": {
     "name": "#%%\n"
    }
   }
  },
  {
   "cell_type": "code",
   "execution_count": 27,
   "outputs": [
    {
     "data": {
      "text/plain": "                price  diferenca_diaria  sinal\nDate                                          \n2020-10-05  18.288559               NaN    0.0\n2020-10-06  18.197252         -0.091307    0.0\n2020-10-07  18.069426         -0.127827    0.0\n2020-10-08  18.662914          0.593489    1.0\n2020-10-09  18.078556         -0.584358    0.0\n...               ...               ...    ...\n2021-10-08  29.120001          0.520000    1.0\n2021-10-11  29.320000          0.199999    1.0\n2021-10-13  29.629999          0.309999    1.0\n2021-10-14  29.680000          0.050001    1.0\n2021-10-15  29.600000         -0.080000    0.0\n\n[253 rows x 3 columns]",
      "text/html": "<div>\n<style scoped>\n    .dataframe tbody tr th:only-of-type {\n        vertical-align: middle;\n    }\n\n    .dataframe tbody tr th {\n        vertical-align: top;\n    }\n\n    .dataframe thead th {\n        text-align: right;\n    }\n</style>\n<table border=\"1\" class=\"dataframe\">\n  <thead>\n    <tr style=\"text-align: right;\">\n      <th></th>\n      <th>price</th>\n      <th>diferenca_diaria</th>\n      <th>sinal</th>\n    </tr>\n    <tr>\n      <th>Date</th>\n      <th></th>\n      <th></th>\n      <th></th>\n    </tr>\n  </thead>\n  <tbody>\n    <tr>\n      <th>2020-10-05</th>\n      <td>18.288559</td>\n      <td>NaN</td>\n      <td>0.0</td>\n    </tr>\n    <tr>\n      <th>2020-10-06</th>\n      <td>18.197252</td>\n      <td>-0.091307</td>\n      <td>0.0</td>\n    </tr>\n    <tr>\n      <th>2020-10-07</th>\n      <td>18.069426</td>\n      <td>-0.127827</td>\n      <td>0.0</td>\n    </tr>\n    <tr>\n      <th>2020-10-08</th>\n      <td>18.662914</td>\n      <td>0.593489</td>\n      <td>1.0</td>\n    </tr>\n    <tr>\n      <th>2020-10-09</th>\n      <td>18.078556</td>\n      <td>-0.584358</td>\n      <td>0.0</td>\n    </tr>\n    <tr>\n      <th>...</th>\n      <td>...</td>\n      <td>...</td>\n      <td>...</td>\n    </tr>\n    <tr>\n      <th>2021-10-08</th>\n      <td>29.120001</td>\n      <td>0.520000</td>\n      <td>1.0</td>\n    </tr>\n    <tr>\n      <th>2021-10-11</th>\n      <td>29.320000</td>\n      <td>0.199999</td>\n      <td>1.0</td>\n    </tr>\n    <tr>\n      <th>2021-10-13</th>\n      <td>29.629999</td>\n      <td>0.309999</td>\n      <td>1.0</td>\n    </tr>\n    <tr>\n      <th>2021-10-14</th>\n      <td>29.680000</td>\n      <td>0.050001</td>\n      <td>1.0</td>\n    </tr>\n    <tr>\n      <th>2021-10-15</th>\n      <td>29.600000</td>\n      <td>-0.080000</td>\n      <td>0.0</td>\n    </tr>\n  </tbody>\n</table>\n<p>253 rows × 3 columns</p>\n</div>"
     },
     "execution_count": 27,
     "metadata": {},
     "output_type": "execute_result"
    }
   ],
   "source": [
    "data_signal['sinal'] = np.where(data_signal['diferenca_diaria'] > 0, 1.0, 0.0)\n",
    "data_signal"
   ],
   "metadata": {
    "collapsed": false,
    "pycharm": {
     "name": "#%%\n"
    }
   }
  },
  {
   "cell_type": "code",
   "execution_count": 28,
   "outputs": [
    {
     "data": {
      "text/plain": "                price  diferenca_diaria  sinal  positions\nDate                                                     \n2020-10-05  18.288559               NaN    0.0        NaN\n2020-10-06  18.197252         -0.091307    0.0        0.0\n2020-10-07  18.069426         -0.127827    0.0        0.0\n2020-10-08  18.662914          0.593489    1.0        1.0\n2020-10-09  18.078556         -0.584358    0.0       -1.0\n...               ...               ...    ...        ...\n2021-10-08  29.120001          0.520000    1.0        1.0\n2021-10-11  29.320000          0.199999    1.0        0.0\n2021-10-13  29.629999          0.309999    1.0        0.0\n2021-10-14  29.680000          0.050001    1.0        0.0\n2021-10-15  29.600000         -0.080000    0.0       -1.0\n\n[253 rows x 4 columns]",
      "text/html": "<div>\n<style scoped>\n    .dataframe tbody tr th:only-of-type {\n        vertical-align: middle;\n    }\n\n    .dataframe tbody tr th {\n        vertical-align: top;\n    }\n\n    .dataframe thead th {\n        text-align: right;\n    }\n</style>\n<table border=\"1\" class=\"dataframe\">\n  <thead>\n    <tr style=\"text-align: right;\">\n      <th></th>\n      <th>price</th>\n      <th>diferenca_diaria</th>\n      <th>sinal</th>\n      <th>positions</th>\n    </tr>\n    <tr>\n      <th>Date</th>\n      <th></th>\n      <th></th>\n      <th></th>\n      <th></th>\n    </tr>\n  </thead>\n  <tbody>\n    <tr>\n      <th>2020-10-05</th>\n      <td>18.288559</td>\n      <td>NaN</td>\n      <td>0.0</td>\n      <td>NaN</td>\n    </tr>\n    <tr>\n      <th>2020-10-06</th>\n      <td>18.197252</td>\n      <td>-0.091307</td>\n      <td>0.0</td>\n      <td>0.0</td>\n    </tr>\n    <tr>\n      <th>2020-10-07</th>\n      <td>18.069426</td>\n      <td>-0.127827</td>\n      <td>0.0</td>\n      <td>0.0</td>\n    </tr>\n    <tr>\n      <th>2020-10-08</th>\n      <td>18.662914</td>\n      <td>0.593489</td>\n      <td>1.0</td>\n      <td>1.0</td>\n    </tr>\n    <tr>\n      <th>2020-10-09</th>\n      <td>18.078556</td>\n      <td>-0.584358</td>\n      <td>0.0</td>\n      <td>-1.0</td>\n    </tr>\n    <tr>\n      <th>...</th>\n      <td>...</td>\n      <td>...</td>\n      <td>...</td>\n      <td>...</td>\n    </tr>\n    <tr>\n      <th>2021-10-08</th>\n      <td>29.120001</td>\n      <td>0.520000</td>\n      <td>1.0</td>\n      <td>1.0</td>\n    </tr>\n    <tr>\n      <th>2021-10-11</th>\n      <td>29.320000</td>\n      <td>0.199999</td>\n      <td>1.0</td>\n      <td>0.0</td>\n    </tr>\n    <tr>\n      <th>2021-10-13</th>\n      <td>29.629999</td>\n      <td>0.309999</td>\n      <td>1.0</td>\n      <td>0.0</td>\n    </tr>\n    <tr>\n      <th>2021-10-14</th>\n      <td>29.680000</td>\n      <td>0.050001</td>\n      <td>1.0</td>\n      <td>0.0</td>\n    </tr>\n    <tr>\n      <th>2021-10-15</th>\n      <td>29.600000</td>\n      <td>-0.080000</td>\n      <td>0.0</td>\n      <td>-1.0</td>\n    </tr>\n  </tbody>\n</table>\n<p>253 rows × 4 columns</p>\n</div>"
     },
     "execution_count": 28,
     "metadata": {},
     "output_type": "execute_result"
    }
   ],
   "source": [
    "data_signal['positions'] = data_signal['sinal'].diff()\n",
    "data_signal"
   ],
   "metadata": {
    "collapsed": false,
    "pycharm": {
     "name": "#%%\n"
    }
   }
  },
  {
   "cell_type": "code",
   "execution_count": 29,
   "outputs": [],
   "source": [
    "capital_inicial = 1000.00\n"
   ],
   "metadata": {
    "collapsed": false,
    "pycharm": {
     "name": "#%%\n"
    }
   }
  },
  {
   "cell_type": "code",
   "execution_count": 30,
   "outputs": [
    {
     "name": "stdout",
     "output_type": "stream",
     "text": [
      "nothing\n",
      "mantém fora da posicao\n",
      "mantém fora da posicao\n",
      "compra\n",
      "fecha posicao de compra\n",
      "PREJUIZO\n",
      "compra\n",
      "fecha posicao de compra\n",
      "PREJUIZO\n",
      "mantém fora da posicao\n",
      "mantém fora da posicao\n",
      "compra\n",
      "mantem na posicao de compra\n",
      "fecha posicao de compra\n",
      "LUCRO\n",
      "compra\n",
      "fecha posicao de compra\n",
      "PREJUIZO\n",
      "mantém fora da posicao\n",
      "mantém fora da posicao\n",
      "mantém fora da posicao\n",
      "compra\n",
      "fecha posicao de compra\n",
      "PREJUIZO\n",
      "compra\n",
      "mantem na posicao de compra\n",
      "mantem na posicao de compra\n",
      "fecha posicao de compra\n",
      "LUCRO\n",
      "compra\n",
      "mantem na posicao de compra\n",
      "fecha posicao de compra\n",
      "LUCRO\n",
      "mantém fora da posicao\n",
      "compra\n",
      "mantem na posicao de compra\n",
      "mantem na posicao de compra\n",
      "fecha posicao de compra\n",
      "LUCRO\n",
      "compra\n",
      "mantem na posicao de compra\n",
      "mantem na posicao de compra\n",
      "mantem na posicao de compra\n",
      "fecha posicao de compra\n",
      "LUCRO\n",
      "mantém fora da posicao\n",
      "mantém fora da posicao\n",
      "compra\n",
      "mantem na posicao de compra\n",
      "mantem na posicao de compra\n",
      "mantem na posicao de compra\n",
      "fecha posicao de compra\n",
      "LUCRO\n",
      "mantém fora da posicao\n",
      "compra\n",
      "mantem na posicao de compra\n",
      "fecha posicao de compra\n",
      "LUCRO\n",
      "compra\n",
      "mantem na posicao de compra\n",
      "mantem na posicao de compra\n",
      "mantem na posicao de compra\n",
      "fecha posicao de compra\n",
      "LUCRO\n",
      "mantém fora da posicao\n",
      "compra\n",
      "mantem na posicao de compra\n",
      "mantem na posicao de compra\n",
      "mantem na posicao de compra\n",
      "mantem na posicao de compra\n",
      "mantem na posicao de compra\n",
      "mantem na posicao de compra\n",
      "mantem na posicao de compra\n",
      "mantem na posicao de compra\n",
      "mantem na posicao de compra\n",
      "fecha posicao de compra\n",
      "LUCRO\n",
      "mantém fora da posicao\n",
      "mantém fora da posicao\n",
      "compra\n",
      "fecha posicao de compra\n",
      "PREJUIZO\n",
      "mantém fora da posicao\n",
      "compra\n",
      "fecha posicao de compra\n",
      "PREJUIZO\n",
      "mantém fora da posicao\n",
      "mantém fora da posicao\n",
      "mantém fora da posicao\n",
      "compra\n",
      "mantem na posicao de compra\n",
      "fecha posicao de compra\n",
      "PREJUIZO\n",
      "compra\n",
      "mantem na posicao de compra\n",
      "mantem na posicao de compra\n",
      "fecha posicao de compra\n",
      "LUCRO\n",
      "compra\n",
      "fecha posicao de compra\n",
      "PREJUIZO\n",
      "mantém fora da posicao\n",
      "compra\n",
      "mantem na posicao de compra\n",
      "mantem na posicao de compra\n",
      "mantem na posicao de compra\n",
      "fecha posicao de compra\n",
      "PREJUIZO\n",
      "mantém fora da posicao\n",
      "compra\n",
      "mantem na posicao de compra\n",
      "fecha posicao de compra\n",
      "PREJUIZO\n",
      "mantém fora da posicao\n",
      "mantém fora da posicao\n",
      "mantém fora da posicao\n",
      "mantém fora da posicao\n",
      "compra\n",
      "mantem na posicao de compra\n",
      "fecha posicao de compra\n",
      "PREJUIZO\n",
      "compra\n",
      "mantem na posicao de compra\n",
      "mantem na posicao de compra\n",
      "fecha posicao de compra\n",
      "LUCRO\n",
      "compra\n",
      "fecha posicao de compra\n",
      "PREJUIZO\n",
      "compra\n",
      "fecha posicao de compra\n",
      "PREJUIZO\n",
      "compra\n",
      "fecha posicao de compra\n",
      "PREJUIZO\n",
      "mantém fora da posicao\n",
      "compra\n",
      "mantem na posicao de compra\n",
      "mantem na posicao de compra\n",
      "mantem na posicao de compra\n",
      "fecha posicao de compra\n",
      "LUCRO\n",
      "compra\n",
      "fecha posicao de compra\n",
      "PREJUIZO\n",
      "compra\n",
      "fecha posicao de compra\n",
      "PREJUIZO\n",
      "mantém fora da posicao\n",
      "mantém fora da posicao\n",
      "mantém fora da posicao\n",
      "compra\n",
      "mantem na posicao de compra\n",
      "mantem na posicao de compra\n",
      "fecha posicao de compra\n",
      "PREJUIZO\n",
      "mantém fora da posicao\n",
      "compra\n",
      "fecha posicao de compra\n",
      "PREJUIZO\n",
      "mantém fora da posicao\n",
      "mantém fora da posicao\n",
      "compra\n",
      "fecha posicao de compra\n",
      "PREJUIZO\n",
      "compra\n",
      "fecha posicao de compra\n",
      "PREJUIZO\n",
      "mantém fora da posicao\n",
      "mantém fora da posicao\n",
      "mantém fora da posicao\n",
      "compra\n",
      "fecha posicao de compra\n",
      "PREJUIZO\n",
      "compra\n",
      "mantem na posicao de compra\n",
      "mantem na posicao de compra\n",
      "fecha posicao de compra\n",
      "LUCRO\n",
      "compra\n",
      "mantem na posicao de compra\n",
      "mantem na posicao de compra\n",
      "fecha posicao de compra\n",
      "LUCRO\n",
      "mantém fora da posicao\n",
      "mantém fora da posicao\n",
      "compra\n",
      "mantem na posicao de compra\n",
      "fecha posicao de compra\n",
      "PREJUIZO\n",
      "compra\n",
      "fecha posicao de compra\n",
      "PREJUIZO\n",
      "compra\n",
      "fecha posicao de compra\n",
      "PREJUIZO\n",
      "compra\n",
      "mantem na posicao de compra\n",
      "mantem na posicao de compra\n",
      "fecha posicao de compra\n",
      "LUCRO\n",
      "compra\n",
      "fecha posicao de compra\n",
      "PREJUIZO\n",
      "compra\n",
      "fecha posicao de compra\n",
      "PREJUIZO\n",
      "compra\n",
      "mantem na posicao de compra\n",
      "mantem na posicao de compra\n",
      "fecha posicao de compra\n",
      "PREJUIZO\n",
      "compra\n",
      "mantem na posicao de compra\n",
      "mantem na posicao de compra\n",
      "mantem na posicao de compra\n",
      "mantem na posicao de compra\n",
      "fecha posicao de compra\n",
      "LUCRO\n",
      "mantém fora da posicao\n",
      "compra\n",
      "mantem na posicao de compra\n",
      "fecha posicao de compra\n",
      "PREJUIZO\n",
      "compra\n",
      "fecha posicao de compra\n",
      "PREJUIZO\n",
      "mantém fora da posicao\n",
      "compra\n",
      "fecha posicao de compra\n",
      "PREJUIZO\n",
      "compra\n",
      "mantem na posicao de compra\n",
      "fecha posicao de compra\n",
      "PREJUIZO\n",
      "mantém fora da posicao\n",
      "mantém fora da posicao\n",
      "mantém fora da posicao\n",
      "compra\n",
      "mantem na posicao de compra\n",
      "fecha posicao de compra\n",
      "LUCRO\n",
      "mantém fora da posicao\n",
      "compra\n",
      "fecha posicao de compra\n",
      "PREJUIZO\n",
      "compra\n",
      "mantem na posicao de compra\n",
      "fecha posicao de compra\n",
      "PREJUIZO\n",
      "mantém fora da posicao\n",
      "compra\n",
      "fecha posicao de compra\n",
      "PREJUIZO\n",
      "compra\n",
      "mantem na posicao de compra\n",
      "fecha posicao de compra\n",
      "PREJUIZO\n",
      "compra\n",
      "mantem na posicao de compra\n",
      "mantem na posicao de compra\n",
      "mantem na posicao de compra\n",
      "fecha posicao de compra\n",
      "LUCRO\n",
      "mantém fora da posicao\n",
      "mantém fora da posicao\n",
      "mantém fora da posicao\n",
      "mantém fora da posicao\n",
      "compra\n",
      "mantem na posicao de compra\n",
      "mantem na posicao de compra\n",
      "fecha posicao de compra\n",
      "LUCRO\n",
      "compra\n",
      "fecha posicao de compra\n",
      "PREJUIZO\n",
      "mantém fora da posicao\n",
      "mantém fora da posicao\n",
      "mantém fora da posicao\n",
      "mantém fora da posicao\n",
      "compra\n",
      "fecha posicao de compra\n",
      "PREJUIZO\n",
      "compra\n",
      "fecha posicao de compra\n",
      "PREJUIZO\n",
      "compra\n",
      "fecha posicao de compra\n",
      "PREJUIZO\n",
      "compra\n",
      "fecha posicao de compra\n",
      "PREJUIZO\n",
      "mantém fora da posicao\n",
      "mantém fora da posicao\n",
      "compra\n",
      "mantem na posicao de compra\n",
      "mantem na posicao de compra\n",
      "mantem na posicao de compra\n",
      "mantem na posicao de compra\n",
      "fecha posicao de compra\n",
      "LUCRO\n",
      "compra\n",
      "fecha posicao de compra\n",
      "PREJUIZO\n",
      "compra\n",
      "mantem na posicao de compra\n",
      "mantem na posicao de compra\n",
      "fecha posicao de compra\n",
      "LUCRO\n",
      "mantém fora da posicao\n",
      "compra\n",
      "mantem na posicao de compra\n",
      "mantem na posicao de compra\n",
      "mantem na posicao de compra\n",
      "fecha posicao de compra\n",
      "LUCRO\n",
      "capital disponivel:  1186.8841457366939\n",
      "capital investido:  0\n"
     ]
    }
   ],
   "source": [
    "capital_disponivel = capital_inicial\n",
    "taPosicionado = False\n",
    "posicao = 'neutra'\n",
    "capital_investido = 0\n",
    "qtdAtivos = 0\n",
    "preco_compra = 0\n",
    "preco_venda = 0\n",
    "retorno = 0\n",
    "\n",
    "for i in range(len(data_signal)):\n",
    "\n",
    "    if(taPosicionado == False and data_signal['positions'][i] == 0):\n",
    "        print('mantém fora da posicao')\n",
    "        posicao = 'neutra'\n",
    "        taPosicionado = False\n",
    "\n",
    "    elif(taPosicionado == False and data_signal['positions'][i] == 1):\n",
    "        print('compra')\n",
    "        posicao = 'compra'\n",
    "        taPosicionado = True\n",
    "\n",
    "        qtdAtivos = int(capital_disponivel/data_signal['price'][i])\n",
    "        preco_compra = data_signal['price'][i]\n",
    "        capital_investido = data_signal['price'][i] * qtdAtivos\n",
    "        capital_disponivel = capital_disponivel - capital_investido\n",
    "\n",
    "    elif(taPosicionado == False and data_signal['positions'][i] == -1):\n",
    "        print('venda')\n",
    "        posicao = 'venda'\n",
    "        taPosicionado = True\n",
    "\n",
    "        qtdAtivos = int(capital_disponivel/data_signal['price'][i])\n",
    "        preco_venda = data_signal['price'][i]\n",
    "\n",
    "        capital_investido = data_signal['price'][i] * qtdAtivos\n",
    "\n",
    "        capital_disponivel = capital_disponivel - capital_investido\n",
    "\n",
    "        print('capital disponivel: ', capital_disponivel)\n",
    "        print('capital investido: ', capital_investido)\n",
    "\n",
    "    elif(taPosicionado == True and posicao == 'venda' and data_signal['positions'][i] == 0):\n",
    "        print('mantem na posicao de venda')\n",
    "        posicao = 'venda'\n",
    "\n",
    "    elif(taPosicionado == True and posicao == 'compra' and data_signal['positions'][i] == 0):\n",
    "        print('mantem na posicao de compra')\n",
    "        posicao = 'compra'\n",
    "\n",
    "    elif(taPosicionado == True and posicao == 'venda' and data_signal['positions'][i] == 1):\n",
    "        print('fecha posicao de venda')\n",
    "        taPosicionado = False\n",
    "        posicao = 'neutra'\n",
    "\n",
    "        preco_compra = data_signal['price'][i]\n",
    "\n",
    "        if(preco_venda > preco_compra):\n",
    "            print(\"PREJUIZO\")\n",
    "        else:\n",
    "            print(\"LUCRO\")\n",
    "\n",
    "        resultado = preco_venda - preco_compra\n",
    "\n",
    "        capital_disponivel = capital_disponivel + (capital_investido + (qtdAtivos * resultado))\n",
    "\n",
    "        qtdAtivos = 0\n",
    "        capital_investido = 0\n",
    "\n",
    "\n",
    "    elif(taPosicionado == True and posicao == 'compra' and data_signal['positions'][i] == 1):\n",
    "        print('mantem posicao de compra')\n",
    "        posicao = 'compra'\n",
    "\n",
    "    elif(taPosicionado == True and posicao == 'venda' and data_signal['positions'][i] == -1):\n",
    "        print('mantem na posicao de venda')\n",
    "        posicao = 'venda'\n",
    "\n",
    "    elif(taPosicionado == True and posicao == 'compra' and data_signal['positions'][i] == -1):\n",
    "        print('fecha posicao de compra')\n",
    "        posicao = 'neutra'\n",
    "        taPosicionado = False\n",
    "\n",
    "        preco_venda = data_signal['price'][i]\n",
    "\n",
    "        if(preco_venda > preco_compra):\n",
    "            print(\"LUCRO\")\n",
    "        else:\n",
    "            print(\"PREJUIZO\")\n",
    "\n",
    "        retorno = preco_venda/preco_compra\n",
    "        capital_disponivel = capital_disponivel + capital_investido * retorno\n",
    "        qtdAtivos = 0\n",
    "        capital_investido = 0\n",
    "\n",
    "\n",
    "    else:\n",
    "        print('nothing')\n",
    "\n",
    "print('capital disponivel: ', capital_disponivel)\n",
    "print('capital investido: ', capital_investido)\n",
    "\n"
   ],
   "metadata": {
    "collapsed": false,
    "pycharm": {
     "name": "#%%\n"
    }
   }
  }
 ],
 "metadata": {
  "kernelspec": {
   "display_name": "Python 3",
   "language": "python",
   "name": "python3"
  },
  "language_info": {
   "codemirror_mode": {
    "name": "ipython",
    "version": 2
   },
   "file_extension": ".py",
   "mimetype": "text/x-python",
   "name": "python",
   "nbconvert_exporter": "python",
   "pygments_lexer": "ipython2",
   "version": "2.7.6"
  }
 },
 "nbformat": 4,
 "nbformat_minor": 0
}